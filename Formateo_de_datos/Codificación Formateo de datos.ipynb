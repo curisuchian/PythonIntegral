{
 "cells": [
  {
   "cell_type": "markdown",
   "id": "5e957b0d",
   "metadata": {},
   "source": [
    "### Ejercicios de codificación"
   ]
  },
  {
   "cell_type": "markdown",
   "id": "67fb895b",
   "metadata": {},
   "source": [
    "Este cuaderno se encuentra en:\n",
    "\n",
    "https://github.com/gbonorino/PythonIntegral/tree/main/Formateo_de_datos"
   ]
  },
  {
   "cell_type": "markdown",
   "id": "b3dd85ff",
   "metadata": {},
   "source": [
    "#### Ejercicio 1\n",
    "Genere la frase: \"Mi nombre de pila es \\<primer nombre> y mi apellido es \\<apellido>\"  <br>\n",
    "usando el m'etodo format()."
   ]
  },
  {
   "cell_type": "markdown",
   "id": "7caeed90",
   "metadata": {},
   "source": [
    "#### Ejercicio 2\n",
    "Dadas las variables <br>\n",
    "a = 5<br>\n",
    "b = 6<br>\n",
    "Usar el método cadena f para imprimir:<br>\n",
    "La suma de 5 y 6 da 11"
   ]
  },
  {
   "cell_type": "markdown",
   "id": "966907df",
   "metadata": {},
   "source": [
    "#### Ejercicio 3\n",
    "Dado:<br>\n",
    "valores=[30.195, 400.2, 20.5555, 18.34, 67.0]<br>\n",
    "Redondear todos a dos decimales y encolumnar coincidiendo los puntos decimales."
   ]
  },
  {
   "cell_type": "markdown",
   "id": "881a5054",
   "metadata": {},
   "source": [
    "### Soluciones"
   ]
  },
  {
   "cell_type": "code",
   "execution_count": null,
   "id": "63924d16",
   "metadata": {},
   "outputs": [],
   "source": [
    "# Ejercicio 1\n",
    "'Mi nombre de pila es {} y mi apellido es {}'.format('Gustavo', 'Bonorino')"
   ]
  },
  {
   "cell_type": "code",
   "execution_count": null,
   "id": "65fb7683",
   "metadata": {},
   "outputs": [],
   "source": []
  },
  {
   "cell_type": "code",
   "execution_count": null,
   "id": "580977e8",
   "metadata": {},
   "outputs": [],
   "source": []
  },
  {
   "cell_type": "code",
   "execution_count": 1,
   "id": "565214b4",
   "metadata": {},
   "outputs": [
    {
     "name": "stdout",
     "output_type": "stream",
     "text": [
      "La suma de 5 y 6 da 11\n"
     ]
    }
   ],
   "source": [
    "# Ejercicio 2\n",
    "a=5\n",
    "b=6\n",
    "print(f\"La suma de {a} y {b} da {a+b}\")\n"
   ]
  },
  {
   "cell_type": "code",
   "execution_count": null,
   "id": "6b4d5c62",
   "metadata": {},
   "outputs": [],
   "source": []
  },
  {
   "cell_type": "code",
   "execution_count": null,
   "id": "6f93f12a",
   "metadata": {},
   "outputs": [],
   "source": []
  },
  {
   "cell_type": "code",
   "execution_count": 2,
   "id": "eff44161",
   "metadata": {},
   "outputs": [
    {
     "name": "stdout",
     "output_type": "stream",
     "text": [
      "     30.20\n",
      "    400.20\n",
      "     20.56\n",
      "     18.34\n",
      "     67.00\n"
     ]
    }
   ],
   "source": [
    "# Ejercicio 3\n",
    "lista=[30.195, 400.2, 20.5555, 18.34, 67.0]\n",
    "for elemento in lista:\n",
    "    print(f\"{elemento:10.2f}\")"
   ]
  },
  {
   "cell_type": "code",
   "execution_count": null,
   "id": "27dfab31",
   "metadata": {},
   "outputs": [],
   "source": []
  },
  {
   "cell_type": "code",
   "execution_count": null,
   "id": "bd69c1a5",
   "metadata": {},
   "outputs": [],
   "source": []
  }
 ],
 "metadata": {
  "kernelspec": {
   "display_name": "Python 3 (ipykernel)",
   "language": "python",
   "name": "python3"
  },
  "language_info": {
   "codemirror_mode": {
    "name": "ipython",
    "version": 3
   },
   "file_extension": ".py",
   "mimetype": "text/x-python",
   "name": "python",
   "nbconvert_exporter": "python",
   "pygments_lexer": "ipython3",
   "version": "3.10.0"
  }
 },
 "nbformat": 4,
 "nbformat_minor": 5
}
