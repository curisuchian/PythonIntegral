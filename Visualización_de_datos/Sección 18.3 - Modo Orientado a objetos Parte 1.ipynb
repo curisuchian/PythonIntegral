{
 "cells": [
  {
   "cell_type": "code",
   "execution_count": null,
   "id": "dietary-phoenix",
   "metadata": {},
   "outputs": [],
   "source": [
    "# Modo Orientado a objetos\n",
    "import matplotlib.pyplot as plt\n",
    "\n",
    "x = [-3, 5, 7]\n",
    "y = [10, 2, 5]\n",
    "fig = plt.figure()             # Se crea el canvas Figure\n",
    "ax = fig.add_subplot(111)      # Se agrega un gráfico a Axes y se lo asigna a ax \n",
    "ax.plot(x,y)                   # plot es aqui un metodo de Axes\n",
    "plt.show()"
   ]
  },
  {
   "cell_type": "code",
   "execution_count": null,
   "id": "31d63953",
   "metadata": {},
   "outputs": [],
   "source": []
  },
  {
   "cell_type": "markdown",
   "id": "civil-hometown",
   "metadata": {},
   "source": [
    "### fig.add_axes()"
   ]
  },
  {
   "cell_type": "code",
   "execution_count": null,
   "id": "flexible-magnet",
   "metadata": {
    "scrolled": false
   },
   "outputs": [],
   "source": [
    "import matplotlib.pyplot as plt\n",
    "import numpy as np\n",
    "\n",
    "x = np.linspace(0, 5, 10)\n",
    "y = x ** 2\n",
    "fig = plt.figure(figsize=(5,3))   # Con pyplot se crea un objeto Figure\n",
    "\n",
    "#cm=1/2.54                              # Conversion\n",
    "#fig = plt.figure(figsize=(12*cm,7*cm)) # Unidades en cm\n",
    "\n",
    "axes1 = fig.add_axes([0.1, 0.1, 0.8, 0.8])  # Ejes del grafico principal\n",
    "axes2 = fig.add_axes([0.2, 0.5, 0.4, 0.3])  # Ejes del grafico secundario\n",
    "\n",
    "# Figura principal\n",
    "axes1.plot(x, y, 'r')\n",
    "axes1.set_xlabel('X')\n",
    "axes1.set_ylabel('Y')\n",
    "axes1.set_title('Titulo')\n",
    "\n",
    "# Figura secundaria\n",
    "axes2.plot(y, x, 'g')\n",
    "axes2.set_xlabel('Y1')\n",
    "axes2.set_ylabel('X1')\n",
    "axes2.set_title('Detalle');\n",
    "plt.show()"
   ]
  },
  {
   "cell_type": "code",
   "execution_count": null,
   "id": "ac31f2c4",
   "metadata": {},
   "outputs": [],
   "source": []
  },
  {
   "cell_type": "code",
   "execution_count": null,
   "id": "7cc968c6",
   "metadata": {},
   "outputs": [],
   "source": []
  },
  {
   "cell_type": "code",
   "execution_count": null,
   "id": "convinced-services",
   "metadata": {
    "scrolled": true
   },
   "outputs": [],
   "source": [
    "# Histograma\n",
    "import numpy as np\n",
    "import matplotlib.pyplot as plt # Acceder a pyplot\n",
    "import matplotlib as mpl        # Acceder directamente a matplotlib\n",
    "\n",
    "#plt.style.use('classic')       \n",
    "fig = plt.figure()    # Tamaño por defecto en pulgadas\n",
    "\n",
    "# cm = 1/2.54\n",
    "#fig = plt.figure(figsize=(5*cm,7*cm))  # Nuevo tamaño del canvas en cm\n",
    "\n",
    "ax = fig.add_axes([0.15, 0.1, 0.7, 0.3])  # Coordenadas y dimensiones\n",
    "n, bins, patches = ax.hist(np.random.randn(1000), 50,\n",
    "                            facecolor='blue', edgecolor='red') \n",
    "\n",
    "plt.show()\n",
    "mpl.rcParams.update(mpl.rcParamsDefault)   # Para devolver al estado original"
   ]
  },
  {
   "cell_type": "code",
   "execution_count": null,
   "id": "4841063f",
   "metadata": {},
   "outputs": [],
   "source": []
  },
  {
   "cell_type": "code",
   "execution_count": null,
   "id": "a476a339",
   "metadata": {},
   "outputs": [],
   "source": [
    "print(plt.style.available)"
   ]
  },
  {
   "cell_type": "code",
   "execution_count": null,
   "id": "4caa07c7",
   "metadata": {},
   "outputs": [],
   "source": []
  },
  {
   "cell_type": "code",
   "execution_count": null,
   "id": "47e8dd2e",
   "metadata": {},
   "outputs": [],
   "source": []
  },
  {
   "cell_type": "markdown",
   "id": "smooth-imperial",
   "metadata": {},
   "source": [
    "### fig.add_subplot()"
   ]
  },
  {
   "cell_type": "code",
   "execution_count": null,
   "id": "fewer-grave",
   "metadata": {
    "scrolled": true
   },
   "outputs": [],
   "source": [
    "import matplotlib.pyplot as plt\n",
    "\n",
    "# Arreglos de paneles\n",
    "fig=plt.figure(figsize=(8,4))\n",
    "\n",
    "ax_1=fig.add_subplot(221)\n",
    "t = np.linspace(0., 5., 25)  \n",
    "ax_1.plot(t**2)\n",
    "#ax_1.text(0.3, 0.5, 'subplot(221)')\n",
    "\n",
    "ax_2=fig.add_subplot(222)\n",
    "ax_2.text(0.3, 0.5, 'subplot(222)')\n",
    "\n",
    "ax_3=fig.add_subplot(224)\n",
    "ax_3.text(0.3, 0.5, 'subplot(224)')\n",
    "\n",
    "fig.suptitle(\"Panel de gráficos\")\n",
    "plt.show()"
   ]
  },
  {
   "cell_type": "code",
   "execution_count": null,
   "id": "f4c1c0af",
   "metadata": {},
   "outputs": [],
   "source": []
  },
  {
   "cell_type": "code",
   "execution_count": null,
   "id": "93880ce7",
   "metadata": {},
   "outputs": [],
   "source": []
  },
  {
   "cell_type": "code",
   "execution_count": null,
   "id": "quarterly-replica",
   "metadata": {},
   "outputs": [],
   "source": [
    "# Multiples graficos lado a lado\n",
    "import numpy as np\n",
    "\n",
    "y1 = np.random.randn(100).cumsum()\n",
    "y2 = np.random.randn(100).cumsum()\n",
    "y3 = np.random.randn(100).cumsum()\n",
    "\n",
    "fig = plt.figure(figsize=(8,2))\n",
    "\n",
    "fig.add_subplot(1,3,1)\n",
    "plt.plot(y1, color='blue')\n",
    "\n",
    "fig.add_subplot(1,3,2)\n",
    "plt.plot(y2, color='green')\n",
    "\n",
    "fig.add_subplot(1,3,3)\n",
    "plt.plot(y3, color='red')\n",
    "plt.tight_layout()    # ajusta los graficos para evitar superposicion\n",
    "plt.show()  "
   ]
  },
  {
   "cell_type": "code",
   "execution_count": null,
   "id": "8eab6f25",
   "metadata": {},
   "outputs": [],
   "source": []
  },
  {
   "cell_type": "code",
   "execution_count": null,
   "id": "596e0720",
   "metadata": {},
   "outputs": [],
   "source": []
  }
 ],
 "metadata": {
  "kernelspec": {
   "display_name": "Python 3 (ipykernel)",
   "language": "python",
   "name": "python3"
  },
  "language_info": {
   "codemirror_mode": {
    "name": "ipython",
    "version": 3
   },
   "file_extension": ".py",
   "mimetype": "text/x-python",
   "name": "python",
   "nbconvert_exporter": "python",
   "pygments_lexer": "ipython3",
   "version": "3.10.0"
  }
 },
 "nbformat": 4,
 "nbformat_minor": 5
}
