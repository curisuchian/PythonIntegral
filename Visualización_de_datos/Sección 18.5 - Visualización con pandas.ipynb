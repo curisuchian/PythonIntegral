{
 "cells": [
  {
   "cell_type": "code",
   "execution_count": null,
   "id": "d888379a",
   "metadata": {
    "scrolled": true
   },
   "outputs": [],
   "source": [
    "import pandas as pd\n",
    "\n",
    "vino = pd.read_csv('vino_categ.csv')\n",
    "vino.head()"
   ]
  },
  {
   "cell_type": "code",
   "execution_count": null,
   "id": "c92d9ba2",
   "metadata": {},
   "outputs": [],
   "source": []
  },
  {
   "cell_type": "code",
   "execution_count": null,
   "id": "c69dad55",
   "metadata": {},
   "outputs": [],
   "source": [
    "vino.plot()         # plot es wrapper de pyplot.plot "
   ]
  },
  {
   "cell_type": "code",
   "execution_count": null,
   "id": "f786c815",
   "metadata": {},
   "outputs": [],
   "source": []
  },
  {
   "cell_type": "code",
   "execution_count": null,
   "id": "24ef7f80",
   "metadata": {},
   "outputs": [],
   "source": [
    "vino['acidez fija'].plot()"
   ]
  },
  {
   "cell_type": "code",
   "execution_count": null,
   "id": "f4938059",
   "metadata": {},
   "outputs": [],
   "source": []
  },
  {
   "cell_type": "code",
   "execution_count": null,
   "id": "ba684384",
   "metadata": {
    "scrolled": true
   },
   "outputs": [],
   "source": [
    "vino.plot(x='acidez fija', y='acidez volatil', kind='scatter')"
   ]
  },
  {
   "cell_type": "code",
   "execution_count": null,
   "id": "361d769b",
   "metadata": {},
   "outputs": [],
   "source": []
  },
  {
   "cell_type": "code",
   "execution_count": null,
   "id": "97e57f8e",
   "metadata": {},
   "outputs": [],
   "source": []
  },
  {
   "cell_type": "code",
   "execution_count": null,
   "id": "fb8f0899",
   "metadata": {
    "scrolled": false
   },
   "outputs": [],
   "source": [
    "axs = vino.plot.area(figsize=(12, 4), stacked=True)"
   ]
  },
  {
   "cell_type": "code",
   "execution_count": null,
   "id": "72a68608",
   "metadata": {},
   "outputs": [],
   "source": []
  },
  {
   "cell_type": "code",
   "execution_count": null,
   "id": "9d7f8b28",
   "metadata": {},
   "outputs": [],
   "source": []
  },
  {
   "cell_type": "code",
   "execution_count": null,
   "id": "78813344",
   "metadata": {},
   "outputs": [],
   "source": [
    "import pandas as pd\n",
    "import matplotlib.pyplot as plt\n",
    "\n",
    "df = pd.DataFrame({\n",
    "    'nombre':['juan','maria','pedro','hector','roberto','lisa','jose'],\n",
    "    'edad':[23,78,22,19,45,33,20],\n",
    "    'genero':['M','F','M','M','M','F','M'],\n",
    "    'provincia':['santa cruz','caba','santa cruz','caba','santa cruz','jujuy','jujuy'],\n",
    "    'num_hijos':[2,0,0,3,2,1,4],\n",
    "    'num_perros':[5,1,0,5,2,2,3]\n",
    "})\n",
    "df.head()"
   ]
  },
  {
   "cell_type": "code",
   "execution_count": null,
   "id": "95992c61",
   "metadata": {},
   "outputs": [],
   "source": []
  },
  {
   "cell_type": "code",
   "execution_count": null,
   "id": "026a24ab",
   "metadata": {},
   "outputs": [],
   "source": []
  },
  {
   "cell_type": "code",
   "execution_count": null,
   "id": "b3cf0a95",
   "metadata": {
    "scrolled": true
   },
   "outputs": [],
   "source": [
    "df.plot(kind='bar', x='nombre', y='edad')"
   ]
  },
  {
   "cell_type": "code",
   "execution_count": null,
   "id": "6de1cf2a",
   "metadata": {},
   "outputs": [],
   "source": []
  },
  {
   "cell_type": "code",
   "execution_count": null,
   "id": "896b411f",
   "metadata": {},
   "outputs": [],
   "source": []
  },
  {
   "cell_type": "code",
   "execution_count": null,
   "id": "ed2ff90f",
   "metadata": {},
   "outputs": [],
   "source": []
  },
  {
   "cell_type": "code",
   "execution_count": null,
   "id": "aa01653e",
   "metadata": {
    "scrolled": false
   },
   "outputs": [],
   "source": [
    "import matplotlib.pyplot as plt\n",
    "ax = plt.gca()\n",
    "\n",
    "df.plot(kind='line',x='nombre',y='num_hijos', color='blue', ax=ax)\n",
    "df.plot(kind='line',x='nombre',y='num_perros', color='red',ax=ax)"
   ]
  },
  {
   "cell_type": "code",
   "execution_count": null,
   "id": "9925f52f",
   "metadata": {},
   "outputs": [],
   "source": []
  },
  {
   "cell_type": "code",
   "execution_count": null,
   "id": "37a34db0",
   "metadata": {},
   "outputs": [],
   "source": []
  },
  {
   "cell_type": "code",
   "execution_count": null,
   "id": "1ec90aca",
   "metadata": {},
   "outputs": [],
   "source": []
  },
  {
   "cell_type": "code",
   "execution_count": null,
   "id": "cd196133",
   "metadata": {
    "scrolled": true
   },
   "outputs": [],
   "source": [
    "df.groupby('provincia')['nombre'].nunique().plot(kind='bar')"
   ]
  },
  {
   "cell_type": "code",
   "execution_count": null,
   "id": "a8d8508f",
   "metadata": {},
   "outputs": [],
   "source": []
  },
  {
   "cell_type": "code",
   "execution_count": null,
   "id": "efe09692",
   "metadata": {},
   "outputs": [],
   "source": []
  },
  {
   "cell_type": "markdown",
   "id": "852ad563",
   "metadata": {},
   "source": [
    "#### Guardar un gráfico"
   ]
  },
  {
   "cell_type": "code",
   "execution_count": null,
   "id": "d3cc09ed",
   "metadata": {},
   "outputs": [],
   "source": [
    "fig=ax.get_figure()\n",
    "fig.savefig(\"migrafico.png\")"
   ]
  },
  {
   "cell_type": "code",
   "execution_count": null,
   "id": "408fa9ec",
   "metadata": {},
   "outputs": [],
   "source": []
  },
  {
   "cell_type": "code",
   "execution_count": null,
   "id": "c09dd8bf",
   "metadata": {},
   "outputs": [],
   "source": []
  }
 ],
 "metadata": {
  "kernelspec": {
   "display_name": "Python 3 (ipykernel)",
   "language": "python",
   "name": "python3"
  },
  "language_info": {
   "codemirror_mode": {
    "name": "ipython",
    "version": 3
   },
   "file_extension": ".py",
   "mimetype": "text/x-python",
   "name": "python",
   "nbconvert_exporter": "python",
   "pygments_lexer": "ipython3",
   "version": "3.10.0"
  }
 },
 "nbformat": 4,
 "nbformat_minor": 5
}
