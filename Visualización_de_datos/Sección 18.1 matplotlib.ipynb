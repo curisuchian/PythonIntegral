{
 "cells": [
  {
   "cell_type": "markdown",
   "id": "hawaiian-profit",
   "metadata": {},
   "source": [
    "<img src=\"Figuras/figure.png\" style=\"width:500px\"/>"
   ]
  },
  {
   "cell_type": "code",
   "execution_count": null,
   "id": "7a4f45e1",
   "metadata": {},
   "outputs": [],
   "source": [
    "!pip install matplotlib"
   ]
  },
  {
   "cell_type": "code",
   "execution_count": null,
   "id": "27b79a6b",
   "metadata": {},
   "outputs": [],
   "source": []
  },
  {
   "cell_type": "code",
   "execution_count": null,
   "id": "8e0eb8e5",
   "metadata": {},
   "outputs": [],
   "source": [
    "# Modo monitoreo de estado ('stateful')\n",
    "import matplotlib.pyplot as plt\n",
    "\n",
    "x = [-3, 5, 7]\n",
    "y = [10, 2, 5]\n",
    "plt.plot(x,y)         # plot es una función de pyplot\n",
    "plt.show()"
   ]
  },
  {
   "cell_type": "code",
   "execution_count": null,
   "id": "4c349387",
   "metadata": {},
   "outputs": [],
   "source": []
  },
  {
   "cell_type": "code",
   "execution_count": null,
   "id": "7c1e3650",
   "metadata": {},
   "outputs": [],
   "source": []
  },
  {
   "cell_type": "code",
   "execution_count": null,
   "id": "dietary-phoenix",
   "metadata": {},
   "outputs": [],
   "source": [
    "# Modo Orientado a objetos ('stateless')\n",
    "import matplotlib.pyplot as plt\n",
    "\n",
    "x = [-3, 5, 7]\n",
    "y = [10, 2, 5]\n",
    "fig = plt.figure()             # Se crea el canvas Figure\n",
    "ax = fig.add_subplot(111)      # Se agrega un gráfico a Axes y se lo asigna a ax \n",
    "ax.plot(x,y)         # plot es aqui un metodo de Axes\n",
    "plt.show()"
   ]
  },
  {
   "cell_type": "code",
   "execution_count": null,
   "id": "5aff4244",
   "metadata": {},
   "outputs": [],
   "source": []
  },
  {
   "cell_type": "code",
   "execution_count": null,
   "id": "9ef0ceb9",
   "metadata": {},
   "outputs": [],
   "source": []
  },
  {
   "cell_type": "code",
   "execution_count": null,
   "id": "80880577",
   "metadata": {},
   "outputs": [],
   "source": []
  }
 ],
 "metadata": {
  "kernelspec": {
   "display_name": "Python 3 (ipykernel)",
   "language": "python",
   "name": "python3"
  },
  "language_info": {
   "codemirror_mode": {
    "name": "ipython",
    "version": 3
   },
   "file_extension": ".py",
   "mimetype": "text/x-python",
   "name": "python",
   "nbconvert_exporter": "python",
   "pygments_lexer": "ipython3",
   "version": "3.10.0"
  }
 },
 "nbformat": 4,
 "nbformat_minor": 5
}
