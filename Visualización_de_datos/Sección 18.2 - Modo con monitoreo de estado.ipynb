{
 "cells": [
  {
   "cell_type": "code",
   "execution_count": null,
   "id": "statistical-universe",
   "metadata": {},
   "outputs": [],
   "source": [
    "# Asigno valores a Y \n",
    "import matplotlib.pyplot as plt\n",
    "\n",
    "y = [10, 2, 5, 6, 7, 8]\n",
    "plt.plot(y)\n",
    "plt.show()"
   ]
  },
  {
   "cell_type": "code",
   "execution_count": null,
   "id": "5d1f7469",
   "metadata": {},
   "outputs": [],
   "source": []
  },
  {
   "cell_type": "code",
   "execution_count": null,
   "id": "fifth-berry",
   "metadata": {
    "scrolled": true
   },
   "outputs": [],
   "source": [
    "# Asigno valores a X e Y\n",
    "import matplotlib.pyplot as plt\n",
    "\n",
    "x = [5,6,7,8]\n",
    "y = [1, 4, 9, 16]            \n",
    "plt.plot(x,y)\n",
    "plt.show()"
   ]
  },
  {
   "cell_type": "code",
   "execution_count": null,
   "id": "b6b58b4a",
   "metadata": {},
   "outputs": [],
   "source": []
  },
  {
   "cell_type": "code",
   "execution_count": null,
   "id": "b43e6c13",
   "metadata": {},
   "outputs": [],
   "source": []
  },
  {
   "cell_type": "code",
   "execution_count": null,
   "id": "organic-jacksonville",
   "metadata": {
    "scrolled": false
   },
   "outputs": [],
   "source": [
    "import matplotlib.pyplot as plt\n",
    "\n",
    "x = [1, 2, 3, 4]\n",
    "y = [1, 4, 9, 16]\n",
    "\n",
    "plt.plot(x, y, label='lineal') \n",
    "plt.legend()                    # legend usa el dato en label='lineal'\n",
    "plt.title(\"Grafico sencillo \")\n",
    "plt.ylabel('Unos numeros')\n",
    "plt.xlabel('Otros numeros')\n",
    "plt.show()"
   ]
  },
  {
   "cell_type": "code",
   "execution_count": null,
   "id": "ee0b6a95",
   "metadata": {},
   "outputs": [],
   "source": []
  },
  {
   "cell_type": "code",
   "execution_count": null,
   "id": "f0c3179d",
   "metadata": {},
   "outputs": [],
   "source": []
  },
  {
   "cell_type": "code",
   "execution_count": null,
   "id": "thousand-honduras",
   "metadata": {},
   "outputs": [],
   "source": [
    "# Controlar el color, estilo y grosor de la linea\n",
    "import matplotlib.pyplot as plt\n",
    "\n",
    "plt.plot([1, 2, 3, 4], [1, 4, 9, 16], 'ro', linewidth=2)\n",
    "plt.axis([1, 6, 1, 20])       # definir limites del recuadro\n",
    "plt.show()"
   ]
  },
  {
   "cell_type": "code",
   "execution_count": null,
   "id": "e312a439",
   "metadata": {},
   "outputs": [],
   "source": []
  },
  {
   "cell_type": "code",
   "execution_count": null,
   "id": "89e8f6cd",
   "metadata": {},
   "outputs": [],
   "source": []
  },
  {
   "cell_type": "markdown",
   "id": "significant-influence",
   "metadata": {},
   "source": [
    "##### Superposición de gráficos"
   ]
  },
  {
   "cell_type": "code",
   "execution_count": null,
   "id": "civil-tenant",
   "metadata": {
    "scrolled": true
   },
   "outputs": [],
   "source": [
    "import numpy as np\n",
    "import matplotlib.pyplot as plt\n",
    "\n",
    "t = np.linspace(0., 5., 25)                 # Uso de numpy\n",
    "\n",
    "# trazos rojos, cuadrados azules, triangulos verdes\n",
    "plt.plot(t, t, 'r--', t, t**2, 'bs', t, t**3, 'g^')\n",
    "plt.show()"
   ]
  },
  {
   "cell_type": "markdown",
   "id": "8a734316",
   "metadata": {},
   "source": [
    "<img src=\"pyplot2.png\" height=250/>"
   ]
  },
  {
   "cell_type": "markdown",
   "id": "0dd74e0d",
   "metadata": {},
   "source": [
    "##### Gráficos adyacentes"
   ]
  },
  {
   "cell_type": "code",
   "execution_count": null,
   "id": "10cfb4de",
   "metadata": {},
   "outputs": [],
   "source": [
    "import numpy as np\n",
    "import matplotlib.pyplot as plt\n",
    "\n",
    "t = np.linspace(0., 5., 25)  \n",
    "plt.figure(figsize=(11, 3))        # Tamaño del canvas\n",
    "plt.subplot(311)\n",
    "plt.plot(t,t,'ro')\n",
    "plt.subplot(312)\n",
    "#plt.xscale('log')             # Escala eje X\n",
    "plt.plot(t,t**2,'g')\n",
    "plt.subplot(313)\n",
    "plt.plot(t,t**5,'b+')\n",
    "plt.suptitle('Panel de gráficos')\n",
    "plt.show()"
   ]
  },
  {
   "cell_type": "code",
   "execution_count": null,
   "id": "dd9ce299",
   "metadata": {},
   "outputs": [],
   "source": []
  },
  {
   "cell_type": "code",
   "execution_count": null,
   "id": "7ee10bf8",
   "metadata": {},
   "outputs": [],
   "source": []
  },
  {
   "cell_type": "code",
   "execution_count": null,
   "id": "5b0c4d16",
   "metadata": {},
   "outputs": [],
   "source": []
  },
  {
   "cell_type": "markdown",
   "id": "hired-confidence",
   "metadata": {},
   "source": [
    "##### Histograma"
   ]
  },
  {
   "cell_type": "code",
   "execution_count": null,
   "id": "9acf092f",
   "metadata": {
    "scrolled": true
   },
   "outputs": [],
   "source": [
    "import matplotlib.pyplot as plt\n",
    "import numpy as np\n",
    "\n",
    "x = np.random.randn(200)\n",
    "num_bins = 20                        # Numero de intervalos\n",
    "plt.hist(x, num_bins, facecolor = 'blue')  \n",
    "plt.xlabel('Eje x')\n",
    "plt.ylabel('Eje Y')\n",
    "plt.title('Titulo')\n",
    "plt.show()"
   ]
  },
  {
   "cell_type": "code",
   "execution_count": null,
   "id": "4b0309f1",
   "metadata": {},
   "outputs": [],
   "source": []
  },
  {
   "cell_type": "markdown",
   "id": "central-johns",
   "metadata": {},
   "source": [
    "##### Gráfico de puntos y líneas"
   ]
  },
  {
   "cell_type": "code",
   "execution_count": null,
   "id": "expected-constant",
   "metadata": {
    "scrolled": true
   },
   "outputs": [],
   "source": [
    "import matplotlib.pyplot as plt\n",
    "\n",
    "TempAire = {'Enero':-11.6,'Febrero':-4.5,'Marzo':9.7,'Abril' :30.2,'Mayo' :47.8,'Junio': 59.0 ,'Julio' :60.6 ,'Agosto': 56.1 ,'Septiembre':44.4,'Octubre’':24.6,'Noviembre':4.5,'Diciembre':-9.9}\n",
    "temp = TempAire.values()    # Recuperar las temperaturas del diccionario\n",
    "plt.plot(temp, 'r-')       # linea con ‘r+-‘\n",
    "plt.xlabel('Mes')\n",
    "plt.ylabel('Temp aire')\n",
    "plt.title('Variacion anual de la temperatura del aire')\n",
    "plt.show()"
   ]
  },
  {
   "cell_type": "code",
   "execution_count": null,
   "id": "3f33ef6b",
   "metadata": {},
   "outputs": [],
   "source": []
  },
  {
   "cell_type": "markdown",
   "id": "auburn-graphic",
   "metadata": {},
   "source": [
    "##### Gráfico de dispersión "
   ]
  },
  {
   "cell_type": "code",
   "execution_count": null,
   "id": "occupied-brook",
   "metadata": {},
   "outputs": [],
   "source": [
    "x = [2,4,6,7,9,13,19,26,29,31,36,40,48,51,57,67,69,71,78,88]\n",
    "y = [54,72,43,2,8,98,109,5,35,28,48,83,94,84,73,11,464,75,200,54]\n",
    "\n",
    "import matplotlib.pyplot as plt\n",
    "\n",
    "plt.scatter(x,y)\n",
    "plt.show()"
   ]
  },
  {
   "cell_type": "code",
   "execution_count": null,
   "id": "b9bd5679",
   "metadata": {},
   "outputs": [],
   "source": []
  },
  {
   "cell_type": "code",
   "execution_count": null,
   "id": "b2e6ee30",
   "metadata": {},
   "outputs": [],
   "source": []
  },
  {
   "cell_type": "code",
   "execution_count": null,
   "id": "262969ee",
   "metadata": {},
   "outputs": [],
   "source": []
  },
  {
   "cell_type": "markdown",
   "id": "b58a512f",
   "metadata": {},
   "source": [
    "##### Gráfico de barras\n",
    "Parámetros categóricos"
   ]
  },
  {
   "cell_type": "code",
   "execution_count": null,
   "id": "23d16f8b",
   "metadata": {},
   "outputs": [],
   "source": [
    "\n",
    "prueba = ['ensayo_1','ensayo_2', 'ensayo_3']\n",
    "valores = [0.4, 0.7, 0.2]\n",
    "\n",
    "plt.bar(prueba,valores)\n",
    "plt.show()"
   ]
  },
  {
   "cell_type": "code",
   "execution_count": null,
   "id": "672cacb7",
   "metadata": {},
   "outputs": [],
   "source": []
  },
  {
   "cell_type": "code",
   "execution_count": null,
   "id": "3fec92fc",
   "metadata": {},
   "outputs": [],
   "source": []
  },
  {
   "cell_type": "code",
   "execution_count": null,
   "id": "6dee6125",
   "metadata": {},
   "outputs": [],
   "source": []
  },
  {
   "cell_type": "markdown",
   "id": "reasonable-watts",
   "metadata": {},
   "source": [
    "Encontrarán muchos ejemplos en el sitio de MATLAB: https://www.mathworks.com/help/matlab/ref/plot.html?s_tid=gn_loc_drop."
   ]
  }
 ],
 "metadata": {
  "kernelspec": {
   "display_name": "Python 3 (ipykernel)",
   "language": "python",
   "name": "python3"
  },
  "language_info": {
   "codemirror_mode": {
    "name": "ipython",
    "version": 3
   },
   "file_extension": ".py",
   "mimetype": "text/x-python",
   "name": "python",
   "nbconvert_exporter": "python",
   "pygments_lexer": "ipython3",
   "version": "3.10.0"
  }
 },
 "nbformat": 4,
 "nbformat_minor": 5
}
