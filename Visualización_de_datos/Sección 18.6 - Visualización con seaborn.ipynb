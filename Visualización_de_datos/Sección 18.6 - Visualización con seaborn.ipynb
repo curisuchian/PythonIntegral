{
 "cells": [
  {
   "cell_type": "code",
   "execution_count": null,
   "id": "42147da2",
   "metadata": {},
   "outputs": [],
   "source": [
    "!pip install seaborn"
   ]
  },
  {
   "cell_type": "code",
   "execution_count": null,
   "id": "d909f49b",
   "metadata": {},
   "outputs": [],
   "source": [
    "import seaborn as sns"
   ]
  },
  {
   "cell_type": "code",
   "execution_count": null,
   "id": "0419d970",
   "metadata": {},
   "outputs": [],
   "source": []
  },
  {
   "cell_type": "markdown",
   "id": "bad47d9a",
   "metadata": {},
   "source": [
    "#### Formato ancho versus formato angosto"
   ]
  },
  {
   "cell_type": "code",
   "execution_count": null,
   "id": "c76a6751",
   "metadata": {},
   "outputs": [],
   "source": [
    "vuelos_angosto = sns.load_dataset(\"flights\")\n",
    "vuelos_angosto.head()            # Formato angosto"
   ]
  },
  {
   "cell_type": "code",
   "execution_count": null,
   "id": "634cb5cc",
   "metadata": {
    "scrolled": true
   },
   "outputs": [],
   "source": [
    "sns.relplot(data=vuelos_angosto, x=\"year\", y=\"passengers\", hue=\"month\", kind=\"line\")"
   ]
  },
  {
   "cell_type": "code",
   "execution_count": null,
   "id": "b7195c1b",
   "metadata": {},
   "outputs": [],
   "source": []
  },
  {
   "cell_type": "code",
   "execution_count": null,
   "id": "363afb8a",
   "metadata": {
    "scrolled": true
   },
   "outputs": [],
   "source": [
    "vuelos_ancho = vuelos_angosto.pivot(index=\"year\", columns=\"month\", values=\"passengers\")\n",
    "vuelos_ancho.head()          # Formato ancho\n",
    "# Notar que year es indice de filas y month agrupa los meses"
   ]
  },
  {
   "cell_type": "code",
   "execution_count": null,
   "id": "67e0c63e",
   "metadata": {},
   "outputs": [],
   "source": [
    "sns.relplot(data=vuelos_ancho, kind=\"line\")"
   ]
  },
  {
   "cell_type": "code",
   "execution_count": null,
   "id": "5fc839eb",
   "metadata": {},
   "outputs": [],
   "source": []
  },
  {
   "cell_type": "code",
   "execution_count": null,
   "id": "8c7620da",
   "metadata": {},
   "outputs": [],
   "source": []
  },
  {
   "cell_type": "code",
   "execution_count": null,
   "id": "aec0d184",
   "metadata": {},
   "outputs": [],
   "source": []
  },
  {
   "cell_type": "markdown",
   "id": "142358e6",
   "metadata": {},
   "source": [
    "#### Estilos gráficos\n",
    "Estilos: darkgrid (por defecto), whitegrid, dark, white, y ticks<br>\n",
    "Escalas: paper, notebook (por defecto), talk, y poster"
   ]
  },
  {
   "cell_type": "code",
   "execution_count": null,
   "id": "5c72d8c7",
   "metadata": {},
   "outputs": [],
   "source": [
    "import seaborn as sns\n",
    "\n",
    "# Parámetros por defecto tomados de matplotlib\n",
    "sns.set_theme(context='talk')\n",
    "sns.relplot(data=vuelos_angosto, x=\"year\", y=\"passengers\", hue=\"month\", kind=\"line\")"
   ]
  },
  {
   "cell_type": "code",
   "execution_count": null,
   "id": "746b4f50",
   "metadata": {},
   "outputs": [],
   "source": []
  },
  {
   "cell_type": "code",
   "execution_count": null,
   "id": "d44f538b",
   "metadata": {},
   "outputs": [],
   "source": []
  },
  {
   "cell_type": "code",
   "execution_count": null,
   "id": "776013d9",
   "metadata": {},
   "outputs": [],
   "source": [
    "sns.set_theme(context=\"notebook\", style=\"whitegrid\")\n",
    "\n",
    "# Carga datos\n",
    "tips = sns.load_dataset(\"tips\")\n",
    "\n",
    "# Visualizar por defecto scatter\n",
    "sns.relplot(\n",
    "    data=tips,\n",
    "    x=\"total_bill\", y=\"tip\", hue=\"day\"\n",
    ")"
   ]
  },
  {
   "cell_type": "code",
   "execution_count": null,
   "id": "45d8eba7",
   "metadata": {},
   "outputs": [],
   "source": []
  },
  {
   "cell_type": "code",
   "execution_count": null,
   "id": "ceddf7d1",
   "metadata": {},
   "outputs": [],
   "source": []
  }
 ],
 "metadata": {
  "kernelspec": {
   "display_name": "Python 3 (ipykernel)",
   "language": "python",
   "name": "python3"
  },
  "language_info": {
   "codemirror_mode": {
    "name": "ipython",
    "version": 3
   },
   "file_extension": ".py",
   "mimetype": "text/x-python",
   "name": "python",
   "nbconvert_exporter": "python",
   "pygments_lexer": "ipython3",
   "version": "3.10.0"
  }
 },
 "nbformat": 4,
 "nbformat_minor": 5
}
