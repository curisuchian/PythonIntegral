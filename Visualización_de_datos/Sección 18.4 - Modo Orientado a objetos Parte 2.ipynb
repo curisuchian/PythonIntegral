{
 "cells": [
  {
   "cell_type": "markdown",
   "id": "acute-combine",
   "metadata": {},
   "source": [
    "### subplots()"
   ]
  },
  {
   "cell_type": "code",
   "execution_count": null,
   "id": "liable-skating",
   "metadata": {
    "scrolled": true
   },
   "outputs": [],
   "source": [
    "# Instancia Axes usando indexación\n",
    "import matplotlib.pyplot as plt\n",
    "import numpy as np\n",
    "\n",
    "# Datos\n",
    "t = np.arange(0.0, 2.0, 0.01)    # Similar a linspace(); fija extremos e intervalo\n",
    "s = 1 + np.sin(2 * np.pi * t)\n",
    "v = 1 + np.cos(2 * np.pi * t)\n",
    "\n",
    "fig = plt.figure()\n",
    "fig, ax = plt.subplots(nrows=2,ncols=1,figsize=(4,3))       # ,figsize=(4,2)\n",
    "\n",
    "ax[0].plot(t, s)\n",
    "ax[0].set(xlabel='tiempo (seg)', ylabel='voltaje (mV)',title= 'seno')\n",
    "ax[0].grid()\n",
    "\n",
    "ax[1].plot(t, v)\n",
    "ax[1].set(xlabel='tiempo (seg)', ylabel='voltaje (mV)',title= 'coseno')\n",
    "ax[1].grid()\n",
    "fig.tight_layout()\n",
    "fig.savefig(\"test.png\")          # Guarda imagen en el directorio de trabajo\n",
    "plt.show()"
   ]
  },
  {
   "cell_type": "code",
   "execution_count": null,
   "id": "825d9ccf",
   "metadata": {},
   "outputs": [],
   "source": []
  },
  {
   "cell_type": "code",
   "execution_count": null,
   "id": "50dbe75b",
   "metadata": {},
   "outputs": [],
   "source": []
  },
  {
   "cell_type": "code",
   "execution_count": null,
   "id": "6129d4ef",
   "metadata": {},
   "outputs": [],
   "source": [
    "# Instancia Axes definiendo ax1, ax2\n",
    "import matplotlib.pyplot as plt\n",
    "import numpy as np\n",
    "\n",
    "# Datos\n",
    "t = np.arange(0.0, 2.0, 0.01)  \n",
    "s = 1 + np.sin(2 * np.pi * t)\n",
    "v = 1 + np.cos(2 * np.pi * t)\n",
    "\n",
    "fig = plt.figure()\n",
    "fig, (ax1,ax2) = plt.subplots(nrows=2,ncols=1,figsize=(4,4))      \n",
    "ax1.plot(t, s)\n",
    "ax1.set(xlabel='tiempo (seg)', ylabel='voltaje (mV)',title= 'seno')\n",
    "ax1.grid()\n",
    "\n",
    "ax2.plot(t, v)\n",
    "ax2.set(xlabel='tiempo (seg)', ylabel='voltaje (mV)',title= 'coseno')\n",
    "ax2.grid()\n",
    "fig.tight_layout()"
   ]
  },
  {
   "cell_type": "code",
   "execution_count": null,
   "id": "0ef77f90",
   "metadata": {},
   "outputs": [],
   "source": []
  },
  {
   "cell_type": "code",
   "execution_count": null,
   "id": "d75a9081",
   "metadata": {},
   "outputs": [],
   "source": []
  },
  {
   "cell_type": "code",
   "execution_count": null,
   "id": "f5d98040",
   "metadata": {},
   "outputs": [],
   "source": [
    "# Compartir ejes\n",
    "import matplotlib.pyplot as plt\n",
    "import numpy as np\n",
    "\n",
    "# Datos\n",
    "t = np.arange(0.0, 2.0, 0.01)    \n",
    "s = 1 + np.sin(2 * np.pi * t)\n",
    "v = 1 + np.cos(2 * np.pi * t)\n",
    "\n",
    "fig=plt.figure()\n",
    "gs = fig.add_gridspec(2, hspace=0.4)  # Se agrega una grilla de fondo\n",
    "ax = gs.subplots(sharex=True)         # Se comparte el eje X\n",
    "\n",
    "ax[0].plot(t, s)\n",
    "ax[0].set(ylabel='voltaje (mV)',title= 'seno')   # Suprimir etiqueta X\n",
    "ax[0].grid()\n",
    "\n",
    "ax[1].plot(t, v)\n",
    "ax[1].set(xlabel='tiempo (seg)', ylabel='voltaje (mV)',title= 'coseno')\n",
    "ax[1].grid()\n",
    "\n",
    "plt.show()"
   ]
  },
  {
   "cell_type": "code",
   "execution_count": null,
   "id": "6f321e93",
   "metadata": {},
   "outputs": [],
   "source": []
  },
  {
   "cell_type": "code",
   "execution_count": null,
   "id": "fb2ea19c",
   "metadata": {},
   "outputs": [],
   "source": []
  },
  {
   "cell_type": "markdown",
   "id": "95981404",
   "metadata": {},
   "source": [
    "##### Superposición de curvas"
   ]
  },
  {
   "cell_type": "code",
   "execution_count": null,
   "id": "121a2551",
   "metadata": {},
   "outputs": [],
   "source": [
    "import matplotlib.pyplot as plt\n",
    "import numpy as np\n",
    "\n",
    "fig, ax = plt.subplots()\n",
    "x = np.linspace(-2*np.pi, 2*np.pi, 32)  # Escala eje X\n",
    "\n",
    "# círculos\n",
    "ax.plot(x, np.sin(2*x)/(2*x), marker=\"o\", linestyle=\"--\", label='curva 1')\n",
    "\n",
    "# cuadrados\n",
    "ax.plot(x, np.sin(2*x)/(3*x), marker=\"s\", linestyle=\"-.\", label='curva 2')\n",
    "\n",
    "# triángulos\n",
    "ax.plot(x, np.sin(2*x)/(4*x), marker=\"^\", linestyle=\":\", label='curva 3')\n",
    "\n",
    "# triángulos recostados\n",
    "ax.plot(x, np.sin(2*x)/(5*x), marker=\"<\", linestyle=\"\", label='curva 4')\n",
    "\n",
    "# leyenda superior derecha\n",
    "ax.legend(loc=\"upper left\")        # Cambiar posicion de la leyenda\n",
    "\n",
    "# Etiquetas de ejes y título\n",
    "ax.set_xlabel(\"Eje X\")\n",
    "ax.set_ylabel(\"Eje Y\")\n",
    "ax.set_title(\"Curvas\")\n",
    "\n",
    "# turn on x-y grid lines\n",
    "ax.grid(True)"
   ]
  },
  {
   "cell_type": "code",
   "execution_count": null,
   "id": "146c3b2a",
   "metadata": {},
   "outputs": [],
   "source": []
  },
  {
   "cell_type": "code",
   "execution_count": null,
   "id": "b4a212e8",
   "metadata": {},
   "outputs": [],
   "source": []
  },
  {
   "cell_type": "markdown",
   "id": "labeled-gather",
   "metadata": {},
   "source": [
    "##### Histograma"
   ]
  },
  {
   "cell_type": "code",
   "execution_count": null,
   "id": "becoming-flexibility",
   "metadata": {
    "scrolled": true
   },
   "outputs": [],
   "source": [
    "import numpy as np\n",
    "import matplotlib.pyplot as plt\n",
    "np.random.seed(5)\n",
    "\n",
    "# datos\n",
    "mu = 100  # promedio de la distribucion\n",
    "sigma = 15  # desviacion estandard de la distribucion\n",
    "x = mu + sigma * np.random.randn(1000)\n",
    "num_bins = 30\n",
    "\n",
    "fig, ax = plt.subplots()\n",
    "\n",
    "# Grafico\n",
    "n, bins, patches = ax.hist(x, num_bins, density=True)\n",
    "\n",
    "# agregar linea de ajuste\n",
    "y = ((1 / (np.sqrt(2 * np.pi) * sigma)) *\n",
    "     np.exp(-0.5 * (1 / sigma * (bins - mu))**2))\n",
    "\n",
    "ax.plot(bins, y, '--')\n",
    "ax.set_xlabel('Sujetos')\n",
    "ax.set_ylabel('Densidad')\n",
    "ax.set_title(r'Histograma con $\\mu=100$, $\\sigma=15$')\n",
    "\n",
    "plt.show()"
   ]
  },
  {
   "cell_type": "code",
   "execution_count": null,
   "id": "38f24db5",
   "metadata": {},
   "outputs": [],
   "source": []
  },
  {
   "cell_type": "code",
   "execution_count": null,
   "id": "47eeea2f",
   "metadata": {},
   "outputs": [],
   "source": []
  }
 ],
 "metadata": {
  "kernelspec": {
   "display_name": "Python 3 (ipykernel)",
   "language": "python",
   "name": "python3"
  },
  "language_info": {
   "codemirror_mode": {
    "name": "ipython",
    "version": 3
   },
   "file_extension": ".py",
   "mimetype": "text/x-python",
   "name": "python",
   "nbconvert_exporter": "python",
   "pygments_lexer": "ipython3",
   "version": "3.10.0"
  }
 },
 "nbformat": 4,
 "nbformat_minor": 5
}
