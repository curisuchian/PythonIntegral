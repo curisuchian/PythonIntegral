{
 "cells": [
  {
   "cell_type": "markdown",
   "id": "9e10810d",
   "metadata": {},
   "source": [
    "##### Acceso a elementos\n",
    "El acceso a elementos agrupados se hace invocando los métodos vistos en la clase anterior: keys, values, items. "
   ]
  },
  {
   "cell_type": "code",
   "execution_count": null,
   "id": "ddc36d08",
   "metadata": {},
   "outputs": [],
   "source": [
    "# Dado\n",
    "Agenda = {'Almagro' : 3457677, 'Pereda' : 978800, 'Soprano' : 3499888}"
   ]
  },
  {
   "cell_type": "code",
   "execution_count": null,
   "id": "e90c8c43",
   "metadata": {},
   "outputs": [],
   "source": [
    "# Extraer un valor\n",
    "print(Agenda['Almagro']) "
   ]
  },
  {
   "cell_type": "code",
   "execution_count": null,
   "id": "e2c88ed5",
   "metadata": {},
   "outputs": [],
   "source": [
    "# Diccionarios anidados. Extraer 888\n",
    "Agenda_anid = {'Almagro' : 345, 'Pereda' : 1900, \n",
    "               'Soprano' : {'casa' : 888, 'trabajo' : 9999}}\n",
    "Agenda_anid['Soprano']['casa']"
   ]
  },
  {
   "cell_type": "markdown",
   "id": "5bf39bdd",
   "metadata": {},
   "source": [
    "#### Representación de una matriz"
   ]
  },
  {
   "cell_type": "code",
   "execution_count": null,
   "id": "327fd3b3",
   "metadata": {},
   "outputs": [],
   "source": [
    "import numpy as np\n",
    "np.array([[0,0,1],[4,0,0],[0,5,0]])"
   ]
  },
  {
   "cell_type": "code",
   "execution_count": null,
   "id": "db86670d",
   "metadata": {},
   "outputs": [],
   "source": [
    "matriz_rala = {(0,2):1,(1,0):4,(2,1):5}\n",
    "matriz_rala"
   ]
  },
  {
   "cell_type": "code",
   "execution_count": null,
   "id": "41920690",
   "metadata": {},
   "outputs": [],
   "source": [
    "matriz_rala[2,1]"
   ]
  },
  {
   "cell_type": "code",
   "execution_count": null,
   "id": "53cb0c3f",
   "metadata": {},
   "outputs": [],
   "source": [
    "# Usando el método get()\n",
    "matriz_rala.get((2,1),0)"
   ]
  },
  {
   "cell_type": "code",
   "execution_count": null,
   "id": "4b523393",
   "metadata": {},
   "outputs": [],
   "source": []
  },
  {
   "cell_type": "code",
   "execution_count": null,
   "id": "b5cce577",
   "metadata": {},
   "outputs": [],
   "source": []
  },
  {
   "cell_type": "code",
   "execution_count": null,
   "id": "68c49134",
   "metadata": {},
   "outputs": [],
   "source": []
  },
  {
   "cell_type": "code",
   "execution_count": null,
   "id": "21828703",
   "metadata": {},
   "outputs": [],
   "source": []
  },
  {
   "cell_type": "code",
   "execution_count": null,
   "id": "b9a91995",
   "metadata": {},
   "outputs": [],
   "source": []
  }
 ],
 "metadata": {
  "kernelspec": {
   "display_name": "Python 3 (ipykernel)",
   "language": "python",
   "name": "python3"
  },
  "language_info": {
   "codemirror_mode": {
    "name": "ipython",
    "version": 3
   },
   "file_extension": ".py",
   "mimetype": "text/x-python",
   "name": "python",
   "nbconvert_exporter": "python",
   "pygments_lexer": "ipython3",
   "version": "3.10.0"
  }
 },
 "nbformat": 4,
 "nbformat_minor": 5
}
