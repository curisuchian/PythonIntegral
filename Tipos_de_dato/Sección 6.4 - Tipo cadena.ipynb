{
 "cells": [
  {
   "cell_type": "markdown",
   "id": "efced36e",
   "metadata": {},
   "source": [
    "<img src=\"Figuras/cadena.png\" width=500/>"
   ]
  },
  {
   "cell_type": "markdown",
   "id": "889fff0b",
   "metadata": {},
   "source": [
    "#### Crear cadenas"
   ]
  },
  {
   "cell_type": "code",
   "execution_count": null,
   "id": "ec4dfcb0",
   "metadata": {},
   "outputs": [],
   "source": [
    "cad = \"c\"\n",
    "print(cad)\n",
    "cad2 = 'Este es un curso de Python'\n",
    "print(cad2)\n",
    "print(type(cad)); print(type(cad2))"
   ]
  },
  {
   "cell_type": "code",
   "execution_count": null,
   "id": "b26772ef",
   "metadata": {},
   "outputs": [],
   "source": [
    "# Si ocupa varias líneas se enmarca en comillas triples.\n",
    "cad3 = \"\"\"Este es un \n",
    "curso de Python\"\"\"\n",
    "print(cad3)"
   ]
  },
  {
   "cell_type": "code",
   "execution_count": null,
   "id": "b8a49c9a",
   "metadata": {},
   "outputs": [],
   "source": [
    "cad4 = '20.55'\n",
    "print(cad4)\n",
    "print(type(cad4))"
   ]
  },
  {
   "cell_type": "code",
   "execution_count": null,
   "id": "919b4e55",
   "metadata": {},
   "outputs": [],
   "source": [
    "cad5 = str(10)\n",
    "print(cad5)\n",
    "print(type(cad5))"
   ]
  },
  {
   "cell_type": "markdown",
   "id": "e4004ea1",
   "metadata": {},
   "source": [
    "##### Operadores"
   ]
  },
  {
   "cell_type": "code",
   "execution_count": null,
   "id": "5e0c8cdc",
   "metadata": {},
   "outputs": [],
   "source": [
    "# Suma resulta en concatenación\n",
    "\"abc\" + \"def\" + \"ghi\""
   ]
  },
  {
   "cell_type": "code",
   "execution_count": null,
   "id": "ef306fca",
   "metadata": {},
   "outputs": [],
   "source": [
    "# Producto resulta en repetición\n",
    "'abc' * 4"
   ]
  },
  {
   "cell_type": "code",
   "execution_count": null,
   "id": "b84a5400",
   "metadata": {},
   "outputs": [],
   "source": [
    "# Operador de pertenencia\n",
    "'a' in 'abc'"
   ]
  },
  {
   "cell_type": "code",
   "execution_count": null,
   "id": "44d98ba6",
   "metadata": {},
   "outputs": [],
   "source": [
    "# La comparación de cadenas recurre a los códigos ASCII\n",
    "'a' > 't'"
   ]
  },
  {
   "cell_type": "code",
   "execution_count": null,
   "id": "e040950d",
   "metadata": {},
   "outputs": [],
   "source": [
    "# Concatenación con print()\n",
    "print(\"Compré\",5,\"peras a $\",10,\"pesos. Total $\",50,\"pesos\")\n",
    "print(\"Compré\"+'5'+\"peras a\"+'10'+\"pesos. Total\"+'50'+\"pesos\")\n",
    "print(\"Compré\",5,\"peras a $\"+'10',\"pesos. Total $\"+'50',\"pesos\")"
   ]
  },
  {
   "cell_type": "markdown",
   "id": "d663827a",
   "metadata": {},
   "source": [
    "#### Carácter de escape\n",
    "El literal \\\\ se denomina carácter de escape."
   ]
  },
  {
   "cell_type": "code",
   "execution_count": null,
   "id": "residential-usage",
   "metadata": {},
   "outputs": [],
   "source": [
    "# Doble comillas da error\n",
    "print(\"\"La Isla del Tesoro\" es un libro fascinante\" )"
   ]
  },
  {
   "cell_type": "markdown",
   "id": "749e4626",
   "metadata": {},
   "source": [
    "# El caracter de escape convierte \" \" en caracteres simples\n",
    "print(\"\\\"La Isla del Tesoro\\\" es un libro fascinante\")"
   ]
  },
  {
   "cell_type": "code",
   "execution_count": null,
   "id": "7b6e99b8",
   "metadata": {},
   "outputs": [],
   "source": [
    "# Comillas combinadas\n",
    "print(\"'La Isla del Tesoro' es un libro fascinante\" )"
   ]
  },
  {
   "cell_type": "markdown",
   "id": "confirmed-marketing",
   "metadata": {},
   "source": [
    "#### Secuencias de escape\n",
    "La combinación del literal \\\\ con ciertos caracteres da secuencias de escape."
   ]
  },
  {
   "cell_type": "code",
   "execution_count": null,
   "id": "amended-simon",
   "metadata": {},
   "outputs": [],
   "source": [
    "# Insertar un fin de línea \n",
    "print(\"Hola\\nMundo!\")"
   ]
  },
  {
   "cell_type": "code",
   "execution_count": null,
   "id": "written-hungary",
   "metadata": {
    "scrolled": true
   },
   "outputs": [],
   "source": [
    "# Insertar tabulaciones \n",
    "print(\"Adios\\tmundo\\tcruel!\\nSuspiro\")"
   ]
  },
  {
   "cell_type": "markdown",
   "id": "d9516353",
   "metadata": {},
   "source": [
    "#### Inmutabilidad"
   ]
  },
  {
   "cell_type": "code",
   "execution_count": null,
   "id": "d112915a",
   "metadata": {},
   "outputs": [],
   "source": [
    "c = 'abracadabra'\n",
    "c[2] = 'g'"
   ]
  },
  {
   "cell_type": "markdown",
   "id": "8628830d",
   "metadata": {},
   "source": [
    "#### Usos\n",
    "Las cadenas permiten agregar texto a la salida de un programa, e interactuar con el usuario.\n"
   ]
  }
 ],
 "metadata": {
  "kernelspec": {
   "display_name": "Python 3 (ipykernel)",
   "language": "python",
   "name": "python3"
  },
  "language_info": {
   "codemirror_mode": {
    "name": "ipython",
    "version": 3
   },
   "file_extension": ".py",
   "mimetype": "text/x-python",
   "name": "python",
   "nbconvert_exporter": "python",
   "pygments_lexer": "ipython3",
   "version": "3.10.0"
  }
 },
 "nbformat": 4,
 "nbformat_minor": 5
}
