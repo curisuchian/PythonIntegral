{
 "cells": [
  {
   "cell_type": "markdown",
   "id": "13902af0",
   "metadata": {},
   "source": [
    "##### Métodos"
   ]
  },
  {
   "cell_type": "code",
   "execution_count": null,
   "id": "a04f4259",
   "metadata": {
    "scrolled": true
   },
   "outputs": [],
   "source": [
    "Agenda = {'Almagro' : 3457677, 'Pereda' : 978800, 'Soprano' : 3499888}"
   ]
  },
  {
   "cell_type": "code",
   "execution_count": null,
   "id": "dead3106",
   "metadata": {
    "scrolled": true
   },
   "outputs": [],
   "source": [
    "# Extraer todas las claves\n",
    "print(Agenda.keys())  "
   ]
  },
  {
   "cell_type": "code",
   "execution_count": null,
   "id": "86e96dac",
   "metadata": {
    "scrolled": true
   },
   "outputs": [],
   "source": [
    "# Extraer todos los valores\n",
    "print(Agenda.values()) "
   ]
  },
  {
   "cell_type": "code",
   "execution_count": null,
   "id": "4f939b4b",
   "metadata": {
    "scrolled": true
   },
   "outputs": [],
   "source": [
    "# Extraer todos los pares. Devuelve tuplas con pares clave, valor\n",
    "print(Agenda.items())  # devuelve tuplas "
   ]
  },
  {
   "cell_type": "code",
   "execution_count": null,
   "id": "0a6375a1",
   "metadata": {
    "scrolled": true
   },
   "outputs": [],
   "source": [
    "# Eliminar un par clave : valor con\n",
    "Agenda.pop('Almagro')\n",
    "print(Agenda)"
   ]
  },
  {
   "cell_type": "code",
   "execution_count": null,
   "id": "02fab085",
   "metadata": {
    "scrolled": true
   },
   "outputs": [],
   "source": [
    "# Agregar un par clave:valor\n",
    "Agenda.update({'Fulano' : 3435467})\n",
    "Agenda"
   ]
  },
  {
   "cell_type": "code",
   "execution_count": null,
   "id": "a7e6f328",
   "metadata": {
    "scrolled": true
   },
   "outputs": [],
   "source": [
    "# Agregar varios pares clave:valor\n",
    "Agenda.update({'Fulano' : 3435467, 'Mengano': 608554})\n",
    "Agenda"
   ]
  },
  {
   "cell_type": "code",
   "execution_count": null,
   "id": "2648b84e",
   "metadata": {
    "scrolled": true
   },
   "outputs": [],
   "source": [
    "# El método get() recupera un valor\n",
    "Agenda.get('Pereda')"
   ]
  },
  {
   "cell_type": "markdown",
   "id": "bf53d9c6",
   "metadata": {},
   "source": [
    "#### Funciones"
   ]
  },
  {
   "cell_type": "code",
   "execution_count": null,
   "id": "a1d3516e",
   "metadata": {
    "scrolled": true
   },
   "outputs": [],
   "source": [
    "# Función len()\n",
    "len(Agenda)"
   ]
  },
  {
   "cell_type": "code",
   "execution_count": null,
   "id": "6b4dfff5",
   "metadata": {
    "scrolled": true
   },
   "outputs": [],
   "source": [
    "# Función del()\n",
    "Agenda = {'Almagro' : 3457677, 'Pereda' : 978800, 'Soprano' : 3499888}\n",
    "del Agenda['Pereda']\n",
    "Agenda"
   ]
  }
 ],
 "metadata": {
  "kernelspec": {
   "display_name": "Python 3 (ipykernel)",
   "language": "python",
   "name": "python3"
  },
  "language_info": {
   "codemirror_mode": {
    "name": "ipython",
    "version": 3
   },
   "file_extension": ".py",
   "mimetype": "text/x-python",
   "name": "python",
   "nbconvert_exporter": "python",
   "pygments_lexer": "ipython3",
   "version": "3.10.0"
  }
 },
 "nbformat": 4,
 "nbformat_minor": 5
}
