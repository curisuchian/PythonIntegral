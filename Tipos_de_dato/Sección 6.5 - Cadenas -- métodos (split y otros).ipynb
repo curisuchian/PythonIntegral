{
 "cells": [
  {
   "cell_type": "markdown",
   "id": "28990c91",
   "metadata": {},
   "source": [
    "#### Métodos"
   ]
  },
  {
   "cell_type": "code",
   "execution_count": null,
   "id": "ed816ea8",
   "metadata": {},
   "outputs": [],
   "source": [
    "c=\"abracadabra\"\n",
    "c.count(\"a\")"
   ]
  },
  {
   "cell_type": "code",
   "execution_count": null,
   "id": "1d32fbdd",
   "metadata": {},
   "outputs": [],
   "source": [
    "# con find() hallar la posición de “fgh” \n",
    "cadena = 'abcdefghijklmno'\n",
    "cadena.find('fg') "
   ]
  },
  {
   "cell_type": "code",
   "execution_count": null,
   "id": "7ab6d3c2",
   "metadata": {},
   "outputs": [],
   "source": [
    "# Metodos lower() y upper()\n",
    "Nombre = \"Juan Sandoval\"\n",
    "print(Nombre.lower())\n",
    "print(Nombre.upper())"
   ]
  },
  {
   "cell_type": "markdown",
   "id": "7a86f014",
   "metadata": {},
   "source": [
    "#####  El método split()\n",
    "Sintaxis: <br>\n",
    "cadena.split(separador)"
   ]
  },
  {
   "cell_type": "code",
   "execution_count": null,
   "id": "1e6c91d2",
   "metadata": {},
   "outputs": [],
   "source": [
    "# El método split()\n",
    "Nombre = \"Juan Sandoval\"\n",
    "print(Nombre.split(\" \")) "
   ]
  },
  {
   "cell_type": "code",
   "execution_count": null,
   "id": "9fc18390",
   "metadata": {},
   "outputs": [],
   "source": [
    "Tel = '343-4455'\n",
    "print(Tel.split(\"-\")) "
   ]
  },
  {
   "cell_type": "code",
   "execution_count": null,
   "id": "f201c749",
   "metadata": {},
   "outputs": [],
   "source": [
    "nombres = \"Raul, Martin, Fabiola, Elena, Juan, Sofia\"\n",
    "nombres.split(\",\")"
   ]
  },
  {
   "cell_type": "code",
   "execution_count": null,
   "id": "810bb7f4",
   "metadata": {},
   "outputs": [],
   "source": []
  },
  {
   "cell_type": "code",
   "execution_count": null,
   "id": "9e2b8333",
   "metadata": {},
   "outputs": [],
   "source": []
  },
  {
   "cell_type": "code",
   "execution_count": null,
   "id": "019456a5",
   "metadata": {},
   "outputs": [],
   "source": []
  },
  {
   "cell_type": "code",
   "execution_count": null,
   "id": "1f7073e5",
   "metadata": {},
   "outputs": [],
   "source": []
  },
  {
   "cell_type": "code",
   "execution_count": null,
   "id": "85bf09e3",
   "metadata": {},
   "outputs": [],
   "source": []
  },
  {
   "cell_type": "code",
   "execution_count": null,
   "id": "2546c48f",
   "metadata": {},
   "outputs": [],
   "source": []
  }
 ],
 "metadata": {
  "kernelspec": {
   "display_name": "Python 3 (ipykernel)",
   "language": "python",
   "name": "python3"
  },
  "language_info": {
   "codemirror_mode": {
    "name": "ipython",
    "version": 3
   },
   "file_extension": ".py",
   "mimetype": "text/x-python",
   "name": "python",
   "nbconvert_exporter": "python",
   "pygments_lexer": "ipython3",
   "version": "3.10.0"
  }
 },
 "nbformat": 4,
 "nbformat_minor": 5
}
