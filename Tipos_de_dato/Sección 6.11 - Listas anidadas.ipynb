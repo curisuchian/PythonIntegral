{
 "cells": [
  {
   "cell_type": "markdown",
   "id": "9e6a8261",
   "metadata": {},
   "source": [
    "#### Listas anidadas"
   ]
  },
  {
   "cell_type": "code",
   "execution_count": null,
   "id": "56d0a34e",
   "metadata": {},
   "outputs": [],
   "source": [
    "# Un nivel. Lista vacia []\n",
    "lst1 = [1,2,3,4,5,6,7,8,9,10]\n",
    "lst1"
   ]
  },
  {
   "cell_type": "code",
   "execution_count": null,
   "id": "b24f77dd",
   "metadata": {},
   "outputs": [],
   "source": [
    "# Dos niveles\n",
    "lst2 = [1,2,[3,4],5,6,7,[8,9],10]\n",
    "lst2"
   ]
  },
  {
   "cell_type": "code",
   "execution_count": null,
   "id": "ed664bde",
   "metadata": {},
   "outputs": [],
   "source": [
    "# Tres niveles\n",
    "lst3 = [1,2,[3,4,[20,30]],5,6,7,[[40,50],8,9],10]\n",
    "lst3"
   ]
  },
  {
   "cell_type": "markdown",
   "id": "8263bd6d",
   "metadata": {},
   "source": [
    "##### Número de componentes de una lista anidada"
   ]
  },
  {
   "cell_type": "code",
   "execution_count": null,
   "id": "e769f3b1",
   "metadata": {},
   "outputs": [],
   "source": [
    "len(lst1)"
   ]
  },
  {
   "cell_type": "code",
   "execution_count": null,
   "id": "65eb859d",
   "metadata": {},
   "outputs": [],
   "source": [
    "len(lst3)"
   ]
  },
  {
   "cell_type": "markdown",
   "id": "681b9709",
   "metadata": {},
   "source": [
    "##### Representación de una matriz con listas"
   ]
  },
  {
   "cell_type": "code",
   "execution_count": null,
   "id": "f579e7a9",
   "metadata": {},
   "outputs": [],
   "source": [
    "matriz = [[1,2,3],[4,5,6],[7,8,9]]\n",
    "for i in matriz:\n",
    "    print(i)"
   ]
  },
  {
   "cell_type": "markdown",
   "id": "328624d0",
   "metadata": {},
   "source": [
    "##### Acceso a elementos"
   ]
  },
  {
   "cell_type": "code",
   "execution_count": null,
   "id": "d1822761",
   "metadata": {},
   "outputs": [],
   "source": [
    "# Extraer el 4 de lst2\n",
    "lst2 = [1,2,[3,4],5,6,7,[8,9],10]\n",
    "lst2[2][1]"
   ]
  },
  {
   "cell_type": "code",
   "execution_count": null,
   "id": "c3398a6b",
   "metadata": {},
   "outputs": [],
   "source": [
    "# Extraer el 20 de lst3\n",
    "lst3 = [1,2,[3,4,[20,30]],5,6,7,[[40,50],8,9],10]\n",
    "lst3[2][2][0]"
   ]
  },
  {
   "cell_type": "markdown",
   "id": "c4b9bd32",
   "metadata": {},
   "source": [
    "##### Indices negativos"
   ]
  },
  {
   "cell_type": "code",
   "execution_count": null,
   "id": "df47e28d",
   "metadata": {},
   "outputs": [],
   "source": [
    "lst2 = [1,2,[3,4],5,6,7,[8,9],10]\n",
    "print(lst2[-2])\n",
    "lst2[-2][-1]"
   ]
  },
  {
   "cell_type": "code",
   "execution_count": null,
   "id": "6c17dd88",
   "metadata": {},
   "outputs": [],
   "source": []
  },
  {
   "cell_type": "code",
   "execution_count": null,
   "id": "41c70ae0",
   "metadata": {},
   "outputs": [],
   "source": []
  },
  {
   "cell_type": "code",
   "execution_count": null,
   "id": "31732783",
   "metadata": {},
   "outputs": [],
   "source": []
  },
  {
   "cell_type": "code",
   "execution_count": null,
   "id": "e6492b52",
   "metadata": {},
   "outputs": [],
   "source": []
  }
 ],
 "metadata": {
  "kernelspec": {
   "display_name": "Python 3 (ipykernel)",
   "language": "python",
   "name": "python3"
  },
  "language_info": {
   "codemirror_mode": {
    "name": "ipython",
    "version": 3
   },
   "file_extension": ".py",
   "mimetype": "text/x-python",
   "name": "python",
   "nbconvert_exporter": "python",
   "pygments_lexer": "ipython3",
   "version": "3.10.0"
  }
 },
 "nbformat": 4,
 "nbformat_minor": 5
}
