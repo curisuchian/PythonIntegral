{
 "cells": [
  {
   "cell_type": "markdown",
   "id": "1705f484",
   "metadata": {},
   "source": [
    "<img src=\"figuras/logico.png\" width=500/>"
   ]
  },
  {
   "cell_type": "code",
   "execution_count": null,
   "id": "1fc24957",
   "metadata": {},
   "outputs": [],
   "source": [
    "# Correspondencia con tipos numéricos\n",
    "print(True == 1)\n",
    "print(False == 0)"
   ]
  },
  {
   "cell_type": "code",
   "execution_count": null,
   "id": "4cbac224",
   "metadata": {},
   "outputs": [],
   "source": []
  },
  {
   "cell_type": "code",
   "execution_count": null,
   "id": "8bdf0ced",
   "metadata": {},
   "outputs": [],
   "source": [
    "# Y también\n",
    "print(int(True))\n",
    "print(int(False))"
   ]
  },
  {
   "cell_type": "code",
   "execution_count": null,
   "id": "f3dc8f2b",
   "metadata": {},
   "outputs": [],
   "source": []
  },
  {
   "cell_type": "code",
   "execution_count": null,
   "id": "d17acea7",
   "metadata": {},
   "outputs": [],
   "source": [
    "a=[True, True, False, True, False]\n",
    "print(sum(a))"
   ]
  },
  {
   "cell_type": "code",
   "execution_count": null,
   "id": "81ab713a",
   "metadata": {},
   "outputs": [],
   "source": []
  },
  {
   "cell_type": "code",
   "execution_count": null,
   "id": "8ea6f545",
   "metadata": {},
   "outputs": [],
   "source": []
  },
  {
   "cell_type": "markdown",
   "id": "136ee215",
   "metadata": {},
   "source": [
    "##### El constructor bool"
   ]
  },
  {
   "cell_type": "code",
   "execution_count": null,
   "id": "6d2169b9",
   "metadata": {},
   "outputs": [],
   "source": [
    "type(False)"
   ]
  },
  {
   "cell_type": "code",
   "execution_count": null,
   "id": "5e2826df",
   "metadata": {},
   "outputs": [],
   "source": [
    "bool(1 > 5)"
   ]
  },
  {
   "cell_type": "code",
   "execution_count": null,
   "id": "6ef92a0f",
   "metadata": {},
   "outputs": [],
   "source": [
    "bool(4 + 1 == 5)"
   ]
  },
  {
   "cell_type": "code",
   "execution_count": null,
   "id": "67635af9",
   "metadata": {},
   "outputs": [],
   "source": [
    "# Casi todos los objetos tienen valor lógico True. \n",
    "print(bool('qnnf'))"
   ]
  },
  {
   "cell_type": "code",
   "execution_count": null,
   "id": "52cb44a9",
   "metadata": {},
   "outputs": [],
   "source": []
  },
  {
   "cell_type": "code",
   "execution_count": null,
   "id": "cea233ab",
   "metadata": {},
   "outputs": [],
   "source": [
    "# Las excepciones son:\n",
    "print(bool(0))\n",
    "print(bool(False))\n",
    "print(bool(''))"
   ]
  },
  {
   "cell_type": "code",
   "execution_count": null,
   "id": "9fdafad2",
   "metadata": {},
   "outputs": [],
   "source": [
    "while True:"
   ]
  },
  {
   "cell_type": "code",
   "execution_count": null,
   "id": "b836704a",
   "metadata": {},
   "outputs": [],
   "source": []
  },
  {
   "cell_type": "markdown",
   "id": "1daa4a9b",
   "metadata": {},
   "source": [
    "#### Operadores lógicos: and, or, not"
   ]
  },
  {
   "cell_type": "code",
   "execution_count": null,
   "id": "0296911f",
   "metadata": {},
   "outputs": [],
   "source": [
    "# Operador and\n",
    "print((1 > 2) and (2 < 3)  )"
   ]
  },
  {
   "cell_type": "code",
   "execution_count": null,
   "id": "a35b6cd1",
   "metadata": {},
   "outputs": [],
   "source": [
    "# o también\n",
    "print(1 < 2 < 3)"
   ]
  },
  {
   "cell_type": "code",
   "execution_count": null,
   "id": "e666bfbb",
   "metadata": {},
   "outputs": [],
   "source": [
    "# Comparaciones múltiples\n",
    "print((1 < 2) and (2 > 3) and (0 < 1))"
   ]
  },
  {
   "cell_type": "markdown",
   "id": "f918d48a",
   "metadata": {},
   "source": [
    "<img src=\"figuras/Operador_and.png\" width=400/>"
   ]
  },
  {
   "cell_type": "code",
   "execution_count": null,
   "id": "88694017",
   "metadata": {},
   "outputs": [],
   "source": []
  },
  {
   "cell_type": "code",
   "execution_count": null,
   "id": "232cec7c",
   "metadata": {},
   "outputs": [],
   "source": [
    "# Operador or\n",
    "print((1 > 2) or (2 < 3))"
   ]
  },
  {
   "cell_type": "code",
   "execution_count": null,
   "id": "1a67eefb",
   "metadata": {},
   "outputs": [],
   "source": [
    "print((1 < 2) or (2 > 3) or (4 == 5))"
   ]
  },
  {
   "cell_type": "markdown",
   "id": "85993179",
   "metadata": {},
   "source": [
    "<img src=\"figuras/Operador_or.png\" width=400/>"
   ]
  },
  {
   "cell_type": "code",
   "execution_count": null,
   "id": "8434f436",
   "metadata": {},
   "outputs": [],
   "source": []
  },
  {
   "cell_type": "code",
   "execution_count": null,
   "id": "aad52429",
   "metadata": {},
   "outputs": [],
   "source": [
    "# Operadores and, or combinados\n",
    "print(True and 5==5 or 3>7)"
   ]
  },
  {
   "cell_type": "code",
   "execution_count": null,
   "id": "83dc15ab",
   "metadata": {},
   "outputs": [],
   "source": [
    "print(False and 5==5 or 3>7)"
   ]
  },
  {
   "cell_type": "code",
   "execution_count": null,
   "id": "bd28da40",
   "metadata": {},
   "outputs": [],
   "source": []
  },
  {
   "cell_type": "code",
   "execution_count": null,
   "id": "ff5f53ef",
   "metadata": {},
   "outputs": [],
   "source": []
  },
  {
   "cell_type": "code",
   "execution_count": null,
   "id": "83037c99",
   "metadata": {
    "scrolled": true
   },
   "outputs": [],
   "source": [
    "# Operador not. Toma un único tipo lógico.\n",
    "print(not True)"
   ]
  },
  {
   "cell_type": "code",
   "execution_count": null,
   "id": "52bf2da8",
   "metadata": {},
   "outputs": [],
   "source": [
    "print(not False)"
   ]
  },
  {
   "cell_type": "code",
   "execution_count": null,
   "id": "37d2b9d3",
   "metadata": {},
   "outputs": [],
   "source": [
    "print(not 'Jorge')"
   ]
  },
  {
   "cell_type": "code",
   "execution_count": null,
   "id": "de34a741",
   "metadata": {},
   "outputs": [],
   "source": [
    "print(not 0)"
   ]
  },
  {
   "cell_type": "markdown",
   "id": "76a96911",
   "metadata": {},
   "source": [
    "<img src=\"figuras/Operador_not.png\" width=400/>"
   ]
  },
  {
   "cell_type": "code",
   "execution_count": null,
   "id": "1e3305f8",
   "metadata": {},
   "outputs": [],
   "source": []
  },
  {
   "cell_type": "markdown",
   "id": "afe543eb",
   "metadata": {},
   "source": [
    "#### Usos\n",
    "Relaciones condicionales, índices para seleccionar elementos en contenedores. "
   ]
  },
  {
   "cell_type": "code",
   "execution_count": null,
   "id": "3e94e758",
   "metadata": {},
   "outputs": [],
   "source": []
  },
  {
   "cell_type": "code",
   "execution_count": null,
   "id": "78f81088",
   "metadata": {},
   "outputs": [],
   "source": []
  }
 ],
 "metadata": {
  "kernelspec": {
   "display_name": "Python 3 (ipykernel)",
   "language": "python",
   "name": "python3"
  },
  "language_info": {
   "codemirror_mode": {
    "name": "ipython",
    "version": 3
   },
   "file_extension": ".py",
   "mimetype": "text/x-python",
   "name": "python",
   "nbconvert_exporter": "python",
   "pygments_lexer": "ipython3",
   "version": "3.10.0"
  }
 },
 "nbformat": 4,
 "nbformat_minor": 5
}
