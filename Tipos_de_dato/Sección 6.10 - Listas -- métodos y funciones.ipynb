{
 "cells": [
  {
   "cell_type": "markdown",
   "id": "65a5a2ae",
   "metadata": {},
   "source": [
    "#### Métodos"
   ]
  },
  {
   "cell_type": "code",
   "execution_count": null,
   "id": "5f694593",
   "metadata": {},
   "outputs": [],
   "source": [
    "lista = [2016, 2020, 2017, 2018, 2019, 2020] \n",
    "print(lista.index(2020)) \n",
    "print(lista.count(2020)) "
   ]
  },
  {
   "cell_type": "markdown",
   "id": "fa526ea0",
   "metadata": {},
   "source": [
    "##### Ordenar elementos\n",
    "sort() y sorted()"
   ]
  },
  {
   "cell_type": "code",
   "execution_count": null,
   "id": "b9b3d3ed",
   "metadata": {},
   "outputs": [],
   "source": [
    "lista1 = [2017, 2020, 2016, 2019] \n",
    "lista1.sort()                    \n",
    "print(lista1)"
   ]
  },
  {
   "cell_type": "code",
   "execution_count": null,
   "id": "eea88c52",
   "metadata": {},
   "outputs": [],
   "source": [
    "lista1.sort(reverse=True)        \n",
    "print(lista1)"
   ]
  },
  {
   "cell_type": "code",
   "execution_count": null,
   "id": "d3e1f7ed",
   "metadata": {},
   "outputs": [],
   "source": [
    "lista1 = [2017, 2020, 2016, 2019]\n",
    "lst = sorted(lista1)\n",
    "print(lst)"
   ]
  },
  {
   "cell_type": "markdown",
   "id": "0cecf810",
   "metadata": {},
   "source": [
    "##### Modificar valores"
   ]
  },
  {
   "cell_type": "code",
   "execution_count": null,
   "id": "289b3e72",
   "metadata": {},
   "outputs": [],
   "source": [
    "# Agregar al final\n",
    "lista = [2016, 2017, 2018, 2019, 2020] \n",
    "lista.append(2021)\n",
    "lista.append(2022)\n",
    "lista"
   ]
  },
  {
   "cell_type": "code",
   "execution_count": null,
   "id": "b565ae78",
   "metadata": {},
   "outputs": [],
   "source": [
    "# Agregar en posicion dada\n",
    "lista.insert(0,2015)\n",
    "lista"
   ]
  },
  {
   "cell_type": "code",
   "execution_count": null,
   "id": "ac4863b9",
   "metadata": {},
   "outputs": [],
   "source": [
    "# Elimina elemento indicado\n",
    "lista.remove(2022)\n",
    "lista"
   ]
  },
  {
   "cell_type": "code",
   "execution_count": null,
   "id": "87d20e97",
   "metadata": {},
   "outputs": [],
   "source": [
    "# pop elimina el ultimo elemento y lo devuelve\n",
    "print(lista.pop(2))\n",
    "print(lista)"
   ]
  },
  {
   "cell_type": "code",
   "execution_count": null,
   "id": "9b2a0426",
   "metadata": {},
   "outputs": [],
   "source": [
    "lista.clear()\n",
    "lista"
   ]
  },
  {
   "cell_type": "markdown",
   "id": "b0f8c39d",
   "metadata": {},
   "source": [
    "#### Funciones"
   ]
  },
  {
   "cell_type": "code",
   "execution_count": null,
   "id": "3cf5eb01",
   "metadata": {},
   "outputs": [],
   "source": [
    "lista1 = [2017, 2020, 2016, 2019] \n",
    "len(lista1)"
   ]
  },
  {
   "cell_type": "code",
   "execution_count": null,
   "id": "3881f0af",
   "metadata": {},
   "outputs": [],
   "source": [
    "print(max(lista1))\n",
    "print(min(lista1))"
   ]
  },
  {
   "cell_type": "code",
   "execution_count": null,
   "id": "4b195844",
   "metadata": {},
   "outputs": [],
   "source": []
  },
  {
   "cell_type": "code",
   "execution_count": null,
   "id": "45fae5cb",
   "metadata": {},
   "outputs": [],
   "source": []
  },
  {
   "cell_type": "code",
   "execution_count": null,
   "id": "31619b78",
   "metadata": {},
   "outputs": [],
   "source": []
  },
  {
   "cell_type": "code",
   "execution_count": null,
   "id": "96829400",
   "metadata": {},
   "outputs": [],
   "source": []
  },
  {
   "cell_type": "code",
   "execution_count": null,
   "id": "f90da3ee",
   "metadata": {},
   "outputs": [],
   "source": []
  }
 ],
 "metadata": {
  "kernelspec": {
   "display_name": "Python 3 (ipykernel)",
   "language": "python",
   "name": "python3"
  },
  "language_info": {
   "codemirror_mode": {
    "name": "ipython",
    "version": 3
   },
   "file_extension": ".py",
   "mimetype": "text/x-python",
   "name": "python",
   "nbconvert_exporter": "python",
   "pygments_lexer": "ipython3",
   "version": "3.10.0"
  }
 },
 "nbformat": 4,
 "nbformat_minor": 5
}
