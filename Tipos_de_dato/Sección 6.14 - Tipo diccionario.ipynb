{
 "cells": [
  {
   "cell_type": "markdown",
   "metadata": {},
   "source": [
    "Un diccionario es una colección ordenada (a partir de Python 3.7) y mutable de pares clave (‘key’) : valor (‘value) enmarcada por llaves <br>\n",
    "dicc = {'clave1' : 'valor', 'clave2' : 'valor', 'clave3' : 'valor'}\n",
    "<br>\n",
    "<img src=\"Figuras/diccionario.png\" width=500/>\n"
   ]
  },
  {
   "cell_type": "markdown",
   "metadata": {},
   "source": [
    "<img src=\"Figuras/dict.png\" width=300/>"
   ]
  },
  {
   "cell_type": "markdown",
   "metadata": {},
   "source": [
    "####  Crear un diccionario"
   ]
  },
  {
   "cell_type": "code",
   "execution_count": null,
   "metadata": {},
   "outputs": [],
   "source": [
    "# Empleando llaves {}\n",
    "Agenda = {'Almagro' : 345, 'Pereda' : 1900, 'Soprano' : 888} \n",
    "print(Agenda)\n",
    "print(type(Agenda))  "
   ]
  },
  {
   "cell_type": "code",
   "execution_count": null,
   "metadata": {},
   "outputs": [],
   "source": [
    "# Empleando el constructor dict()\n",
    "Agenda_dict = dict(Almagro = 345, Pereda = 1900, Soprano = 888)\n",
    "print(Agenda_dict)\n",
    "print(type(Agenda_dict))"
   ]
  },
  {
   "cell_type": "code",
   "execution_count": null,
   "metadata": {},
   "outputs": [],
   "source": [
    "# Diccionarios anidados\n",
    "Agenda_anid = {'Almagro' : 345, 'Pereda' : 1900, \n",
    "               'Soprano' : {'casa' : 888, 'trabajo' : 9999}} \n",
    "Agenda_anid"
   ]
  },
  {
   "cell_type": "code",
   "execution_count": null,
   "metadata": {},
   "outputs": [],
   "source": [
    "# Un diccionario puede contener listas\n",
    "UEFA = {'Sevilla' : [2006, 2007, 2014, 2015, 2016, 2020],\n",
    "'Atl Madrid' : [2010, 2012, 2018],\n",
    "'Chelsea' : [2013, 2019]}\n",
    "\n",
    "print(UEFA)\n",
    "print(UEFA['Chelsea'])\n",
    "print(UEFA['Chelsea'][-1])    # Campleonato mas reciente ganado por Chelsea"
   ]
  },
  {
   "cell_type": "markdown",
   "metadata": {},
   "source": [
    "##### Operadores"
   ]
  },
  {
   "cell_type": "code",
   "execution_count": null,
   "metadata": {},
   "outputs": [],
   "source": [
    "# Pertenencia, busca entre las claves\n",
    "\"Almagro\" in Agenda_anid"
   ]
  },
  {
   "cell_type": "markdown",
   "metadata": {},
   "source": [
    "#### Mutabilidad"
   ]
  },
  {
   "cell_type": "code",
   "execution_count": null,
   "metadata": {
    "scrolled": false
   },
   "outputs": [],
   "source": [
    "Agenda = {'Almagro' : 3457677, 'Pereda' : 978800, 'Soprano' : 3499888}\n",
    "# Modificar un valor con\n",
    "Agenda['Almagro'] = 4348787  \n",
    "Agenda"
   ]
  },
  {
   "cell_type": "code",
   "execution_count": null,
   "metadata": {
    "scrolled": true
   },
   "outputs": [],
   "source": [
    "# Agregar un nuevo par clave : valor con\n",
    "Agenda['Fulano'] = 4348787  \n",
    "Agenda"
   ]
  },
  {
   "cell_type": "markdown",
   "metadata": {},
   "source": [
    "Las claves deben ser inmutables. Una lista como clave es ilegal."
   ]
  },
  {
   "cell_type": "code",
   "execution_count": null,
   "metadata": {},
   "outputs": [],
   "source": [
    "Agenda = {[5,1] : 3457677, 'Pereda' : 978800, 'Soprano' : 3499888}\n",
    "Agenda"
   ]
  },
  {
   "cell_type": "markdown",
   "metadata": {},
   "source": [
    "##### Copia de resguardo"
   ]
  },
  {
   "cell_type": "code",
   "execution_count": null,
   "metadata": {},
   "outputs": [],
   "source": [
    "Agenda = {'Almagro' : 3457677, 'Pereda' : 978800, 'Soprano' : 3499888}\n",
    "Agenda_copia = Agenda\n",
    "print('Original ', Agenda)\n",
    "print('Copia ', Agenda_copia)"
   ]
  },
  {
   "cell_type": "code",
   "execution_count": null,
   "metadata": {
    "scrolled": true
   },
   "outputs": [],
   "source": [
    "Agenda_copia['Soprano'] = 4340000   # Modifico la copia y se traslada al original\n",
    "print('La copia ', Agenda_copia)\n",
    "print('El original ', Agenda)"
   ]
  },
  {
   "cell_type": "code",
   "execution_count": null,
   "metadata": {
    "scrolled": true
   },
   "outputs": [],
   "source": [
    "# Recargo el diccionario\n",
    "Agenda = {'Almagro' : 3457677, 'Pereda' : 978800, 'Soprano' : 3499888}\n",
    "Agenda_copia2 = Agenda.copy()   # Creo una copia\n",
    "Agenda_copia2['Soprano'] = 4340000\n",
    "print('La copia ', Agenda_copia2)  # Cambia\n",
    "print('El original ', Agenda)      # Se preserva"
   ]
  },
  {
   "cell_type": "markdown",
   "metadata": {},
   "source": [
    "#### Usos\n",
    "Actuar como contenedor heterogéneo, es decir, con información diversa. Por ejemplo, nombre de restaurante y menú, automóvil y precio. Son eficientes para recuperar valores cuando se conoce la clave."
   ]
  },
  {
   "cell_type": "code",
   "execution_count": null,
   "metadata": {},
   "outputs": [],
   "source": [
    "dict.__dict__"
   ]
  },
  {
   "cell_type": "code",
   "execution_count": null,
   "metadata": {},
   "outputs": [],
   "source": []
  },
  {
   "cell_type": "code",
   "execution_count": null,
   "metadata": {},
   "outputs": [],
   "source": []
  },
  {
   "cell_type": "code",
   "execution_count": null,
   "metadata": {},
   "outputs": [],
   "source": []
  },
  {
   "cell_type": "code",
   "execution_count": null,
   "metadata": {},
   "outputs": [],
   "source": []
  }
 ],
 "metadata": {
  "kernelspec": {
   "display_name": "Python 3 (ipykernel)",
   "language": "python",
   "name": "python3"
  },
  "language_info": {
   "codemirror_mode": {
    "name": "ipython",
    "version": 3
   },
   "file_extension": ".py",
   "mimetype": "text/x-python",
   "name": "python",
   "nbconvert_exporter": "python",
   "pygments_lexer": "ipython3",
   "version": "3.10.0"
  }
 },
 "nbformat": 4,
 "nbformat_minor": 4
}
