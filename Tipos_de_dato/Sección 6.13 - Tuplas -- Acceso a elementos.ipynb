{
 "cells": [
  {
   "cell_type": "markdown",
   "id": "9aff813c",
   "metadata": {},
   "source": [
    "##### Acceso a elementos"
   ]
  },
  {
   "cell_type": "code",
   "execution_count": null,
   "id": "d5eebab3",
   "metadata": {},
   "outputs": [],
   "source": [
    "tup=(3,4,\"uno\")\n",
    "print(tup[2])\n",
    "print(tup[-1])"
   ]
  },
  {
   "cell_type": "code",
   "execution_count": null,
   "id": "c9ef2a61",
   "metadata": {},
   "outputs": [],
   "source": [
    "# Tupla puede incluir listas\n",
    "tup=(3,4,\"uno\",[3,4])\n",
    "tup[3]"
   ]
  },
  {
   "cell_type": "code",
   "execution_count": null,
   "id": "035bb29f",
   "metadata": {},
   "outputs": [],
   "source": [
    "# Extraer el 3\n",
    "tup[3][0]"
   ]
  },
  {
   "cell_type": "code",
   "execution_count": null,
   "id": "794ec641",
   "metadata": {},
   "outputs": [],
   "source": [
    "# Acceder a la P de Python. \n",
    "f  = 'Este', 'es', 'un', 'curso', 'de', 'Python'\n",
    "len(f)  # ayuda\n",
    "f[5][0]   # Similar a indexación con listas anidadas"
   ]
  },
  {
   "cell_type": "code",
   "execution_count": null,
   "id": "b00e7b62",
   "metadata": {},
   "outputs": [],
   "source": [
    "# Tajadas\n",
    "tup=(3,4,\"uno\",[3,4])\n",
    "tup[:3]"
   ]
  },
  {
   "cell_type": "code",
   "execution_count": null,
   "id": "e28a474a",
   "metadata": {},
   "outputs": [],
   "source": [
    "# Invertir\n",
    "tup[::-1]"
   ]
  },
  {
   "attachments": {
    "image.png": {
     "image/png": "[encoded data removed]"
    }
   },
   "cell_type": "markdown",
   "id": "bd863035",
   "metadata": {},
   "source": [
    "#### Ejemplo de indexación - movimiento de una pieza\n",
    "En el tablero se mueve una ficha de la posición celeste=(2,3) a magenta=(3,1). La movida implica aumentar x en 1 y disminuir y en 2\n",
    "\n",
    "![image.png](attachment:image.png)"
   ]
  },
  {
   "cell_type": "code",
   "execution_count": null,
   "id": "c84b2c5f",
   "metadata": {},
   "outputs": [],
   "source": [
    "cel=(2,3)\n",
    "delta=(1,-2)\n",
    "mov=(cel[0] + delta[0], cel[1] + delta[1])\n",
    "mov           # Posición final como tupla"
   ]
  }
 ],
 "metadata": {
  "kernelspec": {
   "display_name": "Python 3 (ipykernel)",
   "language": "python",
   "name": "python3"
  },
  "language_info": {
   "codemirror_mode": {
    "name": "ipython",
    "version": 3
   },
   "file_extension": ".py",
   "mimetype": "text/x-python",
   "name": "python",
   "nbconvert_exporter": "python",
   "pygments_lexer": "ipython3",
   "version": "3.10.0"
  }
 },
 "nbformat": 4,
 "nbformat_minor": 5
}
