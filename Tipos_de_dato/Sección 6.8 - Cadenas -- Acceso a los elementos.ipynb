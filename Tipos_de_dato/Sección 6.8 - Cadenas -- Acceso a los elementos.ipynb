{
 "cells": [
  {
   "cell_type": "markdown",
   "id": "4e3217a4",
   "metadata": {},
   "source": [
    "#### Acceso a los elementos de una cadena\n",
    "\n",
    "<img src=\"Figuras/indexacion.png\" width=300/>"
   ]
  },
  {
   "cell_type": "code",
   "execution_count": null,
   "id": "4d137638",
   "metadata": {},
   "outputs": [],
   "source": [
    "cad = \"Python\"\n",
    "print(cad[0])\n",
    "print(cad[4])\n",
    "print(cad[-1])\n",
    "print(cad[-5])"
   ]
  },
  {
   "cell_type": "markdown",
   "id": "0c71e489",
   "metadata": {},
   "source": [
    "##### tajadas ('slicing') [inicio : final(+1) : salto]\n",
    "\n",
    "<img src=\"Figuras/tajada.png\" width=300/>"
   ]
  },
  {
   "cell_type": "code",
   "execution_count": null,
   "id": "2a46ce59",
   "metadata": {},
   "outputs": [],
   "source": [
    "# Comparación índices y tajadas\n",
    "cad = \"Python\"\n",
    "print(cad[0:1]) # La tajada debe abarcar al elemento"
   ]
  },
  {
   "cell_type": "code",
   "execution_count": null,
   "id": "2b9fbb25",
   "metadata": {},
   "outputs": [],
   "source": [
    "#print(cad[-1:]) # Ultimo elemento con tajada\n",
    "print(cad[-6:-5]) # Primer elemento con tajada"
   ]
  },
  {
   "cell_type": "code",
   "execution_count": null,
   "id": "1e81b0d6",
   "metadata": {},
   "outputs": [],
   "source": [
    "txt = 'abcdefghijklmno'\n",
    "print(txt[0:3])          # Extraer 'abc'\n",
    "print(txt[:3])           # Extraer 'abc'"
   ]
  },
  {
   "cell_type": "code",
   "execution_count": null,
   "id": "2f3c5942",
   "metadata": {},
   "outputs": [],
   "source": [
    "len(txt)"
   ]
  },
  {
   "cell_type": "code",
   "execution_count": null,
   "id": "c5657942",
   "metadata": {},
   "outputs": [],
   "source": [
    "print(txt[0:len(txt)])   # Extraer todo\n",
    "print(txt[:])           # Igual"
   ]
  },
  {
   "cell_type": "code",
   "execution_count": null,
   "id": "83813271",
   "metadata": {},
   "outputs": [],
   "source": [
    "# Extraer letras y concatenar la palabra 'fijo'\n",
    "txt = 'abcdefghijklmno'\n",
    "print(txt[5] + txt[8] + txt[9] + txt[14])"
   ]
  },
  {
   "cell_type": "code",
   "execution_count": null,
   "id": "f3350b40",
   "metadata": {},
   "outputs": [],
   "source": [
    "# Usando indices negativos\n",
    "print(txt[-6:-5])\n",
    "print(txt[-2:])      # Los dos últimos elementos"
   ]
  },
  {
   "cell_type": "code",
   "execution_count": null,
   "id": "256b5ad7",
   "metadata": {},
   "outputs": [],
   "source": [
    "# Usando saltos\n",
    "print(txt[0:12:2])"
   ]
  },
  {
   "cell_type": "code",
   "execution_count": null,
   "id": "740dd333",
   "metadata": {},
   "outputs": [],
   "source": [
    "# Invertir una cadena. \n",
    "cad = \"Python\"\n",
    "print(cad[::-1])\n",
    "print(cad[len(cad)::-1])"
   ]
  },
  {
   "cell_type": "code",
   "execution_count": null,
   "id": "1dea9b3f",
   "metadata": {},
   "outputs": [],
   "source": []
  },
  {
   "cell_type": "code",
   "execution_count": null,
   "id": "0f83c8e5",
   "metadata": {},
   "outputs": [],
   "source": []
  },
  {
   "cell_type": "code",
   "execution_count": null,
   "id": "48b24c53",
   "metadata": {},
   "outputs": [],
   "source": []
  },
  {
   "cell_type": "code",
   "execution_count": null,
   "id": "6f7b8703",
   "metadata": {},
   "outputs": [],
   "source": []
  },
  {
   "cell_type": "code",
   "execution_count": null,
   "id": "79de1b4c",
   "metadata": {},
   "outputs": [],
   "source": []
  }
 ],
 "metadata": {
  "kernelspec": {
   "display_name": "Python 3 (ipykernel)",
   "language": "python",
   "name": "python3"
  },
  "language_info": {
   "codemirror_mode": {
    "name": "ipython",
    "version": 3
   },
   "file_extension": ".py",
   "mimetype": "text/x-python",
   "name": "python",
   "nbconvert_exporter": "python",
   "pygments_lexer": "ipython3",
   "version": "3.10.0"
  }
 },
 "nbformat": 4,
 "nbformat_minor": 5
}
