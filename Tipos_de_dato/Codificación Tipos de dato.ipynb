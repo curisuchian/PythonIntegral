{
 "cells": [
  {
   "cell_type": "markdown",
   "id": "7a09deab",
   "metadata": {},
   "source": [
    "### Ejercicios de codificación"
   ]
  },
  {
   "cell_type": "markdown",
   "id": "67fb895b",
   "metadata": {},
   "source": [
    "Este cuaderno se encuentra en:\n",
    "\n",
    "https://github.com/gbonorino/PythonIntegral/tree/main/Tipos_de_dato"
   ]
  },
  {
   "cell_type": "markdown",
   "id": "6a33fb53",
   "metadata": {},
   "source": [
    "#### Ejercicio 1\n",
    "Dada la cadena  a = ‘Este es un curso de Python’\n",
    "- a) Obtener el índice de posición de la P de Python\n",
    "- b) Extraer la palabra curso completa"
   ]
  },
  {
   "cell_type": "markdown",
   "id": "b2e2ccbb",
   "metadata": {},
   "source": [
    "#### Ejercicio 2\n",
    "Dada la cadena cad = “Este es un curso de Python”\n",
    "- Emplear el método split() para descomponerla en partes, y luego join() para recomponerla."
   ]
  },
  {
   "cell_type": "markdown",
   "id": "52af72c4",
   "metadata": {},
   "source": [
    "#### Ejercicio 3 \n",
    "Dadas las listas f = [‘Ene’, ‘Feb’, ‘Mar’] y lluvia = [20, 40, 50] \n",
    "- Obtener el dato de lluvia para febrero. \n",
    "- Primero usar index() y emplear el resultado como índice en lluvia."
   ]
  },
  {
   "cell_type": "markdown",
   "id": "69f69126",
   "metadata": {},
   "source": [
    "#### Ejercicio 4\n",
    "Dada la tupla <br>\n",
    "tup = (\"Abril\", [10, 20, 30], (5, 15, 25)) <br>\n",
    "Extraer el elemento 20.\n"
   ]
  },
  {
   "cell_type": "markdown",
   "id": "edba6e1b",
   "metadata": {},
   "source": [
    "#### Ejercicio 5\n",
    "Dado el diccionario con datos sobre Platón <br>\n",
    "dicc_filosofia = {\"nombre\": \"Platon\", \"pais\": \"Grecia\", \"nacido\": -427, \"maestro\": \"Socrates\", \"discipulo\": \"Aristoteles\"} <br>\n",
    "Recuperar el año de nacimiento\n"
   ]
  },
  {
   "cell_type": "markdown",
   "id": "e1b76f48",
   "metadata": {},
   "source": [
    "#### Ejercicio 6\n",
    "Dados los conjuntos <br>\n",
    "conj1 = {10, 20, 30, 40, 50} <br>\n",
    "conj2 = {30, 40, 50, 60, 70}\n",
    "- a) Extraer los valores iguales en ambos\n",
    " - Ayuda – interseccion\n",
    "- b) Extraer los valores que no se repiten en ambos\n",
    " - Ayuda – diferencia simetrica\n"
   ]
  },
  {
   "cell_type": "markdown",
   "id": "907a8281",
   "metadata": {},
   "source": [
    "#### Ejercicio 7\n",
    "Uso de tuplas en una simulación de choque de dos autos.<br>\n",
    "- Crear las tuplas auto1 y auto2 con coordenadas X Y y largo del auto.<br>\n",
    "- Referirse a los parámetros mediante índices de posición.<br>\n",
    "- Calcular la distancia entre los dos autos (googlear fórmula).<br>\n",
    "- Comparar la distancia con la suma de sus largos.<br>\n",
    "- De acuerdo al resultado decidir si hubo o no choque."
   ]
  },
  {
   "cell_type": "markdown",
   "id": "36539dfe",
   "metadata": {},
   "source": [
    "### Soluciones"
   ]
  },
  {
   "cell_type": "code",
   "execution_count": 1,
   "id": "3225e41c",
   "metadata": {},
   "outputs": [
    {
     "data": {
      "text/plain": [
       "20"
      ]
     },
     "execution_count": 1,
     "metadata": {},
     "output_type": "execute_result"
    }
   ],
   "source": [
    "# Ejercicio 1 parte a\n",
    "a = 'Este es un curso de Python'\n",
    "pos = a.find('P')\n",
    "pos"
   ]
  },
  {
   "cell_type": "code",
   "execution_count": null,
   "id": "1bca024e",
   "metadata": {},
   "outputs": [],
   "source": []
  },
  {
   "cell_type": "code",
   "execution_count": 2,
   "id": "b27aab75",
   "metadata": {},
   "outputs": [
    {
     "data": {
      "text/plain": [
       "'curso'"
      ]
     },
     "execution_count": 2,
     "metadata": {},
     "output_type": "execute_result"
    }
   ],
   "source": [
    "# Ejercicio 1 parte b\n",
    "a = 'Este es un curso de Python'\n",
    "a[11:16]"
   ]
  },
  {
   "cell_type": "code",
   "execution_count": null,
   "id": "9ccd8a2a",
   "metadata": {},
   "outputs": [],
   "source": []
  },
  {
   "cell_type": "code",
   "execution_count": 3,
   "id": "822c406e",
   "metadata": {},
   "outputs": [
    {
     "name": "stdout",
     "output_type": "stream",
     "text": [
      "['Este', 'es', 'un', 'curso', 'de', 'Python']\n",
      "Este es un curso de Python\n"
     ]
    }
   ],
   "source": [
    "# Ejercicio 2\n",
    "cad = 'Este es un curso de Python'\n",
    "print(cad.split())\n",
    "print(' '.join(cad.split()))"
   ]
  },
  {
   "cell_type": "code",
   "execution_count": null,
   "id": "c55d696c",
   "metadata": {},
   "outputs": [],
   "source": []
  },
  {
   "cell_type": "code",
   "execution_count": 4,
   "id": "144519b2",
   "metadata": {},
   "outputs": [
    {
     "data": {
      "text/plain": [
       "40"
      ]
     },
     "execution_count": 4,
     "metadata": {},
     "output_type": "execute_result"
    }
   ],
   "source": [
    "# Ejercicio 3\n",
    "f = ['Ene', 'Feb', 'Mar']\n",
    "lluvia = [20, 40, 50]\n",
    "f.index('Feb')\n",
    "lluvia[f.index('Feb')]"
   ]
  },
  {
   "cell_type": "code",
   "execution_count": null,
   "id": "a6da910b",
   "metadata": {},
   "outputs": [],
   "source": []
  },
  {
   "cell_type": "code",
   "execution_count": 5,
   "id": "3621f219",
   "metadata": {},
   "outputs": [
    {
     "data": {
      "text/plain": [
       "20"
      ]
     },
     "execution_count": 5,
     "metadata": {},
     "output_type": "execute_result"
    }
   ],
   "source": [
    "# Ejercicio 4\n",
    "tup = (\"Abril\", [10, 20, 30], (5, 15, 25))\n",
    "tup[1][1]"
   ]
  },
  {
   "cell_type": "code",
   "execution_count": null,
   "id": "0454bdbf",
   "metadata": {},
   "outputs": [],
   "source": []
  },
  {
   "cell_type": "code",
   "execution_count": 6,
   "id": "85cf5a4a",
   "metadata": {},
   "outputs": [
    {
     "data": {
      "text/plain": [
       "-427"
      ]
     },
     "execution_count": 6,
     "metadata": {},
     "output_type": "execute_result"
    }
   ],
   "source": [
    "# Ejercicio 5\n",
    "dicc_filosofia = {\"nombre\": \"Platon\", \"pais\": \"Grecia\", \"nacido\": -427, \"maestro\": \"Socrates\", \"discipulo\": \"Aristoteles\"}\n",
    "dicc_filosofia['nacido']"
   ]
  },
  {
   "cell_type": "code",
   "execution_count": null,
   "id": "f933fcb5",
   "metadata": {},
   "outputs": [],
   "source": []
  },
  {
   "cell_type": "code",
   "execution_count": 7,
   "id": "f487356c",
   "metadata": {},
   "outputs": [
    {
     "name": "stdout",
     "output_type": "stream",
     "text": [
      "{40, 50, 30}\n",
      "{20, 70, 10, 60}\n"
     ]
    }
   ],
   "source": [
    "# Ejercicio 6\n",
    "conj1 = {10, 20, 30, 40, 50}\n",
    "conj2 = {30, 40, 50, 60, 70}\n",
    "print(conj1 & conj2)\n",
    "print(conj1 ^ conj2)"
   ]
  },
  {
   "cell_type": "code",
   "execution_count": null,
   "id": "10672c53",
   "metadata": {},
   "outputs": [],
   "source": []
  },
  {
   "cell_type": "code",
   "execution_count": 10,
   "id": "75734a6c",
   "metadata": {},
   "outputs": [
    {
     "name": "stdout",
     "output_type": "stream",
     "text": [
      "Uuy! Chocamos!\n"
     ]
    }
   ],
   "source": [
    "# Ejercicio 7\n",
    "from math import sqrt\n",
    "\n",
    "auto1 = (5, 5, 2)  # Coordenadas X Y, y largo minimo  de auto1\n",
    "auto2 = (2, 8, 3)  # Coordenadas X Y, y largo minimo  de auto2\n",
    "distancia = sqrt((auto2[0]-auto1[0])**2 + (auto2[1]-auto1[1])**2)\n",
    "dist_choque = auto1[2] + auto2[2]  \n",
    "# Si la distancia entre autos es menor que sus dimensiones, chocaron\n",
    "if distancia < dist_choque:\n",
    "    print(\"Uuy! Chocamos!\")\n",
    "else:\n",
    "    print(\"Salvados!\")\n",
    "\n",
    "# Probar con: a = (5, 5, 2) y b = (2, 8, 3)"
   ]
  },
  {
   "cell_type": "code",
   "execution_count": null,
   "id": "0749ee29",
   "metadata": {},
   "outputs": [],
   "source": []
  },
  {
   "cell_type": "code",
   "execution_count": null,
   "id": "02dc6bf7",
   "metadata": {},
   "outputs": [],
   "source": []
  }
 ],
 "metadata": {
  "kernelspec": {
   "display_name": "Python 3 (ipykernel)",
   "language": "python",
   "name": "python3"
  },
  "language_info": {
   "codemirror_mode": {
    "name": "ipython",
    "version": 3
   },
   "file_extension": ".py",
   "mimetype": "text/x-python",
   "name": "python",
   "nbconvert_exporter": "python",
   "pygments_lexer": "ipython3",
   "version": "3.10.0"
  }
 },
 "nbformat": 4,
 "nbformat_minor": 5
}
