{
 "cells": [
  {
   "cell_type": "markdown",
   "id": "05a135b9",
   "metadata": {},
   "source": [
    "##### El método join()\n",
    "Sintaxis:<br>\n",
    "separador.join(iterable)"
   ]
  },
  {
   "cell_type": "code",
   "execution_count": null,
   "id": "d54465a7",
   "metadata": {},
   "outputs": [],
   "source": [
    "# . \n",
    "cadena = 'abcdefghijklmno'\n",
    "separador = '/'\n",
    "print(separador.join(cadena))"
   ]
  },
  {
   "cell_type": "code",
   "execution_count": null,
   "id": "09bdaa0d",
   "metadata": {},
   "outputs": [],
   "source": [
    "conjunto = 'Este es un curso de Python'\n",
    "sep = ' '\n",
    "print(sep.join(conjunto))"
   ]
  },
  {
   "cell_type": "code",
   "execution_count": null,
   "id": "eccc5ac2",
   "metadata": {},
   "outputs": [],
   "source": [
    "escala = \"alto\",\"mediano\",\"bajo\"\n",
    "'>>>'.join(escala)"
   ]
  },
  {
   "cell_type": "markdown",
   "id": "8752878a",
   "metadata": {},
   "source": [
    "Una aplicación de join es en ordenar alfabéticamente una cadena. Debe combinarse con sorted()"
   ]
  },
  {
   "cell_type": "code",
   "execution_count": null,
   "id": "7d24b6b0",
   "metadata": {},
   "outputs": [],
   "source": [
    "cad=\"faecdb\"\n",
    "# Aplicamos sorted()\n",
    "s=sorted(cad)\n",
    "print(s)\n",
    "\"\".join(s)"
   ]
  },
  {
   "cell_type": "code",
   "execution_count": null,
   "id": "377d93cd",
   "metadata": {},
   "outputs": [],
   "source": [
    "# Ordenamiento alfabético\n",
    "import os\n",
    "\n",
    "lista_archivos = os.listdir(\"C:/Udemy_nuevo\")\n",
    "lista_archivos.sort\n",
    "print(\"\\n\".join(lista_archivos))\n",
    "#print(lista_archivos)"
   ]
  },
  {
   "cell_type": "code",
   "execution_count": null,
   "id": "2ff32e36",
   "metadata": {},
   "outputs": [],
   "source": []
  },
  {
   "cell_type": "code",
   "execution_count": null,
   "id": "e8c9eb45",
   "metadata": {},
   "outputs": [],
   "source": []
  },
  {
   "cell_type": "code",
   "execution_count": null,
   "id": "02b4f7cf",
   "metadata": {},
   "outputs": [],
   "source": []
  },
  {
   "cell_type": "code",
   "execution_count": null,
   "id": "4692f1a8",
   "metadata": {},
   "outputs": [],
   "source": []
  },
  {
   "cell_type": "code",
   "execution_count": null,
   "id": "8e3366ca",
   "metadata": {},
   "outputs": [],
   "source": []
  }
 ],
 "metadata": {
  "kernelspec": {
   "display_name": "Python 3 (ipykernel)",
   "language": "python",
   "name": "python3"
  },
  "language_info": {
   "codemirror_mode": {
    "name": "ipython",
    "version": 3
   },
   "file_extension": ".py",
   "mimetype": "text/x-python",
   "name": "python",
   "nbconvert_exporter": "python",
   "pygments_lexer": "ipython3",
   "version": "3.10.0"
  }
 },
 "nbformat": 4,
 "nbformat_minor": 5
}
