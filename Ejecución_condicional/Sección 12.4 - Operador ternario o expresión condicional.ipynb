{
 "cells": [
  {
   "cell_type": "markdown",
   "id": "ab1c9628",
   "metadata": {},
   "source": [
    "Expresa una condición lógica en una sola línea \n",
    "\n",
    "La sintaxis es:<br>\n",
    "var = valor T if condicion else valor F"
   ]
  },
  {
   "cell_type": "code",
   "execution_count": null,
   "id": "66f65104",
   "metadata": {
    "scrolled": true
   },
   "outputs": [],
   "source": [
    "# Considera este código\n",
    "num = 6\n",
    "if num % 2 == 0:\n",
    "    res = 'Numero par'\n",
    "else:\n",
    "    res = 'Numero impar'\n",
    "print(res)"
   ]
  },
  {
   "cell_type": "code",
   "execution_count": null,
   "id": "fbeff51c",
   "metadata": {},
   "outputs": [],
   "source": []
  },
  {
   "cell_type": "code",
   "execution_count": null,
   "id": "c756a3dd",
   "metadata": {
    "scrolled": true
   },
   "outputs": [],
   "source": [
    "# Y este usando expresión condicional\n",
    "num = 3                                # Cambiar a impar\n",
    "res = 'Numero par' if num % 2 == 0 else 'Numero impar'\n",
    "print(res)"
   ]
  },
  {
   "cell_type": "code",
   "execution_count": null,
   "id": "5ee6eeb8",
   "metadata": {},
   "outputs": [],
   "source": []
  },
  {
   "cell_type": "code",
   "execution_count": null,
   "id": "8ed00678",
   "metadata": {},
   "outputs": [],
   "source": []
  },
  {
   "cell_type": "code",
   "execution_count": null,
   "id": "f36c3ed8",
   "metadata": {},
   "outputs": [],
   "source": []
  },
  {
   "cell_type": "code",
   "execution_count": null,
   "id": "f0f083bb",
   "metadata": {
    "scrolled": true
   },
   "outputs": [],
   "source": [
    "# Inserto en un bucle for\n",
    "for num in range(20):\n",
    "    res = 'Numero par' if num % 2 == 0 else 'Numero impar'\n",
    "    print(res)"
   ]
  },
  {
   "cell_type": "code",
   "execution_count": null,
   "id": "0925b0e1",
   "metadata": {},
   "outputs": [],
   "source": []
  },
  {
   "cell_type": "code",
   "execution_count": null,
   "id": "6851d901",
   "metadata": {
    "scrolled": true
   },
   "outputs": [],
   "source": [
    "# Sintaxis alternativa\n",
    "num = 8\n",
    "('Numero impar', 'Numero par')[num % 2 == 0]"
   ]
  },
  {
   "cell_type": "code",
   "execution_count": null,
   "id": "91e48604",
   "metadata": {
    "scrolled": true
   },
   "outputs": [],
   "source": [
    "# Usar bool para asegurar un valor lógico\n",
    "num = 9\n",
    "('Numero impar', 'Numero par')[bool(num % 2 == 0)]"
   ]
  },
  {
   "cell_type": "code",
   "execution_count": null,
   "id": "0a95f3aa",
   "metadata": {
    "scrolled": true
   },
   "outputs": [],
   "source": [
    "# Usar un diccionario en vez de una tupla\n",
    "num = 8\n",
    "{False:'Numero impar', True:'Numero par'}[bool(num % 2 == 0)]"
   ]
  },
  {
   "cell_type": "code",
   "execution_count": null,
   "id": "f2881836",
   "metadata": {},
   "outputs": [],
   "source": []
  },
  {
   "cell_type": "code",
   "execution_count": null,
   "id": "4ce1b74a",
   "metadata": {},
   "outputs": [],
   "source": []
  },
  {
   "cell_type": "markdown",
   "id": "b5e11c6b",
   "metadata": {},
   "source": [
    "#### Usos\n",
    "Asignar valor a una variable. En general es preferible usar las sentencias if elif else."
   ]
  },
  {
   "cell_type": "code",
   "execution_count": null,
   "id": "e2518979",
   "metadata": {},
   "outputs": [],
   "source": []
  },
  {
   "cell_type": "code",
   "execution_count": null,
   "id": "4c6737f9",
   "metadata": {},
   "outputs": [],
   "source": []
  },
  {
   "cell_type": "code",
   "execution_count": null,
   "id": "2b677ed8",
   "metadata": {},
   "outputs": [],
   "source": []
  }
 ],
 "metadata": {
  "kernelspec": {
   "display_name": "Python 3 (ipykernel)",
   "language": "python",
   "name": "python3"
  },
  "language_info": {
   "codemirror_mode": {
    "name": "ipython",
    "version": 3
   },
   "file_extension": ".py",
   "mimetype": "text/x-python",
   "name": "python",
   "nbconvert_exporter": "python",
   "pygments_lexer": "ipython3",
   "version": "3.10.0"
  }
 },
 "nbformat": 4,
 "nbformat_minor": 5
}
