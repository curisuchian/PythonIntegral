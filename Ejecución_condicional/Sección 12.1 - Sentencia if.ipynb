{
 "cells": [
  {
   "cell_type": "markdown",
   "id": "following-regulation",
   "metadata": {},
   "source": [
    "<img src=\"if.png\" width=200/>"
   ]
  },
  {
   "cell_type": "code",
   "execution_count": null,
   "id": "c3dd0d77",
   "metadata": {},
   "outputs": [],
   "source": [
    "# if no ofrece alternativa\n",
    "a = 2\n",
    "if a > 3:\n",
    "    print('La variable a es mayor que 3')"
   ]
  },
  {
   "cell_type": "code",
   "execution_count": null,
   "id": "valid-girlfriend",
   "metadata": {},
   "outputs": [],
   "source": [
    "# Combinado con operador de comparación\n",
    "# Mientras x != 0, False, '', la condición siempre da True\n",
    "x = ''      \n",
    "if x != 0: \n",
    "    print(\"Condicion verdadera\")"
   ]
  },
  {
   "cell_type": "code",
   "execution_count": null,
   "id": "6f569850",
   "metadata": {},
   "outputs": [],
   "source": []
  },
  {
   "cell_type": "code",
   "execution_count": null,
   "id": "dd76ad3c",
   "metadata": {},
   "outputs": [],
   "source": []
  },
  {
   "cell_type": "code",
   "execution_count": null,
   "id": "48e4c7ec",
   "metadata": {},
   "outputs": [],
   "source": [
    "# Combinado con un operador lógico\n",
    "opcion = False\n",
    "if not opcion:\n",
    "    print('No avanzar')"
   ]
  },
  {
   "cell_type": "code",
   "execution_count": null,
   "id": "216975b6",
   "metadata": {},
   "outputs": [],
   "source": []
  },
  {
   "cell_type": "code",
   "execution_count": null,
   "id": "2a79f1ca",
   "metadata": {},
   "outputs": [],
   "source": []
  },
  {
   "cell_type": "code",
   "execution_count": null,
   "id": "107ac634",
   "metadata": {},
   "outputs": [],
   "source": [
    "# Combinado con operador de pertenencia\n",
    "if 'y' in 'Python':\n",
    "    print('La \"y\" está')"
   ]
  },
  {
   "cell_type": "code",
   "execution_count": null,
   "id": "65f9a220",
   "metadata": {},
   "outputs": [],
   "source": []
  },
  {
   "cell_type": "code",
   "execution_count": null,
   "id": "72676400",
   "metadata": {},
   "outputs": [],
   "source": []
  },
  {
   "cell_type": "code",
   "execution_count": null,
   "id": "10a31903",
   "metadata": {},
   "outputs": [],
   "source": [
    "# Combinado con varios operadores lógicos\n",
    "x=5\n",
    "y=8\n",
    "z=10\n",
    "\n",
    "if x < 8 and y > z and x < z:\n",
    "    print('Continuar')"
   ]
  },
  {
   "cell_type": "code",
   "execution_count": null,
   "id": "ab1e4d08",
   "metadata": {},
   "outputs": [],
   "source": []
  },
  {
   "cell_type": "code",
   "execution_count": null,
   "id": "c769bfa0",
   "metadata": {},
   "outputs": [],
   "source": []
  },
  {
   "cell_type": "code",
   "execution_count": null,
   "id": "infrared-belfast",
   "metadata": {},
   "outputs": [],
   "source": [
    "# Inserto en un bucle for\n",
    "lista = [3, 4, -5, -6, 7]\n",
    "\n",
    "for num in lista:\n",
    "    if num > 0:\n",
    "        print(num)"
   ]
  },
  {
   "cell_type": "code",
   "execution_count": null,
   "id": "ed4dc647",
   "metadata": {},
   "outputs": [],
   "source": []
  },
  {
   "cell_type": "code",
   "execution_count": null,
   "id": "223791bf",
   "metadata": {},
   "outputs": [],
   "source": []
  },
  {
   "cell_type": "code",
   "execution_count": null,
   "id": "66e9b267",
   "metadata": {},
   "outputs": [],
   "source": []
  }
 ],
 "metadata": {
  "kernelspec": {
   "display_name": "Python 3 (ipykernel)",
   "language": "python",
   "name": "python3"
  },
  "language_info": {
   "codemirror_mode": {
    "name": "ipython",
    "version": 3
   },
   "file_extension": ".py",
   "mimetype": "text/x-python",
   "name": "python",
   "nbconvert_exporter": "python",
   "pygments_lexer": "ipython3",
   "version": "3.10.0"
  }
 },
 "nbformat": 4,
 "nbformat_minor": 5
}
