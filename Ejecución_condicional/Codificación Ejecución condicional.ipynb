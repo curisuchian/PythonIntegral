{
 "cells": [
  {
   "cell_type": "markdown",
   "id": "b4a7e781",
   "metadata": {},
   "source": [
    "### Ejercicios de codificación"
   ]
  },
  {
   "cell_type": "markdown",
   "id": "6b095a16",
   "metadata": {},
   "source": [
    "Este cuaderno se encuentra en:\n",
    "\n",
    "https://github.com/gbonorino/PythonIntegral/tree/main/Ejecución_condicional"
   ]
  },
  {
   "cell_type": "markdown",
   "id": "0266451c",
   "metadata": {},
   "source": [
    "#### Ejercicio 1\n",
    "Dados <br>\n",
    "num1 = 10<br>\n",
    "num2 = 14<br>\n",
    "num3 = 12\n",
    "\n",
    "Hallar el número mayor empleando if ... elif ... else, e imprimir en pantalla (\"El numero mayor es \", mayor)"
   ]
  },
  {
   "cell_type": "markdown",
   "id": "9e46dd1f",
   "metadata": {},
   "source": [
    "#### Ejercicio 2\n",
    "Eliminar los elementos duplicados en la lista1  <br>\n",
    "lst = [1,2,3,3, 4, 5, 4, 1]\n",
    "\n",
    "Seudocódigo: <br>\n",
    "- Declarar una función de nombre eliminar_duplicados()  <br>\n",
    "- Crear una lista2 vacía donde guardar los valores no duplicados  <br>\n",
    "- Iterar la lista original verificando si el elemento se encuentra en lista2, si no está colocarlo en ella.  <br>\n",
    "- Devolver la lista2."
   ]
  },
  {
   "cell_type": "markdown",
   "id": "4a6447ef",
   "metadata": {},
   "source": [
    "#### Ejercicio 3\n",
    "El usuario ingresa sucesivamente números enteros.\n",
    "Se trata de separar en sendas listas los números pares y los impares. <br>\n",
    "\n",
    "Seudocódigo: <br>\n",
    "- Crear sendas listas donde guardar números pares e impares. <br>\n",
    "- Habilitar ingreso de números enteros por usuario dentro de un bucle while. El bucle while puede ser infinito o limitado a un cierto número de ingresos. <br>\n",
    "- Verificar si el número ingresado es par o impar y guardarlo en la lista correspondiente.\n",
    "- Imprimir en pantalla ambas listas."
   ]
  },
  {
   "cell_type": "markdown",
   "id": "f13d6996",
   "metadata": {},
   "source": [
    "#### Ejercicio 4\n",
    "Se trata de convertir un número romano en número arábigo. \n",
    "- Crear una función romano_num() que recibe un número romano, num_rom, y lo convierte en arábigo, num_arab.\n",
    "\n",
    "- Ayuda:\n",
    "- Crear un diccionario rom_val con las equivalencias <br>\n",
    " rom_val = {'I': 1, 'V': 5, 'X': 10, 'L': 50, 'C': 100, 'D': 500, 'M': 1000}\n",
    " \n",
    "- Crear bucle for con una cláusula if ... else, que determine la equivalencia de cada carácter en num_rom con los valores en el diccionario.\n",
    "- Se provee el bloque if:\n",
    "\n",
    "if i > 0 and rom_val[num_rom[i]] > rom_val[num_rom[i-1]]:<br>\n",
    "(indentar)num_convertido += rom_val[num_rom[i]] - 2 * rom_val[num_rom[i-1]]\n",
    "        \n",
    "- Se proveen las dos sentencias finales.<br>\n",
    "num_romano = 'MMXLII'<br>\n",
    "print(romano_num(num_romano))"
   ]
  },
  {
   "cell_type": "markdown",
   "id": "238727bd",
   "metadata": {},
   "source": [
    "### Soluciones"
   ]
  },
  {
   "cell_type": "code",
   "execution_count": 3,
   "id": "d3543f75",
   "metadata": {},
   "outputs": [
    {
     "name": "stdout",
     "output_type": "stream",
     "text": [
      "El número mayor es 14\n"
     ]
    }
   ],
   "source": [
    "# Ejercicio 1\n",
    "num1 = 10\n",
    "num2 = 14\n",
    "num3 = 12\n",
    "if (num1 >= num2) and (num1 >= num3):\n",
    "   mayor = num1\n",
    "elif (num2 >= num1) and (num2 >= num3):\n",
    "   mayor = num2\n",
    "else:\n",
    "   mayor = num3\n",
    "\n",
    "print(\"El número mayor es\", mayor)"
   ]
  },
  {
   "cell_type": "code",
   "execution_count": null,
   "id": "16b8251f",
   "metadata": {},
   "outputs": [],
   "source": []
  },
  {
   "cell_type": "code",
   "execution_count": 4,
   "id": "cb31d17c",
   "metadata": {},
   "outputs": [
    {
     "data": {
      "text/plain": [
       "[1, 2, 3, 4, 5]"
      ]
     },
     "execution_count": 4,
     "metadata": {},
     "output_type": "execute_result"
    }
   ],
   "source": [
    "# Ejercicio 2\n",
    "def eliminar_duplicados(lista):     # Declaracion\n",
    "    lista2 = []                     # Crear lista vacia donde almacenar los no duplicados\n",
    "    for item in lista:\n",
    "        if item not in lista2:      # Verificar si el item no esta en la lista\n",
    "            lista2.append(item)     # En tal caso agregarlo\n",
    "    return lista2                   # Al finalizar devolver la lista modificada\n",
    "\n",
    "# Invocar la función pasando una lista:\n",
    "eliminar_duplicados([1,2,3,3, 4, 5, 4, 1])"
   ]
  },
  {
   "cell_type": "code",
   "execution_count": null,
   "id": "9717e6e3",
   "metadata": {},
   "outputs": [],
   "source": []
  },
  {
   "cell_type": "code",
   "execution_count": 5,
   "id": "ec596640",
   "metadata": {},
   "outputs": [
    {
     "name": "stdout",
     "output_type": "stream",
     "text": [
      "Ingrese un número entero: 4\n",
      "Ingrese un número entero: 5\n",
      "Ingrese un número entero: 5\n",
      "Ingrese un número entero: 3\n",
      "Ingrese un número entero: 2\n",
      "[4, 2]\n",
      "[5, 5, 3]\n"
     ]
    }
   ],
   "source": [
    "# Ejercicio 3 - Discriminar números pares e impares ingresados por un usuario.\n",
    "lista_par = []\n",
    "lista_impar = []\n",
    "cont = 0\n",
    "\n",
    "while cont < 5:\n",
    "    cont += 1\n",
    "    entrada = int(input(\"Ingrese un número entero: \"))\n",
    "    if entrada % 2 == 0:\n",
    "        lista_par.append(entrada)\n",
    "    else:\n",
    "        lista_impar.append(entrada)\n",
    "print(lista_par); print(lista_impar)"
   ]
  },
  {
   "cell_type": "code",
   "execution_count": null,
   "id": "cb0d0bbf",
   "metadata": {},
   "outputs": [],
   "source": []
  },
  {
   "cell_type": "code",
   "execution_count": 6,
   "id": "cd06a183",
   "metadata": {},
   "outputs": [
    {
     "name": "stdout",
     "output_type": "stream",
     "text": [
      "2042\n"
     ]
    }
   ],
   "source": [
    "# Ejercicio 4\n",
    "def romano_num(num_rom):\n",
    "    rom_val = {'I': 1, 'V': 5, 'X': 10, 'L': 50, 'C': 100, 'D': 500, 'M': 1000}\n",
    "    num_convertido = 0\n",
    "    for i in range(len(num_rom)):\n",
    "        if i > 0 and rom_val[num_rom[i]] > rom_val[num_rom[i-1]]:\n",
    "            num_convertido += rom_val[num_rom[i]] - 2 * rom_val[num_rom[i-1]]\n",
    "        else:\n",
    "            num_convertido += rom_val[num_rom[i]]\n",
    "    return num_convertido\n",
    "\n",
    "num_romano = 'MMXLII'\n",
    "print(romano_num(num_romano))"
   ]
  },
  {
   "cell_type": "code",
   "execution_count": null,
   "id": "9a8f6e91",
   "metadata": {},
   "outputs": [],
   "source": []
  },
  {
   "cell_type": "code",
   "execution_count": null,
   "id": "8e4b7f15",
   "metadata": {},
   "outputs": [],
   "source": []
  }
 ],
 "metadata": {
  "kernelspec": {
   "display_name": "Python 3 (ipykernel)",
   "language": "python",
   "name": "python3"
  },
  "language_info": {
   "codemirror_mode": {
    "name": "ipython",
    "version": 3
   },
   "file_extension": ".py",
   "mimetype": "text/x-python",
   "name": "python",
   "nbconvert_exporter": "python",
   "pygments_lexer": "ipython3",
   "version": "3.10.0"
  }
 },
 "nbformat": 4,
 "nbformat_minor": 5
}
