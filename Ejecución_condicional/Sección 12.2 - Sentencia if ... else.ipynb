{
 "cells": [
  {
   "cell_type": "markdown",
   "id": "classified-gibson",
   "metadata": {},
   "source": [
    "<img src=\"ifelse.png\" width=300/>"
   ]
  },
  {
   "cell_type": "code",
   "execution_count": null,
   "id": "c44224c5",
   "metadata": {},
   "outputs": [],
   "source": [
    "a = 2\n",
    "if a > 3:\n",
    "    print('La variable a es mayor que 3')\n",
    "else:             # Creamos una alternativa\n",
    "    print(\"La variable a es menor que 3\")"
   ]
  },
  {
   "cell_type": "code",
   "execution_count": null,
   "id": "657da2f0",
   "metadata": {},
   "outputs": [],
   "source": []
  },
  {
   "cell_type": "code",
   "execution_count": null,
   "id": "fd5db20f",
   "metadata": {},
   "outputs": [],
   "source": []
  },
  {
   "cell_type": "code",
   "execution_count": null,
   "id": "broad-championship",
   "metadata": {
    "scrolled": true
   },
   "outputs": [],
   "source": [
    "temperatura = float(input(\"Por favor deme la temperatura \"))\n",
    "t = temperatura\n",
    "if t > 25:\n",
    "    print(\"Hace calor\")\n",
    "else:\n",
    "    print(\"Esta fresco\")"
   ]
  },
  {
   "cell_type": "code",
   "execution_count": null,
   "id": "3f6b86a3",
   "metadata": {},
   "outputs": [],
   "source": []
  },
  {
   "cell_type": "code",
   "execution_count": null,
   "id": "a488c896",
   "metadata": {},
   "outputs": [],
   "source": []
  },
  {
   "cell_type": "code",
   "execution_count": null,
   "id": "0404531d",
   "metadata": {},
   "outputs": [],
   "source": []
  },
  {
   "cell_type": "code",
   "execution_count": null,
   "id": "manual-package",
   "metadata": {},
   "outputs": [],
   "source": [
    "# Incluir en una función\n",
    "def opcion_escala(opcion, grados):\n",
    "    if opcion == 'celsius':\n",
    "        gradCelsius = grados * 9.0 / 5.0 + 32.0\n",
    "        print(gradCelsius)\n",
    "    else: \n",
    "        gradFahr = (grados - 32) * 5.0 / 9.0\n",
    "        print(gradFahr)\n",
    "\n",
    "# Invocar la función\n",
    "opcion_escala('fahrebheit', 37)"
   ]
  },
  {
   "cell_type": "code",
   "execution_count": null,
   "id": "fc6143b9",
   "metadata": {},
   "outputs": [],
   "source": []
  },
  {
   "cell_type": "code",
   "execution_count": null,
   "id": "b48cad48",
   "metadata": {},
   "outputs": [],
   "source": []
  },
  {
   "cell_type": "code",
   "execution_count": null,
   "id": "2a4bbaa1",
   "metadata": {},
   "outputs": [],
   "source": []
  },
  {
   "cell_type": "code",
   "execution_count": null,
   "id": "together-christianity",
   "metadata": {},
   "outputs": [],
   "source": [
    "# Eliminar duplicados en una lista\n",
    "\n",
    "def eliminar_duplicados(lista):         # Declaracion\n",
    "    lista2 = []                         # Crear lista vacia\n",
    "    for item in lista:\n",
    "        if item not in lista2:      # Si item no esta en lista\n",
    "            lista2.append(item)     #  agregarlo\n",
    "        else:                                               \n",
    "            pass                    # Si está pasar al siguiente elemento \n",
    "    return lista2                       # Devolver la lista modificada\n",
    "\n",
    "# Invocar la función pasando una lista:\n",
    "eliminar_duplicados([1,2,3,3,3])"
   ]
  },
  {
   "cell_type": "code",
   "execution_count": null,
   "id": "65be25ab",
   "metadata": {},
   "outputs": [],
   "source": []
  },
  {
   "cell_type": "code",
   "execution_count": null,
   "id": "a05257fc",
   "metadata": {},
   "outputs": [],
   "source": []
  },
  {
   "cell_type": "code",
   "execution_count": null,
   "id": "hazardous-tragedy",
   "metadata": {},
   "outputs": [],
   "source": []
  },
  {
   "cell_type": "code",
   "execution_count": null,
   "id": "automotive-difficulty",
   "metadata": {},
   "outputs": [],
   "source": [
    "# Condiciones anidadas\n",
    "x = 20.9\n",
    "y = 10.2\n",
    "# Me aseguro de que ingresan tipos numéricos\n",
    "if (type(x) == int or type(x) == float) and (type(y) == int or type(y) == float):\n",
    "    if x < y:\n",
    "        print(\"X es mayor que Y\")\n",
    "    else:\n",
    "        print(\"Y es mayor que X\")"
   ]
  },
  {
   "cell_type": "code",
   "execution_count": null,
   "id": "904280ac",
   "metadata": {},
   "outputs": [],
   "source": []
  },
  {
   "cell_type": "code",
   "execution_count": null,
   "id": "b8ee4eb9",
   "metadata": {},
   "outputs": [],
   "source": []
  },
  {
   "cell_type": "code",
   "execution_count": null,
   "id": "e31cd3ca",
   "metadata": {},
   "outputs": [],
   "source": []
  }
 ],
 "metadata": {
  "kernelspec": {
   "display_name": "Python 3 (ipykernel)",
   "language": "python",
   "name": "python3"
  },
  "language_info": {
   "codemirror_mode": {
    "name": "ipython",
    "version": 3
   },
   "file_extension": ".py",
   "mimetype": "text/x-python",
   "name": "python",
   "nbconvert_exporter": "python",
   "pygments_lexer": "ipython3",
   "version": "3.10.0"
  }
 },
 "nbformat": 4,
 "nbformat_minor": 5
}
