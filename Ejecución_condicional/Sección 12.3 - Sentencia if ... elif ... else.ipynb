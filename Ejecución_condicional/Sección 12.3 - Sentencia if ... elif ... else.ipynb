{
 "cells": [
  {
   "cell_type": "markdown",
   "id": "outside-bahamas",
   "metadata": {},
   "source": [
    "<img src=\"ifelif.png\" width=400/>"
   ]
  },
  {
   "cell_type": "code",
   "execution_count": null,
   "id": "fabulous-canon",
   "metadata": {},
   "outputs": [],
   "source": [
    "# Usando if ... else\n",
    "z = 500\n",
    "if z > 500:\n",
    "    print('Z es mayor que 500')\n",
    "else:\n",
    "    if z < 500:\n",
    "        print('Z es menor que 500')\n",
    "    else:\n",
    "        if z == 500:\n",
    "            print('Z es igual a 500')\n",
    "        else:\n",
    "            print('No se que es Z')"
   ]
  },
  {
   "cell_type": "code",
   "execution_count": null,
   "id": "planned-universal",
   "metadata": {},
   "outputs": [],
   "source": [
    "# Usando if ... elif ... else\n",
    "z = 500\n",
    "if z > 500:\n",
    "    print('Z es mayor que 500')\n",
    "elif z < 500:\n",
    "    print('Z es menor que 500')\n",
    "elif z == 500:\n",
    "    print('Z es igual a 500')\n",
    "else:\n",
    "    print('No se que es Z')"
   ]
  },
  {
   "cell_type": "code",
   "execution_count": null,
   "id": "21da3dc5",
   "metadata": {},
   "outputs": [],
   "source": [
    "# Sentencias anidadas\n",
    "num1 = 10\n",
    "num2 = 14\n",
    "num3 = 12\n",
    "if num1 < 10:\n",
    "    if num1 > 10:\n",
    "        print('Hasta aqui voy bien')\n",
    "    else:\n",
    "        if num1 == 10:\n",
    "            print('Voy perdiendo el rumbo')\n",
    "        elif num2 > 10:\n",
    "            print('Estoy casi perdido')\n",
    "        else:\n",
    "            print('No se donde estoy')\n",
    "elif num3 == 12:\n",
    "    print('Veo que num3 = 12')\n",
    "else:\n",
    "    print('Estoy perdido')"
   ]
  },
  {
   "cell_type": "code",
   "execution_count": null,
   "id": "515b4e2f",
   "metadata": {},
   "outputs": [],
   "source": []
  },
  {
   "cell_type": "code",
   "execution_count": null,
   "id": "444eb8c9",
   "metadata": {},
   "outputs": [],
   "source": []
  },
  {
   "cell_type": "code",
   "execution_count": null,
   "id": "ea900e25",
   "metadata": {},
   "outputs": [],
   "source": []
  },
  {
   "cell_type": "markdown",
   "id": "accessory-portfolio",
   "metadata": {},
   "source": [
    "#### Condiciones compuestas"
   ]
  },
  {
   "cell_type": "code",
   "execution_count": null,
   "id": "modified-seafood",
   "metadata": {},
   "outputs": [],
   "source": [
    "num1 = 10\n",
    "num2 = 14\n",
    "num3 = 12\n",
    "if (num1 >= num2) and (num1 >= num3):\n",
    "   mayor = num1\n",
    "elif (num2 >= num1) and (num2 >= num3):\n",
    "   mayor = num2\n",
    "else:\n",
    "   mayor = num3\n",
    "\n",
    "print(\"El número mayor es\", mayor)"
   ]
  },
  {
   "cell_type": "code",
   "execution_count": null,
   "id": "5b02b963",
   "metadata": {},
   "outputs": [],
   "source": []
  },
  {
   "cell_type": "code",
   "execution_count": null,
   "id": "cf28b12b",
   "metadata": {},
   "outputs": [],
   "source": []
  },
  {
   "cell_type": "code",
   "execution_count": null,
   "id": "1852c13b",
   "metadata": {},
   "outputs": [],
   "source": []
  },
  {
   "cell_type": "markdown",
   "id": "dedicated-juvenile",
   "metadata": {},
   "source": [
    "#### Conversión de temperatura"
   ]
  },
  {
   "cell_type": "code",
   "execution_count": null,
   "id": "emotional-chicken",
   "metadata": {},
   "outputs": [],
   "source": [
    "opcion = 'celsus'              # Cometer error\n",
    "grados = 100\n",
    "if opcion == 'celsius':         # Ingresa grados Celsius\n",
    "    conversion = grados * 9.0 / 5.0 + 32.0\n",
    "elif opcion == 'fahrenheit':    # Ingresa grados Fahrenheit\n",
    "    conversion = (grados - 32) * 5.0 / 9.0\n",
    "else:\n",
    "    print('Revisar lo ingresado')\n",
    "print(conversion)"
   ]
  }
 ],
 "metadata": {
  "kernelspec": {
   "display_name": "Python 3 (ipykernel)",
   "language": "python",
   "name": "python3"
  },
  "language_info": {
   "codemirror_mode": {
    "name": "ipython",
    "version": 3
   },
   "file_extension": ".py",
   "mimetype": "text/x-python",
   "name": "python",
   "nbconvert_exporter": "python",
   "pygments_lexer": "ipython3",
   "version": "3.10.0"
  }
 },
 "nbformat": 4,
 "nbformat_minor": 5
}
