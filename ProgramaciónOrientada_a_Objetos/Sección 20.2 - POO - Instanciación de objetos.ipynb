{
 "cells": [
  {
   "cell_type": "markdown",
   "id": "extensive-memorial",
   "metadata": {},
   "source": [
    "### Instanciación de objetos"
   ]
  },
  {
   "cell_type": "code",
   "execution_count": null,
   "id": "empirical-philadelphia",
   "metadata": {},
   "outputs": [],
   "source": [
    "class MiAutomotor():\n",
    "    arg1 = 7"
   ]
  },
  {
   "cell_type": "code",
   "execution_count": null,
   "id": "dominant-truck",
   "metadata": {},
   "outputs": [],
   "source": [
    "# Instanciar un objeto\n",
    "auto = MiAutomotor"
   ]
  },
  {
   "cell_type": "code",
   "execution_count": null,
   "id": "131b6462",
   "metadata": {},
   "outputs": [],
   "source": [
    "auto.arg1"
   ]
  },
  {
   "cell_type": "code",
   "execution_count": null,
   "id": "b33534fe",
   "metadata": {},
   "outputs": [],
   "source": []
  },
  {
   "cell_type": "code",
   "execution_count": null,
   "id": "e4cc5c87",
   "metadata": {},
   "outputs": [],
   "source": []
  },
  {
   "cell_type": "code",
   "execution_count": null,
   "id": "3c3d6dad",
   "metadata": {},
   "outputs": [],
   "source": [
    "dir(auto)"
   ]
  },
  {
   "cell_type": "code",
   "execution_count": null,
   "id": "f6bab5fa",
   "metadata": {},
   "outputs": [],
   "source": []
  },
  {
   "cell_type": "code",
   "execution_count": null,
   "id": "separate-bunny",
   "metadata": {},
   "outputs": [],
   "source": [
    "# Instanciar multiples objetos de una misma clase\n",
    "auto1 = MiAutomotor\n",
    "auto2 = MiAutomotor"
   ]
  },
  {
   "cell_type": "code",
   "execution_count": null,
   "id": "aad89b9a",
   "metadata": {},
   "outputs": [],
   "source": [
    "auto1.arg1"
   ]
  },
  {
   "cell_type": "code",
   "execution_count": null,
   "id": "ea409405",
   "metadata": {},
   "outputs": [],
   "source": []
  },
  {
   "cell_type": "code",
   "execution_count": null,
   "id": "quarterly-flexibility",
   "metadata": {},
   "outputs": [],
   "source": [
    "# Instanciar objeto a partir de otro objeto\n",
    "auto3 = auto\n",
    "type(auto3)"
   ]
  },
  {
   "cell_type": "code",
   "execution_count": null,
   "id": "53138eca",
   "metadata": {},
   "outputs": [],
   "source": []
  },
  {
   "cell_type": "code",
   "execution_count": null,
   "id": "e10d304e",
   "metadata": {},
   "outputs": [],
   "source": [
    "# Agregar atributos a la clase. Acceso desde objeto y desde clase\n",
    "class MiAutomotor:\n",
    "    arg1 = 5\n",
    "    arg2 = 6\n",
    "    \n",
    "auto = MiAutomotor()\n",
    "auto.arg1, auto.arg2\n",
    "auto2 = MiAutomotor()\n",
    "auto2.arg1, auto2.arg2"
   ]
  },
  {
   "cell_type": "code",
   "execution_count": null,
   "id": "c754970e",
   "metadata": {},
   "outputs": [],
   "source": []
  },
  {
   "cell_type": "code",
   "execution_count": null,
   "id": "24eb68b7",
   "metadata": {},
   "outputs": [],
   "source": []
  }
 ],
 "metadata": {
  "kernelspec": {
   "display_name": "Python 3 (ipykernel)",
   "language": "python",
   "name": "python3"
  },
  "language_info": {
   "codemirror_mode": {
    "name": "ipython",
    "version": 3
   },
   "file_extension": ".py",
   "mimetype": "text/x-python",
   "name": "python",
   "nbconvert_exporter": "python",
   "pygments_lexer": "ipython3",
   "version": "3.10.0"
  }
 },
 "nbformat": 4,
 "nbformat_minor": 5
}
