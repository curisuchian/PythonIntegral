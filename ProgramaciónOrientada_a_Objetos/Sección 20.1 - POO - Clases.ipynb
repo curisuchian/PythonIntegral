{
 "cells": [
  {
   "cell_type": "markdown",
   "id": "d3d1a9cd",
   "metadata": {},
   "source": [
    "#### Creacion de una clase"
   ]
  },
  {
   "cell_type": "code",
   "execution_count": null,
   "id": "norwegian-singing",
   "metadata": {
    "scrolled": true
   },
   "outputs": [],
   "source": [
    "# Parentesis son opcionales si no hay argumentos\n",
    "class MiAutomotor(object):\n",
    "    pass"
   ]
  },
  {
   "cell_type": "code",
   "execution_count": null,
   "id": "9c70be3c",
   "metadata": {},
   "outputs": [],
   "source": [
    "type(MiAutomotor)"
   ]
  },
  {
   "cell_type": "code",
   "execution_count": null,
   "id": "77b4e765",
   "metadata": {},
   "outputs": [],
   "source": []
  },
  {
   "cell_type": "code",
   "execution_count": null,
   "id": "civilian-fundamentals",
   "metadata": {
    "scrolled": true
   },
   "outputs": [],
   "source": [
    "# Listado de metodos y atributos de la clase\n",
    "dir(MiAutomotor)"
   ]
  },
  {
   "cell_type": "code",
   "execution_count": null,
   "id": "1402bf9f",
   "metadata": {},
   "outputs": [],
   "source": []
  },
  {
   "cell_type": "code",
   "execution_count": null,
   "id": "stretch-thesis",
   "metadata": {
    "scrolled": false
   },
   "outputs": [],
   "source": [
    "MiAutomotor.__dict__"
   ]
  },
  {
   "cell_type": "code",
   "execution_count": null,
   "id": "d11fafc4",
   "metadata": {},
   "outputs": [],
   "source": []
  },
  {
   "cell_type": "code",
   "execution_count": null,
   "id": "facial-enclosure",
   "metadata": {
    "scrolled": true
   },
   "outputs": [],
   "source": [
    "# Agregar un docstring\n",
    "class MiAutomotor:\n",
    "    \"\"\" Clase sencilla\"\"\"\n",
    "    pass"
   ]
  },
  {
   "cell_type": "code",
   "execution_count": null,
   "id": "3be73744",
   "metadata": {},
   "outputs": [],
   "source": []
  },
  {
   "cell_type": "code",
   "execution_count": null,
   "id": "popular-kansas",
   "metadata": {
    "scrolled": true
   },
   "outputs": [],
   "source": [
    "# Mostrar el docstring\n",
    "MiAutomotor.__doc__"
   ]
  },
  {
   "cell_type": "code",
   "execution_count": null,
   "id": "b28738aa",
   "metadata": {},
   "outputs": [],
   "source": []
  },
  {
   "cell_type": "code",
   "execution_count": null,
   "id": "e591c0e7",
   "metadata": {},
   "outputs": [],
   "source": []
  },
  {
   "cell_type": "markdown",
   "id": "baf93f95",
   "metadata": {},
   "source": [
    "#### Atributos, o variables de clase"
   ]
  },
  {
   "cell_type": "code",
   "execution_count": null,
   "id": "97c3e036",
   "metadata": {},
   "outputs": [],
   "source": [
    "# Agregar atributos a la clase. Acceso desde objeto y desde clase\n",
    "class MiAutomotor:\n",
    "    arg1 = 5\n",
    "    arg2 = 6\n",
    "    \n",
    "MiAutomotor.arg1, MiAutomotor.arg2"
   ]
  },
  {
   "cell_type": "code",
   "execution_count": null,
   "id": "91cc7755",
   "metadata": {},
   "outputs": [],
   "source": [
    "MiAutomotor.__dict__"
   ]
  },
  {
   "cell_type": "code",
   "execution_count": null,
   "id": "3d8e7b10",
   "metadata": {},
   "outputs": [],
   "source": []
  },
  {
   "cell_type": "code",
   "execution_count": null,
   "id": "1a7d9310",
   "metadata": {},
   "outputs": [],
   "source": []
  },
  {
   "cell_type": "code",
   "execution_count": null,
   "id": "201a7860",
   "metadata": {},
   "outputs": [],
   "source": []
  }
 ],
 "metadata": {
  "kernelspec": {
   "display_name": "Python 3 (ipykernel)",
   "language": "python",
   "name": "python3"
  },
  "language_info": {
   "codemirror_mode": {
    "name": "ipython",
    "version": 3
   },
   "file_extension": ".py",
   "mimetype": "text/x-python",
   "name": "python",
   "nbconvert_exporter": "python",
   "pygments_lexer": "ipython3",
   "version": "3.10.0"
  }
 },
 "nbformat": 4,
 "nbformat_minor": 5
}
