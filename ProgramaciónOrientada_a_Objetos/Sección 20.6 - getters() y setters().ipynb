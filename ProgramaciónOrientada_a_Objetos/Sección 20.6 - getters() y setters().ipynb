{
 "cells": [
  {
   "cell_type": "code",
   "execution_count": null,
   "id": "3922f36d",
   "metadata": {
    "scrolled": true
   },
   "outputs": [],
   "source": [
    "class Animal:\n",
    "    def __init__(self, edades):\n",
    "        self.edades = edades\n",
    "        \n",
    "    def get_edad(self):\n",
    "        return self.edades"
   ]
  },
  {
   "cell_type": "code",
   "execution_count": null,
   "id": "2d97631e",
   "metadata": {
    "scrolled": true
   },
   "outputs": [],
   "source": [
    "a = Animal(5)\n",
    "print(a.get_edad())"
   ]
  },
  {
   "cell_type": "code",
   "execution_count": null,
   "id": "79ea6854",
   "metadata": {
    "scrolled": true
   },
   "outputs": [],
   "source": []
  },
  {
   "cell_type": "code",
   "execution_count": null,
   "id": "584b69b5",
   "metadata": {
    "scrolled": true
   },
   "outputs": [],
   "source": []
  },
  {
   "cell_type": "code",
   "execution_count": null,
   "id": "468caab2",
   "metadata": {
    "scrolled": true
   },
   "outputs": [],
   "source": []
  },
  {
   "cell_type": "code",
   "execution_count": null,
   "id": "8d27d119",
   "metadata": {
    "scrolled": true
   },
   "outputs": [],
   "source": []
  },
  {
   "cell_type": "code",
   "execution_count": null,
   "id": "94fc56d0",
   "metadata": {
    "scrolled": true
   },
   "outputs": [],
   "source": [
    "class Animal():\n",
    "    def __init__(self, edad = 0):\n",
    "        self.edad = edad\n",
    "        self.nombre = None\n",
    "        \n",
    "    def get_edad(self):\n",
    "        return self.edad\n",
    "    \n",
    "    def get_nombre(self):\n",
    "        return self.nombre\n",
    "    \n",
    "    def set_edad(self, x):\n",
    "        self.edad = x\n",
    "        \n",
    "    def set_nombre(self, nombre='UnNombre'):   # Parametro por defecto\n",
    "        self.nombre = nombre\n",
    "        \n",
    "    def __str__(self):\n",
    "        return \"Este animal se llama: \"+str(self.nombre)+\" y tiene \"+str(self.edad)+' años de edad'"
   ]
  },
  {
   "cell_type": "code",
   "execution_count": null,
   "id": "795feba5",
   "metadata": {
    "scrolled": true
   },
   "outputs": [],
   "source": []
  },
  {
   "cell_type": "code",
   "execution_count": null,
   "id": "654ad800",
   "metadata": {
    "scrolled": true
   },
   "outputs": [],
   "source": []
  },
  {
   "cell_type": "code",
   "execution_count": null,
   "id": "150400a0",
   "metadata": {
    "scrolled": true
   },
   "outputs": [],
   "source": [
    "a=Animal()            # Creo objeto Animal         \n",
    "a.set_edad(17)          # Modifico la edad\n",
    "print(a.get_edad())          # Recupero la nueva edad               # Imprimo usando __str__"
   ]
  },
  {
   "cell_type": "code",
   "execution_count": null,
   "id": "e6d1e4e5",
   "metadata": {
    "scrolled": true
   },
   "outputs": [],
   "source": []
  },
  {
   "cell_type": "code",
   "execution_count": null,
   "id": "4d3cad52",
   "metadata": {
    "scrolled": true
   },
   "outputs": [],
   "source": []
  },
  {
   "cell_type": "code",
   "execution_count": null,
   "id": "d89b7848",
   "metadata": {
    "scrolled": true
   },
   "outputs": [],
   "source": [
    "print(a.get_nombre())   # Imprime el nombre asignado por defecto\n",
    "a.set_nombre('Fido')\n",
    "print(a.get_nombre())   # Imprime el nombre nuevo"
   ]
  },
  {
   "cell_type": "code",
   "execution_count": null,
   "id": "0b2459e8",
   "metadata": {
    "scrolled": true
   },
   "outputs": [],
   "source": []
  },
  {
   "cell_type": "code",
   "execution_count": null,
   "id": "31fb2552",
   "metadata": {
    "scrolled": true
   },
   "outputs": [],
   "source": []
  },
  {
   "cell_type": "code",
   "execution_count": null,
   "id": "3b191d32",
   "metadata": {
    "scrolled": true
   },
   "outputs": [],
   "source": []
  },
  {
   "cell_type": "code",
   "execution_count": null,
   "id": "15802429",
   "metadata": {
    "scrolled": true
   },
   "outputs": [],
   "source": []
  },
  {
   "cell_type": "code",
   "execution_count": null,
   "id": "a8234827",
   "metadata": {
    "scrolled": true
   },
   "outputs": [],
   "source": []
  },
  {
   "cell_type": "markdown",
   "id": "7252d029",
   "metadata": {},
   "source": [
    "#### Ejemplo de utilidad"
   ]
  },
  {
   "cell_type": "code",
   "execution_count": null,
   "id": "720387db",
   "metadata": {
    "scrolled": true
   },
   "outputs": [],
   "source": [
    "class Animal(object):\n",
    "    def __init__(self, edad):\n",
    "        self.anios = edad\n",
    "        self.name = None\n",
    "    def get_edad(self):\n",
    "        return self.anios"
   ]
  },
  {
   "cell_type": "code",
   "execution_count": null,
   "id": "f00bf5a4",
   "metadata": {
    "scrolled": true
   },
   "outputs": [],
   "source": []
  },
  {
   "cell_type": "code",
   "execution_count": null,
   "id": "5138cb07",
   "metadata": {
    "scrolled": true
   },
   "outputs": [],
   "source": [
    "a=Animal(3)\n",
    "print(a.edad)   # Error\n",
    "a.get_edad()      # OK"
   ]
  },
  {
   "cell_type": "code",
   "execution_count": null,
   "id": "c7771b45",
   "metadata": {
    "scrolled": true
   },
   "outputs": [],
   "source": []
  },
  {
   "cell_type": "code",
   "execution_count": null,
   "id": "507630d9",
   "metadata": {
    "scrolled": true
   },
   "outputs": [],
   "source": [
    "a.set_nombre()       # Usa parametro por defecto\n",
    "a.get_nombre()"
   ]
  },
  {
   "cell_type": "code",
   "execution_count": null,
   "id": "e4716619",
   "metadata": {
    "scrolled": true
   },
   "outputs": [],
   "source": [
    "a.set_nombre(\"Fido\") # Usa Fido\n",
    "print(a.get_nombre())"
   ]
  },
  {
   "cell_type": "code",
   "execution_count": null,
   "id": "e5c1b3b9",
   "metadata": {
    "scrolled": true
   },
   "outputs": [],
   "source": []
  },
  {
   "cell_type": "code",
   "execution_count": null,
   "id": "55f849bd",
   "metadata": {
    "scrolled": true
   },
   "outputs": [],
   "source": [
    "a.edad\n",
    "a.get_edad()"
   ]
  }
 ],
 "metadata": {
  "kernelspec": {
   "display_name": "Python 3 (ipykernel)",
   "language": "python",
   "name": "python3"
  },
  "language_info": {
   "codemirror_mode": {
    "name": "ipython",
    "version": 3
   },
   "file_extension": ".py",
   "mimetype": "text/x-python",
   "name": "python",
   "nbconvert_exporter": "python",
   "pygments_lexer": "ipython3",
   "version": "3.10.0"
  }
 },
 "nbformat": 4,
 "nbformat_minor": 5
}
