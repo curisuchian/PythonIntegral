{
 "cells": [
  {
   "cell_type": "markdown",
   "id": "instant-rainbow",
   "metadata": {},
   "source": [
    "### Herencia\n",
    "#### Herencia sencilla"
   ]
  },
  {
   "cell_type": "code",
   "execution_count": null,
   "id": "developed-complex",
   "metadata": {},
   "outputs": [],
   "source": [
    "class Automotor:\n",
    "    def __init__(self, marca, modelo, peso):\n",
    "        self.marca = marca\n",
    "        self.modelo = modelo\n",
    "        self.peso = peso"
   ]
  },
  {
   "cell_type": "code",
   "execution_count": null,
   "id": "40ba3adb",
   "metadata": {},
   "outputs": [],
   "source": []
  },
  {
   "cell_type": "code",
   "execution_count": null,
   "id": "front-tunisia",
   "metadata": {
    "scrolled": true
   },
   "outputs": [],
   "source": [
    "# Clase derivada Automovil\n",
    "class Automovil(Automotor):\n",
    "    pass\n",
    "\n",
    "auto = Automovil(\"Ford\", \"F100\", 2000)\n",
    "auto.marca, auto.peso, auto.modelo"
   ]
  },
  {
   "cell_type": "code",
   "execution_count": null,
   "id": "12ff627a",
   "metadata": {},
   "outputs": [],
   "source": []
  },
  {
   "cell_type": "code",
   "execution_count": null,
   "id": "prostate-buying",
   "metadata": {},
   "outputs": [],
   "source": [
    "# Clase derivada Automovil\n",
    "class Automovil(Automotor):\n",
    "    color = 'azul'       # Variable de clase en Automovil\n",
    "\n",
    "auto = Automovil(\"Ford\", \"F100\", 2000)\n",
    "auto.marca, auto.peso, auto.modelo, auto.color"
   ]
  },
  {
   "cell_type": "code",
   "execution_count": null,
   "id": "8f513886",
   "metadata": {},
   "outputs": [],
   "source": []
  },
  {
   "cell_type": "code",
   "execution_count": null,
   "id": "040c4fc7",
   "metadata": {},
   "outputs": [],
   "source": []
  },
  {
   "cell_type": "code",
   "execution_count": null,
   "id": "a4a739c8",
   "metadata": {},
   "outputs": [],
   "source": []
  },
  {
   "cell_type": "code",
   "execution_count": null,
   "id": "b42720e5",
   "metadata": {},
   "outputs": [],
   "source": []
  },
  {
   "cell_type": "code",
   "execution_count": null,
   "id": "systematic-beads",
   "metadata": {},
   "outputs": [],
   "source": [
    "# Clase derivada Automovil\n",
    "class Automovil(Automotor):\n",
    "    def __init__(self,color):\n",
    "        self.color = color       \n",
    "\n",
    "auto = Automovil(\"azul\")\n",
    "auto.color\n",
    "auto.marca, auto.peso, auto.modelo"
   ]
  },
  {
   "cell_type": "code",
   "execution_count": null,
   "id": "c111949d",
   "metadata": {},
   "outputs": [],
   "source": [
    "# Clase derivada Automovil\n",
    "class Automovil(Automotor):\n",
    "    def __init__(self, marca, modelo, peso, color):\n",
    "        Automotor.__init__(self, marca, modelo, peso)\n",
    "        self.color = color\n",
    "auto = Automovil(\"Ford\", \"F350\", 1000, \"azul\")\n",
    "print(f\"Este {auto.marca} modelo {auto.modelo}, es {auto.color} y pesa {auto.peso} kilos\")"
   ]
  },
  {
   "cell_type": "code",
   "execution_count": null,
   "id": "38eb5d7e",
   "metadata": {},
   "outputs": [],
   "source": []
  },
  {
   "cell_type": "code",
   "execution_count": null,
   "id": "8c2df002",
   "metadata": {},
   "outputs": [],
   "source": []
  },
  {
   "cell_type": "code",
   "execution_count": null,
   "id": "8570cb86",
   "metadata": {},
   "outputs": [],
   "source": []
  },
  {
   "cell_type": "code",
   "execution_count": null,
   "id": "going-saskatchewan",
   "metadata": {},
   "outputs": [],
   "source": [
    "# Herencia simple con super()\n",
    "class Automovil(Automotor):\n",
    "    \n",
    "    def __init__(self, marca, modelo, peso, color):\n",
    "        super().__init__(marca, modelo, peso)\n",
    "        self. color = color\n",
    "        \n",
    "auto = Automovil(\"Ford\", \"F350\", 1000, \"azul\")\n",
    "print(f\"Este {auto.marca} modelo {auto.modelo}, es {auto.color} y pesa {auto.peso} kilos\")"
   ]
  },
  {
   "cell_type": "code",
   "execution_count": null,
   "id": "ec9940e8",
   "metadata": {},
   "outputs": [],
   "source": []
  },
  {
   "cell_type": "markdown",
   "id": "welcome-conversation",
   "metadata": {},
   "source": [
    "#### Herencia multinivel"
   ]
  },
  {
   "cell_type": "code",
   "execution_count": null,
   "id": "194daa1b",
   "metadata": {},
   "outputs": [],
   "source": [
    "class Automotor:\n",
    "    def __init__(self, marca, modelo, peso):\n",
    "        self.marca = marca\n",
    "        self.modelo = modelo\n",
    "        self.peso = peso"
   ]
  },
  {
   "cell_type": "code",
   "execution_count": null,
   "id": "31e3f6a5",
   "metadata": {},
   "outputs": [],
   "source": []
  },
  {
   "cell_type": "code",
   "execution_count": null,
   "id": "3b439113",
   "metadata": {},
   "outputs": [],
   "source": [
    "class Automovil(Automotor):\n",
    "    def __init__(self, marca, modelo, peso, color):\n",
    "        super().__init__(marca, modelo, peso)\n",
    "        self. color = color"
   ]
  },
  {
   "cell_type": "code",
   "execution_count": null,
   "id": "ad4ac0fa",
   "metadata": {},
   "outputs": [],
   "source": []
  },
  {
   "cell_type": "code",
   "execution_count": null,
   "id": "78d39302",
   "metadata": {},
   "outputs": [],
   "source": [
    "# Hereda de la clase Automovil, la cual hereda de Automotor\n",
    "class Deportivo(Automovil):\n",
    "    veloc_max = 0\n",
    "    def __init__(self, mi_marca, mi_modelo, mi_peso, mi_color, veloc_max):\n",
    "        super().__init__(mi_marca, mi_modelo, mi_peso, mi_color)\n",
    "        self.veloc_max = veloc_max\n",
    "        \n",
    "dep = Deportivo(\"Ferrari\", \"F355\", 1350, \"rojo\", 330)\n",
    "print(dep.marca, dep.modelo, dep.peso, dep.color, dep.veloc_max)"
   ]
  },
  {
   "cell_type": "code",
   "execution_count": null,
   "id": "80432963",
   "metadata": {},
   "outputs": [],
   "source": []
  },
  {
   "cell_type": "code",
   "execution_count": null,
   "id": "cd1891e1",
   "metadata": {},
   "outputs": [],
   "source": []
  }
 ],
 "metadata": {
  "kernelspec": {
   "display_name": "Python 3 (ipykernel)",
   "language": "python",
   "name": "python3"
  },
  "language_info": {
   "codemirror_mode": {
    "name": "ipython",
    "version": 3
   },
   "file_extension": ".py",
   "mimetype": "text/x-python",
   "name": "python",
   "nbconvert_exporter": "python",
   "pygments_lexer": "ipython3",
   "version": "3.10.0"
  }
 },
 "nbformat": 4,
 "nbformat_minor": 5
}
