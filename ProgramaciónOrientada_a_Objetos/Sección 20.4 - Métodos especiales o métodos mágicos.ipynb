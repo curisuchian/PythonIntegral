{
 "cells": [
  {
   "cell_type": "markdown",
   "id": "3488fe81",
   "metadata": {},
   "source": []
  },
  {
   "cell_type": "code",
   "execution_count": null,
   "id": "95e891d3",
   "metadata": {},
   "outputs": [],
   "source": [
    "class AutoChocador():\n",
    "    def __init__(self,coord_x,coord_y):\n",
    "        self.coord_x = coord_x\n",
    "        self.coord_y = coord_y\n",
    "        \n",
    "    def __str__(self):\n",
    "        return str(self.coord_x)+\",\"+str(self.coord_y)+\">\"\n",
    "    \n",
    "auto1 = AutoChocador(3,4)   \n",
    "print(auto1)"
   ]
  },
  {
   "cell_type": "code",
   "execution_count": null,
   "id": "b2aa2572",
   "metadata": {},
   "outputs": [],
   "source": []
  },
  {
   "cell_type": "code",
   "execution_count": null,
   "id": "35cc7e70",
   "metadata": {},
   "outputs": [],
   "source": []
  },
  {
   "cell_type": "code",
   "execution_count": null,
   "id": "17cbf652",
   "metadata": {},
   "outputs": [],
   "source": [
    "class Fraccion():\n",
    "    \"\"\"\n",
    "    Representacion de una fraccion\n",
    "    \"\"\"\n",
    "    def __init__(self,num,denom):\n",
    "        \"\"\" Solo ingresar enteros \"\"\"\n",
    "        self.num = num\n",
    "        self.denom = denom\n",
    "        \n",
    "    def __str__(self):\n",
    "        \"\"\" Representa una fraccion \"\"\"\n",
    "        return str(self.num)+\"/\"+str(self.denom)    \n",
    "\n",
    "    def __add__(self, otro):\n",
    "        \"\"\" Suma dos fracciones \"\"\"\n",
    "        numerador = self.num*otro.denom + self.denom*otro.num\n",
    "        denominador = self.denom*otro.denom\n",
    "        return Fraccion(numerador, denominador)      # devuelve objeto Fraccion c\n",
    "    \n",
    "a = Fraccion(1,4)\n",
    "b = Fraccion(4,8)\n",
    "c = a + b               # c es un objeto Fraccion\n",
    "print(c)"
   ]
  },
  {
   "cell_type": "code",
   "execution_count": null,
   "id": "a4c4dd2f",
   "metadata": {},
   "outputs": [],
   "source": []
  },
  {
   "cell_type": "code",
   "execution_count": null,
   "id": "9b929ce1",
   "metadata": {},
   "outputs": [],
   "source": [
    "obj1=1/4\n",
    "obj2=4/8"
   ]
  },
  {
   "cell_type": "code",
   "execution_count": null,
   "id": "95f8c800",
   "metadata": {},
   "outputs": [],
   "source": [
    "print(obj1 + obj2)\n",
    "print(obj1.__add__(obj2))"
   ]
  },
  {
   "cell_type": "code",
   "execution_count": null,
   "id": "548429f6",
   "metadata": {},
   "outputs": [],
   "source": []
  }
 ],
 "metadata": {
  "kernelspec": {
   "display_name": "Python 3 (ipykernel)",
   "language": "python",
   "name": "python3"
  },
  "language_info": {
   "codemirror_mode": {
    "name": "ipython",
    "version": 3
   },
   "file_extension": ".py",
   "mimetype": "text/x-python",
   "name": "python",
   "nbconvert_exporter": "python",
   "pygments_lexer": "ipython3",
   "version": "3.10.0"
  }
 },
 "nbformat": 4,
 "nbformat_minor": 5
}
