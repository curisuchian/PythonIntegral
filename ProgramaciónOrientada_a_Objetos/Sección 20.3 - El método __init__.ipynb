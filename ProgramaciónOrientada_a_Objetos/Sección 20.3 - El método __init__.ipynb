{
 "cells": [
  {
   "cell_type": "markdown",
   "id": "a44205d8",
   "metadata": {},
   "source": [
    "#### Variables de instancia"
   ]
  },
  {
   "cell_type": "code",
   "execution_count": null,
   "id": "0b84da4d",
   "metadata": {},
   "outputs": [],
   "source": [
    "class MiAutomotor:\n",
    "    ruedas = True\n",
    "auto1=MiAutomotor()\n",
    "auto2=MiAutomotor()          # Se instancia objeto\n",
    "print('El auto 1 tiene ruedas ', auto1.ruedas)\n",
    "print('El auto 2 tambien tiene ruedas ', auto2.ruedas)"
   ]
  },
  {
   "cell_type": "code",
   "execution_count": null,
   "id": "c24dbd71",
   "metadata": {},
   "outputs": [],
   "source": []
  },
  {
   "cell_type": "code",
   "execution_count": null,
   "id": "21f3f641",
   "metadata": {},
   "outputs": [],
   "source": [
    "auto=MiAutomotor()\n",
    "auto.num_ruedas = 4      # Se declara la variable y se le asigna valor\n",
    "auto.num_ruedas          # Se recupera el valor"
   ]
  },
  {
   "cell_type": "code",
   "execution_count": null,
   "id": "556e474f",
   "metadata": {},
   "outputs": [],
   "source": []
  },
  {
   "cell_type": "markdown",
   "id": "consistent-content",
   "metadata": {},
   "source": [
    "### El método __init__ "
   ]
  },
  {
   "cell_type": "code",
   "execution_count": null,
   "id": "automatic-investigator",
   "metadata": {},
   "outputs": [],
   "source": [
    "class MiAutomotor:\n",
    "    ruedas = True\n",
    "    def __init__(self, num_ruedas):\n",
    "        self.num_ruedas = num_ruedas\n",
    "auto = MiAutomotor(4)\n",
    "moto = MiAutomotor(2)\n",
    "camion = MiAutomotor(6)\n",
    "# Invocacion\n",
    "print(auto.num_ruedas, moto.num_ruedas, camion.num_ruedas)\n",
    "print(auto.ruedas)"
   ]
  },
  {
   "cell_type": "code",
   "execution_count": null,
   "id": "82150b6d",
   "metadata": {},
   "outputs": [],
   "source": []
  },
  {
   "cell_type": "markdown",
   "id": "direct-danish",
   "metadata": {},
   "source": [
    "####  Métodos de instancia"
   ]
  },
  {
   "cell_type": "code",
   "execution_count": null,
   "id": "separated-turning",
   "metadata": {
    "scrolled": true
   },
   "outputs": [],
   "source": [
    "class MiAutomotor:\n",
    "    \"\"\" Esta clase define tipos de vehiculos \"\"\"\n",
    "    \n",
    "    ruedas = True           # Atributo de clase\n",
    "    \n",
    "    def __init__(self, marca, año, color, tipo):\n",
    "        self.marca = marca           # Atributo de instancia\n",
    "        self.año = año\n",
    "        self.color = color\n",
    "        self.tipo = tipo\n",
    "        \n",
    "# Metodos de instancia\n",
    "    def frenar(self):\n",
    "        \"\"\"\n",
    "        Detener el vehiculo\n",
    "        \"\"\"\n",
    "        return \" esta frenando.\"\n",
    "\n",
    "    def MiAuto(self):\n",
    "        print(f\"Tengo un {auto.tipo} {auto.marca} {auto.color}, modelo {auto.año}\")\n",
    "        \n",
    "if auto.ruedas==True:\n",
    "    print(\"Tengo un automotor\")\n",
    "    \n",
    "auto = MiAutomotor(\"Ford\", 1999, \"marron\", \"automovil\")\n",
    "print(f\"El automotor{auto.frenar()}\")\n",
    "auto.MiAuto()    # Invoca la función que imprime"
   ]
  },
  {
   "cell_type": "code",
   "execution_count": null,
   "id": "d6699080",
   "metadata": {},
   "outputs": [],
   "source": []
  },
  {
   "cell_type": "code",
   "execution_count": null,
   "id": "ca7fe15c",
   "metadata": {},
   "outputs": [],
   "source": [
    "# Otro ejemplo método de instancia\n",
    "class AutoChocador():\n",
    "    def __init__(self,coord_x,coord_y):\n",
    "        self.coord_x = coord_x\n",
    "        self.coord_y = coord_y\n",
    "        \n",
    "    def distancia(self, otro):\n",
    "        del_x = (self.coord_x - otro.coord_x)**2\n",
    "        del_y = (self.coord_y - otro.coord_y)**2\n",
    "        return (del_x + del_y)**0.5"
   ]
  },
  {
   "cell_type": "code",
   "execution_count": null,
   "id": "a73807b6",
   "metadata": {},
   "outputs": [],
   "source": []
  },
  {
   "cell_type": "code",
   "execution_count": null,
   "id": "13fdf746",
   "metadata": {},
   "outputs": [],
   "source": [
    "auto1 = AutoChocador(3,4)          \n",
    "auto2 = AutoChocador(7,4)\n",
    "#dist=auto1.distancia(auto2)\n",
    "dist=AutoChocador.distancia(auto1,auto2)  # Usando la clase\n",
    "print(dist)"
   ]
  },
  {
   "cell_type": "code",
   "execution_count": null,
   "id": "c90b82f1",
   "metadata": {},
   "outputs": [],
   "source": []
  },
  {
   "cell_type": "code",
   "execution_count": null,
   "id": "a2d74d27",
   "metadata": {},
   "outputs": [],
   "source": []
  }
 ],
 "metadata": {
  "kernelspec": {
   "display_name": "Python 3 (ipykernel)",
   "language": "python",
   "name": "python3"
  },
  "language_info": {
   "codemirror_mode": {
    "name": "ipython",
    "version": 3
   },
   "file_extension": ".py",
   "mimetype": "text/x-python",
   "name": "python",
   "nbconvert_exporter": "python",
   "pygments_lexer": "ipython3",
   "version": "3.10.0"
  }
 },
 "nbformat": 4,
 "nbformat_minor": 5
}
