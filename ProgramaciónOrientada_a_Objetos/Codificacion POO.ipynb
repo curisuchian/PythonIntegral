{
 "cells": [
  {
   "cell_type": "markdown",
   "id": "4196d193",
   "metadata": {},
   "source": [
    "### Ejercicios de codificación"
   ]
  },
  {
   "cell_type": "markdown",
   "id": "67fb895b",
   "metadata": {},
   "source": [
    "Este cuaderno se encuentra en:\n",
    "\n",
    "https://github.com/gbonorino/PythonIntegral/tree/main/ProgramaciónOrientada_a_Objetos"
   ]
  },
  {
   "cell_type": "markdown",
   "id": "cf298f8f",
   "metadata": {},
   "source": [
    "#### Ejercicio 1\n",
    "- Defina una clase Rectangulo. \n",
    "- Crear un método init implementando las variables necesarias para calcular el área.\n",
    "- Crear un método de instancia para calcular el área de un rectángulo.\n",
    "- Instanciar un objeto de clase y emplearlo para ejecutar el método de instancia. "
   ]
  },
  {
   "cell_type": "markdown",
   "id": "a7c44d08",
   "metadata": {},
   "source": [
    "#### Ejercicio 2\n",
    "- Defina una clase Círculo.\n",
    "- Crear un método init implementando la variable de instancia necesaria para calcular el área y el perímetro de un círculo.\n",
    "- Crear sendos métodos de instancia para calcular el área y el perímetro de un círculo.\n",
    "- Usar el valor de pi tomado de numpy\n",
    "- Instanciar un objeto de clase y emplearlo para ejecutar los métodos de instancia."
   ]
  },
  {
   "cell_type": "markdown",
   "id": "6be5929a",
   "metadata": {},
   "source": [
    "####  Ejercicio 3\n",
    "Crear una clase Prisma() que herede de Rectangulo.<br>\n",
    "La nueva clase agrega la variable de instancia **altura**.<br>\n",
    "Modificar init para heredar las variables de instancia de Rectangulo.<br>\n",
    "Crear el método Volumen para calcular el volumen del prisma.<br>\n",
    "Imprimir resultado.<br>\n",
    "Se proveen las últimas sentencias:<br>\n",
    "miPrisma = Prisma(5,6,8)<br>\n",
    "print(\"El volumen del prisma es: \", miPrisma.Volumen())"
   ]
  },
  {
   "cell_type": "markdown",
   "id": "54dd28af",
   "metadata": {},
   "source": [
    "#### Ejercicio 4\n",
    "Simular una operación bancaria.<br>\n",
    "- Crear la clase CuentaBanco con variables de instancia: número de cuenta, Nombre y Balance.<br>\n",
    "- Crear los métodos Extraccion y Deposito, cada uno con un parámetro que indique cuanto se extrae y cuanto se deposita.<br>\n",
    "- El método Extraccion debe calcular si hay suficientes fondos.<br>\n",
    "\n",
    "Se proveen las últimas sentencias: <br>\n",
    "miCuenta = CuentaBanco(2178514584, \"Alberto\" , 2700)<br>\n",
    "miCuenta.Extraccion(300)<br>\n",
    "miCuenta.Deposito(200)"
   ]
  },
  {
   "cell_type": "markdown",
   "id": "edc0d412",
   "metadata": {},
   "source": [
    "### Soluciones"
   ]
  },
  {
   "cell_type": "code",
   "execution_count": 7,
   "id": "312b730b",
   "metadata": {},
   "outputs": [
    {
     "name": "stdout",
     "output_type": "stream",
     "text": [
      "120\n"
     ]
    }
   ],
   "source": [
    "# Ejercicio 1\n",
    "class Rectangulo():\n",
    "    def __init__(self, largo, ancho):\n",
    "        self.largo = largo\n",
    "        self.ancho  = ancho\n",
    "\n",
    "    def rectangulo_area(self):\n",
    "        return self.largo*self.ancho\n",
    "\n",
    "rect = Rectangulo(12, 10)\n",
    "print(rect.rectangulo_area())"
   ]
  },
  {
   "cell_type": "code",
   "execution_count": null,
   "id": "c475a2f9",
   "metadata": {},
   "outputs": [],
   "source": []
  },
  {
   "cell_type": "code",
   "execution_count": null,
   "id": "6956165e",
   "metadata": {},
   "outputs": [],
   "source": []
  },
  {
   "cell_type": "code",
   "execution_count": null,
   "id": "47fea40a",
   "metadata": {},
   "outputs": [],
   "source": []
  },
  {
   "cell_type": "code",
   "execution_count": null,
   "id": "298a5e96",
   "metadata": {},
   "outputs": [],
   "source": []
  },
  {
   "cell_type": "code",
   "execution_count": 8,
   "id": "8bbaf303",
   "metadata": {},
   "outputs": [
    {
     "name": "stdout",
     "output_type": "stream",
     "text": [
      "201.06192982974676\n",
      "50.26548245743669\n"
     ]
    }
   ],
   "source": [
    "# Ejercicio 2\n",
    "#!pip install numpy      # Habilitar si hace falta instalar numpy\n",
    "import numpy as np\n",
    "\n",
    "class Circulo():\n",
    "    def __init__(self, r):\n",
    "        self.radio = r\n",
    "\n",
    "    def area(self):\n",
    "        return self.radio**2*np.pi\n",
    "    \n",
    "    def perimetro(self):\n",
    "        return 2*self.radio*np.pi\n",
    "\n",
    "circ = Circulo(8)\n",
    "print(circ.area())\n",
    "print(circ.perimetro())"
   ]
  },
  {
   "cell_type": "code",
   "execution_count": null,
   "id": "d5de4057",
   "metadata": {},
   "outputs": [],
   "source": []
  },
  {
   "cell_type": "code",
   "execution_count": null,
   "id": "18d08ab7",
   "metadata": {},
   "outputs": [],
   "source": []
  },
  {
   "cell_type": "code",
   "execution_count": null,
   "id": "24a9f1c5",
   "metadata": {},
   "outputs": [],
   "source": []
  },
  {
   "cell_type": "code",
   "execution_count": null,
   "id": "ea0ee678",
   "metadata": {},
   "outputs": [],
   "source": []
  },
  {
   "cell_type": "code",
   "execution_count": 10,
   "id": "e8c03a7a",
   "metadata": {},
   "outputs": [
    {
     "name": "stdout",
     "output_type": "stream",
     "text": [
      "El volumen del prisma es:  240\n"
     ]
    }
   ],
   "source": [
    "# Ejercicio 3\n",
    "class Rectangulo:\n",
    "    # Declarar las variables de instancia: ancho, largo\n",
    "    def __init__(self, largo , ancho):\n",
    "        self.largo = largo\n",
    "        self.ancho = ancho\n",
    "    \n",
    "class Prisma(Rectangulo):\n",
    "    def __init__(self, largo, ancho , altura):\n",
    "        Rectangulo.__init__(self, largo, ancho)\n",
    "        self.altura = altura\n",
    "        \n",
    "    # Método Volumen\n",
    "    def Volumen(self):\n",
    "        return self.largo*self.ancho*self.altura\n",
    "    \n",
    "miPrisma = Prisma(5,6,8)\n",
    "print(\"El volumen del prisma es: \", miPrisma.Volumen())"
   ]
  },
  {
   "cell_type": "code",
   "execution_count": null,
   "id": "597cd32b",
   "metadata": {},
   "outputs": [],
   "source": []
  },
  {
   "cell_type": "code",
   "execution_count": null,
   "id": "7e8f43fe",
   "metadata": {},
   "outputs": [],
   "source": []
  },
  {
   "cell_type": "code",
   "execution_count": null,
   "id": "c9eabebf",
   "metadata": {},
   "outputs": [],
   "source": []
  },
  {
   "cell_type": "code",
   "execution_count": null,
   "id": "effdb5b4",
   "metadata": {},
   "outputs": [],
   "source": []
  },
  {
   "cell_type": "code",
   "execution_count": null,
   "id": "e713d319",
   "metadata": {},
   "outputs": [],
   "source": []
  },
  {
   "cell_type": "code",
   "execution_count": null,
   "id": "0eb338d4",
   "metadata": {},
   "outputs": [],
   "source": [
    "# Ejercicio 4\n",
    "class CuentaBanco:\n",
    "    # Variables de instancia \n",
    "    def __init__(self,numCuenta, Nombre, Balance):\n",
    "        self.numCuenta = numCuenta\n",
    "        self.Nombre = Nombre\n",
    "        self.Balance = Balance\n",
    "        \n",
    "    # Método Depósito\n",
    "    def Deposito(self , dep ):\n",
    "        self.Balance = self.Balance + dep\n",
    "        print(\"Balance \", self.Balance)\n",
    "    \n",
    "    # Método Extracción\n",
    "    def Extraccion(self , ext):\n",
    "        if(self.Balance < ext):\n",
    "            print(\"Operacion cancelada. Fondos insuficientes!\")\n",
    "        else:\n",
    "            self.Balance = self.Balance - ext\n",
    "        print(\"Balance \", self.Balance)\n",
    "        \n",
    "miCuenta = CuentaBanco(2178514584, \"Alberto\" , 2700)\n",
    "miCuenta.Extraccion(300)\n",
    "miCuenta.Deposito(200)"
   ]
  }
 ],
 "metadata": {
  "kernelspec": {
   "display_name": "Python 3 (ipykernel)",
   "language": "python",
   "name": "python3"
  },
  "language_info": {
   "codemirror_mode": {
    "name": "ipython",
    "version": 3
   },
   "file_extension": ".py",
   "mimetype": "text/x-python",
   "name": "python",
   "nbconvert_exporter": "python",
   "pygments_lexer": "ipython3",
   "version": "3.10.0"
  }
 },
 "nbformat": 4,
 "nbformat_minor": 5
}
