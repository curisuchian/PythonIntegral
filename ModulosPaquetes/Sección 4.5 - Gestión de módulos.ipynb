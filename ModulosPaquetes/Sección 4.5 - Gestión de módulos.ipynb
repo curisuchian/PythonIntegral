{
 "cells": [
  {
   "cell_type": "markdown",
   "id": "b0282382",
   "metadata": {},
   "source": [
    "En Windows, Python guarda los paquetes en (en mi PC): C:\\users\\gustavo gb\\appdata\\local\\programs\\python\\python39\\lib\\site-packages.<br>\n",
    "En Mac se guardan en: /System/Library/Frameworks/Python.framework. "
   ]
  },
  {
   "cell_type": "code",
   "execution_count": null,
   "id": "17ee865d",
   "metadata": {
    "scrolled": true
   },
   "outputs": [],
   "source": [
    "# Ubicar la carpeta donde se guardan módulos y paquetes\n",
    "import site\n",
    "\n",
    "site.getsitepackages()"
   ]
  },
  {
   "cell_type": "code",
   "execution_count": null,
   "id": "32c3a1a2",
   "metadata": {},
   "outputs": [],
   "source": [
    "# Ubicar un modulo espacifico\n",
    "import matplotlib\n",
    "\n",
    "matplotlib.__file__"
   ]
  },
  {
   "cell_type": "markdown",
   "id": "fb5c2ad7",
   "metadata": {},
   "source": [
    "#### Obtener información sobre un módulo"
   ]
  },
  {
   "cell_type": "code",
   "execution_count": null,
   "id": "49545ae6",
   "metadata": {},
   "outputs": [],
   "source": [
    "help(math)"
   ]
  },
  {
   "cell_type": "code",
   "execution_count": null,
   "id": "5aa9c733",
   "metadata": {},
   "outputs": [],
   "source": [
    "math.__doc__"
   ]
  },
  {
   "cell_type": "code",
   "execution_count": null,
   "id": "70db166e",
   "metadata": {},
   "outputs": [],
   "source": [
    "import pydoc\n",
    "\n",
    "pydoc.help()"
   ]
  },
  {
   "cell_type": "markdown",
   "id": "0f2c70a3",
   "metadata": {},
   "source": [
    "#### Atributos de un modulo"
   ]
  },
  {
   "cell_type": "code",
   "execution_count": null,
   "id": "ba519091",
   "metadata": {},
   "outputs": [],
   "source": [
    "# Listado de contenido\n",
    "import math\n",
    "\n",
    "dir(math)"
   ]
  },
  {
   "cell_type": "code",
   "execution_count": null,
   "id": "91d26f99",
   "metadata": {},
   "outputs": [],
   "source": [
    "math.__dict__"
   ]
  },
  {
   "cell_type": "markdown",
   "id": "a5d400c9",
   "metadata": {},
   "source": [
    "#### Listado de módulos instalados"
   ]
  },
  {
   "cell_type": "code",
   "execution_count": null,
   "id": "799eb26e",
   "metadata": {},
   "outputs": [],
   "source": [
    "help(\"modules\")"
   ]
  }
 ],
 "metadata": {
  "kernelspec": {
   "display_name": "Python 3 (ipykernel)",
   "language": "python",
   "name": "python3"
  },
  "language_info": {
   "codemirror_mode": {
    "name": "ipython",
    "version": 3
   },
   "file_extension": ".py",
   "mimetype": "text/x-python",
   "name": "python",
   "nbconvert_exporter": "python",
   "pygments_lexer": "ipython3",
   "version": "3.10.0"
  }
 },
 "nbformat": 4,
 "nbformat_minor": 5
}
