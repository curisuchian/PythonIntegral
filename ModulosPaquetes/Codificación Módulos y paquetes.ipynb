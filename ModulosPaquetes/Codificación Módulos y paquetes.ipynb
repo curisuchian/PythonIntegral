{
 "cells": [
  {
   "cell_type": "markdown",
   "id": "ad80bf05",
   "metadata": {},
   "source": [
    "### Ejercicios de codificación"
   ]
  },
  {
   "cell_type": "markdown",
   "id": "67fb895b",
   "metadata": {},
   "source": [
    "Este cuaderno se encuentra en:\n",
    "\n",
    "https://github.com/gbonorino/PythonIntegral/tree/main/ModulosPaquetes"
   ]
  },
  {
   "cell_type": "markdown",
   "id": "a2b21136",
   "metadata": {},
   "source": [
    "#### Ejercicio 1\n",
    "- Abrir un procesador de texto como Notepad++. \n",
    "- En él escribir  <br>\n",
    "print(“Mi modulo”)\n",
    "\n",
    "- Guardarlo como modulo.py.  Al guardar elegir All files, o buscar Python file en el menú desplegable.\n",
    "- Crear otro archivo en Notepad++ con la línea import modulo. \n",
    "- Guardarlo como principal.py.\n",
    "- Abrir una terminal y en el prompt escribir el comando <br>\n",
    "$ python principal.py\n",
    "\n",
    "Debe imprimirse en pantalla Mi modulo."
   ]
  },
  {
   "cell_type": "markdown",
   "id": "018a50d6",
   "metadata": {},
   "source": [
    "#### Ejercicio 2\n",
    "En Notepad++ escribir un script de nombre mi_suma con el código: <br>\n",
    "def suma(x, y): <br>\n",
    "(indentar) return x + y\n",
    " <br>\n",
    "Escribir otro script de nombre main.py que incluya el comando  <br>\n",
    "from mi_suma import suma\n",
    "\n",
    "suma(6,9).\n",
    "\n",
    "En la terminal ejecutar  <br>\n",
    "python main.py\n",
    "\n",
    "Debe imprimir el valor 15"
   ]
  },
  {
   "cell_type": "markdown",
   "id": "db61ff7a",
   "metadata": {},
   "source": [
    "#### No se dan soluciones"
   ]
  }
 ],
 "metadata": {
  "kernelspec": {
   "display_name": "Python 3 (ipykernel)",
   "language": "python",
   "name": "python3"
  },
  "language_info": {
   "codemirror_mode": {
    "name": "ipython",
    "version": 3
   },
   "file_extension": ".py",
   "mimetype": "text/x-python",
   "name": "python",
   "nbconvert_exporter": "python",
   "pygments_lexer": "ipython3",
   "version": "3.10.0"
  }
 },
 "nbformat": 4,
 "nbformat_minor": 5
}
