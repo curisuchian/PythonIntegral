{
 "cells": [
  {
   "cell_type": "markdown",
   "id": "excess-synthesis",
   "metadata": {},
   "source": [
    "Sintaxis: <br>\n",
    "reduce(funcion, secuencia)"
   ]
  },
  {
   "cell_type": "code",
   "execution_count": null,
   "id": "funded-corner",
   "metadata": {},
   "outputs": [],
   "source": [
    "# Sin reduce()\n",
    "numeros = [1, 2, 3, 4]\n",
    "total = 0\n",
    "for num in numeros:\n",
    "    total += num\n",
    "    \n",
    "print(total)"
   ]
  },
  {
   "cell_type": "code",
   "execution_count": null,
   "id": "1deb3e5a",
   "metadata": {},
   "outputs": [],
   "source": []
  },
  {
   "cell_type": "code",
   "execution_count": null,
   "id": "civic-insertion",
   "metadata": {
    "scrolled": true
   },
   "outputs": [],
   "source": [
    "# Usando reduce()\n",
    "from functools import reduce\n",
    "\n",
    "def suma(a, b):\n",
    "    return a + b\n",
    "\n",
    "print(reduce(suma, [1, 2, 3, 4])) "
   ]
  },
  {
   "cell_type": "code",
   "execution_count": null,
   "id": "5ad59235",
   "metadata": {},
   "outputs": [],
   "source": []
  },
  {
   "cell_type": "code",
   "execution_count": null,
   "id": "turkish-design",
   "metadata": {},
   "outputs": [],
   "source": [
    "# Multiplicacion\n",
    "from functools import reduce\n",
    "\n",
    "numeros = [1, 2, 3, 4]\n",
    "def mult(a, b):\n",
    "    return a * b\n",
    "\n",
    "print(reduce(mult, numeros)) "
   ]
  },
  {
   "cell_type": "code",
   "execution_count": null,
   "id": "58d448b8",
   "metadata": {},
   "outputs": [],
   "source": []
  },
  {
   "cell_type": "code",
   "execution_count": null,
   "id": "conditional-parcel",
   "metadata": {},
   "outputs": [],
   "source": [
    "from math import prod\n",
    "\n",
    "numeros = [1, 2, 3, 4]\n",
    "prod(numeros)"
   ]
  },
  {
   "cell_type": "code",
   "execution_count": null,
   "id": "36e6dd3a",
   "metadata": {},
   "outputs": [],
   "source": []
  },
  {
   "cell_type": "code",
   "execution_count": null,
   "id": "31ab4276",
   "metadata": {},
   "outputs": [],
   "source": []
  },
  {
   "cell_type": "code",
   "execution_count": null,
   "id": "worldwide-reporter",
   "metadata": {},
   "outputs": [],
   "source": [
    "from functools import reduce\n",
    "\n",
    "curso = ['Este', 'es', 'un', 'curso', 'de', 'Python']\n",
    "def une_str(a, b):\n",
    "    return \" \".join((a, b))\n",
    "\n",
    "reduce(une_str, curso)"
   ]
  },
  {
   "cell_type": "code",
   "execution_count": null,
   "id": "2906f38f",
   "metadata": {},
   "outputs": [],
   "source": []
  },
  {
   "cell_type": "code",
   "execution_count": null,
   "id": "intellectual-extent",
   "metadata": {
    "scrolled": true
   },
   "outputs": [],
   "source": [
    "# Combinar reduce() con lambda() \n",
    "from functools import reduce\n",
    "\n",
    "lst = [5, 8, 10, 20, 50, 100] \n",
    "suma = reduce((lambda x, y: x + y), lst) \n",
    "print (suma) "
   ]
  },
  {
   "cell_type": "code",
   "execution_count": null,
   "id": "4960755c",
   "metadata": {},
   "outputs": [],
   "source": []
  },
  {
   "cell_type": "code",
   "execution_count": null,
   "id": "7e977e41",
   "metadata": {},
   "outputs": [],
   "source": []
  },
  {
   "cell_type": "code",
   "execution_count": null,
   "id": "worldwide-fantasy",
   "metadata": {},
   "outputs": [],
   "source": [
    "from functools import reduce\n",
    "\n",
    "lst = [5, 8, 10, 20, 50, 100] \n",
    "print(reduce(lambda a, b: a if a < b else b, lst))\n",
    "print(reduce(lambda a, b: a if a > b else b, lst))"
   ]
  },
  {
   "cell_type": "code",
   "execution_count": null,
   "id": "a6d03aa1",
   "metadata": {},
   "outputs": [],
   "source": []
  },
  {
   "cell_type": "code",
   "execution_count": null,
   "id": "17c35462",
   "metadata": {},
   "outputs": [],
   "source": []
  }
 ],
 "metadata": {
  "kernelspec": {
   "display_name": "Python 3 (ipykernel)",
   "language": "python",
   "name": "python3"
  },
  "language_info": {
   "codemirror_mode": {
    "name": "ipython",
    "version": 3
   },
   "file_extension": ".py",
   "mimetype": "text/x-python",
   "name": "python",
   "nbconvert_exporter": "python",
   "pygments_lexer": "ipython3",
   "version": "3.10.0"
  }
 },
 "nbformat": 4,
 "nbformat_minor": 5
}
