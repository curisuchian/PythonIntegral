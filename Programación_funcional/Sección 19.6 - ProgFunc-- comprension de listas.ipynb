{
 "cells": [
  {
   "cell_type": "markdown",
   "id": "stuffed-baking",
   "metadata": {},
   "source": [
    "Sintaxis: <br>\n",
    "nueva_lista = [expresion for variable in lista_original]"
   ]
  },
  {
   "cell_type": "code",
   "execution_count": null,
   "id": "expected-disco",
   "metadata": {},
   "outputs": [],
   "source": [
    "lista = [1, 2, 3, 4, 5]\n",
    "for elemento in lista:\n",
    "    elemento = elemento * elemento\n",
    "    print(elemento)"
   ]
  },
  {
   "cell_type": "code",
   "execution_count": null,
   "id": "bae5f0c0",
   "metadata": {},
   "outputs": [],
   "source": []
  },
  {
   "cell_type": "code",
   "execution_count": null,
   "id": "anticipated-expression",
   "metadata": {},
   "outputs": [],
   "source": [
    "lista = [1, 2, 3, 4, 5]\n",
    "print([elemento * elemento for elemento in lista])"
   ]
  },
  {
   "cell_type": "code",
   "execution_count": null,
   "id": "7f156a52",
   "metadata": {},
   "outputs": [],
   "source": []
  },
  {
   "cell_type": "code",
   "execution_count": null,
   "id": "reasonable-wisdom",
   "metadata": {},
   "outputs": [],
   "source": [
    "# Al presentar map() se dio el ejemplo\n",
    "nums_str = [\"4\", \"8\", \"6\", \"5\", \"3\", \"2\", \"8\", \"9\", \"2\", \"5\"]\n",
    "nums_int = map(int, nums_str)\n",
    "print(list(nums_int))      # Se coerciona el resultado a lista"
   ]
  },
  {
   "cell_type": "code",
   "execution_count": null,
   "id": "76e27c90",
   "metadata": {},
   "outputs": [],
   "source": []
  },
  {
   "cell_type": "code",
   "execution_count": null,
   "id": "dutch-berlin",
   "metadata": {
    "scrolled": true
   },
   "outputs": [],
   "source": [
    "# con comprensión de listas.\n",
    "nums_str = [\"4\", \"8\", \"6\", \"5\", \"3\", \"2\", \"8\", \"9\", \"2\", \"5\"]\n",
    "lst = [int(i) for i in nums_str]\n",
    "print(lst)\n",
    "type(lst)"
   ]
  },
  {
   "cell_type": "code",
   "execution_count": null,
   "id": "6e3b09b3",
   "metadata": {},
   "outputs": [],
   "source": []
  },
  {
   "cell_type": "code",
   "execution_count": null,
   "id": "cognitive-maker",
   "metadata": {},
   "outputs": [],
   "source": [
    "# Con clausula condicional\n",
    "numlst = [4, 8, 6, 5, 3, 2, 8, 9, 2, 5]\n",
    "pares = [i for i in numlst if i % 2 == 0]\n",
    "print(pares)"
   ]
  },
  {
   "cell_type": "code",
   "execution_count": null,
   "id": "af2fc0dc",
   "metadata": {},
   "outputs": [],
   "source": []
  },
  {
   "cell_type": "code",
   "execution_count": null,
   "id": "essential-simpson",
   "metadata": {},
   "outputs": [],
   "source": [
    "# Lista de diccionarios\n",
    "lista_dict = [{'año':2019, 'campeon':'España', 'resultado':[2,0], 'lugar':'Madrid'},\n",
    "{'año':2018, 'campeon':'Croacia', 'resultado':[3,1], 'lugar':'Lille'},\n",
    "{'año':2017, 'campeon':'Francia', 'resultado':[3,2], 'lugar':'Lille'},\n",
    "{'año':2016, 'campeon':'Argentina', 'resultado':[3,2], 'lugar':'Zagreb'},\n",
    "{'año':2015, 'campeon':'Gran Bretaña', 'resultado':[3,1], 'lugar':'Ghent'}]\n",
    "\n",
    "d = [dict['año']  for dict in lista_dict if dict['campeon'] == 'Argentina']\n",
    "print(\"Argentina salió campeón en \", d)"
   ]
  },
  {
   "cell_type": "code",
   "execution_count": null,
   "id": "53c55138",
   "metadata": {},
   "outputs": [],
   "source": []
  },
  {
   "cell_type": "code",
   "execution_count": null,
   "id": "neutral-newark",
   "metadata": {
    "scrolled": true
   },
   "outputs": [],
   "source": [
    "# Eliminar los corchetes\n",
    "for j in d:\n",
    "    print(\"Argentina salió campeón en\",j)"
   ]
  },
  {
   "cell_type": "code",
   "execution_count": null,
   "id": "cb96265c",
   "metadata": {},
   "outputs": [],
   "source": []
  },
  {
   "cell_type": "code",
   "execution_count": null,
   "id": "ff0528fb",
   "metadata": {},
   "outputs": [],
   "source": []
  }
 ],
 "metadata": {
  "kernelspec": {
   "display_name": "Python 3 (ipykernel)",
   "language": "python",
   "name": "python3"
  },
  "language_info": {
   "codemirror_mode": {
    "name": "ipython",
    "version": 3
   },
   "file_extension": ".py",
   "mimetype": "text/x-python",
   "name": "python",
   "nbconvert_exporter": "python",
   "pygments_lexer": "ipython3",
   "version": "3.10.0"
  }
 },
 "nbformat": 4,
 "nbformat_minor": 5
}
