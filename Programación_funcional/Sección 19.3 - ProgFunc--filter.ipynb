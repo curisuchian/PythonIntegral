{
 "cells": [
  {
   "cell_type": "markdown",
   "id": "bearing-exhibition",
   "metadata": {},
   "source": [
    "Sintaxis: <br>\n",
    "filter(func, iterable)"
   ]
  },
  {
   "cell_type": "code",
   "execution_count": null,
   "id": "electoral-clarity",
   "metadata": {},
   "outputs": [],
   "source": [
    "num = [15, 13, 10, 450, 6, 50]\n",
    "\n",
    "def par(num):\n",
    "    return num % 2 == 0 \n",
    "\n",
    "list(filter(par, num))"
   ]
  },
  {
   "cell_type": "code",
   "execution_count": null,
   "id": "7831d022",
   "metadata": {},
   "outputs": [],
   "source": []
  },
  {
   "cell_type": "code",
   "execution_count": null,
   "id": "american-seeking",
   "metadata": {},
   "outputs": [],
   "source": [
    "cadenas = ['suma','var1','3var','nombre#']\n",
    "list(filter(str.isidentifier, cadenas))"
   ]
  },
  {
   "cell_type": "code",
   "execution_count": null,
   "id": "4cc44577",
   "metadata": {},
   "outputs": [],
   "source": []
  },
  {
   "cell_type": "code",
   "execution_count": null,
   "id": "entertaining-parcel",
   "metadata": {},
   "outputs": [],
   "source": [
    "# Uso de None\n",
    "lst = [15, 13, 10, 450, 6, 50,'','var1','3var',0, []]\n",
    "lst2 = filter(None, lst)\n",
    "list(lst2)"
   ]
  },
  {
   "cell_type": "code",
   "execution_count": null,
   "id": "393a0138",
   "metadata": {},
   "outputs": [],
   "source": []
  },
  {
   "cell_type": "code",
   "execution_count": null,
   "id": "compound-settlement",
   "metadata": {},
   "outputs": [],
   "source": [
    "# Eliminar valores extremos\n",
    "muestra = [10, 8, 10, 8, 222, 7, 9, 3, 300, 9, 5, 9, 100]\n",
    "minimo = 3\n",
    "maximo = 30\n",
    "\n",
    "# lambda x: minimo <= x <= maximo\n",
    "nueva_muestra = list(filter(lambda x: minimo <= x <= maximo, muestra))\n",
    "nueva_muestra"
   ]
  },
  {
   "cell_type": "code",
   "execution_count": null,
   "id": "4b5516a2",
   "metadata": {},
   "outputs": [],
   "source": []
  },
  {
   "cell_type": "code",
   "execution_count": null,
   "id": "secret-scope",
   "metadata": {},
   "outputs": [],
   "source": [
    "eliminar = ['con', 'por', 'el', 'un', 'en', 'a']\n",
    "texto = \"Con diez cañones por banda \\\n",
    "         Viento en popa a toda vela \\\n",
    "         No corta el mar sino vuela \\\n",
    "         Un velero bergantín.\"\n",
    "texto_min = texto.lower()\n",
    "texto_sep = texto_min.split()\n",
    "\n",
    "# lambda s: s not in eliminar\n",
    "res = filter(lambda s: s not in eliminar, texto_sep)\n",
    "print(list(res))"
   ]
  },
  {
   "cell_type": "code",
   "execution_count": null,
   "id": "a67aa8f6",
   "metadata": {},
   "outputs": [],
   "source": []
  },
  {
   "cell_type": "code",
   "execution_count": null,
   "id": "6b1edadd",
   "metadata": {},
   "outputs": [],
   "source": []
  }
 ],
 "metadata": {
  "kernelspec": {
   "display_name": "Python 3 (ipykernel)",
   "language": "python",
   "name": "python3"
  },
  "language_info": {
   "codemirror_mode": {
    "name": "ipython",
    "version": 3
   },
   "file_extension": ".py",
   "mimetype": "text/x-python",
   "name": "python",
   "nbconvert_exporter": "python",
   "pygments_lexer": "ipython3",
   "version": "3.10.0"
  }
 },
 "nbformat": 4,
 "nbformat_minor": 5
}
