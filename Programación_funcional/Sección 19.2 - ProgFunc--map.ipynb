{
 "cells": [
  {
   "cell_type": "markdown",
   "id": "convenient-iraqi",
   "metadata": {},
   "source": [
    "Sintaxis:<br>\n",
    "map(func, iter1, iter2, ...)"
   ]
  },
  {
   "cell_type": "code",
   "execution_count": null,
   "id": "afc6f48d",
   "metadata": {},
   "outputs": [],
   "source": [
    "from math import sqrt\n",
    "\n",
    "num = (2, 6, 5, 3)\n",
    "d = map(sqrt, num)\n",
    "list(d)"
   ]
  },
  {
   "cell_type": "code",
   "execution_count": null,
   "id": "6a70623e",
   "metadata": {},
   "outputs": [],
   "source": []
  },
  {
   "cell_type": "code",
   "execution_count": null,
   "id": "little-craps",
   "metadata": {},
   "outputs": [],
   "source": [
    "def suma(n):\n",
    "    return n + n\n",
    "\n",
    "num = (2, 6, 5, 3)\n",
    "res = map(suma, num)  # suma va sin parentesis\n",
    "print(list(res))"
   ]
  },
  {
   "cell_type": "code",
   "execution_count": null,
   "id": "2010cd1b",
   "metadata": {},
   "outputs": [],
   "source": []
  },
  {
   "cell_type": "code",
   "execution_count": null,
   "id": "biblical-karma",
   "metadata": {},
   "outputs": [],
   "source": [
    "# El mismo resultado sin usar map\n",
    "num = (2, 6, 5, 3)\n",
    "lst = []\n",
    "for n in num:\n",
    "    temp = n + n\n",
    "    lst.append(temp)\n",
    "    \n",
    "print(lst)"
   ]
  },
  {
   "cell_type": "code",
   "execution_count": null,
   "id": "ee4d29bd",
   "metadata": {},
   "outputs": [],
   "source": []
  },
  {
   "cell_type": "code",
   "execution_count": null,
   "id": "eef8a085",
   "metadata": {},
   "outputs": [],
   "source": []
  },
  {
   "cell_type": "code",
   "execution_count": null,
   "id": "d7ae81ae",
   "metadata": {},
   "outputs": [],
   "source": []
  },
  {
   "cell_type": "code",
   "execution_count": null,
   "id": "traditional-saying",
   "metadata": {},
   "outputs": [],
   "source": [
    "# Usando una función preinstalada\n",
    "nums_str = [\"4\", \"8\", \"6\", \"5\", \"3\", \"2\", \"8\", \"9\", \"2\", \"5\"]\n",
    "nums_int = map(int, nums_str)\n",
    "print(list(nums_int))         # print() requiere una lista para imprimir los valores"
   ]
  },
  {
   "cell_type": "code",
   "execution_count": null,
   "id": "adcb463a",
   "metadata": {},
   "outputs": [],
   "source": [
    "type(nums_int)"
   ]
  },
  {
   "cell_type": "code",
   "execution_count": null,
   "id": "2e0d9cdf",
   "metadata": {},
   "outputs": [],
   "source": []
  },
  {
   "cell_type": "code",
   "execution_count": null,
   "id": "37a527a0",
   "metadata": {
    "scrolled": true
   },
   "outputs": [],
   "source": [
    "[*map(int,  [\"4\", \"8\", \"6\", \"5\", \"3\", \"2\", \"8\", \"9\", \"2\", \"5\"])]\n"
   ]
  },
  {
   "cell_type": "code",
   "execution_count": null,
   "id": "0868b360",
   "metadata": {},
   "outputs": [],
   "source": []
  },
  {
   "cell_type": "code",
   "execution_count": null,
   "id": "6dbe7446",
   "metadata": {},
   "outputs": [],
   "source": []
  },
  {
   "cell_type": "code",
   "execution_count": null,
   "id": "organized-google",
   "metadata": {},
   "outputs": [],
   "source": [
    "# Convertir un listado de temperaturas a escala Fahrenheit. \n",
    "temp_fahr = [100, 89, 58, 32]   # temperaturas\n",
    "\n",
    "def fahr_celsius(gradFahr):      \n",
    "    return (gradFahr - 32) * 5 / 9\n",
    "\n",
    "conv = map(fahr_celsius, temp_fahr)\n",
    "print(list(conv))"
   ]
  },
  {
   "cell_type": "code",
   "execution_count": null,
   "id": "e9315179",
   "metadata": {},
   "outputs": [],
   "source": []
  },
  {
   "cell_type": "code",
   "execution_count": null,
   "id": "sweet-humor",
   "metadata": {},
   "outputs": [],
   "source": [
    "# Sumar elementos repartidos en dos listas.\n",
    "def suma(x, y):\n",
    "    return x + y\n",
    "\n",
    "it_1 = [1, 2, 3]\n",
    "it_2 = [4, 5, 6, 7]\n",
    "res = map(suma, it_1,it_2)\n",
    "print(list(res))"
   ]
  },
  {
   "cell_type": "code",
   "execution_count": null,
   "id": "3069e371",
   "metadata": {},
   "outputs": [],
   "source": []
  },
  {
   "cell_type": "code",
   "execution_count": null,
   "id": "postal-carroll",
   "metadata": {},
   "outputs": [],
   "source": [
    "# Combinar map() con lambda() \n",
    "lst = [5, 7, 22, 97, 54, 62, 77, 23, 73, 61] \n",
    "  \n",
    "final_list = list(map(lambda x: x*2, lst)) \n",
    "print(final_list) "
   ]
  },
  {
   "cell_type": "code",
   "execution_count": null,
   "id": "8f2fbde9",
   "metadata": {},
   "outputs": [],
   "source": []
  },
  {
   "cell_type": "code",
   "execution_count": null,
   "id": "04afff80",
   "metadata": {},
   "outputs": [],
   "source": []
  }
 ],
 "metadata": {
  "kernelspec": {
   "display_name": "Python 3 (ipykernel)",
   "language": "python",
   "name": "python3"
  },
  "language_info": {
   "codemirror_mode": {
    "name": "ipython",
    "version": 3
   },
   "file_extension": ".py",
   "mimetype": "text/x-python",
   "name": "python",
   "nbconvert_exporter": "python",
   "pygments_lexer": "ipython3",
   "version": "3.10.0"
  }
 },
 "nbformat": 4,
 "nbformat_minor": 5
}
