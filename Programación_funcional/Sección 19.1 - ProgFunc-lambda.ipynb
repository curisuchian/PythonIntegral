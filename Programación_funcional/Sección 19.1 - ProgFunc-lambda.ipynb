{
 "cells": [
  {
   "cell_type": "markdown",
   "id": "negative-ocean",
   "metadata": {},
   "source": [
    "Sintaxis: <br>\n",
    "lambda argumentos : expresion"
   ]
  },
  {
   "cell_type": "code",
   "execution_count": null,
   "id": "0770c6e5",
   "metadata": {},
   "outputs": [],
   "source": [
    "lambda a : a + 10"
   ]
  },
  {
   "cell_type": "code",
   "execution_count": null,
   "id": "48f9b417",
   "metadata": {},
   "outputs": [],
   "source": []
  },
  {
   "cell_type": "code",
   "execution_count": null,
   "id": "6ea2643e",
   "metadata": {},
   "outputs": [],
   "source": [
    "def <lambda>(parameters):\n",
    "    return expression"
   ]
  },
  {
   "cell_type": "code",
   "execution_count": null,
   "id": "7932ec1e",
   "metadata": {},
   "outputs": [],
   "source": []
  },
  {
   "cell_type": "code",
   "execution_count": null,
   "id": "hidden-tactics",
   "metadata": {},
   "outputs": [],
   "source": [
    "suma = lambda a : a + 10\n",
    "print(suma(5))"
   ]
  },
  {
   "cell_type": "code",
   "execution_count": null,
   "id": "3180acde",
   "metadata": {},
   "outputs": [],
   "source": []
  },
  {
   "cell_type": "code",
   "execution_count": null,
   "id": "rubber-requirement",
   "metadata": {},
   "outputs": [],
   "source": [
    "mult = lambda a, b : a * b\n",
    "print(mult(5, 6))"
   ]
  },
  {
   "cell_type": "code",
   "execution_count": null,
   "id": "a3e56457",
   "metadata": {},
   "outputs": [],
   "source": []
  },
  {
   "cell_type": "code",
   "execution_count": null,
   "id": "amino-herald",
   "metadata": {},
   "outputs": [],
   "source": [
    "# Funcion tradicional equivalente\n",
    "def mult(a,b):\n",
    "    return a*b\n",
    "\n",
    "mult(5,6)"
   ]
  },
  {
   "cell_type": "code",
   "execution_count": null,
   "id": "2b5ce8ae",
   "metadata": {},
   "outputs": [],
   "source": []
  },
  {
   "cell_type": "code",
   "execution_count": null,
   "id": "devoted-alpha",
   "metadata": {},
   "outputs": [],
   "source": [
    "# lambda dentro de una funcion\n",
    "def mult(num):\n",
    "    return lambda x : x * num\n",
    "\n",
    "res = mult(8)         # Se invoca mult con num=8\n",
    "print(res(9))"
   ]
  },
  {
   "cell_type": "code",
   "execution_count": null,
   "id": "6751834c",
   "metadata": {},
   "outputs": [],
   "source": []
  },
  {
   "cell_type": "code",
   "execution_count": null,
   "id": "8c345bd6",
   "metadata": {},
   "outputs": [],
   "source": []
  }
 ],
 "metadata": {
  "kernelspec": {
   "display_name": "Python 3 (ipykernel)",
   "language": "python",
   "name": "python3"
  },
  "language_info": {
   "codemirror_mode": {
    "name": "ipython",
    "version": 3
   },
   "file_extension": ".py",
   "mimetype": "text/x-python",
   "name": "python",
   "nbconvert_exporter": "python",
   "pygments_lexer": "ipython3",
   "version": "3.10.0"
  }
 },
 "nbformat": 4,
 "nbformat_minor": 5
}
