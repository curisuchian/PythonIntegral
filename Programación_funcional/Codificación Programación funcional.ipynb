{
 "cells": [
  {
   "cell_type": "markdown",
   "id": "9aa978d4",
   "metadata": {},
   "source": [
    "### Ejercicios de codificación"
   ]
  },
  {
   "cell_type": "markdown",
   "id": "67fb895b",
   "metadata": {},
   "source": [
    "Este cuaderno se encuentra en:\n",
    "\n",
    "https://github.com/gbonorino/PythonIntegral/tree/main/Programación_funcional"
   ]
  },
  {
   "cell_type": "markdown",
   "id": "251aa11d",
   "metadata": {},
   "source": [
    "#### Ejercicio 1\n",
    "Extraer información con map y lambda.<br>\n",
    "Se desea contar cuantas veces se encuentra \"a\" en cada palabra de lst1.<br>\n",
    "lst1=[\"Alpino\", \"Avalancha\", \"Polvo\", \"Nieve\", \"Cima\"]\n",
    "\n",
    "Emplear la función count en una expresión lambda dentro de map.<br>\n",
    "Para imprimir convertir a lista."
   ]
  },
  {
   "cell_type": "markdown",
   "id": "cf855206",
   "metadata": {},
   "source": [
    "#### Ejercicio 2\n",
    "Filtrar información con filter y lambda.<br>\n",
    "Dada la lista:<br>\n",
    "lst = [-3, 4, 71, -555, -0.02, 0, 6, 0.5, 8, 4, 3]\n",
    "\n",
    "Extraer los valores inferiores a 3.<br>\n",
    "Hacer la selección con lambda y pasarla a filter.<br>\n",
    "Para imprimir convertir a lista."
   ]
  },
  {
   "cell_type": "markdown",
   "id": "e94ffda7",
   "metadata": {},
   "source": [
    "#### Ejercicio 3\n",
    "Retomar parcialmente el Ejercicio 2. <br>\n",
    "Se trata de crear una expresión lambda que eleve al cuadrado los valores seleccionados, incluirla en una función map, y aplicarla al código usado en el Ejercicio 2 para filtrar los números inferiores a 3. <br>\n",
    "Puede escribir todas las operaciones en una línea o separar filter y map en sendos renglones."
   ]
  },
  {
   "cell_type": "markdown",
   "id": "40a362ba",
   "metadata": {},
   "source": [
    "#### Ejercicio 4\n",
    "Combinar listas con zip().<br>\n",
    "Se dispone de un listado de ciudades y otro con las coordenadas geográficas:<br>\n",
    "lst1 = [\"Ushuaia\", \"Salta\", \"Junin\", \"Dolores\", \"Tucuman\"]<br>\n",
    "lst2 = [(-54.5,-68.2), (-24.8,-64.4), (-34.5,-60.8), (-36.3,-57.7), (-26.8,-65.2)]<br>\n",
    "\n",
    "Combinarlas en otra lista que aparee coordenadas y ciudades. "
   ]
  },
  {
   "cell_type": "markdown",
   "id": "2f3d83d5",
   "metadata": {},
   "source": [
    "#### Ejercicio 5\n",
    "Convertir la lista obtenida en el Ejercicio 4 en un diccionario.<br>\n",
    "Usar el constructor dict. Un diccionario facilita el acceso a los datos."
   ]
  },
  {
   "cell_type": "markdown",
   "id": "d4630264",
   "metadata": {},
   "source": [
    "#### Ejercicio 6\n",
    "- Se tiene la lista lst1=[1000, 500, 600, 700, 5000, 90000, 17500].\n",
    "- Combine las funciones lambda(), filter() y map() para sumar 2000 a los valores inferiores a 8000.\n",
    "- El orden de ejecución es primero filter y luego map; ambos usan lambda."
   ]
  },
  {
   "cell_type": "markdown",
   "id": "dd91bc7c",
   "metadata": {},
   "source": [
    "#### Ejercicio 7\n",
    "- Se tiene la lista lst1=[1,2,3,4,5].\n",
    "- Emplear comprensión de listas para generar un duplicado."
   ]
  },
  {
   "cell_type": "code",
   "execution_count": null,
   "id": "88a2f1a0",
   "metadata": {},
   "outputs": [],
   "source": []
  },
  {
   "cell_type": "markdown",
   "id": "17d8c76f",
   "metadata": {},
   "source": [
    "### Soluciones"
   ]
  },
  {
   "cell_type": "code",
   "execution_count": 10,
   "id": "608e0ca6",
   "metadata": {},
   "outputs": [
    {
     "data": {
      "text/plain": [
       "[0, 3, 0, 0, 1]"
      ]
     },
     "execution_count": 10,
     "metadata": {},
     "output_type": "execute_result"
    }
   ],
   "source": [
    "# Ejercicio 1\n",
    "lst1=[\"Alpino\", \"Avalancha\", \"Polvo\", \"Nieve\", \"Cima\"]\n",
    "lst2 = list(map(lambda x: x.count(\"a\"), lst1))\n",
    "lst2"
   ]
  },
  {
   "cell_type": "code",
   "execution_count": null,
   "id": "7bae73de",
   "metadata": {},
   "outputs": [],
   "source": []
  },
  {
   "cell_type": "code",
   "execution_count": 11,
   "id": "ef3a0ff9",
   "metadata": {},
   "outputs": [
    {
     "data": {
      "text/plain": [
       "[-3, -555, -0.02, 0, 0.5]"
      ]
     },
     "execution_count": 11,
     "metadata": {},
     "output_type": "execute_result"
    }
   ],
   "source": [
    "# Ejercicio 2\n",
    "lst = [-3, 4, 71, -555, -0.02, 0, 6, 0.5, 8, 4, 3]\n",
    "filtra_menores = filter(lambda x : x < 3, lst)\n",
    "list(filtra_menores)"
   ]
  },
  {
   "cell_type": "code",
   "execution_count": null,
   "id": "bbc5c031",
   "metadata": {},
   "outputs": [],
   "source": []
  },
  {
   "cell_type": "code",
   "execution_count": 12,
   "id": "64bbb463",
   "metadata": {},
   "outputs": [
    {
     "data": {
      "text/plain": [
       "[9, 308025, 0.0004, 0, 0.25]"
      ]
     },
     "execution_count": 12,
     "metadata": {},
     "output_type": "execute_result"
    }
   ],
   "source": [
    "# Ejercicio 3\n",
    "lst = [-3, 4, 71, -555, -0.02, 0, 6, 0.5, 8, 4, 3]\n",
    "filtra_menores = map(lambda x:x**2,filter(lambda x : x < 3, lst))\n",
    "list(filtra_menores)"
   ]
  },
  {
   "cell_type": "code",
   "execution_count": null,
   "id": "6ef6521b",
   "metadata": {},
   "outputs": [],
   "source": []
  },
  {
   "cell_type": "code",
   "execution_count": 13,
   "id": "4d742bcc",
   "metadata": {},
   "outputs": [
    {
     "name": "stdout",
     "output_type": "stream",
     "text": [
      "[('Ushuaia', (-54.5, -68.2)), ('Salta', (-24.8, -64.4)), ('Junin', (-34.5, -60.8)), ('Dolores', (-36.3, -57.7)), ('Tucuman', (-26.8, -65.2))]\n"
     ]
    }
   ],
   "source": [
    "# Ejercicio 4\n",
    "lst1 = [\"Ushuaia\", \"Salta\", \"Junin\", \"Dolores\", \"Tucuman\"]\n",
    "lst2 = [(-54.5,-68.2), (-24.8,-64.4), (-34.5,-60.8), (-36.3,-57.7), (-26.8,-65.2)]\n",
    "lst_zip = zip(lst1, lst2)\n",
    "print(list(lst_zip))"
   ]
  },
  {
   "cell_type": "code",
   "execution_count": null,
   "id": "aac290ff",
   "metadata": {},
   "outputs": [],
   "source": []
  },
  {
   "cell_type": "code",
   "execution_count": 14,
   "id": "ed968c6d",
   "metadata": {},
   "outputs": [
    {
     "data": {
      "text/plain": [
       "{'Ushuaia': (-54.5, -68.2),\n",
       " 'Salta': (-24.8, -64.4),\n",
       " 'Junin': (-34.5, -60.8),\n",
       " 'Dolores': (-36.3, -57.7),\n",
       " 'Tucuman': (-26.8, -65.2)}"
      ]
     },
     "execution_count": 14,
     "metadata": {},
     "output_type": "execute_result"
    }
   ],
   "source": [
    "# Ejercicio 5\n",
    "lst1 =  [\"Ushuaia\", \"Salta\", \"Junin\", \"Dolores\", \"Tucuman\"]\n",
    "lst2 = [(-54.5,-68.2), (-24.8,-64.4), (-34.5,-60.8), (-36.3,-57.7), (-26.8,-65.2)]\n",
    "lst_zip = zip(lst1, lst2)\n",
    "dicc = dict(lst_zip)\n",
    "dicc"
   ]
  },
  {
   "cell_type": "code",
   "execution_count": null,
   "id": "2a801721",
   "metadata": {},
   "outputs": [],
   "source": []
  },
  {
   "cell_type": "code",
   "execution_count": 15,
   "id": "f0f27464",
   "metadata": {},
   "outputs": [
    {
     "data": {
      "text/plain": [
       "[3000, 2500, 2600, 2700, 7000]"
      ]
     },
     "execution_count": 15,
     "metadata": {},
     "output_type": "execute_result"
    }
   ],
   "source": [
    "# Ejercicio 6\n",
    "lst1 = [1000, 500, 600, 700, 5000, 90000, 17500]\n",
    "lst2 = list(map(lambda x: x+2000, filter(lambda x: x<8000, lst1)))\n",
    "lst2"
   ]
  },
  {
   "cell_type": "code",
   "execution_count": null,
   "id": "642b76bc",
   "metadata": {},
   "outputs": [],
   "source": []
  },
  {
   "cell_type": "code",
   "execution_count": 16,
   "id": "ae0cf891",
   "metadata": {},
   "outputs": [
    {
     "data": {
      "text/plain": [
       "[1, 2, 3, 4, 5]"
      ]
     },
     "execution_count": 16,
     "metadata": {},
     "output_type": "execute_result"
    }
   ],
   "source": [
    "# Ejercicio 7\n",
    "lst1=[1,2,3,4,5]\n",
    "lst2 = [i for i in lst1]\n",
    "lst2"
   ]
  },
  {
   "cell_type": "code",
   "execution_count": null,
   "id": "f74ae39f",
   "metadata": {},
   "outputs": [],
   "source": []
  },
  {
   "cell_type": "code",
   "execution_count": null,
   "id": "a1ce4ed3",
   "metadata": {},
   "outputs": [],
   "source": []
  }
 ],
 "metadata": {
  "kernelspec": {
   "display_name": "Python 3 (ipykernel)",
   "language": "python",
   "name": "python3"
  },
  "language_info": {
   "codemirror_mode": {
    "name": "ipython",
    "version": 3
   },
   "file_extension": ".py",
   "mimetype": "text/x-python",
   "name": "python",
   "nbconvert_exporter": "python",
   "pygments_lexer": "ipython3",
   "version": "3.10.0"
  }
 },
 "nbformat": 4,
 "nbformat_minor": 5
}
