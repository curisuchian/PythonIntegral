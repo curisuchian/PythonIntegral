{
 "cells": [
  {
   "cell_type": "markdown",
   "id": "qualified-administration",
   "metadata": {},
   "source": [
    "Sintaxis: <br>\n",
    "zip(*iterable, strict=True)"
   ]
  },
  {
   "cell_type": "code",
   "execution_count": null,
   "id": "familiar-repeat",
   "metadata": {},
   "outputs": [],
   "source": [
    "animales = ['vaca','perro','gato']\n",
    "articulo = ['la','mi','un']\n",
    "sonido = ['muge','ladra','ronronea']\n",
    "combina1 = zip(articulo,animales, sonido)\n",
    "res1 = list(combina1)\n",
    "print(res1)"
   ]
  },
  {
   "cell_type": "code",
   "execution_count": null,
   "id": "a10a0145",
   "metadata": {},
   "outputs": [],
   "source": []
  },
  {
   "cell_type": "code",
   "execution_count": null,
   "id": "hazardous-summary",
   "metadata": {},
   "outputs": [],
   "source": [
    "# Aplicar funciones al resultado\n",
    "res4 = list(zip(animales, articulo))\n",
    "res4.sort()\n",
    "res4"
   ]
  },
  {
   "cell_type": "code",
   "execution_count": null,
   "id": "5d8e5de9",
   "metadata": {},
   "outputs": [],
   "source": []
  },
  {
   "cell_type": "code",
   "execution_count": null,
   "id": "dried-ceramic",
   "metadata": {},
   "outputs": [],
   "source": [
    "# Listas de largo diferente\n",
    "num1 = ['A','B','C','D']\n",
    "num2 = [10,11,12,13,14,15,16]\n",
    "combina3 = zip(num1,num2,strict = True)            # ,strict = True\n",
    "res3 = list(combina3)\n",
    "print(res3)"
   ]
  },
  {
   "cell_type": "code",
   "execution_count": null,
   "id": "8712afb5",
   "metadata": {},
   "outputs": [],
   "source": []
  },
  {
   "cell_type": "code",
   "execution_count": null,
   "id": "impressed-economics",
   "metadata": {},
   "outputs": [],
   "source": [
    "# Crear un diccionario\n",
    "producto = ['laptop','celular','monitor','teclado']\n",
    "precio = [2000,1600,1000,500]\n",
    "list(zip(producto,precio))"
   ]
  },
  {
   "cell_type": "code",
   "execution_count": null,
   "id": "ca79cab5",
   "metadata": {},
   "outputs": [],
   "source": []
  },
  {
   "cell_type": "code",
   "execution_count": null,
   "id": "6c4a931e",
   "metadata": {},
   "outputs": [],
   "source": [
    "combina4 = dict(zip(producto,precio))\n",
    "combina4"
   ]
  },
  {
   "cell_type": "code",
   "execution_count": null,
   "id": "af128b78",
   "metadata": {},
   "outputs": [],
   "source": []
  },
  {
   "cell_type": "code",
   "execution_count": null,
   "id": "1e1470a2",
   "metadata": {},
   "outputs": [],
   "source": []
  }
 ],
 "metadata": {
  "kernelspec": {
   "display_name": "Python 3 (ipykernel)",
   "language": "python",
   "name": "python3"
  },
  "language_info": {
   "codemirror_mode": {
    "name": "ipython",
    "version": 3
   },
   "file_extension": ".py",
   "mimetype": "text/x-python",
   "name": "python",
   "nbconvert_exporter": "python",
   "pygments_lexer": "ipython3",
   "version": "3.10.0"
  }
 },
 "nbformat": 4,
 "nbformat_minor": 5
}
