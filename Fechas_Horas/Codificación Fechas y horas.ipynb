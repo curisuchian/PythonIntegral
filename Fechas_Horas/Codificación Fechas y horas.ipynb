{
 "cells": [
  {
   "cell_type": "markdown",
   "id": "4e387732",
   "metadata": {},
   "source": [
    "### Ejercicio de codificación"
   ]
  },
  {
   "cell_type": "markdown",
   "id": "67fb895b",
   "metadata": {},
   "source": [
    "Este cuaderno se encuentra en:\n",
    "\n",
    "https://github.com/gbonorino/PythonIntegral/tree/main/Fechas_Horas"
   ]
  },
  {
   "cell_type": "markdown",
   "id": "5bc228e6",
   "metadata": {},
   "source": [
    "#### Ejercicio 1\n",
    "En 1969-07-20 ocurrió el primer alunizaje con seres humanos. La tarea es: <br>\n",
    "- Averiguar en que día de la semana ocurrió. \n",
    "- Escribir el día en castellano.<br>\n",
    "Requiere usar strptime y el módulo locale."
   ]
  },
  {
   "cell_type": "markdown",
   "id": "91ba7297",
   "metadata": {},
   "source": [
    "### Solución"
   ]
  },
  {
   "cell_type": "code",
   "execution_count": 1,
   "id": "78befcbd",
   "metadata": {},
   "outputs": [
    {
     "name": "stdout",
     "output_type": "stream",
     "text": [
      "El alunizaje ocurrió un domingo\n"
     ]
    }
   ],
   "source": [
    "# Ejercicio 1\n",
    "from datetime import datetime,date\n",
    "import locale\n",
    "\n",
    "alunizaje = '1969-07-20'\n",
    "obj=datetime.strptime(alunizaje,'%Y-%m-%d').date()\n",
    "locale.setlocale(locale.LC_TIME, 'es_ES')\n",
    "print(\"El alunizaje ocurrió un {}\".format(obj.strftime('%A')))"
   ]
  },
  {
   "cell_type": "code",
   "execution_count": null,
   "id": "740cb6a0",
   "metadata": {},
   "outputs": [],
   "source": []
  },
  {
   "cell_type": "code",
   "execution_count": null,
   "id": "bd2ee2f8",
   "metadata": {},
   "outputs": [],
   "source": []
  }
 ],
 "metadata": {
  "kernelspec": {
   "display_name": "Python 3 (ipykernel)",
   "language": "python",
   "name": "python3"
  },
  "language_info": {
   "codemirror_mode": {
    "name": "ipython",
    "version": 3
   },
   "file_extension": ".py",
   "mimetype": "text/x-python",
   "name": "python",
   "nbconvert_exporter": "python",
   "pygments_lexer": "ipython3",
   "version": "3.10.0"
  }
 },
 "nbformat": 4,
 "nbformat_minor": 5
}
