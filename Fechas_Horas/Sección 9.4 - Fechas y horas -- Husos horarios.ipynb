{
 "cells": [
  {
   "cell_type": "markdown",
   "id": "ad1010af",
   "metadata": {},
   "source": [
    "#### Husos horarios\n",
    "<img src=\"husos.png\" width=500/>"
   ]
  },
  {
   "cell_type": "code",
   "execution_count": null,
   "id": "555687a2",
   "metadata": {},
   "outputs": [],
   "source": [
    "# !pip install pytz"
   ]
  },
  {
   "cell_type": "code",
   "execution_count": null,
   "id": "4d005e7d",
   "metadata": {},
   "outputs": [],
   "source": [
    "# Listado de husos horarios\n",
    "import pytz\n",
    "\n",
    "husos = pytz.all_timezones\n",
    "print(husos)"
   ]
  },
  {
   "cell_type": "code",
   "execution_count": null,
   "id": "810fc8fa",
   "metadata": {},
   "outputs": [],
   "source": [
    "from datetime import datetime\n",
    "import pytz\n",
    "\n",
    "tz_BA = pytz.timezone('America/Buenos_Aires') \n",
    "datetime_BA = datetime.now(tz_BA)\n",
    "print(\"La hora en Buenos Aires es:\", datetime_BA.strftime(\"%m/%d/%Y, %H:%M:%S\"))"
   ]
  },
  {
   "cell_type": "code",
   "execution_count": null,
   "id": "04d29867",
   "metadata": {},
   "outputs": [],
   "source": [
    "tz_Baghdad = pytz.timezone('Asia/Baghdad')\n",
    "datetime_Baghdad = datetime.now(tz_Baghdad)\n",
    "print(\"La hora en Baghdad es:\", datetime_Baghdad.strftime(\"%m/%d/%Y, %H:%M:%S\"))"
   ]
  },
  {
   "cell_type": "markdown",
   "id": "7dd1d559",
   "metadata": {},
   "source": [
    "##### Días julianos"
   ]
  },
  {
   "cell_type": "code",
   "execution_count": null,
   "id": "c25f5c0b",
   "metadata": {},
   "outputs": [],
   "source": [
    "# Fecha en dias julianos a formato convencional, %j. 44 dias de 2020\n",
    "from datetime import datetime \n",
    "\n",
    "print(datetime.strptime('202044', '%Y%j').date())   "
   ]
  },
  {
   "cell_type": "code",
   "execution_count": null,
   "id": "06ab4ae4",
   "metadata": {
    "scrolled": true
   },
   "outputs": [],
   "source": [
    "# Fecha en formato convencional a fecha juliana\n",
    "hoy = datetime.today()\n",
    "tm_tup = hoy.timetuple()\n",
    "for atributo in tm_tup:\n",
    "    print(atributo)"
   ]
  },
  {
   "cell_type": "code",
   "execution_count": null,
   "id": "12feeff2",
   "metadata": {},
   "outputs": [],
   "source": [
    "dia=tm_tup.tm_yday\n",
    "año = tm_tup.tm_year\n",
    "fecha_juliana = str(año) + str(dia)\n",
    "int(fecha_juliana)"
   ]
  },
  {
   "cell_type": "markdown",
   "id": "06ae6a31",
   "metadata": {},
   "source": [
    "##### Marca de tiempo ('timestamp')"
   ]
  },
  {
   "cell_type": "code",
   "execution_count": null,
   "id": "1b2d2df7",
   "metadata": {},
   "outputs": [],
   "source": [
    "# Dado el timestamp obtener la fecha\n",
    "from datetime import date\n",
    "\n",
    "fecha = date.fromtimestamp(1326244364)\n",
    "print(\"Fecha =\", fecha)"
   ]
  },
  {
   "cell_type": "code",
   "execution_count": null,
   "id": "0c889886",
   "metadata": {},
   "outputs": [],
   "source": [
    "# Dada una fecha obtener el timestamp\n",
    "from datetime import datetime \n",
    "\n",
    "x = datetime.now()\n",
    "print(\"Desde 1/1/1970 transcurrieron\", x.timestamp(), \"segundos\")"
   ]
  },
  {
   "cell_type": "markdown",
   "id": "4b7fe2e4",
   "metadata": {},
   "source": [
    "#### Internacionalización"
   ]
  },
  {
   "cell_type": "code",
   "execution_count": null,
   "id": "5da9067a",
   "metadata": {},
   "outputs": [],
   "source": [
    "import datetime\n",
    "import locale\n",
    "\n",
    "locale.setlocale(locale.LC_TIME, 'es_ES')\n",
    "hoy = datetime.date.today()\n",
    "print(hoy)\n",
    "print(hoy.strftime(\"%A\"))"
   ]
  },
  {
   "cell_type": "code",
   "execution_count": null,
   "id": "7ea59780",
   "metadata": {},
   "outputs": [],
   "source": [
    "# Volviendo al día de la independencia\n",
    "from datetime import date\n",
    "import locale\n",
    "\n",
    "locale.setlocale(locale.LC_TIME, 'es_ES')\n",
    "x = date(1810, 5, 25) \n",
    "print(\"La independencia de la Argentina se declaró un {}\".format(x.strftime('%A')))"
   ]
  }
 ],
 "metadata": {
  "kernelspec": {
   "display_name": "Python 3 (ipykernel)",
   "language": "python",
   "name": "python3"
  },
  "language_info": {
   "codemirror_mode": {
    "name": "ipython",
    "version": 3
   },
   "file_extension": ".py",
   "mimetype": "text/x-python",
   "name": "python",
   "nbconvert_exporter": "python",
   "pygments_lexer": "ipython3",
   "version": "3.10.0"
  }
 },
 "nbformat": 4,
 "nbformat_minor": 5
}
