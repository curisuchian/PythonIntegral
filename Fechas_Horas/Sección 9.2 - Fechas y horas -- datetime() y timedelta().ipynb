{
 "cells": [
  {
   "cell_type": "markdown",
   "id": "a9464bd5",
   "metadata": {},
   "source": [
    "#### Clase datetime\n",
    "- Opera con fechas y tiempo horario <br>\n",
    "- atributos: year, month, day, hour, minute, second, microsecond<br>\n",
    "- métodos - today, now, weekday, strftime(format), strptime"
   ]
  },
  {
   "cell_type": "code",
   "execution_count": 1,
   "id": "24776504",
   "metadata": {},
   "outputs": [
    {
     "name": "stdout",
     "output_type": "stream",
     "text": [
      "2021-10-05 19:10:48.757739\n"
     ]
    }
   ],
   "source": [
    "from datetime import datetime\n",
    "\n",
    "print(datetime.now())"
   ]
  },
  {
   "cell_type": "code",
   "execution_count": 2,
   "id": "71a1693e",
   "metadata": {},
   "outputs": [
    {
     "name": "stdout",
     "output_type": "stream",
     "text": [
      "2021-10-05 19:11:02.634556\n"
     ]
    }
   ],
   "source": [
    "print(datetime.today())"
   ]
  },
  {
   "cell_type": "markdown",
   "id": "a257d5f9",
   "metadata": {},
   "source": [
    "#### Clase timedelta\n",
    "- Diferencia de tiempo"
   ]
  },
  {
   "cell_type": "code",
   "execution_count": 3,
   "id": "4d552312",
   "metadata": {},
   "outputs": [
    {
     "name": "stdout",
     "output_type": "stream",
     "text": [
      "La diferencia entre intervalos es  9 days, 13:55:39\n"
     ]
    }
   ],
   "source": [
    "# Diferencia entre dos intervalos de tiempo\n",
    "from datetime import timedelta\n",
    "\n",
    "f1 = timedelta(weeks = 2, days = 5, hours = 1, seconds = 33)\n",
    "f2 = timedelta(weeks = 1, days = 2, hours = 11, minutes = 4, seconds = 54)\n",
    "f = f1 - f2\n",
    "\n",
    "print(\"La diferencia entre intervalos es \", f)"
   ]
  },
  {
   "cell_type": "code",
   "execution_count": 4,
   "id": "d779adda",
   "metadata": {},
   "outputs": [
    {
     "name": "stdout",
     "output_type": "stream",
     "text": [
      "2022-04-23 19:13:22.928240\n"
     ]
    }
   ],
   "source": [
    "# Sumar/restar doscientos días a la fecha actual usando timedelta\n",
    "from datetime import datetime, timedelta\n",
    "\n",
    "ahora = datetime.now()\n",
    "nueva_fecha = ahora + timedelta(days=200)\n",
    "print(nueva_fecha)"
   ]
  },
  {
   "cell_type": "code",
   "execution_count": 5,
   "id": "6e90ad6a",
   "metadata": {},
   "outputs": [
    {
     "name": "stdout",
     "output_type": "stream",
     "text": [
      "Total segundos = 1645233.0\n"
     ]
    }
   ],
   "source": [
    "# Intervalo medido en segundos\n",
    "from datetime import timedelta\n",
    "\n",
    "f1 = timedelta(weeks = 2, days = 5, hours = 1, seconds = 33)\n",
    "print(\"Total segundos =\", f1.total_seconds())"
   ]
  },
  {
   "cell_type": "code",
   "execution_count": null,
   "id": "c08c007f",
   "metadata": {},
   "outputs": [],
   "source": []
  },
  {
   "cell_type": "code",
   "execution_count": null,
   "id": "255d023b",
   "metadata": {},
   "outputs": [],
   "source": []
  },
  {
   "cell_type": "code",
   "execution_count": null,
   "id": "c5a6a2ac",
   "metadata": {},
   "outputs": [],
   "source": []
  },
  {
   "cell_type": "code",
   "execution_count": null,
   "id": "4a86fb01",
   "metadata": {},
   "outputs": [],
   "source": []
  },
  {
   "cell_type": "code",
   "execution_count": null,
   "id": "65ecc368",
   "metadata": {},
   "outputs": [],
   "source": []
  }
 ],
 "metadata": {
  "kernelspec": {
   "display_name": "Python 3 (ipykernel)",
   "language": "python",
   "name": "python3"
  },
  "language_info": {
   "codemirror_mode": {
    "name": "ipython",
    "version": 3
   },
   "file_extension": ".py",
   "mimetype": "text/x-python",
   "name": "python",
   "nbconvert_exporter": "python",
   "pygments_lexer": "ipython3",
   "version": "3.9.7"
  }
 },
 "nbformat": 4,
 "nbformat_minor": 5
}
