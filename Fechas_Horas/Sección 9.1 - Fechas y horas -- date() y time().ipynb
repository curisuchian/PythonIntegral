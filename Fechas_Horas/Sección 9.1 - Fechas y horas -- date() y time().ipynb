{
 "cells": [
  {
   "cell_type": "markdown",
   "metadata": {},
   "source": [
    "El módulo _datetime_ provee las clases date y time."
   ]
  },
  {
   "cell_type": "markdown",
   "metadata": {},
   "source": [
    "#### Clase date\n",
    "- Opera con fechas calendario, no tiempo horario<br>\n",
    "- Usa calendario Gregoriano extendido al pasado<br>\n",
    "- No admite huso horario. Es un objeto naif, ingenuo.<br>\n",
    "- atributos: year, month, day<br>\n",
    "- métodos - today, weekday, strftime(format)"
   ]
  },
  {
   "cell_type": "code",
   "execution_count": null,
   "metadata": {},
   "outputs": [],
   "source": [
    "# Obtener la fecha actual\n",
    "from datetime import date\n",
    "\n",
    "fecha_hoy = date.today()\n",
    "print(fecha_hoy)"
   ]
  },
  {
   "cell_type": "code",
   "execution_count": null,
   "metadata": {},
   "outputs": [],
   "source": [
    "# Desglosar la fecha\n",
    "print(fecha_hoy.year)\n",
    "print(fecha_hoy.month)\n",
    "print(fecha_hoy.day)"
   ]
  },
  {
   "cell_type": "code",
   "execution_count": null,
   "metadata": {},
   "outputs": [],
   "source": [
    "# Crear un objeto datetime en formato convencional YYYY-MM-DD\n",
    "from datetime import date\n",
    "\n",
    "x = date(1810, 5, 25) \n",
    "print(type(x))\n",
    "print(x)  "
   ]
  },
  {
   "cell_type": "code",
   "execution_count": null,
   "metadata": {
    "scrolled": false
   },
   "outputs": [],
   "source": [
    "# Extraer información\n",
    "print(\"El {} de {} de {} se declaro la independencia de la Argentina\".format(x.day, x.month, x.year))"
   ]
  },
  {
   "cell_type": "code",
   "execution_count": null,
   "metadata": {},
   "outputs": [],
   "source": [
    "# Obtener el dia de la semana cuando se declaró la independencia\n",
    "x.weekday()     # viernes"
   ]
  },
  {
   "cell_type": "code",
   "execution_count": null,
   "metadata": {},
   "outputs": [],
   "source": [
    "# Aritmética con fechas\n",
    "hoy = date.today()\n",
    "independencia = date(1810, 5, 25) \n",
    "print(hoy - independencia)"
   ]
  },
  {
   "cell_type": "markdown",
   "metadata": {},
   "source": [
    "#### Uso del calendario gregoriano proléptico\n",
    "Días desde 01-01-0001"
   ]
  },
  {
   "cell_type": "code",
   "execution_count": null,
   "metadata": {},
   "outputs": [],
   "source": [
    "from datetime import date\n",
    "\n",
    "x = date(1810, 5, 25) \n",
    "x.toordinal()   # devuelve el valor ordinal de una fecha a partir del 1/1/0001"
   ]
  },
  {
   "cell_type": "code",
   "execution_count": null,
   "metadata": {},
   "outputs": [],
   "source": [
    "# Dias desde 1810-05-25\n",
    "int(date.today().toordinal()) - int(date(1810, 5, 25).toordinal())"
   ]
  },
  {
   "cell_type": "markdown",
   "metadata": {},
   "source": [
    "#### Clase time\n",
    "- atributos: hour, minute, second, microsecond"
   ]
  },
  {
   "cell_type": "code",
   "execution_count": null,
   "metadata": {
    "scrolled": true
   },
   "outputs": [],
   "source": [
    "from datetime import time\n",
    "\n",
    "tiempo = time(12, 10, 30, 1000)\n",
    "print(tiempo)\n",
    "print(type(tiempo))"
   ]
  },
  {
   "cell_type": "code",
   "execution_count": null,
   "metadata": {},
   "outputs": [],
   "source": [
    "# Extraer información\n",
    "print(\"El avión aterrizó a las {} horas y {} minutos\".format(tiempo.hour, tiempo.minute))"
   ]
  },
  {
   "cell_type": "code",
   "execution_count": null,
   "metadata": {},
   "outputs": [],
   "source": []
  },
  {
   "cell_type": "code",
   "execution_count": null,
   "metadata": {},
   "outputs": [],
   "source": []
  },
  {
   "cell_type": "code",
   "execution_count": null,
   "metadata": {},
   "outputs": [],
   "source": []
  },
  {
   "cell_type": "code",
   "execution_count": null,
   "metadata": {},
   "outputs": [],
   "source": []
  }
 ],
 "metadata": {
  "kernelspec": {
   "display_name": "Python 3 (ipykernel)",
   "language": "python",
   "name": "python3"
  },
  "language_info": {
   "codemirror_mode": {
    "name": "ipython",
    "version": 3
   },
   "file_extension": ".py",
   "mimetype": "text/x-python",
   "name": "python",
   "nbconvert_exporter": "python",
   "pygments_lexer": "ipython3",
   "version": "3.10.0"
  }
 },
 "nbformat": 4,
 "nbformat_minor": 4
}
