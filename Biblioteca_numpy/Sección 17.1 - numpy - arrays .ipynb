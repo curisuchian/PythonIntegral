{
 "cells": [
  {
   "cell_type": "markdown",
   "metadata": {},
   "source": [
    "<img src=\"Figuras\\numpy.png\" width=450/>"
   ]
  },
  {
   "cell_type": "markdown",
   "metadata": {},
   "source": [
    "# NumPy \n",
    "\n",
    "NumPy es una biblioteca de algebra lineal de Python, es parte del paquete de biblioteca para computacion cientifica en Python (junto con SciPy). Provee la capacidad de trabajar con arrays y matrices, las cuales veran que son de naturaleza similar a las listas pero con algunas diferencias fundamentales que hacen a las arrays extramadamente poderosas y eficientes a la hora de trabajar con data en Python.\n",
    "\n",
    "En este curso les presentaremos las bases de NumPy, empecemos por la instalacion!\n",
    "\n",
    "NumPy documentacion --> https://numpy.org/doc/stable/numpy-user.pdf"
   ]
  },
  {
   "cell_type": "markdown",
   "metadata": {},
   "source": [
    "## Instalacion de Numpy\n",
    "\n",
    "Simplemente usaremos el paquete pip. Si estan trabajando en notebooks corran:\n",
    "* !pip install numpy\n",
    "\n",
    "Si estan en su IDE o usando scripts corran el siguiente codigo en su terminal:\n",
    "* pip install numpy"
   ]
  },
  {
   "cell_type": "markdown",
   "metadata": {},
   "source": [
    "## Usando NumPy\n",
    "\n",
    "Una vez instalada simplemente la importamos como cualquier otro paquete:"
   ]
  },
  {
   "cell_type": "code",
   "execution_count": null,
   "metadata": {},
   "outputs": [],
   "source": [
    "import numpy as np"
   ]
  },
  {
   "cell_type": "markdown",
   "metadata": {},
   "source": [
    "Numpy ofrece una inmensa cantidad de funciones y operaciones, nosotros cubriremos las mas importantes:\n",
    "\n",
    "*Vectores, arrays, matrices y generacion de numeros.*\n",
    "\n",
    "# Numpy Arrays\n",
    "\n",
    "Las arrays son una opcion de ubicar y manipular data de forma eficiente, parecido a las listas, pero solo reciben un tipo de data (no se pueden combinar numeros y literales por ejemplo) y tienen un tamaño fijo, de ser modificado el tamaño se estara creando una nueva array a diferencia de las listas que son de naturaleza dinamica. Estas vienen en dos formas: Vectores, que son arrays uni dimensionales, y matrices, que son arrays bi-dimensionales.\n",
    "\n",
    "## Creando NumPy Arrays\n",
    "\n",
    "### Desde una lista de Python\n",
    "\n",
    "Podemos crear una array al transformar una lista o una lista de listas:"
   ]
  },
  {
   "cell_type": "code",
   "execution_count": null,
   "metadata": {},
   "outputs": [],
   "source": [
    "#!pip install numpy"
   ]
  },
  {
   "cell_type": "code",
   "execution_count": null,
   "metadata": {},
   "outputs": [],
   "source": [
    "import numpy as np"
   ]
  },
  {
   "cell_type": "code",
   "execution_count": null,
   "metadata": {},
   "outputs": [],
   "source": [
    "# Con una lista simple\n",
    "a1 = [1,2,3]\n",
    "m_a1 = np.array(a1) # Crea un vector.\n",
    "print(m_a1)\n",
    "print(m_a1.ndim)        # Numero de dimensiones\n",
    "print(m_a1.shape)       # Filas, columnas \n",
    "len(m_a1)               # Numero elementos primera dimension"
   ]
  },
  {
   "cell_type": "code",
   "execution_count": null,
   "metadata": {},
   "outputs": [],
   "source": []
  },
  {
   "cell_type": "code",
   "execution_count": null,
   "metadata": {
    "scrolled": true
   },
   "outputs": [],
   "source": [
    "# Con una lista anidada\n",
    "a2 = [[1,2,3],[4,5,6],[7,8,9],[10,11,12]]\n",
    "m_a2 = np.array(a2) # Crea una matriz; una capa\n",
    "print(m_a2)\n",
    "print(m_a2.ndim)\n",
    "print(m_a2.shape)\n",
    "len(m_a2)"
   ]
  },
  {
   "cell_type": "code",
   "execution_count": null,
   "metadata": {},
   "outputs": [],
   "source": []
  },
  {
   "cell_type": "code",
   "execution_count": null,
   "metadata": {},
   "outputs": [],
   "source": [
    "m_a2.shape[1]"
   ]
  },
  {
   "cell_type": "code",
   "execution_count": null,
   "metadata": {},
   "outputs": [],
   "source": []
  },
  {
   "cell_type": "code",
   "execution_count": null,
   "metadata": {
    "scrolled": true
   },
   "outputs": [],
   "source": [
    "a3 = np.array([[[1, 2, 3], [1, 2, 3], [1, 2, 3]], [[4, 5, 6], [4, 5, 6], [4, 5, 6]]])    \n",
    "m_a3 = np.array(a3) # Crea un array 3D con 3 elementos en la 3D\n",
    "print(m_a3)\n",
    "print(m_a3.ndim)\n",
    "print(m_a3.shape)\n",
    "len(m_a3)"
   ]
  },
  {
   "cell_type": "code",
   "execution_count": null,
   "metadata": {},
   "outputs": [],
   "source": []
  },
  {
   "cell_type": "code",
   "execution_count": null,
   "metadata": {},
   "outputs": [],
   "source": []
  },
  {
   "cell_type": "code",
   "execution_count": null,
   "metadata": {},
   "outputs": [],
   "source": []
  },
  {
   "cell_type": "code",
   "execution_count": null,
   "metadata": {},
   "outputs": [],
   "source": []
  },
  {
   "cell_type": "markdown",
   "metadata": {},
   "source": [
    "#### Crear arrays a partir de archivos"
   ]
  },
  {
   "cell_type": "code",
   "execution_count": null,
   "metadata": {},
   "outputs": [],
   "source": [
    "np.loadtxt('numpy_array_2.txt',delimiter=',', skiprows=1)"
   ]
  },
  {
   "cell_type": "code",
   "execution_count": null,
   "metadata": {},
   "outputs": [],
   "source": []
  },
  {
   "cell_type": "code",
   "execution_count": null,
   "metadata": {},
   "outputs": [],
   "source": []
  },
  {
   "cell_type": "code",
   "execution_count": null,
   "metadata": {},
   "outputs": [],
   "source": []
  },
  {
   "cell_type": "code",
   "execution_count": null,
   "metadata": {},
   "outputs": [],
   "source": []
  },
  {
   "cell_type": "markdown",
   "metadata": {},
   "source": [
    "#### Crear arrays unidimensionales equiespaciados"
   ]
  },
  {
   "cell_type": "code",
   "execution_count": null,
   "metadata": {},
   "outputs": [],
   "source": [
    "np.arange(0,10, 0.2) # array de 0 a 10 incrementando de a 1 (default)"
   ]
  },
  {
   "cell_type": "code",
   "execution_count": null,
   "metadata": {},
   "outputs": [],
   "source": []
  },
  {
   "cell_type": "code",
   "execution_count": null,
   "metadata": {},
   "outputs": [],
   "source": [
    "np.linspace(2.0, 3.0, num=10)"
   ]
  },
  {
   "cell_type": "code",
   "execution_count": null,
   "metadata": {},
   "outputs": [],
   "source": []
  },
  {
   "cell_type": "code",
   "execution_count": null,
   "metadata": {},
   "outputs": [],
   "source": []
  },
  {
   "cell_type": "markdown",
   "metadata": {},
   "source": [
    "#### Nota sobre nomenclatura\n",
    "En numpy las dimensiones se denominan ejes (axis) y el número de ejes determina el rango (rank)."
   ]
  },
  {
   "cell_type": "code",
   "execution_count": null,
   "metadata": {},
   "outputs": [],
   "source": [
    "a3 = np.array([[[1, 2, 3], [1, 2, 3], [1, 2, 3]], [[4, 5, 6], [4, 5, 6], [4, 5, 6]]])    \n",
    "m_a3 = np.array(a3) # Crea un array 3D con 3 elementos en la 3D\n",
    "print(m_a3)\n",
    "print(m_a3.ndim)\n",
    "print(m_a3.shape)"
   ]
  },
  {
   "cell_type": "markdown",
   "metadata": {},
   "source": [
    "[x,y,z] define un punto en 3D<br>\n",
    "[x,y,z,w] define un punto en 4D<br>\n",
    "Ambos tienen axis = 1<br><br>\n",
    "El array <br>\n",
    "[[x1,y2,z3]<br>\n",
    "[x4,y5,z6]] define dos puntos en 3D. axis = 2"
   ]
  },
  {
   "cell_type": "code",
   "execution_count": null,
   "metadata": {},
   "outputs": [],
   "source": []
  },
  {
   "cell_type": "code",
   "execution_count": null,
   "metadata": {},
   "outputs": [],
   "source": []
  },
  {
   "cell_type": "code",
   "execution_count": null,
   "metadata": {},
   "outputs": [],
   "source": []
  }
 ],
 "metadata": {
  "anaconda-cloud": {},
  "kernelspec": {
   "display_name": "Python 3 (ipykernel)",
   "language": "python",
   "name": "python3"
  },
  "language_info": {
   "codemirror_mode": {
    "name": "ipython",
    "version": 3
   },
   "file_extension": ".py",
   "mimetype": "text/x-python",
   "name": "python",
   "nbconvert_exporter": "python",
   "pygments_lexer": "ipython3",
   "version": "3.10.0"
  }
 },
 "nbformat": 4,
 "nbformat_minor": 4
}
