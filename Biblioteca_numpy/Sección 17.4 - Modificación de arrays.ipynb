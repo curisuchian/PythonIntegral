{
 "cells": [
  {
   "cell_type": "code",
   "execution_count": null,
   "id": "harmful-mainland",
   "metadata": {},
   "outputs": [],
   "source": [
    "import numpy as np\n",
    "import pandas as pd\n",
    "\n",
    "vino = pd.read_csv('vino_categ.csv') \n",
    "vino_arr = np.array(vino)\n",
    "vino_arr.shape"
   ]
  },
  {
   "cell_type": "code",
   "execution_count": null,
   "id": "3a3edf47",
   "metadata": {},
   "outputs": [],
   "source": []
  },
  {
   "cell_type": "code",
   "execution_count": null,
   "id": "organic-classics",
   "metadata": {},
   "outputs": [],
   "source": [
    "print(vino.columns)   #  Recupero los nombres de columnas"
   ]
  },
  {
   "cell_type": "code",
   "execution_count": null,
   "id": "e9a79edd",
   "metadata": {},
   "outputs": [],
   "source": [
    "vino_arr"
   ]
  },
  {
   "cell_type": "markdown",
   "id": "round-microwave",
   "metadata": {},
   "source": [
    "##### Crear columna nueva y combinarla con una columna existente: np.column_stack"
   ]
  },
  {
   "cell_type": "code",
   "execution_count": null,
   "id": "iraqi-occasions",
   "metadata": {
    "scrolled": true
   },
   "outputs": [],
   "source": [
    "# Modo column_stack\n",
    "cociente = np.array(vino_arr[:,0] / vino_arr[:,1])\n",
    "cociente"
   ]
  },
  {
   "cell_type": "code",
   "execution_count": null,
   "id": "61f03c7c",
   "metadata": {},
   "outputs": [],
   "source": []
  },
  {
   "cell_type": "code",
   "execution_count": null,
   "id": "d5113d03",
   "metadata": {},
   "outputs": [],
   "source": [
    "res = np.column_stack((vino_arr[:,1],cociente))\n",
    "print(res)\n",
    "print(res.shape)"
   ]
  },
  {
   "cell_type": "code",
   "execution_count": null,
   "id": "1fbaccbc",
   "metadata": {},
   "outputs": [],
   "source": []
  },
  {
   "cell_type": "markdown",
   "id": "82b9d48d",
   "metadata": {},
   "source": [
    "#### Incorporar la columna nueva al array original: np.hstack"
   ]
  },
  {
   "cell_type": "code",
   "execution_count": null,
   "id": "cooperative-accent",
   "metadata": {
    "scrolled": true
   },
   "outputs": [],
   "source": [
    "vino_arr2 = np.hstack((vino_arr, cociente))"
   ]
  },
  {
   "cell_type": "code",
   "execution_count": null,
   "id": "59ddb036",
   "metadata": {},
   "outputs": [],
   "source": []
  },
  {
   "cell_type": "code",
   "execution_count": null,
   "id": "artistic-liberal",
   "metadata": {},
   "outputs": [],
   "source": [
    "print(vino_arr.shape); print(cociente.shape)"
   ]
  },
  {
   "cell_type": "code",
   "execution_count": null,
   "id": "2087c8b5",
   "metadata": {},
   "outputs": [],
   "source": []
  },
  {
   "cell_type": "code",
   "execution_count": null,
   "id": "sexual-fairy",
   "metadata": {},
   "outputs": [],
   "source": [
    "np.atleast_2d(cociente).shape"
   ]
  },
  {
   "cell_type": "code",
   "execution_count": null,
   "id": "d5affdb6",
   "metadata": {},
   "outputs": [],
   "source": []
  },
  {
   "cell_type": "code",
   "execution_count": null,
   "id": "00a6fef3",
   "metadata": {},
   "outputs": [],
   "source": [
    "np.atleast_2d(cociente).T.shape"
   ]
  },
  {
   "cell_type": "code",
   "execution_count": null,
   "id": "3cf194d4",
   "metadata": {},
   "outputs": [],
   "source": []
  },
  {
   "cell_type": "code",
   "execution_count": null,
   "id": "foreign-joyce",
   "metadata": {
    "scrolled": true
   },
   "outputs": [],
   "source": [
    "# Trasponer para que la fila sea columna\n",
    "vino_arr2 = np.hstack((vino_arr, np.atleast_2d(cociente).T)) \n",
    "vino_arr2"
   ]
  },
  {
   "cell_type": "code",
   "execution_count": null,
   "id": "8cd187ba",
   "metadata": {},
   "outputs": [],
   "source": []
  },
  {
   "cell_type": "markdown",
   "id": "superior-reservation",
   "metadata": {},
   "source": [
    "#### Agregar filas con concatenate()"
   ]
  },
  {
   "cell_type": "code",
   "execution_count": null,
   "id": "adjusted-immunology",
   "metadata": {},
   "outputs": [],
   "source": [
    "fila_nueva = np.array([[999, 555,777,444,888]])\n",
    "np.concatenate((vino_arr,fila_nueva))"
   ]
  },
  {
   "cell_type": "code",
   "execution_count": null,
   "id": "4038339c",
   "metadata": {},
   "outputs": [],
   "source": []
  },
  {
   "cell_type": "code",
   "execution_count": null,
   "id": "d706698a",
   "metadata": {},
   "outputs": [],
   "source": []
  },
  {
   "cell_type": "code",
   "execution_count": null,
   "id": "f1d2c7e5",
   "metadata": {},
   "outputs": [],
   "source": []
  },
  {
   "cell_type": "code",
   "execution_count": null,
   "id": "81629609",
   "metadata": {},
   "outputs": [],
   "source": []
  },
  {
   "cell_type": "markdown",
   "id": "equivalent-accent",
   "metadata": {},
   "source": [
    "#### Dividir un array"
   ]
  },
  {
   "cell_type": "code",
   "execution_count": null,
   "id": "subjective-maker",
   "metadata": {},
   "outputs": [],
   "source": [
    "vino_arr_split = np.array_split(vino_arr, 2)\n",
    "vino_arr_split"
   ]
  },
  {
   "cell_type": "code",
   "execution_count": null,
   "id": "8bcdec17",
   "metadata": {},
   "outputs": [],
   "source": []
  },
  {
   "cell_type": "code",
   "execution_count": null,
   "id": "colonial-strike",
   "metadata": {},
   "outputs": [],
   "source": [
    "vino_arr_split[1]"
   ]
  },
  {
   "cell_type": "code",
   "execution_count": null,
   "id": "tutorial-lawrence",
   "metadata": {},
   "outputs": [],
   "source": []
  },
  {
   "cell_type": "code",
   "execution_count": null,
   "id": "035d1f80",
   "metadata": {},
   "outputs": [],
   "source": []
  },
  {
   "cell_type": "code",
   "execution_count": null,
   "id": "842add8c",
   "metadata": {},
   "outputs": [],
   "source": []
  }
 ],
 "metadata": {
  "kernelspec": {
   "display_name": "Python 3 (ipykernel)",
   "language": "python",
   "name": "python3"
  },
  "language_info": {
   "codemirror_mode": {
    "name": "ipython",
    "version": 3
   },
   "file_extension": ".py",
   "mimetype": "text/x-python",
   "name": "python",
   "nbconvert_exporter": "python",
   "pygments_lexer": "ipython3",
   "version": "3.10.0"
  }
 },
 "nbformat": 4,
 "nbformat_minor": 5
}
