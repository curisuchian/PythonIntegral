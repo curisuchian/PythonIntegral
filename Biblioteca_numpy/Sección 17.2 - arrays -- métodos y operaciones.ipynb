{
 "cells": [
  {
   "cell_type": "markdown",
   "id": "e92469e8",
   "metadata": {},
   "source": [
    "#### Métodos"
   ]
  },
  {
   "cell_type": "code",
   "execution_count": null,
   "id": "aad5661b",
   "metadata": {},
   "outputs": [],
   "source": [
    "# Cambiar la dimension\n",
    "import numpy as np\n",
    "\n",
    "arr = np.arange(0,26)\n",
    "arr"
   ]
  },
  {
   "cell_type": "code",
   "execution_count": null,
   "id": "a053bfc2",
   "metadata": {},
   "outputs": [],
   "source": []
  },
  {
   "cell_type": "code",
   "execution_count": null,
   "id": "40861933",
   "metadata": {},
   "outputs": [],
   "source": [
    "arr.reshape(13,2) # El arr 1D es transformado (reshaped) a una matriz 5x5"
   ]
  },
  {
   "cell_type": "code",
   "execution_count": null,
   "id": "6741979d",
   "metadata": {},
   "outputs": [],
   "source": []
  },
  {
   "cell_type": "code",
   "execution_count": null,
   "id": "6e145f71",
   "metadata": {},
   "outputs": [],
   "source": [
    "print(arr.max()); print(arr.min())"
   ]
  },
  {
   "cell_type": "code",
   "execution_count": null,
   "id": "7f01855a",
   "metadata": {},
   "outputs": [],
   "source": []
  },
  {
   "cell_type": "markdown",
   "id": "422f13e0",
   "metadata": {},
   "source": [
    "#### Funciones"
   ]
  },
  {
   "cell_type": "code",
   "execution_count": null,
   "id": "e569a94e",
   "metadata": {},
   "outputs": [],
   "source": [
    "# Operar sobre los ejes de una lista anidada.\n",
    "import numpy as np\n",
    "\n",
    "a = np.array([[8,7],[5,7]])\n",
    "a"
   ]
  },
  {
   "cell_type": "code",
   "execution_count": null,
   "id": "b310d747",
   "metadata": {},
   "outputs": [],
   "source": [
    "print(np.sum(a, axis=0))    # Vertical"
   ]
  },
  {
   "cell_type": "code",
   "execution_count": null,
   "id": "0d9b8e2f",
   "metadata": {},
   "outputs": [],
   "source": []
  },
  {
   "cell_type": "code",
   "execution_count": null,
   "id": "65788b07",
   "metadata": {},
   "outputs": [],
   "source": [
    "print(np.sum(a, axis=1))    # Horizontal"
   ]
  },
  {
   "cell_type": "code",
   "execution_count": null,
   "id": "ed1b762e",
   "metadata": {},
   "outputs": [],
   "source": []
  },
  {
   "cell_type": "code",
   "execution_count": null,
   "id": "bd7f7f49",
   "metadata": {},
   "outputs": [],
   "source": [
    "# Guardar y cargar un array\n",
    "x = np.array([24, 45, 66, 22])\n",
    "np.save('arr.npy', x)\n",
    "\n",
    "np.load('arr.npy')"
   ]
  },
  {
   "cell_type": "code",
   "execution_count": null,
   "id": "14440fa8",
   "metadata": {},
   "outputs": [],
   "source": []
  },
  {
   "cell_type": "markdown",
   "id": "6bc83939",
   "metadata": {},
   "source": [
    "#### Operaciones\n",
    "Las operaciones con arrays están vectorizadas."
   ]
  },
  {
   "cell_type": "code",
   "execution_count": null,
   "id": "e33b4e32",
   "metadata": {},
   "outputs": [],
   "source": [
    "import numpy as np\n",
    "\n",
    "a = np.array([0,4,5,6])\n",
    "a * 2"
   ]
  },
  {
   "cell_type": "code",
   "execution_count": null,
   "id": "dcc815c0",
   "metadata": {},
   "outputs": [],
   "source": []
  },
  {
   "cell_type": "code",
   "execution_count": null,
   "id": "1c8f1993",
   "metadata": {},
   "outputs": [],
   "source": [
    "# División por 0\n",
    "print(a / a)"
   ]
  },
  {
   "cell_type": "code",
   "execution_count": null,
   "id": "5839c53a",
   "metadata": {},
   "outputs": [],
   "source": []
  },
  {
   "cell_type": "markdown",
   "id": "14970148",
   "metadata": {},
   "source": [
    "##### Conversión de tipos\n",
    "Métodos dtype y astype"
   ]
  },
  {
   "cell_type": "code",
   "execution_count": null,
   "id": "f744ee8e",
   "metadata": {},
   "outputs": [],
   "source": [
    "import numpy as np\n",
    "\n",
    "x = np.array([24, 45, 66, 22])\n",
    "print(x.dtype)\n",
    "x"
   ]
  },
  {
   "cell_type": "code",
   "execution_count": null,
   "id": "94d84f87",
   "metadata": {},
   "outputs": [],
   "source": []
  },
  {
   "cell_type": "code",
   "execution_count": null,
   "id": "09f0fd30",
   "metadata": {},
   "outputs": [],
   "source": [
    "x = np.array([24, 45, 66, 22])\n",
    "y = x.astype(np.float64)\n",
    "print(y.dtype)\n",
    "y"
   ]
  },
  {
   "cell_type": "code",
   "execution_count": null,
   "id": "df1477cb",
   "metadata": {},
   "outputs": [],
   "source": []
  },
  {
   "cell_type": "code",
   "execution_count": null,
   "id": "b607c18f",
   "metadata": {},
   "outputs": [],
   "source": []
  }
 ],
 "metadata": {
  "kernelspec": {
   "display_name": "Python 3 (ipykernel)",
   "language": "python",
   "name": "python3"
  },
  "language_info": {
   "codemirror_mode": {
    "name": "ipython",
    "version": 3
   },
   "file_extension": ".py",
   "mimetype": "text/x-python",
   "name": "python",
   "nbconvert_exporter": "python",
   "pygments_lexer": "ipython3",
   "version": "3.10.0"
  }
 },
 "nbformat": 4,
 "nbformat_minor": 5
}
