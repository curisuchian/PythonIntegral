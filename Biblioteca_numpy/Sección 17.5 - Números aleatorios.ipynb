{
 "cells": [
  {
   "cell_type": "markdown",
   "id": "fc3f5ee0",
   "metadata": {},
   "source": [
    "## Random \n",
    "\n",
    "Numpy tambien provee diversas funciones para generar numeros aleatorios:\n",
    "\n",
    "### rand\n",
    "\n",
    "Crear un array de la forma especificada y la rellena con numeros aleatorios generados de una [distribucion uniforme](https://es.wikipedia.org/wiki/Distribuci%C3%B3n_uniforme_continua)."
   ]
  },
  {
   "cell_type": "code",
   "execution_count": null,
   "id": "1ce09606",
   "metadata": {},
   "outputs": [],
   "source": [
    "import numpy as np\n",
    "\n",
    "np.random.seed()\n",
    "np.random.rand(2)     # Valores entre 0.0 y 1.0"
   ]
  },
  {
   "cell_type": "code",
   "execution_count": null,
   "id": "d38bfc81",
   "metadata": {},
   "outputs": [],
   "source": [
    "# Matriz\n",
    "np.random.rand(5,5)"
   ]
  },
  {
   "cell_type": "code",
   "execution_count": null,
   "id": "9f19764f",
   "metadata": {},
   "outputs": [],
   "source": []
  },
  {
   "cell_type": "markdown",
   "id": "48c38b4b",
   "metadata": {},
   "source": [
    "### randint\n",
    "\n",
    "Devuelve numeros enteros aleatorios dentro del rango indicado de una distribución uniforme discreta."
   ]
  },
  {
   "cell_type": "code",
   "execution_count": null,
   "id": "d1390a8a",
   "metadata": {},
   "outputs": [],
   "source": [
    "# Generar 5 valores enteros entre 0 y 20\n",
    "np.random.randint(0,20,5)"
   ]
  },
  {
   "cell_type": "code",
   "execution_count": null,
   "id": "d7fb8be2",
   "metadata": {},
   "outputs": [],
   "source": []
  },
  {
   "cell_type": "markdown",
   "id": "3c14173f",
   "metadata": {},
   "source": [
    "### randn\n",
    "\n",
    "Devuelve una o varias muestras de una [distribucion estandar normal](https://www.superprof.es/apuntes/escolar/matematicas/probabilidades/distribucion-normal/distribucion-normal-estandar.html), a diferencia de rand que es uniforme:"
   ]
  },
  {
   "cell_type": "code",
   "execution_count": null,
   "id": "8e79826e",
   "metadata": {
    "scrolled": true
   },
   "outputs": [],
   "source": [
    "# loc - promedio; scale - desviación estándar; size - número de valores\n",
    "np.random.normal(loc=10, scale=0.5, size=10) "
   ]
  },
  {
   "cell_type": "code",
   "execution_count": null,
   "id": "4defa456",
   "metadata": {},
   "outputs": [],
   "source": []
  },
  {
   "cell_type": "markdown",
   "id": "4487d41e",
   "metadata": {},
   "source": [
    "#### Distribución normal estándar"
   ]
  },
  {
   "cell_type": "code",
   "execution_count": null,
   "id": "7bd8f420",
   "metadata": {},
   "outputs": [],
   "source": [
    "import numpy as np\n",
    "\n",
    "np.random.randn()"
   ]
  },
  {
   "cell_type": "code",
   "execution_count": null,
   "id": "b4bd006e",
   "metadata": {},
   "outputs": [],
   "source": []
  },
  {
   "cell_type": "code",
   "execution_count": null,
   "id": "56cafcfe",
   "metadata": {},
   "outputs": [],
   "source": []
  },
  {
   "cell_type": "code",
   "execution_count": null,
   "id": "97181d01",
   "metadata": {},
   "outputs": [],
   "source": []
  }
 ],
 "metadata": {
  "kernelspec": {
   "display_name": "Python 3 (ipykernel)",
   "language": "python",
   "name": "python3"
  },
  "language_info": {
   "codemirror_mode": {
    "name": "ipython",
    "version": 3
   },
   "file_extension": ".py",
   "mimetype": "text/x-python",
   "name": "python",
   "nbconvert_exporter": "python",
   "pygments_lexer": "ipython3",
   "version": "3.10.0"
  }
 },
 "nbformat": 4,
 "nbformat_minor": 5
}
