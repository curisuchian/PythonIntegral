{
 "cells": [
  {
   "cell_type": "markdown",
   "id": "spare-liability",
   "metadata": {},
   "source": [
    "### Ejercicios de codificación"
   ]
  },
  {
   "cell_type": "markdown",
   "id": "67fb895b",
   "metadata": {},
   "source": [
    "Este cuaderno se encuentra en:\n",
    "\n",
    "https://github.com/gbonorino/PythonIntegral/tree/main/Sintaxis_Semantica"
   ]
  },
  {
   "cell_type": "markdown",
   "id": "equal-structure",
   "metadata": {},
   "source": [
    "Ejercicio 1<br>\n",
    "Modifique la siguiente sentencia para que imprima correctamente: <br>\n",
    "print(Una de mis peliculas favoritas es \"Amarcord\")"
   ]
  },
  {
   "cell_type": "markdown",
   "id": "periodic-sigma",
   "metadata": {},
   "source": [
    "Ejercicio 2 – Crear la variable X y  asignarle 50 como cadena"
   ]
  },
  {
   "cell_type": "markdown",
   "id": "norwegian-woman",
   "metadata": {},
   "source": [
    "Ejercicio 3 – Dados x e y, prediga si la expresión x < y < x da True o False"
   ]
  },
  {
   "cell_type": "code",
   "execution_count": null,
   "id": "graphic-klein",
   "metadata": {},
   "outputs": [],
   "source": [
    "x = 4 \n",
    "y = 5\n",
    "x < y < x"
   ]
  },
  {
   "cell_type": "markdown",
   "id": "immune-latex",
   "metadata": {},
   "source": [
    "Ejercicio 4 – Asigne simultáneamente el valor 5 a las variables x, y, z"
   ]
  },
  {
   "cell_type": "markdown",
   "id": "certain-joining",
   "metadata": {},
   "source": [
    "Ejercicio 5 – Dada la cadena ‘Este es un curso de Python’, insertar símbolos de fin de línea para que cada palabra imprima encolumnada."
   ]
  },
  {
   "cell_type": "markdown",
   "id": "dying-vietnam",
   "metadata": {},
   "source": [
    "### Soluciones"
   ]
  },
  {
   "cell_type": "code",
   "execution_count": 2,
   "id": "special-potential",
   "metadata": {},
   "outputs": [
    {
     "name": "stdout",
     "output_type": "stream",
     "text": [
      "Una de mis peliculas favoritas es \"Amarcord\"\n"
     ]
    }
   ],
   "source": [
    "# Ejercicio 1\n",
    "print('Una de mis peliculas favoritas es \"Amarcord\"')"
   ]
  },
  {
   "cell_type": "code",
   "execution_count": null,
   "id": "07706280",
   "metadata": {},
   "outputs": [],
   "source": []
  },
  {
   "cell_type": "code",
   "execution_count": null,
   "id": "improved-injury",
   "metadata": {},
   "outputs": [],
   "source": [
    "# Ejercicio 2\n",
    "X = '50'"
   ]
  },
  {
   "cell_type": "code",
   "execution_count": null,
   "id": "22471ea2",
   "metadata": {},
   "outputs": [],
   "source": []
  },
  {
   "cell_type": "code",
   "execution_count": 4,
   "id": "dominican-sharp",
   "metadata": {},
   "outputs": [
    {
     "name": "stdout",
     "output_type": "stream",
     "text": [
      "False\n"
     ]
    }
   ],
   "source": [
    "# Ejercicio 3\n",
    "x = 5\n",
    "y = 6\n",
    "print(x < y < x)"
   ]
  },
  {
   "cell_type": "code",
   "execution_count": null,
   "id": "4a0a9f8c",
   "metadata": {},
   "outputs": [],
   "source": []
  },
  {
   "cell_type": "code",
   "execution_count": 5,
   "id": "completed-yacht",
   "metadata": {},
   "outputs": [
    {
     "name": "stdout",
     "output_type": "stream",
     "text": [
      "5\n",
      "5\n",
      "5\n"
     ]
    }
   ],
   "source": [
    "# Ejercicio 4\n",
    "x = y = z = 5\n",
    "print(x);print(y);print(z)"
   ]
  },
  {
   "cell_type": "code",
   "execution_count": null,
   "id": "7c5427b6",
   "metadata": {},
   "outputs": [],
   "source": []
  },
  {
   "cell_type": "code",
   "execution_count": 6,
   "id": "negative-mileage",
   "metadata": {},
   "outputs": [
    {
     "name": "stdout",
     "output_type": "stream",
     "text": [
      "Este\n",
      "es\n",
      "un\n",
      "curso\n",
      "de\n",
      "Python\n"
     ]
    }
   ],
   "source": [
    "# Ejercicio 5\n",
    "print('Este\\nes\\nun\\ncurso\\nde\\nPython')"
   ]
  },
  {
   "cell_type": "code",
   "execution_count": null,
   "id": "92bbe197",
   "metadata": {},
   "outputs": [],
   "source": []
  },
  {
   "cell_type": "code",
   "execution_count": null,
   "id": "9687b6e4",
   "metadata": {},
   "outputs": [],
   "source": []
  }
 ],
 "metadata": {
  "kernelspec": {
   "display_name": "Python 3 (ipykernel)",
   "language": "python",
   "name": "python3"
  },
  "language_info": {
   "codemirror_mode": {
    "name": "ipython",
    "version": 3
   },
   "file_extension": ".py",
   "mimetype": "text/x-python",
   "name": "python",
   "nbconvert_exporter": "python",
   "pygments_lexer": "ipython3",
   "version": "3.10.0"
  }
 },
 "nbformat": 4,
 "nbformat_minor": 5
}
