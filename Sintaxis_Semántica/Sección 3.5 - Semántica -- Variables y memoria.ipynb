{
 "cells": [
  {
   "cell_type": "markdown",
   "id": "relevant-convention",
   "metadata": {},
   "source": [
    "### Variable\n",
    "Apuntador a un sitio en la memoria de la PC donde está alojado un objeto"
   ]
  },
  {
   "cell_type": "markdown",
   "id": "interim-dispatch",
   "metadata": {},
   "source": [
    "\n",
    "\n",
    "<img src=\"figuras/variables.png\" width=400/>"
   ]
  },
  {
   "cell_type": "code",
   "execution_count": null,
   "id": "designed-elder",
   "metadata": {},
   "outputs": [],
   "source": [
    "x = 33\n",
    "y = x\n",
    "z = 40\n",
    "print(id(x)); print(id(y)); print(id(z))"
   ]
  },
  {
   "cell_type": "code",
   "execution_count": null,
   "id": "fd00b551",
   "metadata": {},
   "outputs": [],
   "source": []
  },
  {
   "cell_type": "code",
   "execution_count": null,
   "id": "8c6cd906",
   "metadata": {},
   "outputs": [],
   "source": []
  },
  {
   "cell_type": "code",
   "execution_count": null,
   "id": "70bd7bcb",
   "metadata": {},
   "outputs": [],
   "source": []
  },
  {
   "cell_type": "code",
   "execution_count": null,
   "id": "approximate-account",
   "metadata": {},
   "outputs": [],
   "source": [
    "x = 33\n",
    "y = x\n",
    "x = 22\n",
    "print(x); print(y)"
   ]
  },
  {
   "cell_type": "code",
   "execution_count": null,
   "id": "focused-violin",
   "metadata": {},
   "outputs": [],
   "source": [
    "print(id(x)); print(id(y))"
   ]
  }
 ],
 "metadata": {
  "kernelspec": {
   "display_name": "Python 3 (ipykernel)",
   "language": "python",
   "name": "python3"
  },
  "language_info": {
   "codemirror_mode": {
    "name": "ipython",
    "version": 3
   },
   "file_extension": ".py",
   "mimetype": "text/x-python",
   "name": "python",
   "nbconvert_exporter": "python",
   "pygments_lexer": "ipython3",
   "version": "3.10.0"
  }
 },
 "nbformat": 4,
 "nbformat_minor": 5
}
