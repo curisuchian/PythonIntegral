{
 "cells": [
  {
   "cell_type": "markdown",
   "id": "visible-interaction",
   "metadata": {},
   "source": [
    "##### Comentarios y docstrings"
   ]
  },
  {
   "cell_type": "code",
   "execution_count": null,
   "id": "unavailable-pantyhose",
   "metadata": {},
   "outputs": [],
   "source": [
    "# Este es un comentario\n",
    "a = 5\n",
    "print(a) # Este es otro comentario"
   ]
  },
  {
   "cell_type": "code",
   "execution_count": null,
   "id": "bdfae9c3",
   "metadata": {},
   "outputs": [],
   "source": []
  },
  {
   "cell_type": "code",
   "execution_count": null,
   "id": "interested-essay",
   "metadata": {},
   "outputs": [],
   "source": [
    "# Este es un comentario\n",
    "# que ocupa varios renglones\n",
    "# del script\n",
    "a = 5\n",
    "print(a)"
   ]
  },
  {
   "cell_type": "code",
   "execution_count": null,
   "id": "20b260b9",
   "metadata": {},
   "outputs": [],
   "source": []
  },
  {
   "cell_type": "code",
   "execution_count": null,
   "id": "super-elite",
   "metadata": {},
   "outputs": [],
   "source": [
    "# Este es un docstring\n",
    "def celsius_fahr(gradCent):\n",
    "    \"\"\" Funcion para convertir grados Celsius a Fahrenheit \"\"\"\n",
    "    return gradCent * 9.0 / 5.0 + 32.0\n",
    "\n",
    "print(celsius_fahr.__doc__)"
   ]
  },
  {
   "cell_type": "code",
   "execution_count": null,
   "id": "73032d10",
   "metadata": {},
   "outputs": [],
   "source": []
  },
  {
   "cell_type": "code",
   "execution_count": null,
   "id": "b10444a0",
   "metadata": {},
   "outputs": [],
   "source": []
  },
  {
   "cell_type": "markdown",
   "id": "informative-granny",
   "metadata": {},
   "source": [
    "##### Delimitadores"
   ]
  },
  {
   "cell_type": "code",
   "execution_count": null,
   "id": "romance-republican",
   "metadata": {},
   "outputs": [],
   "source": [
    "2 * (3 + 2)"
   ]
  },
  {
   "cell_type": "code",
   "execution_count": null,
   "id": "fourth-dispatch",
   "metadata": {},
   "outputs": [],
   "source": [
    "a = 4; b = 6"
   ]
  },
  {
   "cell_type": "code",
   "execution_count": null,
   "id": "0bcf2249",
   "metadata": {},
   "outputs": [],
   "source": []
  },
  {
   "cell_type": "code",
   "execution_count": null,
   "id": "65bc80c1",
   "metadata": {},
   "outputs": [],
   "source": []
  },
  {
   "cell_type": "markdown",
   "id": "expressed-heather",
   "metadata": {},
   "source": [
    "##### Identificadores"
   ]
  },
  {
   "cell_type": "code",
   "execution_count": null,
   "id": "everyday-virus",
   "metadata": {},
   "outputs": [],
   "source": [
    "var = 1\n",
    "Var = 2\n",
    "print(var)\n",
    "print(Var)"
   ]
  },
  {
   "cell_type": "code",
   "execution_count": null,
   "id": "cloudy-tracker",
   "metadata": {},
   "outputs": [],
   "source": [
    "var& = 4"
   ]
  },
  {
   "cell_type": "code",
   "execution_count": null,
   "id": "limiting-belly",
   "metadata": {},
   "outputs": [],
   "source": [
    "2var = 5"
   ]
  },
  {
   "cell_type": "code",
   "execution_count": null,
   "id": "taken-sperm",
   "metadata": {},
   "outputs": [],
   "source": [
    "var2 = 6"
   ]
  },
  {
   "cell_type": "code",
   "execution_count": null,
   "id": "31be9525",
   "metadata": {},
   "outputs": [],
   "source": []
  },
  {
   "cell_type": "code",
   "execution_count": null,
   "id": "3863a4e4",
   "metadata": {},
   "outputs": [],
   "source": []
  },
  {
   "cell_type": "markdown",
   "id": "naval-movie",
   "metadata": {},
   "source": [
    "##### Indentación"
   ]
  },
  {
   "cell_type": "code",
   "execution_count": null,
   "id": "numerous-anaheim",
   "metadata": {},
   "outputs": [],
   "source": [
    "def celsius_fahr(gradCent):\n",
    "    return gradCent * 9.0 / 5.0 + 32.0"
   ]
  },
  {
   "cell_type": "code",
   "execution_count": null,
   "id": "thousand-conservation",
   "metadata": {},
   "outputs": [],
   "source": [
    "if 3 > 2:\n",
    "    print(\"Tres es mayor que dos\")"
   ]
  },
  {
   "cell_type": "code",
   "execution_count": null,
   "id": "c688102d",
   "metadata": {},
   "outputs": [],
   "source": []
  },
  {
   "cell_type": "code",
   "execution_count": null,
   "id": "7aef8a9a",
   "metadata": {},
   "outputs": [],
   "source": []
  },
  {
   "cell_type": "markdown",
   "id": "1f2afcfe",
   "metadata": {},
   "source": [
    "##### Literales"
   ]
  },
  {
   "cell_type": "code",
   "execution_count": null,
   "id": "359f64d4",
   "metadata": {},
   "outputs": [],
   "source": [
    "'a'; 'Buenos Aires'"
   ]
  },
  {
   "cell_type": "code",
   "execution_count": null,
   "id": "72b7c305",
   "metadata": {},
   "outputs": [],
   "source": [
    "5; 5000"
   ]
  },
  {
   "cell_type": "code",
   "execution_count": null,
   "id": "ec66e0d1",
   "metadata": {},
   "outputs": [],
   "source": []
  },
  {
   "cell_type": "code",
   "execution_count": null,
   "id": "520044a7",
   "metadata": {},
   "outputs": [],
   "source": []
  },
  {
   "cell_type": "markdown",
   "id": "demonstrated-industry",
   "metadata": {},
   "source": [
    "##### Palabras clave"
   ]
  },
  {
   "cell_type": "code",
   "execution_count": null,
   "id": "industrial-marina",
   "metadata": {},
   "outputs": [],
   "source": [
    "def = 3"
   ]
  },
  {
   "cell_type": "code",
   "execution_count": null,
   "id": "alike-provider",
   "metadata": {},
   "outputs": [],
   "source": [
    "import keyword\n",
    "\n",
    "keyword.kwlist"
   ]
  },
  {
   "cell_type": "code",
   "execution_count": null,
   "id": "babdf9c5",
   "metadata": {},
   "outputs": [],
   "source": []
  },
  {
   "cell_type": "code",
   "execution_count": null,
   "id": "899f4261",
   "metadata": {},
   "outputs": [],
   "source": []
  },
  {
   "cell_type": "code",
   "execution_count": null,
   "id": "c9d0ce72",
   "metadata": {},
   "outputs": [],
   "source": []
  }
 ],
 "metadata": {
  "kernelspec": {
   "display_name": "Python 3 (ipykernel)",
   "language": "python",
   "name": "python3"
  },
  "language_info": {
   "codemirror_mode": {
    "name": "ipython",
    "version": 3
   },
   "file_extension": ".py",
   "mimetype": "text/x-python",
   "name": "python",
   "nbconvert_exporter": "python",
   "pygments_lexer": "ipython3",
   "version": "3.10.0"
  }
 },
 "nbformat": 4,
 "nbformat_minor": 5
}
