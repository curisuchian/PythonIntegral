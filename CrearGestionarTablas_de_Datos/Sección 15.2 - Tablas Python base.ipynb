{
 "cells": [
  {
   "cell_type": "code",
   "execution_count": null,
   "id": "federal-bandwidth",
   "metadata": {},
   "outputs": [],
   "source": [
    "# Leer datos y contar y extraer filas\n",
    "import csv\n",
    "\n",
    "tit_list = []            # Crear una lista vacia\n",
    "contador = 0             # Inicializar\n",
    "with open('vino_corto.csv') as t:\n",
    "    tit = csv.reader(t)\n",
    "    for fila in tit:             # Cada fila es convertida en una lista\n",
    "        contador += 1\n",
    "        tit_list.append(fila)    # Agregar cada fila (lista) a tit_list\n",
    "    print(tit_list[0])           # La primera fila tiene los encabezamientos\n",
    "    print()\n",
    "    print(tit_list[1:5])         # Imprimir las primeras 4 filas de datos\n",
    "    print(contador)"
   ]
  },
  {
   "cell_type": "code",
   "execution_count": null,
   "id": "descending-music",
   "metadata": {},
   "outputs": [],
   "source": [
    "# Acceso al tercer elemento en la fila 5\n",
    "print(tit_list[2][3])"
   ]
  },
  {
   "cell_type": "code",
   "execution_count": null,
   "id": "0ee054e3",
   "metadata": {},
   "outputs": [],
   "source": []
  },
  {
   "cell_type": "code",
   "execution_count": null,
   "id": "b9a8aa21",
   "metadata": {},
   "outputs": [],
   "source": []
  },
  {
   "cell_type": "code",
   "execution_count": null,
   "id": "ignored-rhythm",
   "metadata": {},
   "outputs": [],
   "source": [
    "# Acceso a subconjunto. 5 columnas de fila 5\n",
    "print(tit_list[2][0:5])"
   ]
  },
  {
   "cell_type": "code",
   "execution_count": null,
   "id": "1ed5fb0c",
   "metadata": {},
   "outputs": [],
   "source": []
  },
  {
   "cell_type": "code",
   "execution_count": null,
   "id": "committed-explosion",
   "metadata": {},
   "outputs": [],
   "source": [
    "# Imprimir 20 terminos de la segunda columna, con encabezamiento\n",
    "for i in range(20):\n",
    "    print(tit_list[i][1])"
   ]
  },
  {
   "cell_type": "code",
   "execution_count": null,
   "id": "ee3d6129",
   "metadata": {},
   "outputs": [],
   "source": []
  },
  {
   "cell_type": "code",
   "execution_count": null,
   "id": "6379cadf",
   "metadata": {},
   "outputs": [],
   "source": []
  }
 ],
 "metadata": {
  "kernelspec": {
   "display_name": "Python 3 (ipykernel)",
   "language": "python",
   "name": "python3"
  },
  "language_info": {
   "codemirror_mode": {
    "name": "ipython",
    "version": 3
   },
   "file_extension": ".py",
   "mimetype": "text/x-python",
   "name": "python",
   "nbconvert_exporter": "python",
   "pygments_lexer": "ipython3",
   "version": "3.10.0"
  }
 },
 "nbformat": 4,
 "nbformat_minor": 5
}
