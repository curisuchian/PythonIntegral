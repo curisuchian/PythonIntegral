{
 "cells": [
  {
   "cell_type": "markdown",
   "id": "63d63a1d",
   "metadata": {},
   "source": [
    "### Ejercicios de codificación"
   ]
  },
  {
   "cell_type": "markdown",
   "id": "67fb895b",
   "metadata": {},
   "source": [
    "Este cuaderno se encuentra en:\n",
    "\n",
    "https://github.com/gbonorino/PythonIntegral/tree/main/CrearGestionarTablas_de_Datos"
   ]
  },
  {
   "cell_type": "markdown",
   "id": "267b1c2c",
   "metadata": {},
   "source": [
    "#### Ejercicio 1\n",
    "- Se tienen los datos siguientes:\n",
    "\n",
    "\"Ciudad\", \"Area\", \"Poblacion\", \"Lluvia\"<br>\n",
    "\"Junin\", 1295, 1158259, 600<br>\n",
    "\"Dolores\", 5905, 1857594, 1146<br>\n",
    "\"Darwin\", 112, 120900, 1714<br>\n",
    "\"Uncari\", 1357, 205556, 619<br>\n",
    "\"Motora\", 2058, 4336374, 1214<br>\n",
    "\"Pisaura\", 1566, 3806092, 646<br>\n",
    "\"Mandaer\", 5386, 1554769, 869\n",
    "\n",
    "- Tabularlos usando PrettyTable."
   ]
  },
  {
   "cell_type": "markdown",
   "id": "2105774a",
   "metadata": {},
   "source": [
    "#### Ejercicio 2\n",
    "- Leer el archivo vino_corto.csv empleando el módulo csv.\n",
    "- Convertir a lista\n",
    "- Extraer la primera fila (encabezamientos) y la tercera fila ['7.8', '0.88', '0', '2.6']."
   ]
  },
  {
   "cell_type": "markdown",
   "id": "b498bfd7",
   "metadata": {},
   "source": [
    "### Soluciones"
   ]
  },
  {
   "cell_type": "code",
   "execution_count": 16,
   "id": "f0702106",
   "metadata": {
    "scrolled": false
   },
   "outputs": [
    {
     "name": "stdout",
     "output_type": "stream",
     "text": [
      "+---------+------+-----------+--------+\n",
      "|  Ciudad | Area | Poblacion | Lluvia |\n",
      "+---------+------+-----------+--------+\n",
      "|  Junin  | 1295 |  1158259  |  600   |\n",
      "| Dolores | 5905 |  1857594  |  1146  |\n",
      "|  Darwin | 112  |   120900  |  1714  |\n",
      "|  Uncari | 1357 |   205556  |  619   |\n",
      "|  Motora | 2058 |  4336374  |  1214  |\n",
      "| Pisaura | 1566 |  3806092  |  646   |\n",
      "| Mandaer | 5386 |  1554769  |  869   |\n",
      "+---------+------+-----------+--------+\n"
     ]
    }
   ],
   "source": [
    "# Ejercicio 1\n",
    "#!pip install prettytable\n",
    "from prettytable import PrettyTable\n",
    "    \n",
    "tabla = PrettyTable()\n",
    "\n",
    "tabla.field_names = [\"Ciudad\", \"Area\", \"Poblacion\", \"Lluvia\"]\n",
    "tabla.add_row([\"Junin\", 1295, 1158259, 600])\n",
    "tabla.add_row([\"Dolores\", 5905, 1857594, 1146])\n",
    "tabla.add_row([\"Darwin\", 112, 120900, 1714])\n",
    "tabla.add_row([\"Uncari\", 1357, 205556, 619])\n",
    "tabla.add_row([\"Motora\", 2058, 4336374, 1214])\n",
    "tabla.add_row([\"Pisaura\", 1566, 3806092, 646])\n",
    "tabla.add_row([\"Mandaer\", 5386, 1554769, 869])\n",
    "\n",
    "print(tabla)"
   ]
  },
  {
   "cell_type": "code",
   "execution_count": null,
   "id": "d7ea4314",
   "metadata": {},
   "outputs": [],
   "source": []
  },
  {
   "cell_type": "code",
   "execution_count": null,
   "id": "511c895b",
   "metadata": {},
   "outputs": [],
   "source": []
  },
  {
   "cell_type": "code",
   "execution_count": 17,
   "id": "ff54b943",
   "metadata": {},
   "outputs": [
    {
     "name": "stdout",
     "output_type": "stream",
     "text": [
      "['fixed_acidity', 'volatile_acidity', 'citric_acid', 'residual_sugar']\n",
      "['7.8', '0.88', '0', '2.6']\n"
     ]
    }
   ],
   "source": [
    "# Ejercicio 2\n",
    "import csv\n",
    "\n",
    "with open('Datos/vino_corto.csv') as t:\n",
    "    tit = csv.reader(t)\n",
    "    lst = list(tit)\n",
    "    print(lst[0])\n",
    "    print(lst[2])"
   ]
  }
 ],
 "metadata": {
  "kernelspec": {
   "display_name": "Python 3 (ipykernel)",
   "language": "python",
   "name": "python3"
  },
  "language_info": {
   "codemirror_mode": {
    "name": "ipython",
    "version": 3
   },
   "file_extension": ".py",
   "mimetype": "text/x-python",
   "name": "python",
   "nbconvert_exporter": "python",
   "pygments_lexer": "ipython3",
   "version": "3.10.0"
  }
 },
 "nbformat": 4,
 "nbformat_minor": 5
}
