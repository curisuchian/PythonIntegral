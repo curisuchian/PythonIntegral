{
 "cells": [
  {
   "cell_type": "markdown",
   "id": "complimentary-genre",
   "metadata": {},
   "source": [
    "#### PrettyTable\n",
    "Fuente: https://pypi.org/project/prettytable/"
   ]
  },
  {
   "cell_type": "code",
   "execution_count": null,
   "id": "weird-questionnaire",
   "metadata": {},
   "outputs": [],
   "source": [
    "!pip install prettytable"
   ]
  },
  {
   "cell_type": "code",
   "execution_count": null,
   "id": "attended-premiere",
   "metadata": {
    "scrolled": true
   },
   "outputs": [],
   "source": [
    "# Agregar filas una por una\n",
    "from prettytable import PrettyTable\n",
    "\n",
    "x = PrettyTable()           # Crea objeto PrettyTable\n",
    "x.field_names = ['Ciudad', 'Poblacion', 'Lluvia']\n",
    "x.add_row(['Junin', 100000, 670])\n",
    "x.add_row(['Chascomus', 200000, 600])\n",
    "x.add_row(['Chivilcoy', 150000, 500])\n",
    "x.add_row(['Baradero', 300000, 700])\n",
    "x.add_row(['Escobar', 80000, 750])\n",
    "print(x)"
   ]
  },
  {
   "cell_type": "code",
   "execution_count": null,
   "id": "657258bd",
   "metadata": {},
   "outputs": [],
   "source": [
    "# Cargar todas las filas juntas\n",
    "from prettytable import PrettyTable\n",
    "\n",
    "x = PrettyTable()           # Crea objeto PrettyTable\n",
    "x.field_names = ['Ciudad', 'Poblacion', 'Lluvia']\n",
    "x.add_rows([['Junin', 100000, 670],['Chascomus', 200000, 600],\n",
    "           ['Chivilcoy', 150000, 500],['Baradero', 300000, 700],\n",
    "           ['Escobar', 80000, 750]])    # Crear lista con listas anidadas\n",
    "print(x)"
   ]
  },
  {
   "cell_type": "code",
   "execution_count": null,
   "id": "suspected-proposition",
   "metadata": {},
   "outputs": [],
   "source": [
    "# Tabla basada en columnas\n",
    "from prettytable import PrettyTable\n",
    "\n",
    "x = PrettyTable()\n",
    "nombres_columnas = ['Ciudad', 'Poblacion', 'Lluvia']\n",
    "x.add_column(nombres_columnas[0], ['Junin', 'Chascomus', 'Chivilcoy', 'Baradero', 'Escobar' ])\n",
    "x.add_column(nombres_columnas[1],[ 100000, 200000, 150000, 300000, 80000])\n",
    "x.add_column(nombres_columnas[2],[670, 600, 500, 700, 750])\n",
    "print(x)"
   ]
  },
  {
   "cell_type": "code",
   "execution_count": null,
   "id": "10e46599",
   "metadata": {},
   "outputs": [],
   "source": []
  },
  {
   "cell_type": "code",
   "execution_count": null,
   "id": "4284b880",
   "metadata": {},
   "outputs": [],
   "source": []
  },
  {
   "cell_type": "code",
   "execution_count": null,
   "id": "ultimate-artwork",
   "metadata": {},
   "outputs": [],
   "source": [
    "# Tabla basada en archivo CSV\n",
    "from prettytable import from_csv\n",
    "\n",
    "with open(\"vino_corto.csv\", \"r\") as fp: \n",
    "    x = from_csv(fp)\n",
    "print(x)"
   ]
  },
  {
   "cell_type": "code",
   "execution_count": null,
   "id": "f624660a",
   "metadata": {},
   "outputs": [],
   "source": []
  },
  {
   "cell_type": "code",
   "execution_count": null,
   "id": "e10f0b47",
   "metadata": {},
   "outputs": [],
   "source": []
  },
  {
   "cell_type": "code",
   "execution_count": null,
   "id": "19a58a0b",
   "metadata": {},
   "outputs": [],
   "source": []
  },
  {
   "cell_type": "code",
   "execution_count": null,
   "id": "f4a8f519",
   "metadata": {},
   "outputs": [],
   "source": []
  },
  {
   "cell_type": "code",
   "execution_count": null,
   "id": "french-coating",
   "metadata": {},
   "outputs": [],
   "source": [
    "# Tabla basada en archivo HTML\n",
    "from prettytable import from_html_one\n",
    "\n",
    "with open(\"Tabla.html\", \"r\") as fp:\n",
    "    html = fp.read()\n",
    "x = from_html_one(html)\n",
    "print(x)"
   ]
  },
  {
   "cell_type": "code",
   "execution_count": null,
   "id": "faaacb9c",
   "metadata": {},
   "outputs": [],
   "source": []
  },
  {
   "cell_type": "code",
   "execution_count": null,
   "id": "5b0b22c4",
   "metadata": {},
   "outputs": [],
   "source": []
  },
  {
   "cell_type": "code",
   "execution_count": null,
   "id": "corporate-transfer",
   "metadata": {},
   "outputs": [],
   "source": [
    "# Alineacion del contenido\n",
    "from prettytable import PrettyTable\n",
    "\n",
    "x = PrettyTable()\n",
    "x.field_names = ['Ciudad', 'Poblacion', 'Lluvia']\n",
    "\n",
    "x.align[\"Ciudad\"] = \"l\"\n",
    "x.align[\"Poblacion\"] = \"r\"\n",
    "x.align[\"Lluvia\"] = \"r\"\n",
    "\n",
    "x.add_row(['Junin', 100000, 670])\n",
    "x.add_row(['Chascomus', 200000, 600])\n",
    "x.add_row(['Chivilcoy', 150000, 500])\n",
    "x.add_row(['Baradero', 300000, 700])\n",
    "x.add_row(['Escobar', 80000, 750])\n",
    "print(x)"
   ]
  },
  {
   "cell_type": "code",
   "execution_count": null,
   "id": "3df9ea85",
   "metadata": {},
   "outputs": [],
   "source": []
  },
  {
   "cell_type": "code",
   "execution_count": null,
   "id": "09fbdc3f",
   "metadata": {},
   "outputs": [],
   "source": []
  },
  {
   "cell_type": "code",
   "execution_count": null,
   "id": "minimal-accent",
   "metadata": {},
   "outputs": [],
   "source": [
    "# Eliminar filas\n",
    "from prettytable import PrettyTable\n",
    "\n",
    "x = PrettyTable()\n",
    "x.field_names = ['Ciudad', 'Poblacion', 'Lluvia']\n",
    "\n",
    "x.align[\"Ciudad\"] = \"l\"\n",
    "x.align[\"Poblacion\"] = \"r\"\n",
    "x.align[\"Lluvia\"] = \"r\"\n",
    "\n",
    "x.add_row(['Junin', 100000, 670])\n",
    "x.add_row(['Chascomus', 200000, 600])\n",
    "x.add_row(['Chivilcoy', 150000, 500])\n",
    "x.add_row(['Baradero', 300000, 700])\n",
    "x.add_row(['Escobar', 80000, 750])\n",
    "x.del_row(2)\n",
    "print(x)"
   ]
  }
 ],
 "metadata": {
  "kernelspec": {
   "display_name": "Python 3 (ipykernel)",
   "language": "python",
   "name": "python3"
  },
  "language_info": {
   "codemirror_mode": {
    "name": "ipython",
    "version": 3
   },
   "file_extension": ".py",
   "mimetype": "text/x-python",
   "name": "python",
   "nbconvert_exporter": "python",
   "pygments_lexer": "ipython3",
   "version": "3.10.0"
  }
 },
 "nbformat": 4,
 "nbformat_minor": 5
}
