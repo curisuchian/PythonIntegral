{
 "cells": [
  {
   "cell_type": "markdown",
   "id": "762121de",
   "metadata": {},
   "source": [
    "### Ejercicios de codificación"
   ]
  },
  {
   "cell_type": "markdown",
   "id": "67fb895b",
   "metadata": {},
   "source": [
    "Este cuaderno se encuentra en:\n",
    "\n",
    "https://github.com/gbonorino/PythonIntegral/tree/main/Mi_primer_script"
   ]
  },
  {
   "cell_type": "markdown",
   "id": "30a856c8",
   "metadata": {},
   "source": [
    "#### Ejercicio 1\n",
    "Escribir el código en Python que \n",
    "- a) identifique el directorio al que apunta Python actualmente, \n",
    "- b) cree un directorio nuevo, \n",
    "- c) apunte Python a ese directorio"
   ]
  },
  {
   "cell_type": "markdown",
   "id": "d983927f",
   "metadata": {},
   "source": [
    "#### Ejercicio 2\n",
    "Escriba un seudocódigo con una función que multiplique dos variables y una sentencia que invoque la función pasándole los valores requeridos."
   ]
  },
  {
   "cell_type": "code",
   "execution_count": null,
   "id": "61ab1363",
   "metadata": {},
   "outputs": [],
   "source": []
  },
  {
   "cell_type": "markdown",
   "id": "b17ef86f",
   "metadata": {},
   "source": [
    "### Soluciones"
   ]
  },
  {
   "cell_type": "code",
   "execution_count": 3,
   "id": "88fb1807",
   "metadata": {},
   "outputs": [
    {
     "name": "stdout",
     "output_type": "stream",
     "text": [
      "C:\\DirectorioNuevo\n"
     ]
    },
    {
     "data": {
      "text/plain": [
       "'C:\\\\Directorio2'"
      ]
     },
     "execution_count": 3,
     "metadata": {},
     "output_type": "execute_result"
    }
   ],
   "source": [
    "# Ejercicio 1\n",
    "import os\n",
    "\n",
    "print(os.getcwd())\n",
    "os.mkdir(\"C:/Directorio2\")    # Crea directorio\n",
    "os.chdir(\"C:/Directorio2\")    # Cambia a directorio\n",
    "os.getcwd()"
   ]
  },
  {
   "cell_type": "code",
   "execution_count": null,
   "id": "50b177e0",
   "metadata": {},
   "outputs": [],
   "source": []
  },
  {
   "cell_type": "code",
   "execution_count": null,
   "id": "fea44fdb",
   "metadata": {},
   "outputs": [],
   "source": []
  },
  {
   "cell_type": "markdown",
   "id": "5ee23b8d",
   "metadata": {},
   "source": [
    "#### Ejercicio 2\n",
    "función mult parametros x, y <br>\n",
    "indentado expresión x * y   <br>\n",
    "mult pase valores x y"
   ]
  },
  {
   "cell_type": "code",
   "execution_count": null,
   "id": "261c5181",
   "metadata": {},
   "outputs": [],
   "source": []
  },
  {
   "cell_type": "code",
   "execution_count": null,
   "id": "08d2c461",
   "metadata": {},
   "outputs": [],
   "source": []
  },
  {
   "cell_type": "code",
   "execution_count": null,
   "id": "c5c80564",
   "metadata": {},
   "outputs": [],
   "source": []
  },
  {
   "cell_type": "code",
   "execution_count": 4,
   "id": "8caffed2",
   "metadata": {},
   "outputs": [
    {
     "data": {
      "text/plain": [
       "45"
      ]
     },
     "execution_count": 4,
     "metadata": {},
     "output_type": "execute_result"
    }
   ],
   "source": [
    "def mult(x,y):\n",
    "    return x*y\n",
    "\n",
    "mult(5,9)"
   ]
  },
  {
   "cell_type": "code",
   "execution_count": null,
   "id": "0299adbc",
   "metadata": {},
   "outputs": [],
   "source": []
  }
 ],
 "metadata": {
  "kernelspec": {
   "display_name": "Python 3 (ipykernel)",
   "language": "python",
   "name": "python3"
  },
  "language_info": {
   "codemirror_mode": {
    "name": "ipython",
    "version": 3
   },
   "file_extension": ".py",
   "mimetype": "text/x-python",
   "name": "python",
   "nbconvert_exporter": "python",
   "pygments_lexer": "ipython3",
   "version": "3.10.0"
  }
 },
 "nbformat": 4,
 "nbformat_minor": 5
}
