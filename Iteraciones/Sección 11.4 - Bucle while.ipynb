{
 "cells": [
  {
   "attachments": {
    "while2.png": {
     "image/png": "[encoded data removed]"
    }
   },
   "cell_type": "markdown",
   "id": "located-description",
   "metadata": {},
   "source": [
    "![while2.png](attachment:while2.png)"
   ]
  },
  {
   "cell_type": "code",
   "execution_count": null,
   "id": "coordinate-stupid",
   "metadata": {
    "scrolled": true
   },
   "outputs": [],
   "source": [
    "x=0                # Inicialización\n",
    "while(x < 5):     # Condición a cumplir\n",
    "    print(x)\n",
    "    x+=1           # El operador += incrementa x en 1 en cada paso"
   ]
  },
  {
   "cell_type": "code",
   "execution_count": null,
   "id": "active-services",
   "metadata": {},
   "outputs": [],
   "source": [
    "i = 0\n",
    "frutas = [\"manzana\", \"banana\", \"cereza\"]     # lista como iterable\n",
    "while i < len(frutas):\n",
    "    print(frutas[i])\n",
    "    i +=  1"
   ]
  },
  {
   "cell_type": "code",
   "execution_count": null,
   "id": "f21b6ed2",
   "metadata": {},
   "outputs": [],
   "source": []
  },
  {
   "cell_type": "code",
   "execution_count": null,
   "id": "3edfce2f",
   "metadata": {},
   "outputs": [],
   "source": []
  },
  {
   "cell_type": "code",
   "execution_count": null,
   "id": "3f90be46",
   "metadata": {},
   "outputs": [],
   "source": []
  },
  {
   "cell_type": "markdown",
   "id": "trying-infrared",
   "metadata": {},
   "source": [
    "pop() elimina el último elemento de frutas en cada ciclo, hasta el final."
   ]
  },
  {
   "cell_type": "code",
   "execution_count": null,
   "id": "sacred-swaziland",
   "metadata": {},
   "outputs": [],
   "source": [
    "frutas = [\"manzana\", \"banana\", \"cereza\"]\n",
    "while frutas:\n",
    "    print(frutas.pop())\n",
    "    \n",
    "frutas"
   ]
  },
  {
   "cell_type": "code",
   "execution_count": null,
   "id": "107fff9d",
   "metadata": {},
   "outputs": [],
   "source": []
  },
  {
   "cell_type": "code",
   "execution_count": null,
   "id": "b6681c7d",
   "metadata": {},
   "outputs": [],
   "source": []
  },
  {
   "cell_type": "code",
   "execution_count": null,
   "id": "a08cc684",
   "metadata": {},
   "outputs": [],
   "source": []
  },
  {
   "cell_type": "code",
   "execution_count": null,
   "id": "ccd4e1aa",
   "metadata": {},
   "outputs": [],
   "source": []
  },
  {
   "cell_type": "markdown",
   "id": "toxic-drawing",
   "metadata": {},
   "source": [
    " Bucles while anidados"
   ]
  },
  {
   "cell_type": "code",
   "execution_count": null,
   "id": "floating-sustainability",
   "metadata": {},
   "outputs": [],
   "source": [
    "i = 1\n",
    "j = 5\n",
    "while i < 4:\n",
    "    while j < 8:\n",
    "        print(i, \",\", j)\n",
    "        j = j + 1\n",
    "        i = i + 1"
   ]
  },
  {
   "cell_type": "code",
   "execution_count": null,
   "id": "9cba5dcc",
   "metadata": {},
   "outputs": [],
   "source": []
  },
  {
   "cell_type": "code",
   "execution_count": null,
   "id": "80a65c6e",
   "metadata": {},
   "outputs": [],
   "source": []
  },
  {
   "cell_type": "code",
   "execution_count": null,
   "id": "ce6ec400",
   "metadata": {},
   "outputs": [],
   "source": []
  },
  {
   "cell_type": "code",
   "execution_count": null,
   "id": "f585bfb6",
   "metadata": {},
   "outputs": [],
   "source": []
  },
  {
   "cell_type": "markdown",
   "id": "regional-skiing",
   "metadata": {},
   "source": [
    "El usuario ingresa un número entero, si es par se agrega a la lista num_par, si no se descarta"
   ]
  },
  {
   "cell_type": "code",
   "execution_count": null,
   "id": "42aa3cdc",
   "metadata": {},
   "outputs": [],
   "source": [
    "## Crear una lista vacia \n",
    "num_par = []\n",
    "\n",
    "# Cuando la lista alcance a 4 elementos se abandona el bucle\n",
    "while len(num_par) < 4:    \n",
    "    ingreso  = int(input(\"Ingrese un entero: \"))  \n",
    "    \n",
    "    # input() convierte a cadena por lo que hay que coercionar el ingreso a entero\n",
    "    if ingreso % 2 == 0:          # Operador módulo para determinar si es par\n",
    "        num_par.append(ingreso)\n",
    "        print(num_par)"
   ]
  },
  {
   "cell_type": "code",
   "execution_count": null,
   "id": "f5b1cb6e",
   "metadata": {},
   "outputs": [],
   "source": []
  },
  {
   "cell_type": "code",
   "execution_count": null,
   "id": "68dab13e",
   "metadata": {},
   "outputs": [],
   "source": []
  },
  {
   "cell_type": "code",
   "execution_count": null,
   "id": "c48723b3",
   "metadata": {},
   "outputs": [],
   "source": []
  },
  {
   "cell_type": "markdown",
   "id": "pregnant-singles",
   "metadata": {},
   "source": [
    "Se parte de un valor inicial que decrece en cada iteración; cuando cae por debajo del margen de error tolerado la operación sale del bucle."
   ]
  },
  {
   "cell_type": "code",
   "execution_count": null,
   "id": "blessed-guide",
   "metadata": {},
   "outputs": [],
   "source": [
    "valor_inicial = 20\n",
    "error = 0.5\n",
    "contador = 0\n",
    "\n",
    "while valor_inicial > error:\n",
    "    contador = contador + 1             # Una manera de llevar la cuenta\n",
    "    valor_inicial = valor_inicial / 3\n",
    "    print(valor_inicial)\n",
    "                   \n",
    "print(contador)"
   ]
  },
  {
   "cell_type": "code",
   "execution_count": null,
   "id": "respiratory-semester",
   "metadata": {},
   "outputs": [],
   "source": []
  },
  {
   "cell_type": "code",
   "execution_count": null,
   "id": "emerging-consortium",
   "metadata": {},
   "outputs": [],
   "source": []
  },
  {
   "cell_type": "markdown",
   "id": "stable-louisville",
   "metadata": {},
   "source": [
    "##### Bucles infinitos\n",
    "Los siguientes bucles no se detendrán jamás por sí solos. "
   ]
  },
  {
   "cell_type": "code",
   "execution_count": null,
   "id": "unavailable-conference",
   "metadata": {},
   "outputs": [],
   "source": [
    "i = 1\n",
    "while i <= 10:\n",
    "    print(i, end=\" \")"
   ]
  },
  {
   "cell_type": "code",
   "execution_count": null,
   "id": "national-marina",
   "metadata": {},
   "outputs": [],
   "source": [
    "i = 1\n",
    "while i != 100:\n",
    "    print(i, end=\" \")\n",
    "    i += 2"
   ]
  },
  {
   "cell_type": "code",
   "execution_count": null,
   "id": "ahead-monthly",
   "metadata": {},
   "outputs": [],
   "source": [
    "while True:\n",
    "    pass"
   ]
  }
 ],
 "metadata": {
  "kernelspec": {
   "display_name": "Python 3 (ipykernel)",
   "language": "python",
   "name": "python3"
  },
  "language_info": {
   "codemirror_mode": {
    "name": "ipython",
    "version": 3
   },
   "file_extension": ".py",
   "mimetype": "text/x-python",
   "name": "python",
   "nbconvert_exporter": "python",
   "pygments_lexer": "ipython3",
   "version": "3.10.0"
  }
 },
 "nbformat": 4,
 "nbformat_minor": 5
}
