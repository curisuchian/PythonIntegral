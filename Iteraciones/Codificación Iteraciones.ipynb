{
 "cells": [
  {
   "cell_type": "markdown",
   "id": "829fd293",
   "metadata": {},
   "source": [
    "### Ejercicios de codificación"
   ]
  },
  {
   "cell_type": "markdown",
   "id": "67fb895b",
   "metadata": {},
   "source": [
    "Este cuaderno se encuentra en:\n",
    "\n",
    "https://github.com/gbonorino/PythonIntegral/tree/main/Iteraciones"
   ]
  },
  {
   "cell_type": "markdown",
   "id": "7e8ea25f",
   "metadata": {},
   "source": [
    "#### Ejercicio 1\n",
    "Escribir bucle que imprima la cadena 'palabra' al revés: arbalap"
   ]
  },
  {
   "cell_type": "markdown",
   "id": "84e685d8",
   "metadata": {},
   "source": [
    "#### Ejercicio 2\n",
    "Partiendo de la cadena 'palabra', escribir un bucle que imprima: <br> \n",
    "p<br>\n",
    "pa<br>\n",
    "pal<br>\n",
    "pala<br>\n",
    "palab<br>\n",
    "palabr<br>\n",
    "palabra"
   ]
  },
  {
   "cell_type": "markdown",
   "id": "ba6bb67c",
   "metadata": {},
   "source": [
    "#### Ejercicio 3\n",
    "Hallar el máximo común divisor (MCD) de dos números enteros aplicando el algoritmo de Euclides. <br>\n",
    "- Paso 1 a % b = r <br>\n",
    "- Paso 2 trastocar a por b y hacer b = r  <br>\n",
    "Repetir los pasos hasta que a % b > 0 <br>\n",
    "b es el MCD<br>\n",
    "Puede comprobar el resultado con la función math.gcd() "
   ]
  },
  {
   "cell_type": "markdown",
   "id": "e0a1e683",
   "metadata": {},
   "source": [
    "#### Ejercicio 4\n",
    "Escriba una función que cuente los elementos en una lista, similar a len()."
   ]
  },
  {
   "cell_type": "markdown",
   "id": "3ddb198e",
   "metadata": {},
   "source": [
    "#### Ejercicio 5"
   ]
  },
  {
   "cell_type": "code",
   "execution_count": 2,
   "id": "a5f0b287",
   "metadata": {},
   "outputs": [
    {
     "data": {
      "image/png": "[encoded data removed]",
      "text/plain": [
       "<IPython.core.display.Image object>"
      ]
     },
     "execution_count": 2,
     "metadata": {},
     "output_type": "execute_result"
    }
   ],
   "source": [
    "# Este código imprime la imagen y no es parte de la solución\n",
    "#!pip install iPython\n",
    "from IPython import display\n",
    "\n",
    "display.Image('Figuras/piramide.png')"
   ]
  },
  {
   "cell_type": "markdown",
   "id": "88cc61c1",
   "metadata": {},
   "source": [
    "Dibujar una pirámide similar a la que muestra la imagen.<br> \n",
    "Seudocódigo: <br>\n",
    "- El usuario ingresa un número entre 1 y 15 que determina el número de filas, x. \n",
    "- Declarar una variable k = x - 1, que controla la posición del cursor para la impresión; empieza en la base.\n",
    "- Crear dos bucles anidados con range(0,x) y range(0,k); el interior imprime espacios en blanco desde la izquierda para acomodar los dígitos.\n",
    "- Completar con estas dos últimas sentencias:<br>\n",
    "for h in range(0, i+1):\n",
    "\n",
    "    print(i, end=\" \") # Imprime el digito a continuacion del ultimo espacio creado en el bucle exterior\n",
    "    \n",
    "    print(\"\\r\")           # Este codigo mueve el cursor a la linea siguiente"
   ]
  },
  {
   "cell_type": "markdown",
   "id": "ac27f775",
   "metadata": {},
   "source": [
    "### Soluciones"
   ]
  },
  {
   "cell_type": "code",
   "execution_count": 4,
   "id": "cb427131",
   "metadata": {},
   "outputs": [
    {
     "name": "stdout",
     "output_type": "stream",
     "text": [
      "arbalap"
     ]
    }
   ],
   "source": [
    "# Ejercicio 1\n",
    "p = 'palabra'\n",
    "\n",
    "for i in range(len(p)):\n",
    "    print(p[-(i+1)],end='')"
   ]
  },
  {
   "cell_type": "code",
   "execution_count": null,
   "id": "45880469",
   "metadata": {},
   "outputs": [],
   "source": []
  },
  {
   "cell_type": "code",
   "execution_count": 5,
   "id": "d83876e9",
   "metadata": {},
   "outputs": [
    {
     "name": "stdout",
     "output_type": "stream",
     "text": [
      "\n",
      "p\n",
      "pa\n",
      "pal\n",
      "pala\n",
      "palab\n",
      "palabr\n",
      "palabra\n"
     ]
    }
   ],
   "source": [
    "# Ejercicio 2\n",
    "\n",
    "p = 'palabra'\n",
    "for i in range(8):\n",
    "    print(p[0:i])"
   ]
  },
  {
   "cell_type": "code",
   "execution_count": null,
   "id": "8cbc871f",
   "metadata": {},
   "outputs": [],
   "source": []
  },
  {
   "cell_type": "code",
   "execution_count": 6,
   "id": "b7d5f0aa",
   "metadata": {},
   "outputs": [
    {
     "data": {
      "text/plain": [
       "7"
      ]
     },
     "execution_count": 6,
     "metadata": {},
     "output_type": "execute_result"
    }
   ],
   "source": [
    "# Ejercicio 3\n",
    "def denom_comun(x, y):\n",
    "    while y != 0:\n",
    "        (x, y) = (y, x % y)\n",
    "    return x\n",
    "denom_comun(21,28)"
   ]
  },
  {
   "cell_type": "code",
   "execution_count": null,
   "id": "82c04cae",
   "metadata": {},
   "outputs": [],
   "source": []
  },
  {
   "cell_type": "code",
   "execution_count": 8,
   "id": "bb9b1c2d",
   "metadata": {},
   "outputs": [
    {
     "data": {
      "text/plain": [
       "6"
      ]
     },
     "execution_count": 8,
     "metadata": {},
     "output_type": "execute_result"
    }
   ],
   "source": [
    "# Ejercicio 4\n",
    "def largo_lista(lst):\n",
    "    largo = 0\n",
    "    for i in lst:\n",
    "        largo += 1\n",
    "    return largo\n",
    "\n",
    "lst = [1,2,3,4,5,6]\n",
    "largo_lista(lst)   \n",
    "len(lst)"
   ]
  },
  {
   "cell_type": "code",
   "execution_count": null,
   "id": "b954ebc3",
   "metadata": {},
   "outputs": [],
   "source": []
  },
  {
   "cell_type": "code",
   "execution_count": 11,
   "id": "cf6cc7a0",
   "metadata": {},
   "outputs": [
    {
     "name": "stdout",
     "output_type": "stream",
     "text": [
      "porfavor ingrese num entre 1 y 15:  5\n",
      "    0 \n",
      "   1 1 \n",
      "  2 2 2 \n",
      " 3 3 3 3 \n",
      "4 4 4 4 4 \n"
     ]
    }
   ],
   "source": [
    "# Ejercicio 5\n",
    "x = int(input(\"porfavor ingrese num entre 1 y 15:  \"))\n",
    "# x define el numero de filas que tendra la piramide.\n",
    "k = x - 1    # k actua como control de la posicion del cursor.\n",
    "\n",
    "for i in range(0, x):     # Este es el bucle principal\n",
    "    # El bucle for j crea espacios desde el margen izquierdo \n",
    "    #   para acomodar los digitos\n",
    "    for j in range(0, k):\n",
    "        print(end=\" \")    # Solo imprime espacios en blanco. \n",
    "        # Empieza por la primera fila.\n",
    "                \n",
    "    k -= 1           # Reduce k \n",
    "    \n",
    "    # Este bucle for imprime los digitos dejando un espacio entre cada uno. \n",
    "    for h in range(0, i+1):\n",
    "        print(i, end=\" \") # Imprime el digito a continuacion del ultimo espacio\n",
    "                          #   creado en el bucle j\n",
    "    \n",
    "    print(\"\\r\")     # Este codigo mueve el cursor a la linea siguiente"
   ]
  },
  {
   "cell_type": "code",
   "execution_count": null,
   "id": "a63c227d",
   "metadata": {},
   "outputs": [],
   "source": []
  },
  {
   "cell_type": "code",
   "execution_count": null,
   "id": "7d051021",
   "metadata": {},
   "outputs": [],
   "source": []
  }
 ],
 "metadata": {
  "kernelspec": {
   "display_name": "Python 3 (ipykernel)",
   "language": "python",
   "name": "python3"
  },
  "language_info": {
   "codemirror_mode": {
    "name": "ipython",
    "version": 3
   },
   "file_extension": ".py",
   "mimetype": "text/x-python",
   "name": "python",
   "nbconvert_exporter": "python",
   "pygments_lexer": "ipython3",
   "version": "3.10.0"
  }
 },
 "nbformat": 4,
 "nbformat_minor": 5
}
