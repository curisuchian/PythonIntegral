{
 "cells": [
  {
   "cell_type": "markdown",
   "id": "145837ee",
   "metadata": {},
   "source": [
    "#### Función enumerate()\n",
    "Sintaxis: <br>\n",
    "enumerate(iterable, start=0)"
   ]
  },
  {
   "cell_type": "code",
   "execution_count": null,
   "id": "a0679087",
   "metadata": {
    "scrolled": true
   },
   "outputs": [],
   "source": [
    "# Mismo resultado con bucle for\n",
    "lista1 = [\"uno\",\"dos\",\"tres\"]\n",
    "lista2 = []\n",
    "contador = 0\n",
    "for item in lista1:\n",
    "    lista2.append((contador, item))\n",
    "    contador += 1\n",
    "print(lista2)"
   ]
  },
  {
   "cell_type": "code",
   "execution_count": null,
   "id": "37c80206",
   "metadata": {
    "scrolled": false
   },
   "outputs": [],
   "source": [
    "lista1 = [\"uno\",\"dos\",\"tres\"]\n",
    "enum1 = enumerate(lista1)        \n",
    "print(list(enum1))    # Devuelve una lista de tuplas\n",
    "print(type(enum1))  # Tipo enumerate."
   ]
  },
  {
   "cell_type": "code",
   "execution_count": null,
   "id": "dbc6dcbd",
   "metadata": {},
   "outputs": [],
   "source": []
  },
  {
   "cell_type": "code",
   "execution_count": null,
   "id": "08c3b577",
   "metadata": {},
   "outputs": [],
   "source": []
  },
  {
   "cell_type": "code",
   "execution_count": null,
   "id": "c018af4f",
   "metadata": {},
   "outputs": [],
   "source": []
  },
  {
   "cell_type": "code",
   "execution_count": null,
   "id": "e6fc630a",
   "metadata": {},
   "outputs": [],
   "source": []
  },
  {
   "cell_type": "code",
   "execution_count": null,
   "id": "1c0231e5",
   "metadata": {
    "scrolled": false
   },
   "outputs": [],
   "source": [
    "# Ejemplo con una lista\n",
    "equipos = [\"River\",\"Boca\",\"Temperley\", \"Atletico\"]\n",
    "for i, equipo in enumerate(equipos, 1):\n",
    "    print(i, equipo)"
   ]
  },
  {
   "cell_type": "code",
   "execution_count": null,
   "id": "f5ae5494",
   "metadata": {},
   "outputs": [],
   "source": []
  },
  {
   "cell_type": "code",
   "execution_count": null,
   "id": "fa7fefed",
   "metadata": {},
   "outputs": [],
   "source": []
  },
  {
   "cell_type": "code",
   "execution_count": null,
   "id": "2359fe1f",
   "metadata": {},
   "outputs": [],
   "source": []
  },
  {
   "cell_type": "code",
   "execution_count": null,
   "id": "49a3d053",
   "metadata": {
    "scrolled": true
   },
   "outputs": [],
   "source": [
    "# Ejemplo con una lista de tuplas con el equipo \n",
    "#  y año de campeón en el torneo Seis Naciones de rugby.\n",
    "torneo = [(2020, 'Inglaterra'), (2019, 'Gales'), (2018, 'Irlanda'), (2017, 'Inglaterra')]\n",
    "\n",
    "for i, (año, equipo) in enumerate(torneo):\n",
    "    print(f\"Orden: {i}, Campeon: {año}, Pais: {equipo}\")"
   ]
  },
  {
   "cell_type": "code",
   "execution_count": null,
   "id": "884a0b43",
   "metadata": {},
   "outputs": [],
   "source": []
  },
  {
   "cell_type": "code",
   "execution_count": null,
   "id": "1aa51f45",
   "metadata": {},
   "outputs": [],
   "source": []
  },
  {
   "cell_type": "code",
   "execution_count": null,
   "id": "db36c296",
   "metadata": {},
   "outputs": [],
   "source": []
  }
 ],
 "metadata": {
  "kernelspec": {
   "display_name": "Python 3 (ipykernel)",
   "language": "python",
   "name": "python3"
  },
  "language_info": {
   "codemirror_mode": {
    "name": "ipython",
    "version": 3
   },
   "file_extension": ".py",
   "mimetype": "text/x-python",
   "name": "python",
   "nbconvert_exporter": "python",
   "pygments_lexer": "ipython3",
   "version": "3.10.0"
  }
 },
 "nbformat": 4,
 "nbformat_minor": 5
}
