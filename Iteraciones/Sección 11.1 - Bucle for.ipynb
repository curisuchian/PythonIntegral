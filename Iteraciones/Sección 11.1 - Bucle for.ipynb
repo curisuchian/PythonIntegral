{
 "cells": [
  {
   "cell_type": "markdown",
   "metadata": {},
   "source": [
    "<img src=\"Bucle_for.png\" width=450/>"
   ]
  },
  {
   "cell_type": "code",
   "execution_count": null,
   "metadata": {},
   "outputs": [],
   "source": [
    "a = ['pera', 'banana', 'naranja']   # Lista\n",
    "for i in a: \n",
    "    print(i)"
   ]
  },
  {
   "cell_type": "code",
   "execution_count": null,
   "metadata": {},
   "outputs": [],
   "source": [
    "c = ('pera', 'banana', 'naranja')   # Tupla\n",
    "for j in c: \n",
    "    print(j)"
   ]
  },
  {
   "cell_type": "code",
   "execution_count": null,
   "metadata": {},
   "outputs": [],
   "source": [
    "d = \"cadena\"\n",
    "for letra in d:\n",
    "    print(letra)"
   ]
  },
  {
   "cell_type": "code",
   "execution_count": null,
   "metadata": {},
   "outputs": [],
   "source": [
    "# Imprimir pares clave : valor\n",
    "b = {'pera':40, 'banana':60, 'naranja':50}   # Diccionario\n",
    "for (keys, values) in b.items(): \n",
    "    print(keys,values)"
   ]
  },
  {
   "cell_type": "code",
   "execution_count": null,
   "metadata": {},
   "outputs": [],
   "source": [
    "# Imprimir valores\n",
    "for values in b.values(): \n",
    "    print(values)"
   ]
  },
  {
   "cell_type": "code",
   "execution_count": null,
   "metadata": {},
   "outputs": [],
   "source": [
    "# Lista con tuplas anidadas\n",
    "d = [(\"Atl Madrid\", 'España'), ('Chelsea', 'Gran Bretaña'), ('Napoli', 'Italia')]"
   ]
  },
  {
   "cell_type": "code",
   "execution_count": null,
   "metadata": {},
   "outputs": [],
   "source": [
    "for i in d:\n",
    "    print(i)          # Devuelve cada tupla"
   ]
  },
  {
   "cell_type": "code",
   "execution_count": null,
   "metadata": {},
   "outputs": [],
   "source": [
    "for i, j in d:\n",
    "    print(i + ' juega en ' + j)      # Devuelve las tuplas desmembradas"
   ]
  },
  {
   "cell_type": "code",
   "execution_count": null,
   "metadata": {},
   "outputs": [],
   "source": [
    "# Usar una estructura compuesta como iterable\n",
    "lista_dict = [{'año':2019, 'campeon':'España', 'res':[2,0], 'venue':'Madrid'},\n",
    "{'año':2018, 'campeon':'Croacia', 'res':[3,1], 'venue':'Lille'},\n",
    "{'año':2017, 'campeon':'Francia', 'res':[3,2], 'venue':'Lille'},\n",
    "{'año':2016, 'campeon':'Argentina', 'res':[3,2], 'venue':'Zagreb'},\n",
    "{'año':2015, 'campeon':'Gran Bretaña', 'res':[3,1], 'venue':'Ghent'}]\n",
    "\n",
    "#Imprimir las filas precedidas por los indices de filas\n",
    "for i in lista_dict:\n",
    "    print(i)\n",
    "print()"
   ]
  },
  {
   "cell_type": "code",
   "execution_count": null,
   "metadata": {},
   "outputs": [],
   "source": [
    "#Imprimir los países campeones precedidos por los indices de filas\n",
    "for i in lista_dict:\n",
    "    print(i['campeon'])\n",
    "print()"
   ]
  },
  {
   "cell_type": "markdown",
   "metadata": {},
   "source": [
    "#### Bucles for anidados y matrices"
   ]
  },
  {
   "cell_type": "code",
   "execution_count": null,
   "metadata": {},
   "outputs": [],
   "source": [
    "matriz = [[114, 160, 60, 27], [74, 97, 73, 14], [119, 157, 112, 23]]\n",
    "\n",
    "for i in  [0,1,2]:\n",
    "    for j in  [0,1,2,3]:\n",
    "        print(matriz[i][j], end=\" \")\n",
    "    print()"
   ]
  },
  {
   "cell_type": "code",
   "execution_count": null,
   "metadata": {},
   "outputs": [],
   "source": []
  },
  {
   "cell_type": "code",
   "execution_count": null,
   "metadata": {},
   "outputs": [],
   "source": []
  },
  {
   "cell_type": "code",
   "execution_count": null,
   "metadata": {},
   "outputs": [],
   "source": []
  },
  {
   "cell_type": "code",
   "execution_count": null,
   "metadata": {},
   "outputs": [],
   "source": []
  },
  {
   "cell_type": "code",
   "execution_count": null,
   "metadata": {},
   "outputs": [],
   "source": []
  },
  {
   "cell_type": "markdown",
   "metadata": {},
   "source": [
    "#### Efectos colaterales en iteración"
   ]
  },
  {
   "cell_type": "code",
   "execution_count": null,
   "metadata": {},
   "outputs": [],
   "source": [
    "def iter_mutable(lst1,lst2):\n",
    "    for item in lst1:\n",
    "        if item in lst2:\n",
    "            lst1.remove(item)\n",
    "lst1 = [40, 6, 4, 77]\n",
    "lst2 = [40, 6, 5, 8]\n",
    "iter_mutable(lst1,lst2)\n",
    "print('lst1 ', lst1);print('lst2 ' ,lst2)"
   ]
  },
  {
   "cell_type": "code",
   "execution_count": null,
   "metadata": {},
   "outputs": [],
   "source": []
  },
  {
   "cell_type": "code",
   "execution_count": null,
   "metadata": {},
   "outputs": [],
   "source": []
  },
  {
   "cell_type": "code",
   "execution_count": null,
   "metadata": {},
   "outputs": [],
   "source": []
  },
  {
   "cell_type": "code",
   "execution_count": null,
   "metadata": {},
   "outputs": [],
   "source": []
  },
  {
   "cell_type": "code",
   "execution_count": null,
   "metadata": {},
   "outputs": [],
   "source": []
  }
 ],
 "metadata": {
  "kernelspec": {
   "display_name": "Python 3 (ipykernel)",
   "language": "python",
   "name": "python3"
  },
  "language_info": {
   "codemirror_mode": {
    "name": "ipython",
    "version": 3
   },
   "file_extension": ".py",
   "mimetype": "text/x-python",
   "name": "python",
   "nbconvert_exporter": "python",
   "pygments_lexer": "ipython3",
   "version": "3.10.0"
  }
 },
 "nbformat": 4,
 "nbformat_minor": 4
}
