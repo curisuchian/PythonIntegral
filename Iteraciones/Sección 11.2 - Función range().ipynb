{
 "cells": [
  {
   "cell_type": "markdown",
   "id": "0409e471",
   "metadata": {},
   "source": [
    "#### Funcion range()\n",
    "Sintaxis completa<br>\n",
    "range(inicio, fin, salto)"
   ]
  },
  {
   "cell_type": "code",
   "execution_count": null,
   "id": "d8b39235",
   "metadata": {},
   "outputs": [],
   "source": [
    "for i in range(4):        # Rango\n",
    "    print(i)"
   ]
  },
  {
   "cell_type": "code",
   "execution_count": null,
   "id": "b7cbf7a5",
   "metadata": {},
   "outputs": [],
   "source": [
    "for i in range(5, 14):    # Inicio y final\n",
    "    print(i)"
   ]
  },
  {
   "cell_type": "code",
   "execution_count": null,
   "id": "7e8971d0",
   "metadata": {},
   "outputs": [],
   "source": [
    "for i in range(2, 14, 3):  # Inicio, final y salto\n",
    "    print(i)               # El contador se detiene antes de la ultima ejecucion  "
   ]
  },
  {
   "cell_type": "code",
   "execution_count": null,
   "id": "1bd71003",
   "metadata": {},
   "outputs": [],
   "source": [
    "for i in range(14, 2, -3):  # Invertir el orden\n",
    "    print(i) "
   ]
  },
  {
   "cell_type": "code",
   "execution_count": null,
   "id": "b19967e2",
   "metadata": {},
   "outputs": [],
   "source": []
  },
  {
   "cell_type": "code",
   "execution_count": null,
   "id": "bb165cad",
   "metadata": {},
   "outputs": [],
   "source": []
  },
  {
   "cell_type": "code",
   "execution_count": null,
   "id": "8034c942",
   "metadata": {},
   "outputs": [],
   "source": []
  },
  {
   "cell_type": "code",
   "execution_count": null,
   "id": "a8a55e06",
   "metadata": {},
   "outputs": [],
   "source": []
  },
  {
   "cell_type": "code",
   "execution_count": null,
   "id": "49d89d5c",
   "metadata": {},
   "outputs": [],
   "source": []
  },
  {
   "cell_type": "code",
   "execution_count": null,
   "id": "d5ad140a",
   "metadata": {},
   "outputs": [],
   "source": []
  },
  {
   "cell_type": "markdown",
   "id": "b74d7754",
   "metadata": {},
   "source": [
    "#### Contador de ciclos"
   ]
  },
  {
   "cell_type": "code",
   "execution_count": null,
   "id": "5c1532f9",
   "metadata": {},
   "outputs": [],
   "source": [
    "cont  = 0\n",
    "for i in range(4):\n",
    "    print(cont, i)\n",
    "    cont += 1      # Incremento"
   ]
  },
  {
   "cell_type": "code",
   "execution_count": null,
   "id": "a5621778",
   "metadata": {},
   "outputs": [],
   "source": [
    "for i in range(len('abcdef')):\n",
    "    print(i)"
   ]
  },
  {
   "cell_type": "code",
   "execution_count": null,
   "id": "d9d9d41b",
   "metadata": {},
   "outputs": [],
   "source": []
  },
  {
   "cell_type": "code",
   "execution_count": null,
   "id": "a8194365",
   "metadata": {},
   "outputs": [],
   "source": []
  },
  {
   "cell_type": "code",
   "execution_count": null,
   "id": "4b8a508a",
   "metadata": {},
   "outputs": [],
   "source": []
  },
  {
   "cell_type": "code",
   "execution_count": null,
   "id": "266af9bd",
   "metadata": {},
   "outputs": [],
   "source": []
  },
  {
   "cell_type": "code",
   "execution_count": null,
   "id": "a65b73ac",
   "metadata": {},
   "outputs": [],
   "source": []
  },
  {
   "cell_type": "code",
   "execution_count": null,
   "id": "79fe0d38",
   "metadata": {},
   "outputs": [],
   "source": []
  },
  {
   "cell_type": "markdown",
   "id": "35a978be",
   "metadata": {},
   "source": [
    "##### Acceso a elementos"
   ]
  },
  {
   "cell_type": "code",
   "execution_count": null,
   "id": "00eff411",
   "metadata": {},
   "outputs": [],
   "source": [
    "rango = range(10)\n",
    "print(rango[2])\n",
    "print(rango[-1])\n",
    "print(rango[:])     # una tajada devuelve range()"
   ]
  },
  {
   "cell_type": "code",
   "execution_count": null,
   "id": "9d23fbdc",
   "metadata": {},
   "outputs": [],
   "source": []
  },
  {
   "cell_type": "code",
   "execution_count": null,
   "id": "f39aadcc",
   "metadata": {},
   "outputs": [],
   "source": []
  },
  {
   "cell_type": "code",
   "execution_count": null,
   "id": "1e85b45b",
   "metadata": {},
   "outputs": [],
   "source": []
  },
  {
   "cell_type": "code",
   "execution_count": null,
   "id": "03e329ed",
   "metadata": {},
   "outputs": [],
   "source": []
  },
  {
   "cell_type": "markdown",
   "id": "bf58e7a9",
   "metadata": {},
   "source": [
    "#### Usos\n",
    "range() es conveniente con iteraciones muy largas debido a que no guarda los elementos en memoria como hacen listas y tuplas.<br> \n",
    "Para ejemplificar diseñamos dos iteraciones de 50000 ciclos. En una se emplea como iterador una lista y en la otra range. Con la función getsizeof medimos los bytes que cada objeto ocupa en memoria."
   ]
  },
  {
   "cell_type": "code",
   "execution_count": null,
   "id": "deea9ba3",
   "metadata": {},
   "outputs": [],
   "source": [
    "import sys\n",
    "\n",
    "lista = list(range(0, 50000))\n",
    "rango = range(0, 50000)\n",
    "print('Tamaño de la lista ', sys.getsizeof(lista), ' bytes')\n",
    "print('Tamaño de rango ', sys.getsizeof(rango), ' bytes')"
   ]
  }
 ],
 "metadata": {
  "kernelspec": {
   "display_name": "Python 3 (ipykernel)",
   "language": "python",
   "name": "python3"
  },
  "language_info": {
   "codemirror_mode": {
    "name": "ipython",
    "version": 3
   },
   "file_extension": ".py",
   "mimetype": "text/x-python",
   "name": "python",
   "nbconvert_exporter": "python",
   "pygments_lexer": "ipython3",
   "version": "3.10.0"
  }
 },
 "nbformat": 4,
 "nbformat_minor": 5
}
