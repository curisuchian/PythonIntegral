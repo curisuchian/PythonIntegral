{
 "cells": [
  {
   "cell_type": "code",
   "execution_count": 20,
   "id": "3b736810",
   "metadata": {},
   "outputs": [],
   "source": [
    "import numpy as np"
   ]
  },
  {
   "cell_type": "markdown",
   "id": "f92c1a0f",
   "metadata": {},
   "source": [
    "#### Marcar ubicacion de naves"
   ]
  },
  {
   "cell_type": "code",
   "execution_count": 21,
   "id": "32a255b9",
   "metadata": {},
   "outputs": [],
   "source": [
    "naves = [\n",
    "    [' ', ' ', ' ', ' ', ' '],\n",
    "    [' ', ' ', ' ', ' ', ' '],\n",
    "    [' ', ' ', ' ', ' ', ' '],\n",
    "    [' ', ' ', ' ', ' ', ' '],\n",
    "    [' ', ' ', ' ', ' ', ' '],\n",
    "]"
   ]
  },
  {
   "cell_type": "code",
   "execution_count": null,
   "id": "1c71578d",
   "metadata": {},
   "outputs": [],
   "source": []
  },
  {
   "cell_type": "code",
   "execution_count": 22,
   "id": "cbea03f6",
   "metadata": {},
   "outputs": [],
   "source": [
    "def tablero_naves(naves):\n",
    "    num_fila = 1\n",
    "    for fila in naves:\n",
    "        print(num_fila, fila)\n",
    "        num_fila = num_fila + 1"
   ]
  },
  {
   "cell_type": "code",
   "execution_count": 23,
   "id": "1f1d14ec",
   "metadata": {},
   "outputs": [
    {
     "name": "stdout",
     "output_type": "stream",
     "text": [
      "1 [' ', ' ', ' ', ' ', ' ']\n",
      "2 [' ', ' ', ' ', ' ', ' ']\n",
      "3 [' ', ' ', ' ', ' ', ' ']\n",
      "4 [' ', ' ', ' ', ' ', ' ']\n",
      "5 [' ', ' ', ' ', ' ', ' ']\n"
     ]
    }
   ],
   "source": [
    "tablero_naves(naves)"
   ]
  },
  {
   "cell_type": "code",
   "execution_count": null,
   "id": "d8ac495c",
   "metadata": {},
   "outputs": [],
   "source": []
  },
  {
   "cell_type": "code",
   "execution_count": null,
   "id": "101dd0ce",
   "metadata": {},
   "outputs": [],
   "source": []
  },
  {
   "cell_type": "markdown",
   "id": "df6de706",
   "metadata": {},
   "source": [
    "#### Bucle for para insertar cinco naves al azar"
   ]
  },
  {
   "cell_type": "code",
   "execution_count": 24,
   "id": "ef039726",
   "metadata": {},
   "outputs": [
    {
     "name": "stdout",
     "output_type": "stream",
     "text": [
      "['  1', '2', '3', '4', '5']\n",
      "1 ['X', ' ', ' ', ' ', ' ']\n",
      "2 [' ', 'X', ' ', ' ', ' ']\n",
      "3 [' ', ' ', ' ', 'X', ' ']\n",
      "4 [' ', ' ', 'X', 'X', ' ']\n",
      "5 [' ', ' ', ' ', ' ', ' ']\n"
     ]
    }
   ],
   "source": [
    "print(['  1', '2', '3', '4', '5'])\n",
    "for n in range(5):\n",
    "    num_fila = np.random.choice(5,5,replace=False)\n",
    "    num_col = np.random.choice(5,5,replace=False)\n",
    "    naves[num_fila[n]][num_col[n]] = 'X'\n",
    "tablero_naves(naves)"
   ]
  },
  {
   "cell_type": "code",
   "execution_count": null,
   "id": "57c7b832",
   "metadata": {},
   "outputs": [],
   "source": []
  },
  {
   "cell_type": "code",
   "execution_count": null,
   "id": "e8936a07",
   "metadata": {},
   "outputs": [],
   "source": []
  },
  {
   "cell_type": "code",
   "execution_count": null,
   "id": "51d6d7a6",
   "metadata": {},
   "outputs": [],
   "source": []
  },
  {
   "cell_type": "markdown",
   "id": "9037179b",
   "metadata": {},
   "source": [
    "#### Ocultar el plano de naves"
   ]
  },
  {
   "cell_type": "code",
   "execution_count": 25,
   "id": "ee475324",
   "metadata": {},
   "outputs": [
    {
     "name": "stdout",
     "output_type": "stream",
     "text": [
      "\n",
      "\n",
      "\n",
      "\n",
      "\n",
      "\n",
      "\n",
      "\n",
      "\n",
      "\n",
      "\n",
      "\n",
      "\n",
      "\n",
      "\n",
      "\n",
      "\n",
      "\n",
      "\n",
      "\n",
      "\n",
      "\n",
      "\n",
      "\n",
      "\n",
      "\n",
      "\n",
      "\n",
      "\n",
      "\n",
      "\n",
      "\n",
      "\n",
      "\n",
      "\n",
      "\n",
      "\n",
      "\n",
      "\n",
      "\n",
      "\n",
      "\n",
      "\n",
      "\n",
      "\n",
      "\n",
      "\n",
      "\n",
      "\n",
      "\n",
      "\n"
     ]
    }
   ],
   "source": [
    "print(\"\\n\"*50)"
   ]
  },
  {
   "cell_type": "markdown",
   "id": "047eae4c",
   "metadata": {},
   "source": [
    "#### Marcar ubicacion de disparos"
   ]
  },
  {
   "cell_type": "code",
   "execution_count": 26,
   "id": "e92f1d30",
   "metadata": {},
   "outputs": [],
   "source": [
    "disparos = [\n",
    "    [' ', ' ', ' ', ' ', ' '],\n",
    "    [' ', ' ', ' ', ' ', ' '],\n",
    "    [' ', ' ', ' ', ' ', ' '],\n",
    "    [' ', ' ', ' ', ' ', ' '],\n",
    "    [' ', ' ', ' ', ' ', ' '],\n",
    "]"
   ]
  },
  {
   "cell_type": "code",
   "execution_count": 27,
   "id": "1e0618ab",
   "metadata": {},
   "outputs": [
    {
     "name": "stdout",
     "output_type": "stream",
     "text": [
      "Comienzan los disparos!!\n"
     ]
    }
   ],
   "source": [
    "print(\"Comienzan los disparos!!\")"
   ]
  },
  {
   "cell_type": "code",
   "execution_count": 28,
   "id": "defc8733",
   "metadata": {},
   "outputs": [],
   "source": [
    "def ubica_disparo():\n",
    "    columna = input(\"Ingrese columna (1 a 5): \")\n",
    "    while columna not in \"12345\":\n",
    "        print(\"Columna equivocada! \")\n",
    "        columna = input(\"Ingrese columna (1 a 5): \")\n",
    "\n",
    "    fila = input(\"Ingrese fila (1 a 5): \")\n",
    "    while fila not in \"12345\":\n",
    "        print(\"Fila equivocada!\")\n",
    "        fila = input(\"Ingrese fila (1 a 5):\")\n",
    "\n",
    "    return int(fila) - 1, int(columna) - 1"
   ]
  },
  {
   "cell_type": "markdown",
   "id": "5e328106",
   "metadata": {},
   "source": [
    "#### Codigo de control"
   ]
  },
  {
   "cell_type": "code",
   "execution_count": 29,
   "id": "ad395804",
   "metadata": {},
   "outputs": [],
   "source": [
    "num_disparos = 0\n",
    "naves_hundidas = 0"
   ]
  },
  {
   "cell_type": "code",
   "execution_count": null,
   "id": "cb7b5164",
   "metadata": {},
   "outputs": [
    {
     "name": "stdout",
     "output_type": "stream",
     "text": [
      "Ubique un disparo\n",
      "Ingrese columna (1 a 5): 1\n",
      "Ingrese fila (1 a 5): 1\n",
      "Hundido!\n",
      "1 ['🤣', ' ', ' ', ' ', ' ']\n",
      "2 [' ', ' ', ' ', ' ', ' ']\n",
      "3 [' ', ' ', ' ', ' ', ' ']\n",
      "4 [' ', ' ', ' ', ' ', ' ']\n",
      "5 [' ', ' ', ' ', ' ', ' ']\n",
      "Ubique un disparo\n"
     ]
    }
   ],
   "source": [
    "while num_disparos < 20 and naves_hundidas < 5:\n",
    "    print(\"Ubique un disparo\")\n",
    "    num_fila, num_col = ubica_disparo()\n",
    "\n",
    "    if naves[num_fila][num_col] == 'X':\n",
    "        print(\"Hundido!\")\n",
    "        disparos[num_fila][num_col] = '\\U0001F923'\n",
    "        num_disparos = num_disparos + 1\n",
    "        naves_hundidas = naves_hundidas + 1\n",
    "    else:\n",
    "        disparos[num_fila][num_col] = '\\U0001F612'\n",
    "        print(\"Agua!\")\n",
    "        num_disparos = num_disparos + 1\n",
    "\n",
    "    tablero_naves(disparos)"
   ]
  },
  {
   "cell_type": "code",
   "execution_count": null,
   "id": "f15ffd18",
   "metadata": {},
   "outputs": [],
   "source": [
    "print(\"Terminado!\")"
   ]
  }
 ],
 "metadata": {
  "kernelspec": {
   "display_name": "Python 3 (ipykernel)",
   "language": "python",
   "name": "python3"
  },
  "language_info": {
   "codemirror_mode": {
    "name": "ipython",
    "version": 3
   },
   "file_extension": ".py",
   "mimetype": "text/x-python",
   "name": "python",
   "nbconvert_exporter": "python",
   "pygments_lexer": "ipython3",
   "version": "3.10.0"
  }
 },
 "nbformat": 4,
 "nbformat_minor": 5
}
