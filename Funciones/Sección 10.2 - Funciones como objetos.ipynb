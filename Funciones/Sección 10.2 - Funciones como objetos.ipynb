{
 "cells": [
  {
   "cell_type": "code",
   "execution_count": null,
   "id": "1e599c6c",
   "metadata": {},
   "outputs": [],
   "source": [
    "# Las funciones son objetos\n",
    "def suma(x, y):\n",
    "    return x + y  \n",
    "print(suma)"
   ]
  },
  {
   "cell_type": "markdown",
   "id": "7fe3d0d5",
   "metadata": {},
   "source": [
    "##### Asignar una función a una variable"
   ]
  },
  {
   "cell_type": "code",
   "execution_count": null,
   "id": "6b9b05b7",
   "metadata": {},
   "outputs": [],
   "source": [
    "def fahr_celsius(gradFahr):\n",
    "    return (gradFahr - 32) * 5.0 / 9.0\n",
    "\n",
    "gradosFahr = 100\n",
    "func = fahr_celsius   # Asignacion a func\n",
    "print(func(gradosFahr))"
   ]
  },
  {
   "cell_type": "markdown",
   "id": "4bc3f303",
   "metadata": {},
   "source": [
    "##### Argumento de otra función"
   ]
  },
  {
   "cell_type": "code",
   "execution_count": null,
   "id": "53684a16",
   "metadata": {},
   "outputs": [],
   "source": [
    "def fahr_celsius(gradFahr):\n",
    "    return (gradFahr - 32) * 5.0 / 9.0\n",
    "\n",
    "def kelvin_fahr(gradKelvin):\n",
    "    return (gradKelvin - 273.15) * 9/5 + 32\n",
    "\n",
    "gradKelvin = 100\n",
    "print(fahr_celsius(kelvin_fahr(gradKelvin)))"
   ]
  },
  {
   "cell_type": "markdown",
   "id": "9d5635ca",
   "metadata": {},
   "source": [
    "##### Funciones anidadas"
   ]
  },
  {
   "cell_type": "code",
   "execution_count": 6,
   "id": "c7b8fdc6",
   "metadata": {
    "scrolled": true
   },
   "outputs": [
    {
     "name": "stdout",
     "output_type": "stream",
     "text": [
      "10\n"
     ]
    }
   ],
   "source": [
    "# Recuperar un valor de una función anidada\n",
    "def funcion_exterior():\n",
    "     def funcion_interior(x,y):\n",
    "         return x*y\n",
    "     return funcion_interior  # Sin parentesis pues se pasa la función y no el valor\n",
    "\n",
    "x = funcion_exterior()\n",
    "a = x(5,2)\n",
    "print(a)"
   ]
  },
  {
   "cell_type": "code",
   "execution_count": null,
   "id": "58426598",
   "metadata": {},
   "outputs": [],
   "source": []
  },
  {
   "cell_type": "code",
   "execution_count": null,
   "id": "236b4119",
   "metadata": {},
   "outputs": [],
   "source": []
  },
  {
   "cell_type": "code",
   "execution_count": null,
   "id": "de1c99fd",
   "metadata": {},
   "outputs": [],
   "source": []
  },
  {
   "cell_type": "code",
   "execution_count": 7,
   "id": "c1602ec8",
   "metadata": {},
   "outputs": [
    {
     "name": "stdout",
     "output_type": "stream",
     "text": [
      "Hola!\n",
      "Sean bienvenidos\n",
      "Les desea  Gustavo\n"
     ]
    }
   ],
   "source": [
    "def saludo(nombre=\"Gustavo\"):\n",
    "    def saludo_personal():\n",
    "        print(\"Hola!\")\n",
    "\n",
    "    def bienvenidos():\n",
    "        print(\"Sean bienvenidos\")\n",
    "\n",
    "    saludo_personal()\n",
    "    bienvenidos()\n",
    "    print(\"Les desea \", nombre)\n",
    "a = saludo()\n",
    "a"
   ]
  },
  {
   "cell_type": "code",
   "execution_count": null,
   "id": "a5d2c935",
   "metadata": {},
   "outputs": [],
   "source": []
  },
  {
   "cell_type": "code",
   "execution_count": null,
   "id": "b6ef9c9c",
   "metadata": {},
   "outputs": [],
   "source": []
  },
  {
   "cell_type": "code",
   "execution_count": null,
   "id": "48b428fe",
   "metadata": {},
   "outputs": [],
   "source": []
  },
  {
   "cell_type": "code",
   "execution_count": null,
   "id": "bfa2ad79",
   "metadata": {},
   "outputs": [],
   "source": []
  }
 ],
 "metadata": {
  "kernelspec": {
   "display_name": "Python 3 (ipykernel)",
   "language": "python",
   "name": "python3"
  },
  "language_info": {
   "codemirror_mode": {
    "name": "ipython",
    "version": 3
   },
   "file_extension": ".py",
   "mimetype": "text/x-python",
   "name": "python",
   "nbconvert_exporter": "python",
   "pygments_lexer": "ipython3",
   "version": "3.9.7"
  }
 },
 "nbformat": 4,
 "nbformat_minor": 5
}
