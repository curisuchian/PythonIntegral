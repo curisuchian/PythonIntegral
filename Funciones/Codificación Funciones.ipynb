{
 "cells": [
  {
   "cell_type": "markdown",
   "id": "71b5d25c",
   "metadata": {},
   "source": [
    "### Ejercicios de codificación"
   ]
  },
  {
   "cell_type": "markdown",
   "id": "67fb895b",
   "metadata": {},
   "source": [
    "Este cuaderno se encuentra en:\n",
    "\n",
    "https://github.com/gbonorino/PythonIntegral/tree/main/Funciones"
   ]
  },
  {
   "cell_type": "markdown",
   "id": "9b3727a9",
   "metadata": {},
   "source": [
    "Ejercicio 1 - Volumen de un cilindro\n",
    "Escriba una función que calcule el volumen de un cilindro; incluye llamado a la función area_circulo(). La ecuación es:\n",
    "area_circulo(radio) * h"
   ]
  },
  {
   "cell_type": "markdown",
   "id": "9718113a",
   "metadata": {},
   "source": [
    "Ejercicio 2 – Crear una función que devuelva la suma y la resta de dos números en un mismo llamado. La estructura de la función es:\n",
    "\n",
    "def suma_resta(a, b):  <br>\n",
    "(indentado)sentencia\n",
    "\n",
    "y del llamado: <br>\n",
    "suma, resta = invocación  <br>\n",
    "imprimir ambos resultados "
   ]
  },
  {
   "cell_type": "markdown",
   "id": "3d701f1c",
   "metadata": {},
   "source": [
    "Ejercicio 3 - Escriba una función area_circulo() que calcule la superficie de un círculo teniendo el radio. Con ella calcule la superficie de un círculo de radio 15 cm. Imprima en pantalla la respuesta con una frase apropiada."
   ]
  },
  {
   "cell_type": "code",
   "execution_count": null,
   "id": "f2ee093e",
   "metadata": {},
   "outputs": [],
   "source": []
  },
  {
   "cell_type": "markdown",
   "id": "45583284",
   "metadata": {},
   "source": [
    "####  Soluciones"
   ]
  },
  {
   "cell_type": "code",
   "execution_count": 1,
   "id": "bca624ad",
   "metadata": {},
   "outputs": [
    {
     "name": "stdout",
     "output_type": "stream",
     "text": [
      "2513.272\n"
     ]
    }
   ],
   "source": [
    "# Ejercicio 1\n",
    "def area_circulo(radio):\n",
    "    pi = 3.14159\n",
    "    area = pi * radio**2\n",
    "    return area\n",
    "\n",
    "def vol_cilindro(radio, h):\n",
    "    return area_circulo(radio) * h\n",
    "\n",
    "f = vol_cilindro(10, 8)\n",
    "print(f)"
   ]
  },
  {
   "cell_type": "code",
   "execution_count": null,
   "id": "3f4e567e",
   "metadata": {},
   "outputs": [],
   "source": []
  },
  {
   "cell_type": "code",
   "execution_count": null,
   "id": "229f0748",
   "metadata": {},
   "outputs": [],
   "source": [
    "# Ejercicio 2\n",
    "def suma_resta(a, b):\n",
    "    suma = a + b\n",
    "    resta = a - b\n",
    "    return suma, resta\n",
    "\n",
    "suma, resta = suma_resta(8, 4)\n",
    "print('Suma = ', suma)\n",
    "print('Resta = ', resta)"
   ]
  },
  {
   "cell_type": "code",
   "execution_count": null,
   "id": "eb123467",
   "metadata": {},
   "outputs": [],
   "source": []
  },
  {
   "cell_type": "code",
   "execution_count": null,
   "id": "69415401",
   "metadata": {},
   "outputs": [],
   "source": [
    "# Ejercicio 3\n",
    "def area_circulo(radio):\n",
    "    pi = 3.14159\n",
    "    area = pi * radio**2\n",
    "    return area\n",
    "\n",
    "a = area_circulo(15)\n",
    "print('La superficie de un circulo de radio 15 cm es ' + str(a) + ' cm2')"
   ]
  },
  {
   "cell_type": "code",
   "execution_count": null,
   "id": "04db2ba6",
   "metadata": {},
   "outputs": [],
   "source": []
  },
  {
   "cell_type": "code",
   "execution_count": null,
   "id": "d6a60b72",
   "metadata": {},
   "outputs": [],
   "source": []
  }
 ],
 "metadata": {
  "kernelspec": {
   "display_name": "Python 3 (ipykernel)",
   "language": "python",
   "name": "python3"
  },
  "language_info": {
   "codemirror_mode": {
    "name": "ipython",
    "version": 3
   },
   "file_extension": ".py",
   "mimetype": "text/x-python",
   "name": "python",
   "nbconvert_exporter": "python",
   "pygments_lexer": "ipython3",
   "version": "3.10.0"
  }
 },
 "nbformat": 4,
 "nbformat_minor": 5
}
