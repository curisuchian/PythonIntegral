{
 "cells": [
  {
   "attachments": {
    "Funciones.png": {
     "image/png": "[encoded data removed]"
    }
   },
   "cell_type": "markdown",
   "metadata": {},
   "source": [
    "![Funciones.png](attachment:Funciones.png)"
   ]
  },
  {
   "cell_type": "code",
   "execution_count": null,
   "metadata": {},
   "outputs": [],
   "source": [
    "# Función sin parámetros. No devuelve un valor.\n",
    "def saludo():\n",
    "    print(\"Saludos a todos\")\n",
    "\n",
    "saludo()   "
   ]
  },
  {
   "cell_type": "code",
   "execution_count": null,
   "metadata": {},
   "outputs": [],
   "source": [
    "# Función con parámetros.  No devuelve un valor.\n",
    "def saludo(nombre):\n",
    "    print(\"Saludos a \" + nombre)\n",
    "\n",
    "saludo(\"Gustavo\")"
   ]
  },
  {
   "cell_type": "code",
   "execution_count": null,
   "metadata": {},
   "outputs": [],
   "source": [
    "# return\n",
    "def suma(x, y):\n",
    "    return x + y         # devuelve un valor al código de invocación\n",
    "\n",
    "suma(2, 4)    "
   ]
  },
  {
   "cell_type": "code",
   "execution_count": null,
   "metadata": {},
   "outputs": [],
   "source": [
    "# Debe devolver un valor\n",
    "def suma(x, y):\n",
    "    x + y                # sin return pareciera que no hay respuesta\n",
    "\n",
    "suma(2, 4)             # pero sí hay respuesta, None. Para verla hacer print"
   ]
  },
  {
   "cell_type": "code",
   "execution_count": null,
   "metadata": {},
   "outputs": [],
   "source": [
    "# Almacenar el resultado en una variable\n",
    "def suma(x, y):\n",
    "    return x + y         # con return hay respuesta\n",
    "\n",
    "var = suma(2, 4)  \n",
    "var * 4"
   ]
  },
  {
   "cell_type": "markdown",
   "metadata": {},
   "source": [
    "#### return con más de un valor"
   ]
  },
  {
   "cell_type": "code",
   "execution_count": null,
   "metadata": {},
   "outputs": [],
   "source": [
    "# En el caso que el resultado de una función comprenda varios números, \n",
    "#     estos se pueden almacenar en una lista.\n",
    "def fibo(n):  \n",
    "    \"\"\".devuelve la serie de Fibonacci hasta n \"\"\"   # docstring\n",
    "    result = []\n",
    "    a, b = 0, 1\n",
    "    while a < n:\n",
    "        result.append(a)    \n",
    "        a, b = b, a+b\n",
    "    return result\n",
    "f100 = fibo(100)    # invocacion\n",
    "f100      "
   ]
  },
  {
   "cell_type": "code",
   "execution_count": null,
   "metadata": {},
   "outputs": [],
   "source": [
    "# Usando tuplas\n",
    "def mate(x,y):\n",
    "    s=x+y\n",
    "    t=x*y\n",
    "    return (s, t)\n",
    "s,t = mate(6,9)\n",
    "print(s);print(t)"
   ]
  },
  {
   "cell_type": "markdown",
   "metadata": {},
   "source": [
    "#### Ventaja de las funciones\n",
    "Ahorro de código."
   ]
  },
  {
   "cell_type": "code",
   "execution_count": null,
   "metadata": {},
   "outputs": [],
   "source": [
    "def suma(x, y):\n",
    "    return x + y\n",
    "\n",
    "a = suma(2, 5)\n",
    "b = suma(8, 4)\n",
    "c = suma(20, 30)\n",
    "print(a)\n",
    "print(b)\n",
    "print(c)"
   ]
  },
  {
   "cell_type": "markdown",
   "metadata": {},
   "source": [
    "#### Funciones preinstaladas ('builtin functions')\n",
    "Listas para importar y usar. <br>\n",
    "Hemos ya visto print(), ord(), id(), len(), sum(), help() y dir()."
   ]
  },
  {
   "cell_type": "code",
   "execution_count": null,
   "metadata": {},
   "outputs": [],
   "source": [
    "# Listado de funciones preinstaladas (también variables)\n",
    "import builtins\n",
    "\n",
    "dir(builtins)"
   ]
  },
  {
   "cell_type": "code",
   "execution_count": null,
   "metadata": {},
   "outputs": [],
   "source": [
    "print \"Gustavo\"  # Versión pre 2.7\n",
    "#print(\"Gustavo\")   # Versión actual"
   ]
  },
  {
   "cell_type": "code",
   "execution_count": null,
   "metadata": {},
   "outputs": [],
   "source": []
  },
  {
   "cell_type": "code",
   "execution_count": null,
   "metadata": {},
   "outputs": [],
   "source": []
  },
  {
   "cell_type": "code",
   "execution_count": null,
   "metadata": {},
   "outputs": [],
   "source": []
  },
  {
   "cell_type": "code",
   "execution_count": null,
   "metadata": {},
   "outputs": [],
   "source": []
  }
 ],
 "metadata": {
  "kernelspec": {
   "display_name": "Python 3 (ipykernel)",
   "language": "python",
   "name": "python3"
  },
  "language_info": {
   "codemirror_mode": {
    "name": "ipython",
    "version": 3
   },
   "file_extension": ".py",
   "mimetype": "text/x-python",
   "name": "python",
   "nbconvert_exporter": "python",
   "pygments_lexer": "ipython3",
   "version": "3.10.0"
  }
 },
 "nbformat": 4,
 "nbformat_minor": 4
}
