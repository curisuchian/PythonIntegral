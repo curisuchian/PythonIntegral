{
 "cells": [
  {
   "cell_type": "markdown",
   "metadata": {},
   "source": [
    "En Python el tipo de un dato se asigna durante la ejecución: tipado dinámico.\n",
    "El usuario no es informado de la asignación por lo que debe averiguarla por sí mismo. Para ello cuenta con las funciones type() y isinstance()."
   ]
  },
  {
   "cell_type": "markdown",
   "metadata": {},
   "source": [
    "#### ¿Para qué querría conocer el tipo de dato?"
   ]
  },
  {
   "cell_type": "code",
   "execution_count": null,
   "metadata": {
    "scrolled": true
   },
   "outputs": [],
   "source": [
    "x = input(\"Ingrese un numero entero:  \")\n",
    "y = x * 5\n",
    "print(y)"
   ]
  },
  {
   "cell_type": "code",
   "execution_count": null,
   "metadata": {
    "scrolled": true
   },
   "outputs": [],
   "source": [
    "print(type(x))"
   ]
  },
  {
   "cell_type": "code",
   "execution_count": null,
   "metadata": {
    "scrolled": true
   },
   "outputs": [],
   "source": [
    "x = int(input(\"Ingrese un numero entero:  \"))\n",
    "y = x * 5\n",
    "print(y)"
   ]
  },
  {
   "cell_type": "markdown",
   "metadata": {},
   "source": [
    "#### Función type(objeto)\n",
    "Devuelve el tipo de objeto"
   ]
  },
  {
   "cell_type": "code",
   "execution_count": null,
   "metadata": {
    "scrolled": false
   },
   "outputs": [],
   "source": [
    "print(type(5))        \n",
    "print(type(5.5))      \n",
    "print(type(3 + 4j))   \n",
    "print(type(False))    \n",
    "print(type([4, 5]))   \n",
    "print(type({4: 'four', 5: 'five'}) ) \n",
    "print(type(\"cadena\"))"
   ]
  },
  {
   "cell_type": "code",
   "execution_count": null,
   "metadata": {
    "scrolled": true
   },
   "outputs": [],
   "source": [
    "# El tipo se puede guardar como variable\n",
    "a = type(5)\n",
    "a"
   ]
  },
  {
   "cell_type": "markdown",
   "metadata": {},
   "source": [
    "#### Funcion isinstance(objeto, clase)\n",
    "En vez de solicitar el tipo de un dato puede ser necesario determinar si corresponde a un tipo determinado.\n",
    "isinstance() devuelve True si el tipo de objeto corresponde a la clase."
   ]
  },
  {
   "cell_type": "code",
   "execution_count": null,
   "metadata": {
    "scrolled": false
   },
   "outputs": [],
   "source": [
    "val = 10  \n",
    "print(isinstance(val, int)) # val corresponde a la clase int\n",
    "print(isinstance(val, list)) # val no corresponde a la clase list  "
   ]
  },
  {
   "cell_type": "code",
   "execution_count": null,
   "metadata": {},
   "outputs": [],
   "source": [
    "lst = [12,34,5,6,767] \n",
    "print(isinstance(lst, list)) # lst corresponde a la clase list  \n",
    "print(isinstance(lst, float)) # lst no corresponde a la clase float  "
   ]
  },
  {
   "cell_type": "code",
   "execution_count": null,
   "metadata": {},
   "outputs": [],
   "source": [
    "name = \"Pablo\"\n",
    "print(isinstance(name, str)) # name corresponde a la clase string  \n",
    "print(isinstance(name, tuple)) # name no corresponde a la clase tuple  "
   ]
  },
  {
   "cell_type": "markdown",
   "metadata": {},
   "source": [
    "isinstance() puede comparar el tipo de un objeto con varias clases simultáneamente"
   ]
  },
  {
   "cell_type": "code",
   "execution_count": null,
   "metadata": {
    "scrolled": true
   },
   "outputs": [],
   "source": [
    "# Ejemplo con una cadena\n",
    "x = '44'\n",
    "isinstance(x, (int, float, str)) # Agregar str"
   ]
  },
  {
   "cell_type": "code",
   "execution_count": null,
   "metadata": {},
   "outputs": [],
   "source": [
    "# Ejemplo con una lista:\n",
    "print(isinstance([4, 6], (tuple, list, set)))"
   ]
  },
  {
   "cell_type": "code",
   "execution_count": null,
   "metadata": {},
   "outputs": [],
   "source": [
    "# Caso del tipo lógico\n",
    "print(type(True) == bool)  # devuelve True pero\n",
    "type(True) == 1     # devuelve False "
   ]
  },
  {
   "cell_type": "code",
   "execution_count": null,
   "metadata": {},
   "outputs": [],
   "source": [
    "print(isinstance(True, bool))\n",
    "print(isinstance(True, int))"
   ]
  },
  {
   "cell_type": "code",
   "execution_count": null,
   "metadata": {},
   "outputs": [],
   "source": []
  },
  {
   "cell_type": "code",
   "execution_count": null,
   "metadata": {},
   "outputs": [],
   "source": []
  },
  {
   "cell_type": "code",
   "execution_count": null,
   "metadata": {},
   "outputs": [],
   "source": []
  },
  {
   "cell_type": "code",
   "execution_count": null,
   "metadata": {},
   "outputs": [],
   "source": []
  },
  {
   "cell_type": "code",
   "execution_count": null,
   "metadata": {},
   "outputs": [],
   "source": []
  },
  {
   "cell_type": "code",
   "execution_count": null,
   "metadata": {},
   "outputs": [],
   "source": []
  }
 ],
 "metadata": {
  "kernelspec": {
   "display_name": "Python 3 (ipykernel)",
   "language": "python",
   "name": "python3"
  },
  "language_info": {
   "codemirror_mode": {
    "name": "ipython",
    "version": 3
   },
   "file_extension": ".py",
   "mimetype": "text/x-python",
   "name": "python",
   "nbconvert_exporter": "python",
   "pygments_lexer": "ipython3",
   "version": "3.10.0"
  }
 },
 "nbformat": 4,
 "nbformat_minor": 4
}
