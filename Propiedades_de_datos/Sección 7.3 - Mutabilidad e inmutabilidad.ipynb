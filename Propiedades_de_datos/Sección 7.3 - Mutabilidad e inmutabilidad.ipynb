{
 "cells": [
  {
   "cell_type": "markdown",
   "metadata": {},
   "source": [
    "#### Objetos mutables e inmutables"
   ]
  },
  {
   "cell_type": "code",
   "execution_count": null,
   "metadata": {},
   "outputs": [],
   "source": [
    "# Las cadenas son inmutables. Transformar 'cadena' en 'cena'\n",
    "cad = \"cadena\"\n",
    "cad[1:3] = ' '"
   ]
  },
  {
   "cell_type": "code",
   "execution_count": null,
   "metadata": {},
   "outputs": [],
   "source": [
    "# Cadena - inmutable\n",
    "nombre = \"Gustavo\"\n",
    "# Convertimos a mayúsculas\n",
    "print(nombre.upper())\n",
    "# Evidentemente ha cambiado. ¿Acaso no es inmutable? "
   ]
  },
  {
   "cell_type": "code",
   "execution_count": null,
   "metadata": {},
   "outputs": [],
   "source": [
    "# Verificamos el original\n",
    "print(nombre)   "
   ]
  },
  {
   "cell_type": "code",
   "execution_count": null,
   "metadata": {},
   "outputs": [],
   "source": [
    "# nombre.upper() creó otra cadena con otra identidad, como se demuestra\n",
    "print(id(nombre.upper()))\n",
    "print(id(nombre))           # Las identidades difieren"
   ]
  },
  {
   "cell_type": "code",
   "execution_count": null,
   "metadata": {},
   "outputs": [],
   "source": [
    "# Lista - mutable\n",
    "lista_fruta = list(['manzana', 'banana', 'mandarina'])\n",
    "print(lista_fruta)\n",
    "print(id(lista_fruta))"
   ]
  },
  {
   "cell_type": "code",
   "execution_count": null,
   "metadata": {},
   "outputs": [],
   "source": [
    "# Agrega dátil\n",
    "lista_fruta.append('datil')    \n",
    "print(lista_fruta)\n",
    "print(id(lista_fruta))\n",
    "# Los id son identicos, indicando que el agregado se hizo en el mismo sitio de memoria."
   ]
  },
  {
   "cell_type": "markdown",
   "metadata": {},
   "source": [
    "#### Efectos colaterales de la mutabilidad"
   ]
  },
  {
   "cell_type": "code",
   "execution_count": null,
   "metadata": {
    "scrolled": true
   },
   "outputs": [],
   "source": [
    "lst = [1,2,3]\n",
    "lst1 = lst\n",
    "lst.append(4)\n",
    "print(lst);print(lst1)"
   ]
  },
  {
   "cell_type": "code",
   "execution_count": null,
   "metadata": {},
   "outputs": [],
   "source": [
    "lst = [1,2,3]\n",
    "lst1 = lst[:]\n",
    "lst.append(4)\n",
    "print(lst);print(lst1)"
   ]
  },
  {
   "cell_type": "code",
   "execution_count": null,
   "metadata": {},
   "outputs": [],
   "source": []
  },
  {
   "cell_type": "code",
   "execution_count": null,
   "metadata": {},
   "outputs": [],
   "source": []
  },
  {
   "cell_type": "code",
   "execution_count": null,
   "metadata": {},
   "outputs": [],
   "source": []
  }
 ],
 "metadata": {
  "kernelspec": {
   "display_name": "Python 3 (ipykernel)",
   "language": "python",
   "name": "python3"
  },
  "language_info": {
   "codemirror_mode": {
    "name": "ipython",
    "version": 3
   },
   "file_extension": ".py",
   "mimetype": "text/x-python",
   "name": "python",
   "nbconvert_exporter": "python",
   "pygments_lexer": "ipython3",
   "version": "3.10.0"
  }
 },
 "nbformat": 4,
 "nbformat_minor": 4
}
