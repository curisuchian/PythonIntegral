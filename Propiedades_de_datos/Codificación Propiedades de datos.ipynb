{
 "cells": [
  {
   "cell_type": "markdown",
   "id": "e82a52be",
   "metadata": {},
   "source": [
    "### Ejercicios de codificación"
   ]
  },
  {
   "cell_type": "markdown",
   "id": "67fb895b",
   "metadata": {},
   "source": [
    "Este cuaderno se encuentra en:\n",
    "\n",
    "https://github.com/gbonorino/PythonIntegral/tree/main/Propiedades_de_datos"
   ]
  },
  {
   "cell_type": "markdown",
   "id": "663d65de",
   "metadata": {},
   "source": [
    "#### Ejercicio 1\n",
    "Verificar el tipo de dato de: <br>\n",
    "a = 1, 2, 3, 4 <br>"
   ]
  },
  {
   "cell_type": "markdown",
   "id": "fa8b7ecc",
   "metadata": {},
   "source": [
    "#### Ejercicio 2\n",
    "Dada el código <br>\n",
    "lst = ['Cordoba', 'San Juan', 'Junin'] <br>\n",
    "lst.append('Baradero') <br>\n",
    "Demuestre que lst apunta al mismo objeto antes y después del cambio."
   ]
  },
  {
   "cell_type": "markdown",
   "id": "195a2f8c",
   "metadata": {},
   "source": [
    "### Soluciones"
   ]
  },
  {
   "cell_type": "code",
   "execution_count": 1,
   "id": "be31625d",
   "metadata": {},
   "outputs": [
    {
     "data": {
      "text/plain": [
       "tuple"
      ]
     },
     "execution_count": 1,
     "metadata": {},
     "output_type": "execute_result"
    }
   ],
   "source": [
    "# Ejercicio 1\n",
    "a = 1, 2, 3, 4\n",
    "type(a)"
   ]
  },
  {
   "cell_type": "code",
   "execution_count": null,
   "id": "173cb981",
   "metadata": {},
   "outputs": [],
   "source": []
  },
  {
   "cell_type": "code",
   "execution_count": 2,
   "id": "d4ee2970",
   "metadata": {},
   "outputs": [
    {
     "name": "stdout",
     "output_type": "stream",
     "text": [
      "2026022917440\n",
      "2026022917440\n"
     ]
    }
   ],
   "source": [
    "lst = ['Cordoba', 'San Juan', 'Junin']\n",
    "print(id(lst))\n",
    "lst.append('Baradero')\n",
    "print(id(lst))"
   ]
  },
  {
   "cell_type": "code",
   "execution_count": null,
   "id": "c1eb59cb",
   "metadata": {},
   "outputs": [],
   "source": []
  },
  {
   "cell_type": "code",
   "execution_count": null,
   "id": "588bd7da",
   "metadata": {},
   "outputs": [],
   "source": []
  }
 ],
 "metadata": {
  "kernelspec": {
   "display_name": "Python 3 (ipykernel)",
   "language": "python",
   "name": "python3"
  },
  "language_info": {
   "codemirror_mode": {
    "name": "ipython",
    "version": 3
   },
   "file_extension": ".py",
   "mimetype": "text/x-python",
   "name": "python",
   "nbconvert_exporter": "python",
   "pygments_lexer": "ipython3",
   "version": "3.10.0"
  }
 },
 "nbformat": 4,
 "nbformat_minor": 5
}
