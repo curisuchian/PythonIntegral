{
  "cells": [
    {
      "cell_type": "markdown",
      "metadata": {
        "id": "view-in-github",
        "colab_type": "text"
      },
      "source": [
        "<a href=\"https://colab.research.google.com/github/curisuchian/PythonIntegral/blob/main/steps_jardin_botanico.ipynb\" target=\"_parent\"><img src=\"https://colab.research.google.com/assets/colab-badge.svg\" alt=\"Open In Colab\"/></a>"
      ]
    },
    {
      "cell_type": "code",
      "source": [
        "miento"
      ],
      "metadata": {
        "id": "tTpe4LbT1KxN"
      },
      "execution_count": null,
      "outputs": []
    },
    {
      "cell_type": "markdown",
      "source": [
        "## Procesamiento morfológico en imágenes en escala de grises\\"
      ],
      "metadata": {
        "id": "8UuQWOFn1RPr"
      }
    },
    {
      "cell_type": "markdown",
      "source": [
        "Se realiza una secuencia de pasos intentando replicar el trabajo realizado pro Ferreira et al"
      ],
      "metadata": {
        "id": "b6j80kaU1zJF"
      }
    },
    {
      "cell_type": "markdown",
      "source": [
        "# Instalación de paquetes"
      ],
      "metadata": {
        "id": "oLYA4BcX2G6J"
      }
    },
    {
      "cell_type": "markdown",
      "metadata": {
        "id": "BbXUIeNY0rTU"
      },
      "source": [
        "Inicialmente se deben tener instalados los paquetes necesarios para el procesamiento de las imágenes.\n",
        "\n",
        "Este paso puede **omitirse** si ya se encuentra instalado."
      ]
    },
    {
      "cell_type": "code",
      "execution_count": 1,
      "metadata": {
        "colab": {
          "base_uri": "https://localhost:8080/"
        },
        "id": "iTVQl6nC0rTV",
        "outputId": "9d7744c9-b06d-42c9-af34-c3d4118246f1"
      },
      "outputs": [
        {
          "output_type": "stream",
          "name": "stderr",
          "text": [
            "Installing package into ‘/usr/local/lib/R/site-library’\n",
            "(as ‘lib’ is unspecified)\n",
            "\n",
            "Installing package into ‘/usr/local/lib/R/site-library’\n",
            "(as ‘lib’ is unspecified)\n",
            "\n",
            "also installing the dependencies ‘bmp’, ‘tiff’, ‘Rcpp’, ‘png’, ‘jpeg’, ‘readbitmap’, ‘downloader’, ‘igraph’\n",
            "\n",
            "\n",
            "Installing package into ‘/usr/local/lib/R/site-library’\n",
            "(as ‘lib’ is unspecified)\n",
            "\n",
            "also installing the dependencies ‘later’, ‘htmlwidgets’, ‘lazyeval’, ‘crosstalk’, ‘promises’, ‘kernlab’, ‘plotly’, ‘segmented’\n",
            "\n",
            "\n",
            "Installing package into ‘/usr/local/lib/R/site-library’\n",
            "(as ‘lib’ is unspecified)\n",
            "\n",
            "also installing the dependencies ‘quadprog’, ‘lpSolve’, ‘SparseM’, ‘limSolve’\n",
            "\n",
            "\n",
            "Installing package into ‘/usr/local/lib/R/site-library’\n",
            "(as ‘lib’ is unspecified)\n",
            "\n"
          ]
        }
      ],
      "source": [
        "install.packages(\"ggplot2\")\n",
        "install.packages(\"imager\")\n",
        "install.packages(\"mixtools\")\n",
        "install.packages(\"baseline\")\n",
        "install.packages(\"Matrix\")"
      ]
    },
    {
      "cell_type": "code",
      "execution_count": null,
      "metadata": {
        "id": "TBFcK4SN0rTj"
      },
      "outputs": [],
      "source": [
        "install.packages(\"rgdal\")\n",
        "install.packages(\"plotly\")\n",
        "install.packages(\"EcoGenetics\")"
      ]
    },
    {
      "cell_type": "code",
      "execution_count": null,
      "metadata": {
        "id": "tFSralqV0rTk"
      },
      "outputs": [],
      "source": [
        "install.packages(\"BiocManager\")\n",
        "BiocManager::install(\"EBImage\")"
      ]
    },
    {
      "cell_type": "markdown",
      "metadata": {
        "id": "l9wNqpx_0rTk"
      },
      "source": [
        "Incorporamos las dependencias necesarias"
      ]
    },
    {
      "cell_type": "code",
      "execution_count": null,
      "metadata": {
        "id": "ybW3WN1n0rTl"
      },
      "outputs": [],
      "source": [
        "library(mixtools)\n",
        "library(baseline)\n",
        "library(ggplot2)\n",
        "library(imager)\n",
        "library(Matrix)"
      ]
    },
    {
      "cell_type": "code",
      "execution_count": null,
      "metadata": {
        "id": "ymK-nF0r0rTm"
      },
      "outputs": [],
      "source": [
        "library(EcoGenetics)"
      ]
    },
    {
      "cell_type": "code",
      "execution_count": null,
      "metadata": {
        "id": "dJD9C45F0rTn"
      },
      "outputs": [],
      "source": [
        "library(\"EBImage\")"
      ]
    },
    {
      "cell_type": "markdown",
      "source": [
        "## Carga de imagen"
      ],
      "metadata": {
        "id": "CBP-w5n82wbZ"
      }
    },
    {
      "cell_type": "markdown",
      "metadata": {
        "id": "NYRzeL610rTo"
      },
      "source": [
        "El primer paso consiste en cargar la imagen en una variable. La representación de la imagen está en el espacio de color RGB."
      ]
    },
    {
      "cell_type": "code",
      "execution_count": 6,
      "metadata": {
        "id": "VuEOcjd90rTp"
      },
      "outputs": [],
      "source": [
        "#Load and plot the RGB file\n",
        "#data.file <- '/mnt/usb-WD_Elements_25A2_575852314531383859503438-0:0-part1/CHB/PASANTIA/imagenes_forestal/data/DJI_0805.jpg'\n",
        "data.file <- 'DJI_0265.JPG'\n",
        "im <- load.image(data.file)"
      ]
    },
    {
      "cell_type": "markdown",
      "metadata": {
        "id": "IA78BsfX0rTr"
      },
      "source": [
        "A los efectos de procesar la porción central de la imagen y reducir así los efectos de distorsión de perspectiva por desvío de la línea vertical nadir-cenit, además de proporcionar una reducción del tamaño de la imagen, se realiza un recorte de la imagen en 300 x 300 píxeles.\n",
        "Una vez que la imagen se encuentra cargada en la variable, es posible imprimir el gráfico con la función <code>plot</code>"
      ]
    },
    {
      "cell_type": "code",
      "execution_count": null,
      "metadata": {
        "id": "_9i3NNxD0rTs"
      },
      "outputs": [],
      "source": [
        "#im<-im[200:500,200:500,]\n",
        "plot(im)"
      ]
    },
    {
      "cell_type": "markdown",
      "metadata": {
        "id": "O10mr_Qb0rTt"
      },
      "source": [
        "La imagen con la que se trabaja fue obtenida por medio de un dron que sobrevolaba la [reserva biósfera Yaboty](https://sib.gob.ar/area/MISIONES*YB*YABOTY), a una altitud aproximada de 600 metros. La resolución de la imagen original es de 12 Mpixels (4000 x 3000), pero fue reducida a una resolución de 1000 x 750 pixels para aliviar la carga de procesamiento."
      ]
    },
    {
      "cell_type": "markdown",
      "metadata": {
        "id": "NnYU5hUd0rTt"
      },
      "source": [
        "Teniendo en cuenta los datos del vuelo, de la [cámara](https://www.dji.com/phantom-4/info) y del terreno, podemos hallar que la resolución espacial de la fotografía aérea es de 0,5 metro por pixel, aproximadamente (esto teniendo en cuenta que la imagen original fue reducida en su resolución original de 4000 x 3000 pixeles a 1000 x 750 pixeles)\n"
      ]
    },
    {
      "cell_type": "code",
      "execution_count": null,
      "metadata": {
        "id": "uq7EAmIw0rTu"
      },
      "outputs": [],
      "source": [
        "data.file <- '../Captura.png'\n",
        "recorte <- load.image(data.file)\n",
        "plot(recorte)"
      ]
    },
    {
      "cell_type": "code",
      "execution_count": null,
      "metadata": {
        "id": "olirdNA50rTu"
      },
      "outputs": [],
      "source": [
        "data.file <- DJI_0265.JPG'\n",
        "recorte <- load.image(data.file)\n",
        "plot(recorte)"
      ]
    },
    {
      "cell_type": "markdown",
      "metadata": {
        "id": "f3q8E2bW0rTv"
      },
      "source": [
        "Una observación en la imagen del recorte de la copa permite estimar el tamaño que abarca la copa en 80 píxeles. Este dato será usado en los parámetros de los filtro implementados."
      ]
    },
    {
      "cell_type": "markdown",
      "metadata": {
        "id": "VB_PKmMN0rTv"
      },
      "source": [
        "Para procesar la imagen, debe ser convertida al espacio de color [HSL](https://es.wikipedia.org/wiki/Modelo_de_color_HSL), del cual se tomará la componente **L** de luminosidad."
      ]
    },
    {
      "cell_type": "code",
      "execution_count": 13,
      "metadata": {
        "id": "nffxnFJF0rTw"
      },
      "outputs": [],
      "source": [
        "#GPerforms the conversion of the image from RGB to HSL colorspace\n",
        "im_hsl <- RGBtoHSL(im)"
      ]
    },
    {
      "cell_type": "code",
      "execution_count": null,
      "metadata": {
        "id": "CZCeN38g0rTw"
      },
      "outputs": [],
      "source": [
        "plot(im_hsl)"
      ]
    },
    {
      "cell_type": "markdown",
      "metadata": {
        "id": "W_LxCGWS0rTx"
      },
      "source": [
        "El aspecto de la imagen visualizada en su componente L del espacio HSL es de escala de grises..."
      ]
    },
    {
      "cell_type": "code",
      "execution_count": null,
      "metadata": {
        "id": "1OhqWIka0rTx"
      },
      "outputs": [],
      "source": [
        "#prints the image L channel from the HSL colorspace. index 3 is L\n",
        "plot(channel(im_hsl, 3))"
      ]
    },
    {
      "cell_type": "markdown",
      "metadata": {
        "id": "vlLNV7X30rTy"
      },
      "source": [
        "Se extrae la componente L de la imagen HSL y se la almacena en una variable"
      ]
    },
    {
      "cell_type": "code",
      "execution_count": 15,
      "metadata": {
        "id": "B-L6kMsB0rTy"
      },
      "outputs": [],
      "source": [
        "#Extracts the L component from HSL colorspace image\n",
        "#im_L <- im_hsl[200:500,200:500,3]\n",
        "im_L <- im_hsl[,,3]"
      ]
    },
    {
      "cell_type": "markdown",
      "metadata": {
        "id": "4y5NfbyG0rTy"
      },
      "source": [
        "# Estimación de parámetros de distribución bimodal"
      ]
    },
    {
      "cell_type": "markdown",
      "metadata": {
        "id": "tnra0po-0rTz"
      },
      "source": [
        "La función <code>normalmixEM()</code> devuelve una estimación de parámetros de la distribución de los datos de la componente L de la imagen, considerándola como una distribución normal bimodal..."
      ]
    },
    {
      "cell_type": "code",
      "execution_count": 16,
      "metadata": {
        "colab": {
          "base_uri": "https://localhost:8080/",
          "height": 51
        },
        "id": "N_7bWKKJ0rTz",
        "outputId": "9ce99c7b-5b17-40c4-8ee6-ec964b5f8b85"
      },
      "outputs": [
        {
          "output_type": "stream",
          "name": "stdout",
          "text": [
            "number of iterations= 64 \n"
          ]
        },
        {
          "output_type": "display_data",
          "data": {
            "text/html": [
              "<style>\n",
              ".list-inline {list-style: none; margin:0; padding: 0}\n",
              ".list-inline>li {display: inline-block}\n",
              ".list-inline>li:not(:last-child)::after {content: \"\\00b7\"; padding: 0 .5ex}\n",
              "</style>\n",
              "<ol class=list-inline><li>0.197223424804034</li><li>0.404159016218811</li></ol>\n"
            ],
            "text/markdown": "1. 0.197223424804034\n2. 0.404159016218811\n\n\n",
            "text/latex": "\\begin{enumerate*}\n\\item 0.197223424804034\n\\item 0.404159016218811\n\\end{enumerate*}\n",
            "text/plain": [
              "[1] 0.1972234 0.4041590"
            ]
          },
          "metadata": {}
        }
      ],
      "source": [
        "#Estimation of bimodal distribution parameters\n",
        "param <- normalmixEM(as.vector(im_L))\n",
        "param$mu"
      ]
    },
    {
      "cell_type": "markdown",
      "metadata": {
        "id": "YmIuPPED0rTz"
      },
      "source": [
        "Desplegamos un histograma de los datos del canal L"
      ]
    },
    {
      "cell_type": "code",
      "execution_count": null,
      "metadata": {
        "id": "Trn5xWTN0rTz"
      },
      "outputs": [],
      "source": [
        "hist(im_L)"
      ]
    },
    {
      "cell_type": "markdown",
      "metadata": {
        "id": "eN5rA7oJ0rT0"
      },
      "source": [
        "# Algoritmo Rolling ball"
      ]
    },
    {
      "cell_type": "markdown",
      "metadata": {
        "id": "mH73el3O0rT0"
      },
      "source": [
        "Se aplica la función <code>baseline()</code> con el método <code>rollingBall</code> y se grafica el resultado. Los parámetros <code>wm</code> y <code>ws</code> corresponden al ancho de ventana local de minimización y maximización y de suavizado respectivamente."
      ]
    },
    {
      "cell_type": "code",
      "execution_count": 20,
      "metadata": {
        "id": "kWObYPrp0rT0"
      },
      "outputs": [],
      "source": [
        "#Rolling ball algorithm\n",
        "\n",
        "#bc.rollingBall <- baseline(im_L, wm=80, ws=80, method='rollingBall')\n",
        "## Not run:\n",
        "#plot(bc.rollingBall)"
      ]
    },
    {
      "cell_type": "markdown",
      "metadata": {
        "id": "0Yqe5fA40rT0"
      },
      "source": [
        "Para visualizar el efecto del filtro aplicado mediante el algoritmo RollingBall convertimos los datos corregidos al formato cimg mediante la función <code>as.cimg()</code> y graficamos."
      ]
    },
    {
      "cell_type": "code",
      "execution_count": 21,
      "metadata": {
        "id": "phqwfkR80rT1"
      },
      "outputs": [],
      "source": [
        "#corregido <- as.cimg(bc.rollingBall@corrected)\n",
        "#plot(corregido)"
      ]
    },
    {
      "cell_type": "markdown",
      "metadata": {
        "id": "8wmgUHKV0rT1"
      },
      "source": [
        "# Operaciones matemáticas morfológicas"
      ]
    },
    {
      "cell_type": "markdown",
      "metadata": {
        "id": "Zy0TlBzO0rT1"
      },
      "source": [
        "Se utilizan los operadores matemáticos morfológicos de transformaciones top hat y bottom hat, para mejorarse el contraste, basándose en un elemento estructural."
      ]
    },
    {
      "cell_type": "markdown",
      "metadata": {
        "id": "iAUfDM7J0rT1"
      },
      "source": [
        "**Top hat**: es la imagen original en grises menos el resultado de la apertura (*erosión* secundada por *dilación*)\n",
        "\n",
        "**Bottom hat**: es la imagen resultante de la cerradura (*dilación* secundada por *erosión*) menos la image original en grises\n",
        "Combinando ambos se obtiene el mejoramiento del contraste sumando a la imagen original el resultado de la transformación top hat y restando el resultado de la transformación bottom hat: *If=I+Ith-Ibh*"
      ]
    },
    {
      "cell_type": "code",
      "execution_count": 36,
      "metadata": {
        "id": "PNZkErn90rT7"
      },
      "outputs": [],
      "source": [
        "#Top hat y bottom hat\n",
        "#mask <- imfill(78,78,val=1)\n",
        "#top_hat <- as.cimg(im_L) - mopening(as.cimg(im_L),mask)\n",
        "#bottom_hat <-  mclosing(as.cimg(im_L),mask) - as.cimg(im_L)\n",
        "#im_filt <- as.cimg(im_L) + top_hat - bottom_hat\n",
        "#plot(im_filt)"
      ]
    },
    {
      "cell_type": "markdown",
      "metadata": {
        "id": "7BiXJ0_40rT8"
      },
      "source": [
        "# 3. Primer identificación de objetos oscuros\n",
        "\n",
        "\n",
        "**ENTRADA**: escala de grises (canal L)\n",
        "\n",
        "**SALIDA**: sombras interarbóreas intensificadas\n",
        "\n",
        "Se lleva a cabo una primera identificación de objetos oscuros, definiéndolos como los que tienen un valor por debajo de la media en la distribución de grises en brechas (hallada mediante el algoritmo <code>normalmixEM</code>), y a éstos se los iguala a cero.\n"
      ]
    },
    {
      "cell_type": "code",
      "execution_count": null,
      "metadata": {
        "id": "E4863RJR0rT8"
      },
      "outputs": [],
      "source": [
        "entrada3 <- im_L\n",
        "#values of image that are lower than mean are set to 0\n",
        "salida3 <- (entrada3>param$mu[1])*entrada3\n",
        "#display(salida3)\n",
        "hist(entrada3)\n",
        "hist(salida3)"
      ]
    },
    {
      "cell_type": "markdown",
      "metadata": {
        "id": "HxjVU6_B0rT8"
      },
      "source": [
        "# 4. Relleno de sombras en grandes copas de árboles\n",
        "\n",
        "\n",
        "\n",
        "**ENTRADA**: escala de grises (canal L)\n",
        "\n",
        "**SALIDA**: imagen filtrada\n",
        "\n",
        "La imagen en escala de grises (canal L) se invierte y se le suma el máximo valor de la escala de grises. Esto es comparable con una imagen negativa. Se computan dos imágenes baseline mediante un filtro RollingBall con un radio de tres píxeles. Las imágenes obtenidas se vuelven a invertir, y los valores máximos de la escala de grises se usaron para obtener la imagen final suavizada.\n"
      ]
    },
    {
      "cell_type": "code",
      "execution_count": null,
      "metadata": {
        "id": "ATyTk4Tp0rT9"
      },
      "outputs": [],
      "source": [
        "entrada4 <- im_L\n",
        "#inversion of grayscale image and addition of maximum grayscale value\n",
        "im_L_inv <- entrada4*(-1)+max(entrada4)\n",
        "#both baselines bline1 and bline2 are computed considering one input as inverted image and the other input as transposed inverted image\n",
        "bline1 <- baseline(t(im_L_inv),wm=12, ws=12, method='rollingBall')\n",
        "bline2 <- baseline(im_L_inv,wm=12, ws=12, method='rollingBall')\n",
        "#smooth image\n",
        "im_smooth <- pmax(t(bline1@baseline)*(-1),(bline2@baseline)*(-1))\n",
        "plot(as.cimg(im_smooth))\n",
        "salida4 <- im_smooth\n",
        "hist(entrada4)\n",
        "hist(salida4)"
      ]
    },
    {
      "cell_type": "markdown",
      "metadata": {
        "id": "V-GeTxta0rT9"
      },
      "source": [
        "# 5. Identificar y rellenar huecos en grandes copas de árboles\n",
        "\n",
        "\n",
        "\n",
        "**ENTRADA**:\n",
        "\n",
        "**SALIDA**:\n",
        "\n",
        "\n",
        "Se identifican las copas con un diámetro mayor a 15 píxeles, que corresponde a 7,5 metros, mediante una transformación top hat. Para ello se utiliza un elemento estructurante circular con un diámetro de 15 píxeles. El resultado de esto es una máscara binaria que contiene solamente las copas de diámetro mayor a 15 píxeles. Los huecos son rellenados entonces con los valores de escala de grises obtenidos anteriormente."
      ]
    },
    {
      "cell_type": "code",
      "execution_count": null,
      "metadata": {
        "id": "vIzapKfl0rT9"
      },
      "outputs": [],
      "source": [
        "entrada5 <- salida3\n",
        "#Top hat\n",
        "#Structuring element consists in a circular shape of determined radius\n",
        "radio <- 14 #radius of 7 pixels, corresponding to crown diameter; con 14 se da un mejor resultado usando la imagen original de referencia\n",
        "mask <- px.circle(radio)\n",
        "\n",
        "abertura <- mopening(as.cimg(entrada5),mask,real_mode = FALSE)\n",
        "t_hat <- as.cimg(entrada5) - abertura\n",
        "abertura <- abertura>0\n",
        "display(abertura)\n",
        "maskara <- abertura[,,1,1]\n",
        "salida5 <- (maskara*salida4)*(-2)\n",
        "hist(salida5)\n",
        "\n",
        "display(salida5)\n",
        "salida5 <- ((!maskara&entrada5)*entrada5+salida5)\n",
        "display(salida5)\n",
        "hist(entrada5)\n",
        "hist(salida5)"
      ]
    },
    {
      "cell_type": "markdown",
      "metadata": {
        "id": "FyXF6nJR0rT-"
      },
      "source": [
        "# 6. Segunda identificación de objetos oscuros¶\n",
        "\n",
        "**ENTRADA**: salida de la etapa 5\n",
        "\n",
        "**SALIDA**: imagen de copas sin sombra interna\n",
        "\n",
        "Bajo la asunción de que la mayoría de los píxeles sombreados de las copas fueron removidos, se lleva a cabo una identificación final de píxeles oscuros, los cuales son definidos como los píxeles de escala de grises que son menores al 99° percentil en la distribuciones en huecos, y se los iguala a cero."
      ]
    },
    {
      "cell_type": "code",
      "execution_count": null,
      "metadata": {
        "id": "3nwbyCCF0rT-"
      },
      "outputs": [],
      "source": [
        "entrada6 <- salida5\n",
        "#a normal distribution (n_gaps) is generated, using the parameters that were found with normalmixEM (eg. the media and standard deviation)\n",
        "n_gaps <- rnorm(length(entrada6), mean = param$mu[1], sd = param$sigma[1])\n",
        "noventaynueve <- quantile(n_gaps,.99)\n",
        "salida6 <- (!(entrada6[,]<noventaynueve))*entrada6\n",
        "display(salida6)\n",
        "noventaynueve\n",
        "hist(entrada6)\n",
        "hist(salida6)"
      ]
    },
    {
      "cell_type": "code",
      "execution_count": null,
      "metadata": {
        "id": "HTbDMg5f0rT-"
      },
      "outputs": [],
      "source": []
    },
    {
      "cell_type": "markdown",
      "metadata": {
        "id": "Byxx6dxb0rT_"
      },
      "source": [
        "# 7. Hallar pequeños huecos en grandes copas¶\n",
        "\n",
        "**ENTRADA**: escala de grises (im_L)\n",
        "\n",
        "**SALIDA**: imagen binaria\n",
        "\n",
        "Las copas grandes poseen píxeles sueltos de sombra que deben ser rellenados para luego calcular la distancia de los píxeles al borde (o sea los píxeles oscuros). Mediante una ventana de 7 x 7 píxeles se calcula la ocurrencia de valores distintos de cero entorno a cada píxel, los cuales poseen una distribución bimodal. Los huecos en las copas se definen como aquellos que están por encima del 75° percentil. Al final de esta etapa se identifican tres clases de píxel: los de sombra entre árboles, los no sombreados en las copas y los aislados de sombras en las copas. Con estas tres clases se compone una máscara binaria con 0 para píxeles fuera de copas y 1 para los interiores de copas.\n"
      ]
    },
    {
      "cell_type": "code",
      "execution_count": null,
      "metadata": {
        "id": "G3Z8GZSM0rT_"
      },
      "outputs": [],
      "source": [
        "entrada7 <- salida6\n",
        "ti <- proc.time()\n",
        "mat_riz<-cbind(0,0,0,entrada7,0,0,0) #se rellenan tres columnas con ceros por izquierda y por derecha\n",
        "mat_riz<-rbind(0,0,0,mat_riz,0,0,0) #se rellenan tres filas con ceros por arriba y por abajo\n",
        "MNZ <- entrada7*0 #MNZ es una matriz de la misma dimensión que mat_riz completa con ceros\n",
        "\n",
        "for (i in 3:dim(entrada7)[1]+2) { #i es el índice que recorre las columnas\n",
        "   for (j in 3:dim(entrada7)[2]+2) { #j es el índice que recorre las filas\n",
        "       a <- i-2\n",
        "       b <- i+4\n",
        "       c <- j-2\n",
        "       d <- j+4\n",
        "       ventana <- mat_riz[a:b,c:d]\n",
        "       MNZ[i-2,j-2] <- nnzero(ventana)\n",
        "   }\n",
        "\n",
        " }\n",
        "(delta <- proc.time()-ti)"
      ]
    },
    {
      "cell_type": "markdown",
      "metadata": {
        "id": "ewSEzUeT0rT_"
      },
      "source": [
        "En el artículo de referencia se toma un valor de cuantil del 75%; se ha probado con un valor que se acerca al 94% percentil, ya que ahí el resultado es una matriz nula (todo negro)"
      ]
    },
    {
      "cell_type": "code",
      "execution_count": null,
      "metadata": {
        "id": "Qy6eSvhH0rT_"
      },
      "outputs": [],
      "source": [
        "(setentaycinco <- quantile(entrada7,.75))\n",
        "#hist(MNZ)\n",
        "#hist(entrada7)\n",
        "huecos_copas <- (MNZ>setentaycinco)*entrada7\n",
        "salida7 <- huecos_copas\n",
        "display(huecos_copas)\n",
        "mascara7 <- MNZ>setentaycinco\n",
        "display(mascara7)\n",
        "display(MNZ)"
      ]
    },
    {
      "cell_type": "markdown",
      "metadata": {
        "id": "rrwTEbdX0rUA"
      },
      "source": [
        "# 8. Homogenización de valores de escala de grises en grandes copas\n",
        "\n",
        "**ENTRADA**: escala de grises (canal L)\n",
        "\n",
        "**SALIDA**: imagen binaria\n",
        "\n",
        "Para homogenizar los valores en grises en grandes copas, se calcula la distancia mínima entre valores distinto de cero y el valor de cero de la máscara precedente. Todos los píxeles con distancia mayor a 7 se identifican como grandes árboles, y se rellenan con el valor de la media de los cuatro valores mayores dentro de una ventana de 7 x 7 píxeles.\n",
        "\n"
      ]
    },
    {
      "cell_type": "code",
      "execution_count": null,
      "metadata": {
        "id": "r56sh4j-0rUA"
      },
      "outputs": [],
      "source": [
        "entrada8 <- salida7\n",
        "im_dist <- distmap(MNZ)\n",
        "#display(im_dist)\n",
        "\n",
        "\n",
        "mat_riz<-cbind(0,0,0,entrada8,0,0,0) #se rellenan tres columnas con ceros por izquierda y por derecha\n",
        "mat_riz<-rbind(0,0,0,mat_riz,0,0,0)\n",
        "for (i in 3:dim(entrada8)[1]+2) { #i es el índice que recorre las columnas\n",
        "   for (j in 3:dim(entrada8)[2]+2) { #j es el índice que recorre las filas\n",
        "       a <- i-2\n",
        "       b <- i+4\n",
        "       c <- j-2\n",
        "       d <- j+4\n",
        "       if (im_dist[i-2,j-2] > 14) {\n",
        "            ventana <- mat_riz[a:b,c:d]\n",
        "       media <- 0\n",
        "       for (n in 1:4) {\n",
        "           media <- max(ventana)/4 + media\n",
        "           ventana[max(ventana)] <- 0\n",
        "       }\n",
        "       entrada8[i-2,j-2] <- media\n",
        "       }\n",
        "\n",
        "\n",
        "   }\n",
        "\n",
        " }\n",
        "media\n",
        "display(entrada8)"
      ]
    },
    {
      "cell_type": "code",
      "execution_count": null,
      "metadata": {
        "id": "uev4uMX70rUA"
      },
      "outputs": [],
      "source": [
        "x = readImage(system.file(\"images\", \"shapes.png\", package=\"EBImage\"))\n",
        "display(x)\n",
        "dx = distmap(x)\n",
        "display(dx/10, title='Distance map of x')"
      ]
    },
    {
      "cell_type": "markdown",
      "metadata": {
        "id": "OQzdD50H0rUB"
      },
      "source": [
        "# 9. Extracción de copas antes de la segmentación\n",
        "\n",
        "**ENTRADA**: escala de grises (canal L)\n",
        "\n",
        "**SALIDA**: imagen binaria\n",
        "\n",
        "Las copas con diámetro mayor a 3 metros se extraen mediante un filtro top bottom hat con elemento estructural cuadrado de 6 x 6 píxeles. A partir de esa imagen transformada, se aplica un umbral mayor a 0,001° percentil del filtro.\n",
        "\n"
      ]
    },
    {
      "cell_type": "markdown",
      "metadata": {
        "id": "TXqPuY2o0rUB"
      },
      "source": [
        "# 10. Delineación de copas individuales\n",
        "\n",
        "**ENTRADA**: escala de grises (canal L)\n",
        "\n",
        "**SALIDA**: imagen binaria\n",
        "\n",
        "Se calcula la distancia entre valores cero y distinto de cero, es decir la distancia del píxel en la copa al borde. Procesando de manera separada por copas o grupos de copas, calculando las distancias de píxeles a los bordes. Luego se calcula el máximo local en una ventana cuadrada de la máxima distancia al borde del segmento. Para cada máximo local se genera una imagen mediante la dilatación entorno a su locación, con un tamaño que duplique el diámetro."
      ]
    },
    {
      "cell_type": "markdown",
      "metadata": {
        "id": "NssmKZMY0rUB"
      },
      "source": [
        "# Conclusiones"
      ]
    },
    {
      "cell_type": "markdown",
      "metadata": {
        "id": "phL0YcrK0rUC"
      },
      "source": []
    }
  ],
  "metadata": {
    "celltoolbar": "Edit Metadata",
    "kernelspec": {
      "display_name": "R",
      "name": "ir"
    },
    "language_info": {
      "codemirror_mode": "r",
      "file_extension": ".r",
      "mimetype": "text/x-r-source",
      "name": "R",
      "pygments_lexer": "r",
      "version": "3.6.1"
    },
    "colab": {
      "provenance": [],
      "gpuType": "T4",
      "include_colab_link": true
    },
    "accelerator": "GPU"
  },
  "nbformat": 4,
  "nbformat_minor": 0
}