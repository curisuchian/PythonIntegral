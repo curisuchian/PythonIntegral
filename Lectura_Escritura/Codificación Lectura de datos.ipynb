{
 "cells": [
  {
   "cell_type": "markdown",
   "id": "21d74ddb",
   "metadata": {},
   "source": [
    "### Ejercicios de codificación"
   ]
  },
  {
   "cell_type": "markdown",
   "id": "67fb895b",
   "metadata": {},
   "source": [
    "Este cuaderno se encuentra en:\n",
    "\n",
    "https://github.com/gbonorino/PythonIntegral/tree/main/Lectura_Escritura"
   ]
  },
  {
   "cell_type": "markdown",
   "id": "8b8c0f9a",
   "metadata": {},
   "source": [
    "Ejercicio 1 - Contar repetición de caracteres en un texto.<br>\n",
    "Leer Espronceda.txt línea por línea.<br>\n",
    "Contar el número de veces que se repite la vocal 'a' o 'A'. <br>\n",
    "Se da solución con readlines, pero hay otras."
   ]
  },
  {
   "cell_type": "markdown",
   "id": "58d0c152",
   "metadata": {},
   "source": [
    "Ejercicio 2 - Leer un archivo Excel. <br>\n",
    "Provean ustedes un archivo Excel con extensión *.xlsx. <br>\n",
    "Leerlo. "
   ]
  },
  {
   "cell_type": "markdown",
   "id": "dcd2bc8f",
   "metadata": {},
   "source": [
    "### Soluciones"
   ]
  },
  {
   "cell_type": "code",
   "execution_count": 6,
   "id": "ae95739e",
   "metadata": {},
   "outputs": [
    {
     "data": {
      "text/plain": [
       "51"
      ]
     },
     "execution_count": 6,
     "metadata": {},
     "output_type": "execute_result"
    }
   ],
   "source": [
    "# Ejercicio 1\n",
    "with open('Datos/Espronceda.txt', encoding='utf-8') as arch:\n",
    "    verso = arch.readlines()\n",
    "cont = 0\n",
    "for linea in range(len(verso)):\n",
    "    for vocal in verso[linea]:\n",
    "        if vocal == 'a' or vocal == 'A':\n",
    "            cont += 1\n",
    "cont"
   ]
  },
  {
   "cell_type": "code",
   "execution_count": null,
   "id": "5afbbbd5",
   "metadata": {},
   "outputs": [],
   "source": []
  },
  {
   "cell_type": "markdown",
   "id": "39d93afb",
   "metadata": {},
   "source": [
    "Ejercicio 2 - No se ofrece solución."
   ]
  }
 ],
 "metadata": {
  "kernelspec": {
   "display_name": "Python 3 (ipykernel)",
   "language": "python",
   "name": "python3"
  },
  "language_info": {
   "codemirror_mode": {
    "name": "ipython",
    "version": 3
   },
   "file_extension": ".py",
   "mimetype": "text/x-python",
   "name": "python",
   "nbconvert_exporter": "python",
   "pygments_lexer": "ipython3",
   "version": "3.10.0"
  }
 },
 "nbformat": 4,
 "nbformat_minor": 5
}
