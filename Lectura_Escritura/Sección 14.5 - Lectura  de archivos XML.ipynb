{
 "cells": [
  {
   "cell_type": "code",
   "execution_count": null,
   "id": "round-heritage",
   "metadata": {
    "scrolled": true
   },
   "outputs": [],
   "source": [
    "import pandas as pd \n",
    "import xml.etree.ElementTree as ET \n",
    "\n",
    "xtree = ET.parse(\"Libreria.xml\")  # Crea una instancia de ElementTree\n",
    "xroot = xtree.getroot()    # Crea la instancia xroot de ElementTree leyendo el archivo\n",
    "print('La raiz es ', xroot.tag)\n",
    "print('Los atributos de la raiz son ', xroot.attrib) # Si devuelve {} no tiene\n",
    "print('La raiz contiene {} elementos '.format(len(xroot)))\n",
    "rows = []\n",
    "\n",
    "for node in xroot: \n",
    "    categoria = node.attrib.get(\"categoria\")\n",
    "    titulo = node.find(\"titulo\").text \n",
    "    autor = node.find(\"autor\").text \n",
    "    año = node.find(\"anio\").text \n",
    "    precio = node.find(\"precio\").text \n",
    "    rows.append({\"categoria\": categoria, \"titulo\": titulo, \"autor\": autor, \n",
    "                 \"anio\": año, \"precio\": precio})\n",
    "\n",
    "print(pd.DataFrame(rows))"
   ]
  },
  {
   "cell_type": "code",
   "execution_count": null,
   "id": "ba5d1417",
   "metadata": {},
   "outputs": [],
   "source": [
    "# Acceso a elementos\n",
    "xroot[0][0].text"
   ]
  },
  {
   "cell_type": "code",
   "execution_count": null,
   "id": "821cbc85",
   "metadata": {},
   "outputs": [],
   "source": []
  }
 ],
 "metadata": {
  "kernelspec": {
   "display_name": "Python 3 (ipykernel)",
   "language": "python",
   "name": "python3"
  },
  "language_info": {
   "codemirror_mode": {
    "name": "ipython",
    "version": 3
   },
   "file_extension": ".py",
   "mimetype": "text/x-python",
   "name": "python",
   "nbconvert_exporter": "python",
   "pygments_lexer": "ipython3",
   "version": "3.10.0"
  }
 },
 "nbformat": 4,
 "nbformat_minor": 5
}
