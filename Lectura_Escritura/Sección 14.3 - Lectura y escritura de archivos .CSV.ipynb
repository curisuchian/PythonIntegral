{
 "cells": [
  {
   "cell_type": "markdown",
   "id": "2aa4bf4d",
   "metadata": {},
   "source": [
    "#### Lectura de archivos CSV (Comma Separated Values)"
   ]
  },
  {
   "cell_type": "code",
   "execution_count": null,
   "id": "64b6a958",
   "metadata": {
    "scrolled": true
   },
   "outputs": [],
   "source": [
    "import csv\n",
    "\n",
    "with open('Asigna.csv', 'r') as arch:\n",
    "    texto_csv = csv.reader(arch)\n",
    "    for fila in texto_csv:\n",
    "        print(fila)"
   ]
  },
  {
   "cell_type": "code",
   "execution_count": null,
   "id": "ec70ccc8",
   "metadata": {},
   "outputs": [],
   "source": [
    "import csv\n",
    "\n",
    "with open('Asigna_tab.csv', 'r') as arch:\n",
    "    texto_csv = csv.reader(arch, delimiter='\\t')\n",
    "    for fila in texto_csv:\n",
    "        print(fila)"
   ]
  },
  {
   "cell_type": "code",
   "execution_count": null,
   "id": "b65f9c80",
   "metadata": {},
   "outputs": [],
   "source": []
  },
  {
   "cell_type": "code",
   "execution_count": null,
   "id": "50af8eb5",
   "metadata": {},
   "outputs": [],
   "source": []
  },
  {
   "cell_type": "code",
   "execution_count": null,
   "id": "e9f8737b",
   "metadata": {},
   "outputs": [],
   "source": []
  },
  {
   "cell_type": "code",
   "execution_count": null,
   "id": "3952e11a",
   "metadata": {},
   "outputs": [],
   "source": [
    "# Escribir en archivo\n",
    "import csv  \n",
    "\n",
    "encabezamiento = ['nombre', 'superficie', 'codigo_1', 'codigo_2']\n",
    "datos = [['Afghanistan', 652090, 'AF', 'AFG'],['Argentina',2400000, 'AR','ARG']]\n",
    "                                               \n",
    "with open('paises.csv', 'w', newline='', encoding='UTF8') as f:\n",
    "    writer = csv.writer(f)\n",
    "\n",
    "# Escribir el encabezamiento\n",
    "    writer.writerow(encabezamiento)\n",
    "\n",
    "# Escribir los datos\n",
    "    writer.writerow(datos)"
   ]
  },
  {
   "cell_type": "code",
   "execution_count": null,
   "id": "005bb3cf",
   "metadata": {},
   "outputs": [],
   "source": []
  },
  {
   "cell_type": "code",
   "execution_count": null,
   "id": "4b746def",
   "metadata": {},
   "outputs": [],
   "source": []
  },
  {
   "cell_type": "code",
   "execution_count": null,
   "id": "4b45af5d",
   "metadata": {},
   "outputs": [],
   "source": [
    "# Recuperar lo guardado\n",
    "import csv\n",
    "\n",
    "with open('paises.csv', 'r') as arch:\n",
    "    texto_csv = csv.reader(arch)\n",
    "    for fila in texto_csv:\n",
    "        print(fila)"
   ]
  },
  {
   "cell_type": "code",
   "execution_count": null,
   "id": "bdf8a631",
   "metadata": {},
   "outputs": [],
   "source": []
  },
  {
   "cell_type": "code",
   "execution_count": null,
   "id": "3b8459d7",
   "metadata": {},
   "outputs": [],
   "source": []
  },
  {
   "cell_type": "markdown",
   "id": "203023c9",
   "metadata": {},
   "source": [
    "#### Emplear rutinas de pandas"
   ]
  },
  {
   "cell_type": "code",
   "execution_count": null,
   "id": "79aba834",
   "metadata": {},
   "outputs": [],
   "source": [
    "import pandas as pd\n",
    "\n",
    "Asigna_df = pd.read_csv(\"Asigna.csv\")\n",
    "print(Asigna_df)"
   ]
  },
  {
   "cell_type": "code",
   "execution_count": null,
   "id": "b7d00440",
   "metadata": {},
   "outputs": [],
   "source": [
    "# Escribe lo leido\n",
    "Asigna_df.to_csv('Asigna_pandas.csv', index=False)"
   ]
  },
  {
   "cell_type": "code",
   "execution_count": null,
   "id": "4abd720c",
   "metadata": {},
   "outputs": [],
   "source": [
    "# Recupera lo guardado\n",
    "Asigna_df2 = pd.read_csv(\"Asigna_pandas.csv\")\n",
    "print(Asigna_df2)"
   ]
  },
  {
   "cell_type": "code",
   "execution_count": null,
   "id": "79410df7",
   "metadata": {},
   "outputs": [],
   "source": []
  }
 ],
 "metadata": {
  "kernelspec": {
   "display_name": "Python 3 (ipykernel)",
   "language": "python",
   "name": "python3"
  },
  "language_info": {
   "codemirror_mode": {
    "name": "ipython",
    "version": 3
   },
   "file_extension": ".py",
   "mimetype": "text/x-python",
   "name": "python",
   "nbconvert_exporter": "python",
   "pygments_lexer": "ipython3",
   "version": "3.10.0"
  }
 },
 "nbformat": 4,
 "nbformat_minor": 5
}
