{
 "cells": [
  {
   "cell_type": "code",
   "execution_count": null,
   "id": "complete-twenty",
   "metadata": {},
   "outputs": [],
   "source": [
    "#!pip install PyPDF2"
   ]
  },
  {
   "cell_type": "code",
   "execution_count": null,
   "id": "a2182ab0",
   "metadata": {},
   "outputs": [],
   "source": [
    "# Extraer una página del PDF\n",
    "from PyPDF2 import PdfFileReader\n",
    "\n",
    "with open('docUS.pdf','rb') as objPDF:\n",
    "    lector_pdf = PdfFileReader(objPDF)\n",
    "    info = lector_pdf.getDocumentInfo()\n",
    "    print('Numero de paginas: ', lector_pdf.numPages)\n",
    "    print()\n",
    "    print('Informacion intrinseca', info)\n",
    "    print()\n",
    "    print('Extracto')\n",
    "    objPagina = lector_pdf.getPage(1)  # Extrae la segunda pagina\n",
    "    print(objPagina.extractText())"
   ]
  },
  {
   "cell_type": "code",
   "execution_count": null,
   "id": "94ed3c4b",
   "metadata": {},
   "outputs": [],
   "source": [
    "# Extraer todas las páginas del PDF\n",
    "from PyPDF2 import PdfFileReader\n",
    "\n",
    "texto_pdf = []\n",
    "with open('docUS.pdf','rb') as objPDF:\n",
    "    lector_pdf = PdfFileReader(objPDF)\n",
    "    for num in range(lector_pdf.numPages):\n",
    "        objPagina = lector_pdf.getPage(num)  # Extrae todas las paginas\n",
    "        texto_pdf.append(objPagina.extractText())\n",
    "texto_pdf    "
   ]
  },
  {
   "cell_type": "code",
   "execution_count": null,
   "id": "114a62d8",
   "metadata": {},
   "outputs": [],
   "source": [
    "# Combinar dos PDFs\n",
    "import PyPDF2\n",
    "\n",
    "combArch = PyPDF2.PdfFileMerger()\n",
    "f1 = PyPDF2.PdfFileReader('Espronceda_1.pdf', 'rb')\n",
    "f2 = PyPDF2.PdfFileReader('Espronceda_2.pdf', 'rb')\n",
    "combArch.append(f1)\n",
    "combArch.append(f2)\n",
    "combArch.write(\"NuevoArch.pdf\")"
   ]
  },
  {
   "cell_type": "code",
   "execution_count": null,
   "id": "714ab003",
   "metadata": {},
   "outputs": [],
   "source": []
  },
  {
   "cell_type": "code",
   "execution_count": null,
   "id": "210f5a4d",
   "metadata": {},
   "outputs": [],
   "source": []
  },
  {
   "cell_type": "markdown",
   "id": "narrative-tablet",
   "metadata": {},
   "source": [
    "#### Opcion 2 - PDFMiner.six\n",
    "Sintaxis: <br>\n",
    "pdfminer.high_level.extract_text(pdf_file, password='', page_numbers=None, maxpages=0)"
   ]
  },
  {
   "cell_type": "code",
   "execution_count": null,
   "id": "extreme-civilian",
   "metadata": {
    "scrolled": true
   },
   "outputs": [],
   "source": [
    "#!pip install pdfminer.six"
   ]
  },
  {
   "cell_type": "code",
   "execution_count": null,
   "id": "trained-blend",
   "metadata": {},
   "outputs": [],
   "source": [
    "from pdfminer.high_level import extract_text\n",
    "# Extrae las páginas 2 y 3 y las imprime en pantalla como texto.\n",
    "text = extract_text(\"docUS.pdf\", page_numbers=[1,2]) \n",
    "print(text)"
   ]
  },
  {
   "cell_type": "code",
   "execution_count": null,
   "id": "bdd07b00",
   "metadata": {},
   "outputs": [],
   "source": []
  },
  {
   "cell_type": "code",
   "execution_count": null,
   "id": "7e484a90",
   "metadata": {},
   "outputs": [],
   "source": []
  },
  {
   "cell_type": "code",
   "execution_count": null,
   "id": "b89e954a",
   "metadata": {},
   "outputs": [],
   "source": []
  },
  {
   "cell_type": "code",
   "execution_count": null,
   "id": "0fce3dfa",
   "metadata": {},
   "outputs": [],
   "source": []
  }
 ],
 "metadata": {
  "kernelspec": {
   "display_name": "Python 3 (ipykernel)",
   "language": "python",
   "name": "python3"
  },
  "language_info": {
   "codemirror_mode": {
    "name": "ipython",
    "version": 3
   },
   "file_extension": ".py",
   "mimetype": "text/x-python",
   "name": "python",
   "nbconvert_exporter": "python",
   "pygments_lexer": "ipython3",
   "version": "3.10.0"
  }
 },
 "nbformat": 4,
 "nbformat_minor": 5
}
