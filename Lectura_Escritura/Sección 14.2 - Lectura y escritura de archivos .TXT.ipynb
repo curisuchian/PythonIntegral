{
 "cells": [
  {
   "cell_type": "code",
   "execution_count": null,
   "metadata": {},
   "outputs": [],
   "source": [
    "# Sintaxis obsoleta. No se usa en el curso.\n",
    "arch = open('Espronceda.txt', 'r')  \n",
    "lect = arch.read()\n",
    "print(lect)\n",
    "arch.close()"
   ]
  },
  {
   "cell_type": "code",
   "execution_count": null,
   "metadata": {},
   "outputs": [],
   "source": [
    "# Sintaxis actual. Se usa en el curso.\n",
    "with open(\"Espronceda.txt\", encoding = \"utf-8\") as arch:    # , encoding = \"utf-8\"\n",
    "    lect = arch.read()     # Lee todo el contenido\n",
    "    print(lect)"
   ]
  },
  {
   "cell_type": "markdown",
   "metadata": {},
   "source": [
    "<img src=\"open_codigos.png\" width=350/>"
   ]
  },
  {
   "cell_type": "code",
   "execution_count": null,
   "metadata": {},
   "outputs": [],
   "source": [
    "# Lectura renglón por renglón\n",
    "with open(\"Espronceda.txt\", encoding = \"utf-8\") as arch:\n",
    "    print(arch.readline(), end='')           # , end='' evitar interlineado\n",
    "    print(arch.readline())    "
   ]
  },
  {
   "cell_type": "code",
   "execution_count": null,
   "metadata": {},
   "outputs": [],
   "source": []
  },
  {
   "cell_type": "code",
   "execution_count": null,
   "metadata": {},
   "outputs": [],
   "source": []
  },
  {
   "cell_type": "code",
   "execution_count": null,
   "metadata": {
    "scrolled": true
   },
   "outputs": [],
   "source": [
    "# Lectura de todos los renglones y conversión a lista\n",
    "with open(\"Espronceda.txt\", encoding = \"utf-8\") as arch:\n",
    "    print(arch.readlines())"
   ]
  },
  {
   "cell_type": "code",
   "execution_count": null,
   "metadata": {},
   "outputs": [],
   "source": []
  },
  {
   "cell_type": "code",
   "execution_count": null,
   "metadata": {},
   "outputs": [],
   "source": []
  },
  {
   "cell_type": "code",
   "execution_count": null,
   "metadata": {},
   "outputs": [],
   "source": [
    "# Acceso a elemento en lista\n",
    "with open(\"Espronceda.txt\", encoding = \"utf-8\") as arch:\n",
    "    texto = arch.readlines()\n",
    "    \n",
    "print(texto[2:10])"
   ]
  },
  {
   "cell_type": "code",
   "execution_count": null,
   "metadata": {},
   "outputs": [],
   "source": []
  },
  {
   "cell_type": "code",
   "execution_count": null,
   "metadata": {},
   "outputs": [],
   "source": []
  },
  {
   "cell_type": "markdown",
   "metadata": {},
   "source": [
    "##### Escribir a un archivo"
   ]
  },
  {
   "cell_type": "code",
   "execution_count": null,
   "metadata": {},
   "outputs": [],
   "source": [
    "with open(\"FMoreno.txt\", 'w', encoding = \"utf-8\")  as arch:\n",
    "    arch.write(\"Setenta balcones\\ny ninguna flor\")"
   ]
  },
  {
   "cell_type": "code",
   "execution_count": null,
   "metadata": {},
   "outputs": [],
   "source": []
  },
  {
   "cell_type": "code",
   "execution_count": null,
   "metadata": {},
   "outputs": [],
   "source": [
    "# Agregar texto a un archivo con modo append.\n",
    "with open(\"FMoreno.txt\", 'a', encoding = \"utf-8\")  as arch:\n",
    "    arch.write(\"\\nA sus habitantes señor\\nQué les pasa\")"
   ]
  },
  {
   "cell_type": "code",
   "execution_count": null,
   "metadata": {},
   "outputs": [],
   "source": []
  },
  {
   "cell_type": "code",
   "execution_count": null,
   "metadata": {},
   "outputs": [],
   "source": []
  }
 ],
 "metadata": {
  "kernelspec": {
   "display_name": "Python 3 (ipykernel)",
   "language": "python",
   "name": "python3"
  },
  "language_info": {
   "codemirror_mode": {
    "name": "ipython",
    "version": 3
   },
   "file_extension": ".py",
   "mimetype": "text/x-python",
   "name": "python",
   "nbconvert_exporter": "python",
   "pygments_lexer": "ipython3",
   "version": "3.10.0"
  }
 },
 "nbformat": 4,
 "nbformat_minor": 4
}
