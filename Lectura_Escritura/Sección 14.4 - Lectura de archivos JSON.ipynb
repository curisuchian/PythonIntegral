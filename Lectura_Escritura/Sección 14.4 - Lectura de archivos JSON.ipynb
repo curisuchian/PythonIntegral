{
 "cells": [
  {
   "cell_type": "markdown",
   "id": "c63c7a52",
   "metadata": {},
   "source": [
    "#### Usando el módulo json"
   ]
  },
  {
   "cell_type": "code",
   "execution_count": null,
   "id": "1eaba2fd",
   "metadata": {
    "scrolled": true
   },
   "outputs": [],
   "source": [
    "# Conversion de una cadena JSON a diccionario, en memoria\n",
    "import json\n",
    "\n",
    "dato =  '''{\n",
    "    \"nombre\": \"Gustavo\",\n",
    "    \"direccion\": [\"Calle\", 9, \"CP5500\"],\n",
    "    \"correo\": \"exxxxxd@gmail.com\",\n",
    "    \"cursos\": [\"Python\", \"QGIS\", \"R\"]\n",
    "}'''\n",
    "print(type(dato))\n",
    "a = json.loads(dato)\n",
    "print(a)\n",
    "print(type(a))"
   ]
  },
  {
   "cell_type": "code",
   "execution_count": null,
   "id": "e1a13cb7",
   "metadata": {
    "scrolled": false
   },
   "outputs": [],
   "source": [
    "# Conversión de diccionario a texto JSON, en memoria\n",
    "json.dumps(a)"
   ]
  },
  {
   "cell_type": "code",
   "execution_count": null,
   "id": "7e972079",
   "metadata": {},
   "outputs": [],
   "source": [
    "# Guardar un archivo JSON en disco\n",
    "import json\n",
    "\n",
    "dato = {}\n",
    "dato['docentes'] = []\n",
    "dato['docentes'].append({\n",
    "    \"nombre\": \"Gustavo\",\n",
    "    \"direccion\": [\"Calle\", 9, \"CP5500\"],\n",
    "    \"correo\": \"exxxxxd@gmail.com\",\n",
    "    \"cursos\": [\"Python\", \"QGIS\", \"R\"]\n",
    "})\n",
    "dato['docentes'].append({\n",
    "    \"nombre\": \"Marcelo\",\n",
    "    \"direccion\": [\"Calle\", 444, \"CP1500\"],\n",
    "    \"correo\": \"rrrrrr@gmail.com\",\n",
    "    \"cursos\": [\"Word\", \"Excel\", \"Java\"]\n",
    "})\n",
    "dato['docentes'].append({\n",
    "    \"nombre\": \"Susana\",\n",
    "    \"direccion\": [\"Calle\", 19, \"CP6600\"],\n",
    "    \"correo\": \"yyyyd@gmail.com\",\n",
    "    \"cursos\": [\"Java\", \"Flask\", \"R\"]\n",
    "})\n",
    "with open('dato.json', 'w') as arch:\n",
    "    json.dump(dato, arch, indent=2)"
   ]
  },
  {
   "cell_type": "code",
   "execution_count": null,
   "id": "994a1aa1",
   "metadata": {},
   "outputs": [],
   "source": [
    "# Leer un archivo JSON\n",
    "with open('dato.json') as archent:\n",
    "    datos = json.load(archent)\n",
    "    \n",
    "for docentes in dato['docentes']:\n",
    "    print('Nombre ', docentes['nombre'])\n",
    "    print('Direccion ', docentes['direccion'])\n",
    "    print('Correo ', docentes['correo'])\n",
    "    print('Cursos ', docentes['cursos'])\n",
    "    print()"
   ]
  },
  {
   "cell_type": "code",
   "execution_count": null,
   "id": "a4b84358",
   "metadata": {},
   "outputs": [],
   "source": []
  },
  {
   "cell_type": "code",
   "execution_count": null,
   "id": "30b786e8",
   "metadata": {},
   "outputs": [],
   "source": []
  },
  {
   "cell_type": "markdown",
   "id": "d4e6720a",
   "metadata": {},
   "source": [
    "#### Usando pandas"
   ]
  },
  {
   "cell_type": "code",
   "execution_count": null,
   "id": "latest-wichita",
   "metadata": {
    "scrolled": false
   },
   "outputs": [],
   "source": [
    "import pandas as pd\n",
    "\n",
    "df_json = pd.read_json('dato.json')\n",
    "print(df_json)     # Cada fila es un diccionario"
   ]
  },
  {
   "cell_type": "code",
   "execution_count": null,
   "id": "great-deadline",
   "metadata": {
    "scrolled": true
   },
   "outputs": [],
   "source": [
    "# Combinar pandas con json\n",
    "import json\n",
    "from pandas import DataFrame\n",
    "\n",
    "with open('dato.json') as j:\n",
    "    datos_json =json.load(j)\n",
    "df_json = DataFrame(datos_json['docentes'])\n",
    "print(df_json)"
   ]
  },
  {
   "cell_type": "code",
   "execution_count": null,
   "id": "897457e8",
   "metadata": {},
   "outputs": [],
   "source": [
    "# Acceder a elementos\n",
    "dato['docentes'][2]"
   ]
  },
  {
   "cell_type": "code",
   "execution_count": null,
   "id": "1769c18f",
   "metadata": {},
   "outputs": [],
   "source": []
  }
 ],
 "metadata": {
  "kernelspec": {
   "display_name": "Python 3 (ipykernel)",
   "language": "python",
   "name": "python3"
  },
  "language_info": {
   "codemirror_mode": {
    "name": "ipython",
    "version": 3
   },
   "file_extension": ".py",
   "mimetype": "text/x-python",
   "name": "python",
   "nbconvert_exporter": "python",
   "pygments_lexer": "ipython3",
   "version": "3.10.0"
  }
 },
 "nbformat": 4,
 "nbformat_minor": 5
}
