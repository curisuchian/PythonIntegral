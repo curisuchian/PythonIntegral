{
 "cells": [
  {
   "cell_type": "markdown",
   "id": "falling-combine",
   "metadata": {},
   "source": [
    "Formato binario, no estructurado de Microsoft\n",
    "Extensión WAV o WAVE\n",
    "Un archivo en formato WAVE comprende tres secciones mayores:\n",
    "el encabezamiento RIFF (Resource Interchange Format), la sección WAVE que describe el contenido, y datos, con los bits de sonido."
   ]
  },
  {
   "cell_type": "markdown",
   "id": "infrared-bunny",
   "metadata": {},
   "source": [
    "#### Formato WAVE"
   ]
  },
  {
   "cell_type": "code",
   "execution_count": null,
   "id": "thick-plumbing",
   "metadata": {
    "scrolled": true
   },
   "outputs": [],
   "source": [
    "import wave\n",
    "import numpy as np\n",
    "import matplotlib.pyplot as plt\n",
    "\n",
    "# Crear objeto archivo audio\n",
    "with wave.open('doorshut.wav', 'rb') as cierra_puerta:\n",
    "\n",
    "# Leer todos los marcos del objeto wave\n",
    "    signal_gm = cierra_puerta.readframes(-1)      # Lee los datos crudos\n",
    "    soundwave_gm = np.frombuffer(signal_gm, dtype= 'int16') # Función de numpy para crear un array\n",
    "\n",
    "# Hallar la frecuencia en ciclos/segundo\n",
    "    framerate_gm = cierra_puerta.getframerate()\n",
    "    print(framerate_gm)\n",
    "    time_gm = np.linspace(start=0, stop=len(soundwave_gm)/framerate_gm, num=len(soundwave_gm))\n",
    "\n",
    "# Mostrar primeras 100 marcas de tiempo (timestamps); muestreo de la onda sonora\n",
    "    print(time_gm[:100])\n",
    "\n",
    "# Graficar la onda sonora\n",
    "plt.title('Se cierra una puerta')\n",
    "plt.xlabel('Tiempo en segundos')\n",
    "plt.ylabel('Amplitud')\n",
    "plt.plot(time_gm, soundwave_gm)\n",
    "plt.show()\n"
   ]
  },
  {
   "cell_type": "markdown",
   "id": "damaged-vacuum",
   "metadata": {},
   "source": [
    "#### Escuchar sonidos"
   ]
  },
  {
   "cell_type": "code",
   "execution_count": null,
   "id": "hungry-developer",
   "metadata": {},
   "outputs": [],
   "source": [
    "!pip install playsound"
   ]
  },
  {
   "cell_type": "code",
   "execution_count": null,
   "id": "swiss-clerk",
   "metadata": {},
   "outputs": [],
   "source": [
    "from playsound import playsound\n",
    "\n",
    "playsound('doorshut.wav')"
   ]
  },
  {
   "cell_type": "code",
   "execution_count": null,
   "id": "3dc928f9",
   "metadata": {},
   "outputs": [],
   "source": []
  },
  {
   "cell_type": "code",
   "execution_count": null,
   "id": "7fdbce5d",
   "metadata": {},
   "outputs": [],
   "source": []
  },
  {
   "cell_type": "code",
   "execution_count": null,
   "id": "86924668",
   "metadata": {},
   "outputs": [],
   "source": []
  },
  {
   "cell_type": "code",
   "execution_count": null,
   "id": "a9f0d749",
   "metadata": {},
   "outputs": [],
   "source": []
  }
 ],
 "metadata": {
  "kernelspec": {
   "display_name": "Python 3 (ipykernel)",
   "language": "python",
   "name": "python3"
  },
  "language_info": {
   "codemirror_mode": {
    "name": "ipython",
    "version": 3
   },
   "file_extension": ".py",
   "mimetype": "text/x-python",
   "name": "python",
   "nbconvert_exporter": "python",
   "pygments_lexer": "ipython3",
   "version": "3.10.0"
  }
 },
 "nbformat": 4,
 "nbformat_minor": 5
}
