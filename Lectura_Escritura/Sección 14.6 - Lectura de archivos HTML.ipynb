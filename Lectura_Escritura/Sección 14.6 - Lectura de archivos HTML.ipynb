{
 "cells": [
  {
   "cell_type": "markdown",
   "id": "loaded-sleeping",
   "metadata": {},
   "source": [
    "<!DOCTYPE html>\n",
    "<html lang=\"en\">\n",
    "\n",
    "<head>\n",
    "  <meta charset=\"UTF-8\">\n",
    "  <title>Table Data</title>\n",
    "</head>\n",
    "\n",
    "<body>\n",
    "  <table>\n",
    "    <thead>\n",
    "      <tr>\n",
    "        <th>Programming Language</th>\n",
    "        <th>Creator</th>\n",
    "        <th>Year</th>\n",
    "      </tr>\n",
    "    </thead>\n",
    "    <tbody>\n",
    "      <tr>\n",
    "        <td>C</td>\n",
    "        <td>Dennis Ritchie</td>\n",
    "        <td>1972</td>\n",
    "      </tr>\n",
    "      <tr>\n",
    "        <td>Python</td>\n",
    "        <td>Guido Van Rossum</td>\n",
    "        <td>1989</td>\n",
    "      </tr>\n",
    "      <tr>\n",
    "        <td>Ruby</td>\n",
    "        <td>Yukihiro Matsumoto</td>\n",
    "        <td>1995</td>\n",
    "      </tr>\n",
    "    </tbody>\n",
    "  </table>\n",
    "  </body>\n",
    "\n",
    "</html>"
   ]
  },
  {
   "cell_type": "code",
   "execution_count": null,
   "id": "fff73f49",
   "metadata": {
    "scrolled": false
   },
   "outputs": [],
   "source": [
    "#!pip install lxml"
   ]
  },
  {
   "cell_type": "code",
   "execution_count": null,
   "id": "cutting-margin",
   "metadata": {
    "scrolled": false
   },
   "outputs": [],
   "source": [
    "import pandas as pd\n",
    "import lxml\n",
    "\n",
    "df1 = pd.read_html('Tabla.html')\n",
    "print(df1)\n",
    "type(df1)"
   ]
  },
  {
   "cell_type": "code",
   "execution_count": null,
   "id": "58d7c6e7",
   "metadata": {},
   "outputs": [],
   "source": []
  },
  {
   "cell_type": "code",
   "execution_count": null,
   "id": "a02019c4",
   "metadata": {},
   "outputs": [],
   "source": []
  },
  {
   "cell_type": "code",
   "execution_count": null,
   "id": "e4ce72f9",
   "metadata": {
    "scrolled": false
   },
   "outputs": [],
   "source": [
    "import pandas as pd\n",
    "#import ssl\n",
    "\n",
    "#ssl._create_default_https_context = ssl._create_unverified_context\n",
    "\n",
    "# “SSL: CERTIFICATE_VERIFY_FAILED” Error\n",
    "\n",
    "tabla_AR = pd.read_html('https://en.wikipedia.org/wiki/Argentina')\n",
    "print(f'Total de tablas: {len(tabla_AR)}')  # Tablas presentes\n",
    "dfArg = tabla_AR[0]    # Selecciono la primera tabla\n",
    "print('Primera Tabla')\n",
    "dfArg"
   ]
  },
  {
   "cell_type": "code",
   "execution_count": null,
   "id": "27ec57e7",
   "metadata": {},
   "outputs": [],
   "source": []
  },
  {
   "cell_type": "code",
   "execution_count": null,
   "id": "fab9ddb5",
   "metadata": {},
   "outputs": [],
   "source": []
  },
  {
   "cell_type": "code",
   "execution_count": null,
   "id": "premium-twenty",
   "metadata": {},
   "outputs": [],
   "source": [
    "# Convertir un DataFrame al formato HTML\n",
    "import pandas as pd\n",
    "\n",
    "# crear un dataframe\n",
    "df_marks = pd.DataFrame({'nombre': ['Somu', 'Kiku', 'Amol', 'Lini'],\n",
    "     'fisica': [68, 74, 77, 78],\n",
    "     'quimica': [84, 56, 73, 69],\n",
    "     'algebra': [78, 88, 82, 87]})\n",
    "print(df_marks)"
   ]
  },
  {
   "cell_type": "code",
   "execution_count": null,
   "id": "71340f3d",
   "metadata": {},
   "outputs": [],
   "source": [
    "# Guardar el dataframe en formato html\n",
    "html = df_marks.to_html()\n",
    "print(html)"
   ]
  },
  {
   "cell_type": "code",
   "execution_count": null,
   "id": "bd6b5b33",
   "metadata": {},
   "outputs": [],
   "source": []
  },
  {
   "cell_type": "code",
   "execution_count": null,
   "id": "6d5c9d78",
   "metadata": {},
   "outputs": [],
   "source": []
  }
 ],
 "metadata": {
  "kernelspec": {
   "display_name": "Python 3 (ipykernel)",
   "language": "python",
   "name": "python3"
  },
  "language_info": {
   "codemirror_mode": {
    "name": "ipython",
    "version": 3
   },
   "file_extension": ".py",
   "mimetype": "text/x-python",
   "name": "python",
   "nbconvert_exporter": "python",
   "pygments_lexer": "ipython3",
   "version": "3.10.0"
  }
 },
 "nbformat": 4,
 "nbformat_minor": 5
}
