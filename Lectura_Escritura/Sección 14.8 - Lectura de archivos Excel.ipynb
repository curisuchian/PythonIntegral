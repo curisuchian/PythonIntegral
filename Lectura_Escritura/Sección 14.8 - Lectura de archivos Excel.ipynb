{
 "cells": [
  {
   "cell_type": "markdown",
   "id": "understood-ferry",
   "metadata": {},
   "source": [
    "#### Módulo xlrd"
   ]
  },
  {
   "cell_type": "code",
   "execution_count": null,
   "id": "thorough-argument",
   "metadata": {},
   "outputs": [],
   "source": [
    "!pip install xlrd"
   ]
  },
  {
   "cell_type": "code",
   "execution_count": null,
   "id": "apparent-hughes",
   "metadata": {},
   "outputs": [],
   "source": [
    "import xlrd     # No opera con extension xlsx\n",
    " \n",
    "loc = (\"LeeExcel.xls\")\n",
    "wb = xlrd.open_workbook(loc)\n",
    "sheet = wb.sheet_by_index(0)  # Seleccionar la primera Hoja\n",
    " \n",
    "print(sheet.cell_value(0, 0)) # Selecciona la primera celda\n",
    "print(sheet.nrows)  # Imprime el número de filas\n",
    "print(sheet.ncols)  # Imprime el número de columnas"
   ]
  },
  {
   "cell_type": "markdown",
   "id": "purple-manchester",
   "metadata": {},
   "source": [
    "#### Módulo OpenPyxl"
   ]
  },
  {
   "cell_type": "code",
   "execution_count": null,
   "id": "disturbed-chase",
   "metadata": {},
   "outputs": [],
   "source": [
    "!pip install openpyxl"
   ]
  },
  {
   "cell_type": "code",
   "execution_count": null,
   "id": "latest-sucking",
   "metadata": {},
   "outputs": [],
   "source": [
    "from openpyxl import load_workbook\n",
    "\n",
    "# No opera con la extension antigua xls\n",
    "wb = load_workbook(filename = \"LeeExcel.xlsx\")\n",
    "print(wb.sheetnames)  # Imprime las hojas disponibles\n",
    "sheet = wb.active     # Detecta la Hoja activa\n",
    "print('Hoja activa ', sheet)\n",
    "print('Encabezamiento ', sheet.title)\n",
    "print('Valor ', sheet['A1'].value)\n"
   ]
  },
  {
   "cell_type": "code",
   "execution_count": null,
   "id": "73d9e784",
   "metadata": {},
   "outputs": [],
   "source": []
  },
  {
   "cell_type": "code",
   "execution_count": null,
   "id": "61528713",
   "metadata": {},
   "outputs": [],
   "source": []
  },
  {
   "cell_type": "code",
   "execution_count": null,
   "id": "cc6a42a7",
   "metadata": {},
   "outputs": [],
   "source": []
  },
  {
   "cell_type": "markdown",
   "id": "prompt-astronomy",
   "metadata": {},
   "source": [
    "#### Leer usando pandas"
   ]
  },
  {
   "cell_type": "code",
   "execution_count": null,
   "id": "enabling-horizon",
   "metadata": {},
   "outputs": [],
   "source": [
    "import pandas as pd\n",
    "\n",
    "df = pd.read_excel('LeeExcel.xlsx')\n",
    "\n",
    "print(\"Encabezamientos: \", df.columns)\n",
    "\n",
    "#print(df)\n",
    "print(\"Imprime una columna\")\n",
    "for i in df.index:\n",
    "    print(df['Ticker'][i])      # Imprime la columna Ticker"
   ]
  },
  {
   "cell_type": "code",
   "execution_count": null,
   "id": "d309057f",
   "metadata": {},
   "outputs": [],
   "source": []
  },
  {
   "cell_type": "code",
   "execution_count": null,
   "id": "d9ffcedc",
   "metadata": {},
   "outputs": [],
   "source": []
  },
  {
   "cell_type": "code",
   "execution_count": null,
   "id": "656bd819",
   "metadata": {},
   "outputs": [],
   "source": []
  },
  {
   "cell_type": "markdown",
   "id": "shaped-stable",
   "metadata": {},
   "source": [
    "#### Convertir a Excel"
   ]
  },
  {
   "cell_type": "code",
   "execution_count": null,
   "id": "circular-decade",
   "metadata": {},
   "outputs": [],
   "source": [
    "import pandas as pd\n",
    "\n",
    "t_csv = pd.read_csv('titanic.csv')\n",
    "t_csv.to_excel('titanic2.xlsx')\n"
   ]
  },
  {
   "cell_type": "code",
   "execution_count": null,
   "id": "c8aa1557",
   "metadata": {},
   "outputs": [],
   "source": []
  },
  {
   "cell_type": "code",
   "execution_count": null,
   "id": "0ce44c34",
   "metadata": {},
   "outputs": [],
   "source": []
  },
  {
   "cell_type": "code",
   "execution_count": null,
   "id": "48616cde",
   "metadata": {},
   "outputs": [],
   "source": []
  },
  {
   "cell_type": "code",
   "execution_count": null,
   "id": "73c5e2f9",
   "metadata": {},
   "outputs": [],
   "source": []
  },
  {
   "cell_type": "code",
   "execution_count": null,
   "id": "630c4823",
   "metadata": {},
   "outputs": [],
   "source": []
  },
  {
   "cell_type": "code",
   "execution_count": null,
   "id": "fabdd654",
   "metadata": {},
   "outputs": [],
   "source": []
  },
  {
   "cell_type": "code",
   "execution_count": null,
   "id": "31918854",
   "metadata": {},
   "outputs": [],
   "source": []
  },
  {
   "cell_type": "code",
   "execution_count": null,
   "id": "5300a1bb",
   "metadata": {},
   "outputs": [],
   "source": []
  }
 ],
 "metadata": {
  "kernelspec": {
   "display_name": "Python 3 (ipykernel)",
   "language": "python",
   "name": "python3"
  },
  "language_info": {
   "codemirror_mode": {
    "name": "ipython",
    "version": 3
   },
   "file_extension": ".py",
   "mimetype": "text/x-python",
   "name": "python",
   "nbconvert_exporter": "python",
   "pygments_lexer": "ipython3",
   "version": "3.10.0"
  }
 },
 "nbformat": 4,
 "nbformat_minor": 5
}
