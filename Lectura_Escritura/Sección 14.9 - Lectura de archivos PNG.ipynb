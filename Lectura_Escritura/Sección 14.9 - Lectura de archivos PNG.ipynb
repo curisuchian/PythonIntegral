{
 "cells": [
  {
   "cell_type": "markdown",
   "id": "joint-range",
   "metadata": {},
   "source": [
    "El formato PNG (Portable Network Graphics) es un archivo binario no estructurado, aunque tiene una organización interna. <br>\n",
    "Comprende un encabezamiento y un cuerpo con cuatro secciones ('chunks'): IDHR - cabecera; PLTE – paleta de colores; IDAT – imagen; IEND – marca de final. "
   ]
  },
  {
   "cell_type": "markdown",
   "id": "recent-fortune",
   "metadata": {},
   "source": [
    "#### Módulo Pillow"
   ]
  },
  {
   "cell_type": "code",
   "execution_count": null,
   "id": "increased-masters",
   "metadata": {},
   "outputs": [],
   "source": [
    "#!pip install Pillow"
   ]
  },
  {
   "cell_type": "code",
   "execution_count": null,
   "id": "damaged-basic",
   "metadata": {},
   "outputs": [],
   "source": [
    "# Gráfico lineal\n",
    "#%matplotlib inline\n",
    "#from matplotlib.pyplot import imshow\n",
    "from PIL import Image\n",
    "\n",
    "im = Image.open('Grafico.png')\n",
    "im.show()\n",
    "print(im.format)\n",
    "print(im.mode)"
   ]
  },
  {
   "cell_type": "code",
   "execution_count": null,
   "id": "valued-building",
   "metadata": {},
   "outputs": [],
   "source": [
    "# Imagen\n",
    "from PIL import Image\n",
    "\n",
    "im = Image.open('imagen_color.jpg')\n",
    "im.show()\n",
    "print(im.format)\n",
    "print(im.mode)"
   ]
  },
  {
   "cell_type": "markdown",
   "id": "sound-hostel",
   "metadata": {},
   "source": [
    "#### Rotar una imagen"
   ]
  },
  {
   "cell_type": "code",
   "execution_count": null,
   "id": "headed-pepper",
   "metadata": {},
   "outputs": [],
   "source": [
    "from PIL import Image\n",
    "with Image.open(\"Grafico.png\") as im:\n",
    "    im.rotate(45).show()"
   ]
  },
  {
   "cell_type": "markdown",
   "id": "intense-removal",
   "metadata": {},
   "source": [
    "#### Módulo OpenCV"
   ]
  },
  {
   "cell_type": "code",
   "execution_count": null,
   "id": "sized-quebec",
   "metadata": {
    "scrolled": true
   },
   "outputs": [],
   "source": [
    "!pip install opencv-python"
   ]
  },
  {
   "cell_type": "code",
   "execution_count": null,
   "id": "b51aeb26",
   "metadata": {},
   "outputs": [],
   "source": [
    "import cv2\n",
    "import numpy as np   # Necesaria para recuperar datos de la imagen\n",
    "\n",
    "#img = cv2.imread('imagen_color.jpg')   \n",
    "img = cv2.imread('imagen_color.jpg', 0)     # carga en B&N\n",
    "cv2.imshow('image',img)\n",
    "print('Dimensiones:', img.shape)\n",
    "print('Numero de pixeles:', img.size)\n",
    "cv2.waitKey(1000)    #queda fija hasta que se pulse tecla\n",
    "cv2.destroyAllWindows()     # Limpia la memoria \n"
   ]
  }
 ],
 "metadata": {
  "kernelspec": {
   "display_name": "Python 3 (ipykernel)",
   "language": "python",
   "name": "python3"
  },
  "language_info": {
   "codemirror_mode": {
    "name": "ipython",
    "version": 3
   },
   "file_extension": ".py",
   "mimetype": "text/x-python",
   "name": "python",
   "nbconvert_exporter": "python",
   "pygments_lexer": "ipython3",
   "version": "3.10.0"
  }
 },
 "nbformat": 4,
 "nbformat_minor": 5
}
