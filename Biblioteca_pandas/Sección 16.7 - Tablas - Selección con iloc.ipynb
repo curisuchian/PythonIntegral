{
 "cells": [
  {
   "cell_type": "code",
   "execution_count": null,
   "id": "a35f6627",
   "metadata": {},
   "outputs": [],
   "source": [
    "import pandas as pd\n",
    "\n",
    "mi_dicc = [{'a': 1, 'b': 2, 'c': 3, 'd': 4},\n",
    "          {'a': 10, 'b': 20, 'c': 30, 'd': 40},\n",
    "          {'a': 100, 'b': 200, 'c': 300, 'd': 400 }]\n",
    "df = pd.DataFrame(mi_dicc)\n",
    "df"
   ]
  },
  {
   "cell_type": "code",
   "execution_count": null,
   "id": "e48677dc",
   "metadata": {},
   "outputs": [],
   "source": []
  },
  {
   "cell_type": "code",
   "execution_count": null,
   "id": "3d55c507",
   "metadata": {
    "scrolled": true
   },
   "outputs": [],
   "source": [
    "print(df.iloc[2]) \n",
    "type(df.iloc[0])   # Extraer una fila como Series"
   ]
  },
  {
   "cell_type": "code",
   "execution_count": null,
   "id": "89a8f5cc",
   "metadata": {},
   "outputs": [],
   "source": []
  },
  {
   "cell_type": "code",
   "execution_count": null,
   "id": "c2951e1a",
   "metadata": {},
   "outputs": [],
   "source": []
  },
  {
   "cell_type": "code",
   "execution_count": null,
   "id": "059c70d8",
   "metadata": {
    "scrolled": true
   },
   "outputs": [],
   "source": [
    "df.iloc[[0,1]]   # Extraer dos filas"
   ]
  },
  {
   "cell_type": "code",
   "execution_count": null,
   "id": "37e8063b",
   "metadata": {},
   "outputs": [],
   "source": []
  },
  {
   "cell_type": "code",
   "execution_count": null,
   "id": "b6424eec",
   "metadata": {},
   "outputs": [],
   "source": [
    "df.iloc[[True, True, False]]   # Extraer dos filas usando tipos booleanos"
   ]
  },
  {
   "cell_type": "code",
   "execution_count": null,
   "id": "72e74f50",
   "metadata": {},
   "outputs": [],
   "source": []
  },
  {
   "cell_type": "code",
   "execution_count": null,
   "id": "0c88eae0",
   "metadata": {},
   "outputs": [],
   "source": [
    "df.iloc[0, 1]      # Selecciona un elemento"
   ]
  },
  {
   "cell_type": "code",
   "execution_count": null,
   "id": "7a009700",
   "metadata": {},
   "outputs": [],
   "source": []
  },
  {
   "cell_type": "code",
   "execution_count": null,
   "id": "fdae91d8",
   "metadata": {},
   "outputs": [],
   "source": [
    "df.iloc[0: 2, 1: 3]        # Selecciona un subconjunto de elementos"
   ]
  },
  {
   "cell_type": "code",
   "execution_count": null,
   "id": "d69790cc",
   "metadata": {},
   "outputs": [],
   "source": []
  },
  {
   "cell_type": "markdown",
   "id": "9371efd1",
   "metadata": {},
   "source": [
    "#### Aplicado a un DataFrame real"
   ]
  },
  {
   "cell_type": "code",
   "execution_count": null,
   "id": "silver-james",
   "metadata": {
    "scrolled": false
   },
   "outputs": [],
   "source": [
    "import pandas as pd\n",
    "\n",
    "vino = pd.read_csv('vino_corto.csv')\n",
    "print(vino.head())"
   ]
  },
  {
   "cell_type": "code",
   "execution_count": null,
   "id": "d1440dc1",
   "metadata": {},
   "outputs": [],
   "source": []
  },
  {
   "cell_type": "markdown",
   "id": "223ba83e",
   "metadata": {},
   "source": [
    "#####  Extraccion de filas"
   ]
  },
  {
   "cell_type": "code",
   "execution_count": null,
   "id": "7aef70f6",
   "metadata": {},
   "outputs": [],
   "source": [
    "vino.iloc[1:4,0:2]"
   ]
  },
  {
   "cell_type": "code",
   "execution_count": null,
   "id": "ae0bb151",
   "metadata": {},
   "outputs": [],
   "source": []
  }
 ],
 "metadata": {
  "kernelspec": {
   "display_name": "Python 3 (ipykernel)",
   "language": "python",
   "name": "python3"
  },
  "language_info": {
   "codemirror_mode": {
    "name": "ipython",
    "version": 3
   },
   "file_extension": ".py",
   "mimetype": "text/x-python",
   "name": "python",
   "nbconvert_exporter": "python",
   "pygments_lexer": "ipython3",
   "version": "3.10.0"
  }
 },
 "nbformat": 4,
 "nbformat_minor": 5
}
