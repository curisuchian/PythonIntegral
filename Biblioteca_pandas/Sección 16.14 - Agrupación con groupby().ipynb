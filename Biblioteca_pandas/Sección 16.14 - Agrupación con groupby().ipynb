{
 "cells": [
  {
   "cell_type": "markdown",
   "id": "84098a85",
   "metadata": {},
   "source": [
    "Sintaxis: <br>\n",
    "df.groupby(by=función o variable)"
   ]
  },
  {
   "cell_type": "code",
   "execution_count": null,
   "id": "9a5e80ef",
   "metadata": {},
   "outputs": [],
   "source": [
    "import pandas as pd\n",
    "# Creamos una DataFrame con informacion falsa de empleados y sus ventas\n",
    "data = {'Compañia':['GOOG','GOOG','MSFT','MSFT','FB','FB'],\n",
    "       'Persona':['Sam','Charlie','Amy','Vanessa','Carl','Sarah'],\n",
    "       'Ventas':[200,120,340,124,243,350]}\n",
    "df = pd.DataFrame(data)\n",
    "df"
   ]
  },
  {
   "cell_type": "code",
   "execution_count": null,
   "id": "17319492",
   "metadata": {},
   "outputs": [],
   "source": []
  },
  {
   "cell_type": "code",
   "execution_count": null,
   "id": "f2af529f",
   "metadata": {},
   "outputs": [],
   "source": [
    "# Agrupamos los datos en base a la columna Compañia.\n",
    "by_comp = df.groupby(\"Compañia\")"
   ]
  },
  {
   "cell_type": "code",
   "execution_count": null,
   "id": "b9f3d0ff",
   "metadata": {},
   "outputs": [],
   "source": [
    "by_comp.first()   # Extraer las primeras entradas"
   ]
  },
  {
   "cell_type": "code",
   "execution_count": null,
   "id": "d82d64b2",
   "metadata": {},
   "outputs": [],
   "source": []
  },
  {
   "cell_type": "code",
   "execution_count": null,
   "id": "bfcf4e43",
   "metadata": {
    "jupyter": {
     "outputs_hidden": false
    }
   },
   "outputs": [],
   "source": [
    "by_comp.mean()"
   ]
  },
  {
   "cell_type": "code",
   "execution_count": null,
   "id": "74e3f17b",
   "metadata": {},
   "outputs": [],
   "source": []
  },
  {
   "cell_type": "code",
   "execution_count": null,
   "id": "183e4b03",
   "metadata": {
    "jupyter": {
     "outputs_hidden": false
    }
   },
   "outputs": [],
   "source": [
    "by_comp.count()   # Número de componentes en cada grupo"
   ]
  },
  {
   "cell_type": "code",
   "execution_count": null,
   "id": "c52c59b3",
   "metadata": {
    "jupyter": {
     "outputs_hidden": false
    }
   },
   "outputs": [],
   "source": [
    "by_comp.describe()  # Obtener estadisticas por grupo"
   ]
  },
  {
   "cell_type": "code",
   "execution_count": null,
   "id": "98706bca",
   "metadata": {},
   "outputs": [],
   "source": [
    " # Recuperar los componentes de un grupo\n",
    "by_comp.get_group('FB')  "
   ]
  },
  {
   "cell_type": "code",
   "execution_count": null,
   "id": "66fa66d3",
   "metadata": {},
   "outputs": [],
   "source": []
  },
  {
   "cell_type": "code",
   "execution_count": null,
   "id": "e2c6082b",
   "metadata": {},
   "outputs": [],
   "source": [
    "# Indices múltiples\n",
    "by_comp2 = df.groupby([\"Compañia\",\"Persona\"])\n",
    "by_comp2.first()"
   ]
  },
  {
   "cell_type": "code",
   "execution_count": null,
   "id": "b77bb99e",
   "metadata": {},
   "outputs": [],
   "source": []
  },
  {
   "cell_type": "markdown",
   "id": "06a5d5ca",
   "metadata": {},
   "source": [
    "#### Ejemplo real"
   ]
  },
  {
   "cell_type": "code",
   "execution_count": null,
   "id": "280fb39c",
   "metadata": {},
   "outputs": [],
   "source": [
    "df_vino = pd.read_csv('vino_categ.csv')\n",
    "df_vino.head()"
   ]
  },
  {
   "cell_type": "code",
   "execution_count": null,
   "id": "9c72fdc8",
   "metadata": {},
   "outputs": [],
   "source": []
  },
  {
   "cell_type": "code",
   "execution_count": null,
   "id": "a20da192",
   "metadata": {},
   "outputs": [],
   "source": [
    "d=df_vino.groupby(\"calidad\")\n",
    "d.describe()"
   ]
  },
  {
   "cell_type": "code",
   "execution_count": null,
   "id": "ed04c5b6",
   "metadata": {},
   "outputs": [],
   "source": []
  }
 ],
 "metadata": {
  "kernelspec": {
   "display_name": "Python 3 (ipykernel)",
   "language": "python",
   "name": "python3"
  },
  "language_info": {
   "codemirror_mode": {
    "name": "ipython",
    "version": 3
   },
   "file_extension": ".py",
   "mimetype": "text/x-python",
   "name": "python",
   "nbconvert_exporter": "python",
   "pygments_lexer": "ipython3",
   "version": "3.10.0"
  }
 },
 "nbformat": 4,
 "nbformat_minor": 5
}
