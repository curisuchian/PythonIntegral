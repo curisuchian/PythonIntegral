{
 "cells": [
  {
   "cell_type": "code",
   "execution_count": null,
   "id": "61121bbb",
   "metadata": {},
   "outputs": [],
   "source": [
    "import pandas as pd\n",
    "\n",
    "df = pd.DataFrame([[7, 9], [6, 8], [7, 8]],\n",
    "     index=['Maria', 'Juan', 'Manuel'],\n",
    "     columns=['Matematica', 'Fisica'])\n",
    "df"
   ]
  },
  {
   "cell_type": "code",
   "execution_count": null,
   "id": "0fa7014d",
   "metadata": {},
   "outputs": [],
   "source": [
    "df.loc['Juan']    # Devuelve una Series"
   ]
  },
  {
   "cell_type": "code",
   "execution_count": null,
   "id": "207fb15b",
   "metadata": {},
   "outputs": [],
   "source": []
  },
  {
   "cell_type": "code",
   "execution_count": null,
   "id": "6b7f9b30",
   "metadata": {},
   "outputs": [],
   "source": [
    "df.loc[['Juan','Manuel']]        # Devuelve un DataFrame"
   ]
  },
  {
   "cell_type": "code",
   "execution_count": null,
   "id": "a61dd173",
   "metadata": {},
   "outputs": [],
   "source": []
  },
  {
   "cell_type": "code",
   "execution_count": null,
   "id": "71c48920",
   "metadata": {},
   "outputs": [],
   "source": [
    "df.loc['Juan','Fisica']        # Un elemento"
   ]
  },
  {
   "cell_type": "code",
   "execution_count": null,
   "id": "f68e2a72",
   "metadata": {},
   "outputs": [],
   "source": []
  },
  {
   "cell_type": "code",
   "execution_count": null,
   "id": "9d2a13c2",
   "metadata": {},
   "outputs": [],
   "source": [
    "df.loc[[False, True, False]]"
   ]
  },
  {
   "cell_type": "markdown",
   "id": "a16aa9a3",
   "metadata": {},
   "source": [
    "##### Operar con un DataFrame real"
   ]
  },
  {
   "cell_type": "code",
   "execution_count": null,
   "id": "60ab47ef",
   "metadata": {
    "scrolled": false
   },
   "outputs": [],
   "source": [
    "import pandas as pd\n",
    "\n",
    "vino = pd.read_csv('vino_corto.csv')\n",
    "print(vino.head())\n",
    "vino.shape"
   ]
  },
  {
   "cell_type": "code",
   "execution_count": null,
   "id": "ffee2e58",
   "metadata": {},
   "outputs": [],
   "source": []
  },
  {
   "cell_type": "code",
   "execution_count": null,
   "id": "isolated-apollo",
   "metadata": {},
   "outputs": [],
   "source": [
    "vino.loc[0,'fixed_acidity']    # Un elemento"
   ]
  },
  {
   "cell_type": "code",
   "execution_count": null,
   "id": "9f7386c3",
   "metadata": {},
   "outputs": [],
   "source": []
  },
  {
   "cell_type": "code",
   "execution_count": null,
   "id": "65ae9dd5",
   "metadata": {},
   "outputs": [],
   "source": [
    "vino.loc[:,'fixed_acidity']  # Todas las filas de la columna"
   ]
  },
  {
   "cell_type": "code",
   "execution_count": null,
   "id": "fe08dc37",
   "metadata": {},
   "outputs": [],
   "source": []
  }
 ],
 "metadata": {
  "kernelspec": {
   "display_name": "Python 3 (ipykernel)",
   "language": "python",
   "name": "python3"
  },
  "language_info": {
   "codemirror_mode": {
    "name": "ipython",
    "version": 3
   },
   "file_extension": ".py",
   "mimetype": "text/x-python",
   "name": "python",
   "nbconvert_exporter": "python",
   "pygments_lexer": "ipython3",
   "version": "3.10.0"
  }
 },
 "nbformat": 4,
 "nbformat_minor": 5
}
