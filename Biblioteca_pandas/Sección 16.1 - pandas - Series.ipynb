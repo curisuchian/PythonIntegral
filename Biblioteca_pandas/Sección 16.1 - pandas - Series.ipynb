{
 "cells": [
  {
   "cell_type": "markdown",
   "id": "acquired-shell",
   "metadata": {},
   "source": [
    "<img src=\"Figuras/pandasSeries.png\" width=450/>"
   ]
  },
  {
   "cell_type": "markdown",
   "id": "d0714dc4",
   "metadata": {},
   "source": [
    "#### Crear una Series"
   ]
  },
  {
   "cell_type": "code",
   "execution_count": null,
   "id": "b012491a",
   "metadata": {},
   "outputs": [],
   "source": [
    "#!pip install pandas"
   ]
  },
  {
   "cell_type": "code",
   "execution_count": null,
   "id": "educational-mumbai",
   "metadata": {},
   "outputs": [],
   "source": [
    "# lista\n",
    "import pandas as pd\n",
    "\n",
    "serie1 = pd.Series([1, 2, 3, 4])\n",
    "print(serie1)                   # .values\n",
    "type(serie1)"
   ]
  },
  {
   "cell_type": "code",
   "execution_count": null,
   "id": "09f6b079",
   "metadata": {
    "scrolled": true
   },
   "outputs": [],
   "source": [
    "# Asignar índices\n",
    "import pandas as pd\n",
    "\n",
    "serie1 = pd.Series([1, 2, 3, 4], index=['A', 'B', 'C', 'D'])\n",
    "serie1"
   ]
  },
  {
   "cell_type": "code",
   "execution_count": null,
   "id": "industrial-london",
   "metadata": {},
   "outputs": [],
   "source": [
    "# diccionario\n",
    "import pandas as pd\n",
    "\n",
    "serie2 = pd.Series({'s':3, 'b':5, 'c':8})  \n",
    "print(serie2)  "
   ]
  },
  {
   "cell_type": "code",
   "execution_count": null,
   "id": "772993e8",
   "metadata": {},
   "outputs": [],
   "source": []
  },
  {
   "cell_type": "code",
   "execution_count": null,
   "id": "411ed530",
   "metadata": {},
   "outputs": [],
   "source": [
    "# Extraer un valor\n",
    "print(serie2[2])\n",
    "print(serie2['c'])"
   ]
  },
  {
   "cell_type": "code",
   "execution_count": null,
   "id": "0328679d",
   "metadata": {},
   "outputs": [],
   "source": []
  },
  {
   "cell_type": "code",
   "execution_count": null,
   "id": "41820e41",
   "metadata": {},
   "outputs": [],
   "source": [
    "# Extraer un índice\n",
    "serie2.index[1]"
   ]
  },
  {
   "cell_type": "code",
   "execution_count": null,
   "id": "bffd5dc0",
   "metadata": {},
   "outputs": [],
   "source": []
  },
  {
   "cell_type": "code",
   "execution_count": null,
   "id": "ede217f2",
   "metadata": {},
   "outputs": [],
   "source": [
    "# Extraer una tajada\n",
    "serie2[0:2]"
   ]
  },
  {
   "cell_type": "code",
   "execution_count": null,
   "id": "e7ea66a6",
   "metadata": {},
   "outputs": [],
   "source": []
  },
  {
   "cell_type": "markdown",
   "id": "numeric-speaking",
   "metadata": {},
   "source": [
    "#### Atributos de Series"
   ]
  },
  {
   "cell_type": "code",
   "execution_count": null,
   "id": "governmental-trace",
   "metadata": {},
   "outputs": [],
   "source": [
    "import pandas as pd\n",
    "\n",
    "s = pd.Series([1, 2, 2, 3, 3, 3, 4, 4, 4, 4])\n",
    "print(s.size)"
   ]
  },
  {
   "cell_type": "code",
   "execution_count": null,
   "id": "69449883",
   "metadata": {},
   "outputs": [],
   "source": []
  },
  {
   "cell_type": "code",
   "execution_count": null,
   "id": "fleet-therapist",
   "metadata": {
    "scrolled": true
   },
   "outputs": [],
   "source": [
    "import pandas as pd\n",
    "\n",
    "serie2 = pd.Series({'tres':3, 'cinco':5, 'ocho':8})  \n",
    "print(serie2.index)\n",
    "print(serie2.values)"
   ]
  },
  {
   "cell_type": "code",
   "execution_count": null,
   "id": "456360b0",
   "metadata": {},
   "outputs": [],
   "source": []
  },
  {
   "cell_type": "markdown",
   "id": "awful-integration",
   "metadata": {},
   "source": [
    "#### Métodos de Series"
   ]
  },
  {
   "cell_type": "code",
   "execution_count": null,
   "id": "coastal-california",
   "metadata": {},
   "outputs": [],
   "source": [
    "serie2.count()"
   ]
  },
  {
   "cell_type": "code",
   "execution_count": null,
   "id": "cfebb643",
   "metadata": {},
   "outputs": [],
   "source": []
  },
  {
   "cell_type": "code",
   "execution_count": null,
   "id": "loved-norway",
   "metadata": {},
   "outputs": [],
   "source": [
    "serie2.sum()"
   ]
  },
  {
   "cell_type": "code",
   "execution_count": null,
   "id": "95e88ec1",
   "metadata": {},
   "outputs": [],
   "source": []
  },
  {
   "cell_type": "code",
   "execution_count": null,
   "id": "homeless-adjustment",
   "metadata": {},
   "outputs": [],
   "source": [
    "serie2.min()"
   ]
  },
  {
   "cell_type": "code",
   "execution_count": null,
   "id": "7edcf3d1",
   "metadata": {},
   "outputs": [],
   "source": [
    "serie2.mean()"
   ]
  },
  {
   "cell_type": "code",
   "execution_count": null,
   "id": "7bff7df4",
   "metadata": {},
   "outputs": [],
   "source": []
  },
  {
   "cell_type": "markdown",
   "id": "f25c32a2",
   "metadata": {},
   "source": [
    "#### Operaciones"
   ]
  },
  {
   "cell_type": "code",
   "execution_count": null,
   "id": "01b568a8",
   "metadata": {},
   "outputs": [],
   "source": [
    "# Multiplicación\n",
    "import pandas as pd\n",
    "\n",
    "serie1 = pd.Series([1, 2, 3, 4], index=['A', 'B', 'C', 'D'])\n",
    "serie1*5"
   ]
  },
  {
   "cell_type": "code",
   "execution_count": null,
   "id": "ea6cd097",
   "metadata": {},
   "outputs": [],
   "source": []
  },
  {
   "cell_type": "code",
   "execution_count": null,
   "id": "b677cfae",
   "metadata": {},
   "outputs": [],
   "source": []
  },
  {
   "cell_type": "code",
   "execution_count": null,
   "id": "9494e725",
   "metadata": {},
   "outputs": [],
   "source": []
  }
 ],
 "metadata": {
  "kernelspec": {
   "display_name": "Python 3 (ipykernel)",
   "language": "python",
   "name": "python3"
  },
  "language_info": {
   "codemirror_mode": {
    "name": "ipython",
    "version": 3
   },
   "file_extension": ".py",
   "mimetype": "text/x-python",
   "name": "python",
   "nbconvert_exporter": "python",
   "pygments_lexer": "ipython3",
   "version": "3.10.0"
  }
 },
 "nbformat": 4,
 "nbformat_minor": 5
}
