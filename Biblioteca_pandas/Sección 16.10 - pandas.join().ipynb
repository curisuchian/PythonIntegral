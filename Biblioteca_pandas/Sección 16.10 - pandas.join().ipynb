{
 "cells": [
  {
   "cell_type": "markdown",
   "id": "interim-remedy",
   "metadata": {},
   "source": [
    "Sintaxis:<br>\n",
    "df_izq.join(df_der, on=None, how='left', lsuffix='', rsuffix='')"
   ]
  },
  {
   "cell_type": "markdown",
   "id": "76f29a10",
   "metadata": {},
   "source": [
    "#### Usar join con index"
   ]
  },
  {
   "cell_type": "code",
   "execution_count": null,
   "id": "changed-strap",
   "metadata": {},
   "outputs": [],
   "source": [
    "# Crear los DataFrame \n",
    "import pandas as pd\n",
    "\n",
    "df_izq = pd.DataFrame({\"A\": [\"A0\", \"A1\", \"A2\"], \"B\": [\"B0\", \"B1\", \"B2\"]}, \n",
    "                       index=[\"K0\", \"K1\", \"K4\"])\n",
    "print(df_izq)\n",
    "df_der = pd.DataFrame({\"C\": [\"C0\", \"C2\", \"C3\"], \"D\": [\"D0\", \"D2\", \"D3\"]}, \n",
    "                      index=[\"K0\", \"K1\", \"K2\"])\n",
    "df_der"
   ]
  },
  {
   "cell_type": "code",
   "execution_count": null,
   "id": "south-paintball",
   "metadata": {},
   "outputs": [],
   "source": [
    "df_izq.join(df_der) "
   ]
  },
  {
   "cell_type": "markdown",
   "id": "f2d65fa5",
   "metadata": {},
   "source": [
    "#### Usar join con columnas"
   ]
  },
  {
   "cell_type": "code",
   "execution_count": null,
   "id": "rough-radio",
   "metadata": {},
   "outputs": [],
   "source": [
    "# Convertir index a columna y renombrar\n",
    "import pandas as pd\n",
    "# Primer DF\n",
    "df_izq = pd.DataFrame({\"A\": [\"A0\", \"A1\", \"A2\"], \"B\": [\"B0\", \"B1\", \"B2\"]}, \n",
    "                       index=[\"K0\", \"K1\", \"K2\"])\n",
    "df_izq.reset_index(inplace=True)\n",
    "df_izq = df_izq.rename(columns = {'index':'idx1'})\n",
    "print(df_izq)\n",
    "\n",
    "# Segundo DF\n",
    "df_der = pd.DataFrame({\"C\": [\"C0\", \"C2\", \"C3\"], \"D\": [\"D0\", \"D2\", \"D3\"]}, \n",
    "                      index=[\"K0\", \"K1\", \"K2\"])\n",
    "df_der.reset_index(inplace=True)\n",
    "df_der = df_der.rename(columns = {'index':'idx2'})\n",
    "df_der"
   ]
  },
  {
   "cell_type": "code",
   "execution_count": null,
   "id": "likely-confidentiality",
   "metadata": {},
   "outputs": [],
   "source": [
    "df_izq.join(df_der) "
   ]
  },
  {
   "cell_type": "code",
   "execution_count": null,
   "id": "816d21fc",
   "metadata": {},
   "outputs": [],
   "source": []
  },
  {
   "cell_type": "code",
   "execution_count": null,
   "id": "offensive-shame",
   "metadata": {},
   "outputs": [],
   "source": [
    "import pandas as pd\n",
    "\n",
    "df_izq = pd.DataFrame({\n",
    "\"clave\": [\"K0\", \"K1\", \"K2\", \"K3\"],\n",
    "\"A\": [\"A0\", \"A1\", \"A2\", \"A3\"],\n",
    "\"B\": [\"B0\", \"B1\", \"B2\", \"B3\"],})\n",
    "\n",
    "df_der = pd.DataFrame({\n",
    "\"clave\": [\"K0\", \"K1\", \"K2\", \"K3\"],\n",
    "\"C\": [\"C0\", \"C1\", \"C2\", \"C3\"],\n",
    "\"D\": [\"D0\", \"D1\", \"D2\", \"D3\"],})"
   ]
  },
  {
   "cell_type": "code",
   "execution_count": null,
   "id": "1387685f",
   "metadata": {},
   "outputs": [],
   "source": []
  },
  {
   "cell_type": "code",
   "execution_count": null,
   "id": "leading-sherman",
   "metadata": {},
   "outputs": [],
   "source": [
    "df_izq.join(df_der, lsuffix='_l', rsuffix='_r') "
   ]
  },
  {
   "cell_type": "code",
   "execution_count": null,
   "id": "24c1b9db",
   "metadata": {},
   "outputs": [],
   "source": []
  }
 ],
 "metadata": {
  "kernelspec": {
   "display_name": "Python 3 (ipykernel)",
   "language": "python",
   "name": "python3"
  },
  "language_info": {
   "codemirror_mode": {
    "name": "ipython",
    "version": 3
   },
   "file_extension": ".py",
   "mimetype": "text/x-python",
   "name": "python",
   "nbconvert_exporter": "python",
   "pygments_lexer": "ipython3",
   "version": "3.10.0"
  }
 },
 "nbformat": 4,
 "nbformat_minor": 5
}
