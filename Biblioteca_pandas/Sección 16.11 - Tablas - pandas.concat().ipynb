{
 "cells": [
  {
   "cell_type": "markdown",
   "id": "geological-glory",
   "metadata": {},
   "source": [
    "Sintaxis:<br>\n",
    "concat(objetos, axis=0, join='outer', ignore_index=False, keys=None)"
   ]
  },
  {
   "cell_type": "markdown",
   "id": "afraid-pharmaceutical",
   "metadata": {},
   "source": [
    "#### Concatenar Series"
   ]
  },
  {
   "cell_type": "code",
   "execution_count": null,
   "id": "boolean-savannah",
   "metadata": {},
   "outputs": [],
   "source": [
    "import pandas as pd\n",
    "\n",
    "series_izq = pd.Series([\"A0\", \"A1\", \"A2\"], index=['A','B','C'])\n",
    "series_der = pd.Series([\"C0\", \"C2\", \"C3\"], index=['A','B','C'])\n",
    "series_der, series_izq"
   ]
  },
  {
   "cell_type": "code",
   "execution_count": null,
   "id": "c3e7abf0",
   "metadata": {},
   "outputs": [],
   "source": []
  },
  {
   "cell_type": "code",
   "execution_count": null,
   "id": "thousand-mechanics",
   "metadata": {},
   "outputs": [],
   "source": [
    "# Concatenar por filas por defecto. Usar axis=1 para concat por columnas\n",
    "df = pd.concat([series_der, series_izq])    # ,ignore_index=True\n",
    "print(df)\n",
    "type(df)   "
   ]
  },
  {
   "cell_type": "code",
   "execution_count": null,
   "id": "9544ba52",
   "metadata": {},
   "outputs": [],
   "source": []
  },
  {
   "cell_type": "markdown",
   "id": "exotic-franchise",
   "metadata": {},
   "source": [
    "#### Concatenar DataFrame"
   ]
  },
  {
   "cell_type": "code",
   "execution_count": null,
   "id": "equal-cruise",
   "metadata": {},
   "outputs": [],
   "source": [
    "# DataFrames \n",
    "import pandas as pd\n",
    "\n",
    "df1 = pd.DataFrame({\n",
    " \"A\": [\"A0\", \"A1\", \"A2\", \"A3\"],\n",
    "\"B\": [\"B0\", \"B1\", \"B2\", \"B3\"],\n",
    "\"C\": [\"C0\", \"C1\", \"C2\", \"C3\"],\n",
    "\"D\": [\"D0\", \"D1\", \"D2\", \"D3\"],},index=[0, 1, 2, 3],)\n",
    "\n",
    "df2 = pd.DataFrame({\n",
    "\"A\": [\"A4\", \"A5\", \"A6\", \"A7\"],\n",
    "\"B\": [\"B4\", \"B5\", \"B6\", \"B7\"],\n",
    "\"C\": [\"C4\", \"C5\", \"C6\", \"C7\"],\n",
    "\"D\": [\"D4\", \"D5\", \"D6\", \"D7\"],},index=[0, 1, 2, 3],)\n",
    "\n",
    "df3 = pd.DataFrame({\n",
    "\"A\": [\"A8\", \"A9\", \"A10\", \"A11\"],\n",
    "\"B\": [\"B8\", \"B9\", \"B10\", \"B11\"],\n",
    "\"C\": [\"C8\", \"C9\", \"C10\", \"C11\"],\n",
    "\"D\": [\"D8\", \"D9\", \"D10\", \"D11\"],},index=[0, 1, 2, 3],)"
   ]
  },
  {
   "cell_type": "code",
   "execution_count": null,
   "id": "9eb1b539",
   "metadata": {},
   "outputs": [],
   "source": []
  },
  {
   "cell_type": "code",
   "execution_count": null,
   "id": "internal-peninsula",
   "metadata": {},
   "outputs": [],
   "source": [
    "# Concatenar por filas y por columnas \n",
    "df_concat = pd.concat([df1,df2,df3],axis=1)        # ,axis=1\n",
    "print(df_concat)"
   ]
  },
  {
   "cell_type": "code",
   "execution_count": null,
   "id": "ec43b7d2",
   "metadata": {},
   "outputs": [],
   "source": []
  },
  {
   "cell_type": "code",
   "execution_count": null,
   "id": "major-executive",
   "metadata": {},
   "outputs": [],
   "source": [
    "# Numero de columnas diferente\n",
    "import pandas as pd\n",
    "\n",
    "df1 = pd.DataFrame({\n",
    " \"A\": [\"A0\", \"A1\", \"A2\", \"A3\"],\n",
    "\"B\": [\"B0\", \"B1\", \"B2\", \"B3\"],\n",
    "\"C\": [\"C0\", \"C1\", \"C2\", \"C3\"],\n",
    "\"D\": [\"D0\", \"D1\", \"D2\", \"D3\"],},index=[0, 1, 2, 3],)\n",
    "\n",
    "df2 = pd.DataFrame({\n",
    "\"A\": [\"A4\", \"A5\", \"A6\", \"A7\"],\n",
    "\"B\": [\"B4\", \"B5\", \"B6\", \"B7\"],\n",
    "\"C\": [\"C4\", \"C5\", \"C6\", \"C7\"],\n",
    "\"D\": [\"D4\", \"D5\", \"D6\", \"D7\"],},index=[4, 5, 6, 7],)\n",
    "\n",
    "df3 = pd.DataFrame({\n",
    "\"C\": [\"C8\", \"C9\", \"C10\", \"C11\"],\n",
    "\"D\": [\"D8\", \"D9\", \"D10\", \"D11\"],},index=[8, 9, 10, 11],)"
   ]
  },
  {
   "cell_type": "code",
   "execution_count": null,
   "id": "39c6de8f",
   "metadata": {},
   "outputs": [],
   "source": []
  },
  {
   "cell_type": "code",
   "execution_count": null,
   "id": "republican-laugh",
   "metadata": {},
   "outputs": [],
   "source": [
    "# Concatenar por columnas con join='inner' equivale a intersectar\n",
    "df_concat = pd.concat([df1,df2,df3], join='inner')\n",
    "df_concat   "
   ]
  },
  {
   "cell_type": "code",
   "execution_count": null,
   "id": "47e0a312",
   "metadata": {},
   "outputs": [],
   "source": []
  },
  {
   "cell_type": "markdown",
   "id": "7894e0de",
   "metadata": {},
   "source": [
    "#### Distinguir el origen de los df con keys="
   ]
  },
  {
   "cell_type": "code",
   "execution_count": null,
   "id": "fabulous-deposit",
   "metadata": {},
   "outputs": [],
   "source": [
    "df_concat = pd.concat([df1,df2,df3], keys=['df1','df2','df3'])\n",
    "df_concat    "
   ]
  },
  {
   "cell_type": "code",
   "execution_count": null,
   "id": "8f02925c",
   "metadata": {},
   "outputs": [],
   "source": []
  },
  {
   "cell_type": "code",
   "execution_count": null,
   "id": "pacific-mumbai",
   "metadata": {},
   "outputs": [],
   "source": [
    "# Permite recuperar cada df original\n",
    "df_concat.loc['df2']"
   ]
  },
  {
   "cell_type": "code",
   "execution_count": null,
   "id": "a4a3fe24",
   "metadata": {},
   "outputs": [],
   "source": []
  },
  {
   "cell_type": "markdown",
   "id": "1144e8f4",
   "metadata": {},
   "source": [
    "#### Aplicar a un DataFrame real"
   ]
  },
  {
   "cell_type": "code",
   "execution_count": null,
   "id": "4b7ca730",
   "metadata": {},
   "outputs": [],
   "source": [
    "import pandas as pd\n",
    "\n",
    "vino_df_1 = pd.read_csv('vino_1.csv')\n",
    "print(vino_df_1.shape)\n",
    "vino_df_2 = pd.read_csv('vino_2.csv')\n",
    "print(vino_df_2.shape)"
   ]
  },
  {
   "cell_type": "code",
   "execution_count": null,
   "id": "02324304",
   "metadata": {},
   "outputs": [],
   "source": []
  },
  {
   "cell_type": "code",
   "execution_count": null,
   "id": "6d5a5926",
   "metadata": {},
   "outputs": [],
   "source": [
    "df = pd.concat([vino_df_1, vino_df_2],ignore_index=True) \n",
    "print(df.shape)\n",
    "df"
   ]
  },
  {
   "cell_type": "code",
   "execution_count": null,
   "id": "2a67acab",
   "metadata": {},
   "outputs": [],
   "source": []
  },
  {
   "cell_type": "code",
   "execution_count": null,
   "id": "75d866d9",
   "metadata": {},
   "outputs": [],
   "source": []
  }
 ],
 "metadata": {
  "kernelspec": {
   "display_name": "Python 3 (ipykernel)",
   "language": "python",
   "name": "python3"
  },
  "language_info": {
   "codemirror_mode": {
    "name": "ipython",
    "version": 3
   },
   "file_extension": ".py",
   "mimetype": "text/x-python",
   "name": "python",
   "nbconvert_exporter": "python",
   "pygments_lexer": "ipython3",
   "version": "3.10.0"
  }
 },
 "nbformat": 4,
 "nbformat_minor": 5
}
