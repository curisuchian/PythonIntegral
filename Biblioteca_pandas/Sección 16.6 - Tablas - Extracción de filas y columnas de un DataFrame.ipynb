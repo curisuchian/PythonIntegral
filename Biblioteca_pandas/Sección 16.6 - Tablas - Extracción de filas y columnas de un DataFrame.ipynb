{
 "cells": [
  {
   "cell_type": "markdown",
   "id": "normal-temple",
   "metadata": {},
   "source": [
    "#### Extraer columnas de un DataFrame"
   ]
  },
  {
   "cell_type": "markdown",
   "id": "muslim-handle",
   "metadata": {},
   "source": [
    "<img src=\"Figuras/tablas_cols.png\" width=500 />"
   ]
  },
  {
   "cell_type": "code",
   "execution_count": null,
   "id": "761bbb08",
   "metadata": {},
   "outputs": [],
   "source": [
    "import pandas as pd\n",
    "\n",
    "vino_df = pd.read_csv('vino_categ.csv')\n",
    "vino_df.head(20)"
   ]
  },
  {
   "cell_type": "code",
   "execution_count": null,
   "id": "9bfd257e",
   "metadata": {},
   "outputs": [],
   "source": []
  },
  {
   "cell_type": "code",
   "execution_count": null,
   "id": "funded-license",
   "metadata": {
    "scrolled": true
   },
   "outputs": [],
   "source": [
    "tab = vino_df\n",
    "#col = tab['acidez volatil']                     \n",
    "col = tab[['acidez volatil','acido citrico']]  \n",
    "print(col)"
   ]
  },
  {
   "cell_type": "markdown",
   "id": "prostate-bidding",
   "metadata": {},
   "source": [
    "#### Extraer filas de un DataFrame"
   ]
  },
  {
   "cell_type": "markdown",
   "id": "indonesian-australian",
   "metadata": {},
   "source": [
    "<img src=\"Figuras/tablas_filas.png\" width=500 />"
   ]
  },
  {
   "cell_type": "code",
   "execution_count": null,
   "id": "utility-spread",
   "metadata": {},
   "outputs": [],
   "source": [
    "tab = vino_df\n",
    "tab[2:5]"
   ]
  },
  {
   "cell_type": "code",
   "execution_count": null,
   "id": "1f12a8f9",
   "metadata": {},
   "outputs": [],
   "source": []
  },
  {
   "cell_type": "code",
   "execution_count": null,
   "id": "characteristic-saudi",
   "metadata": {},
   "outputs": [],
   "source": [
    "# Extraer un elemento individual\n",
    "tab = vino_df\n",
    "tab['acidez volatil'][3]"
   ]
  },
  {
   "cell_type": "code",
   "execution_count": null,
   "id": "ff6c4260",
   "metadata": {},
   "outputs": [],
   "source": []
  },
  {
   "cell_type": "code",
   "execution_count": null,
   "id": "obvious-geography",
   "metadata": {},
   "outputs": [],
   "source": [
    "# Extraer elementos de una columna con condicion\n",
    "alc1 = vino_df['acidez volatil'] > 0.7          # Salida booleana\n",
    "print(alc1)"
   ]
  },
  {
   "cell_type": "code",
   "execution_count": null,
   "id": "effabef5",
   "metadata": {},
   "outputs": [],
   "source": []
  },
  {
   "cell_type": "code",
   "execution_count": null,
   "id": "cc213a4d",
   "metadata": {},
   "outputs": [],
   "source": [
    "alc2 = vino_df['acidez volatil'][alc1]   # Impresion de datos True\n",
    "print(alc2)"
   ]
  },
  {
   "cell_type": "code",
   "execution_count": null,
   "id": "e45428d0",
   "metadata": {},
   "outputs": [],
   "source": []
  },
  {
   "cell_type": "code",
   "execution_count": null,
   "id": "5a52cbc9",
   "metadata": {},
   "outputs": [],
   "source": []
  },
  {
   "cell_type": "markdown",
   "id": "c7d57ab5",
   "metadata": {},
   "source": [
    "##### Extraer subconjunto"
   ]
  },
  {
   "cell_type": "code",
   "execution_count": null,
   "id": "pressing-mention",
   "metadata": {},
   "outputs": [],
   "source": [
    "# Seleccion conjunta\n",
    "alc = vino_df[(vino_df['acidez volatil'] > 0.7) & (vino_df['acido citrico'] == 0.)]\n",
    "print(alc)"
   ]
  },
  {
   "cell_type": "code",
   "execution_count": null,
   "id": "9b423e01",
   "metadata": {},
   "outputs": [],
   "source": []
  },
  {
   "cell_type": "code",
   "execution_count": null,
   "id": "cc48f182",
   "metadata": {},
   "outputs": [],
   "source": []
  },
  {
   "cell_type": "code",
   "execution_count": null,
   "id": "1af2c289",
   "metadata": {},
   "outputs": [],
   "source": []
  }
 ],
 "metadata": {
  "kernelspec": {
   "display_name": "Python 3 (ipykernel)",
   "language": "python",
   "name": "python3"
  },
  "language_info": {
   "codemirror_mode": {
    "name": "ipython",
    "version": 3
   },
   "file_extension": ".py",
   "mimetype": "text/x-python",
   "name": "python",
   "nbconvert_exporter": "python",
   "pygments_lexer": "ipython3",
   "version": "3.10.0"
  }
 },
 "nbformat": 4,
 "nbformat_minor": 5
}
