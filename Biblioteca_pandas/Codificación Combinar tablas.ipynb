{
 "cells": [
  {
   "cell_type": "markdown",
   "id": "b2cd4c2a",
   "metadata": {},
   "source": [
    "### Ejercicio de codificación"
   ]
  },
  {
   "cell_type": "markdown",
   "id": "67fb895b",
   "metadata": {},
   "source": [
    "Este cuaderno se encuentra en:\n",
    "\n",
    "https://github.com/gbonorino/PythonIntegral/tree/main/Biblioteca_pandas"
   ]
  },
  {
   "cell_type": "markdown",
   "id": "dd5e39ff",
   "metadata": {},
   "source": [
    "Ejercicio 1 - Simulación de inventario.<br>\n",
    "Se tienen tres diccionarios con datos de **ventas**, de **productos** y de **clientes**, que se muestran abajo.<br>\n",
    "\n",
    "Se trata de:\n",
    "- Convertir los diccionarios a DataFrame.\n",
    "- Agrupar las ventas por producto con groupby.<br>\n",
    "- Combinar ventas y productos en un DataFrame.<br>\n",
    "- Empleando las columnas cantidad y precio calcular el monto total vendido de cada producto en cada operación de venta."
   ]
  },
  {
   "cell_type": "code",
   "execution_count": null,
   "id": "ffe12c75",
   "metadata": {},
   "outputs": [],
   "source": [
    "mi_venta={'venta_id':[1,2,3,4,5,6,7,8,9],\n",
    "         'c_id':[2,2,1,4,2,3,2,3,2],\n",
    "         'p_id':[3,4,3,2,3,3,2,2,3],\n",
    "         'producto':['Monitor','CPU','Monitor','RAM','Monitor','Monitor','RAM','RAM','Monitor'],\n",
    "         'cantidad':[2,1,3,2,3,2,3,2,2],\n",
    "         'negocio':['negocio1','negocio2','negocio1','negocio2','negocio1','negocio2','negocio1','negocio2','negocio1']}\n",
    "\n",
    "mi_producto={'p_id':[1,2,3,4,5,6,7,8],\n",
    "  'producto':['Hard Disk','RAM','Monitor','CPU','Teclado','Mouse','Motherboard','Transformador'],\n",
    "  'precio':[80,90,75,55,20,10,50,20]}\n",
    "\n",
    "mi_cliente={'c_id':[1,2,3,4,5,6,7,8],\n",
    "         'Cliente':['Juan','Miguel','Alex','Juan','King','Ronn','Isabel','Tom']}"
   ]
  },
  {
   "cell_type": "code",
   "execution_count": null,
   "id": "e609c3b3",
   "metadata": {},
   "outputs": [],
   "source": []
  },
  {
   "cell_type": "code",
   "execution_count": null,
   "id": "aa476e06",
   "metadata": {},
   "outputs": [],
   "source": []
  },
  {
   "cell_type": "markdown",
   "id": "69e7a4ee",
   "metadata": {},
   "source": [
    "### Solución"
   ]
  },
  {
   "cell_type": "code",
   "execution_count": 1,
   "id": "d42ba872",
   "metadata": {},
   "outputs": [],
   "source": [
    "# Ejercicio 1\n",
    "import pandas as pd\n",
    "\n",
    "mi_venta={'venta_id':[1,2,3,4,5,6,7,8,9],\n",
    "         'c_id':[2,2,1,4,2,3,2,3,2],\n",
    "         'p_id':[3,4,3,2,3,3,2,2,3],\n",
    "         'producto':['Monitor','CPU','Monitor','RAM','Monitor','Monitor','RAM','RAM','Monitor'],\n",
    "         'cantidad':[2,1,3,2,3,2,3,2,2],\n",
    "         'negocio':['negocio1','negocio2','negocio1','negocio2','negocio1','negocio2','negocio1','negocio2','negocio1']}\n",
    "\n",
    "mi_producto={'p_id':[1,2,3,4,5,6,7,8],\n",
    "  'producto':['Hard Disk','RAM','Monitor','CPU','Teclado','Mouse','Motherboard','Transformador'],\n",
    "  'precio':[80,90,75,55,20,10,50,20]}\n",
    "\n",
    "mi_cliente={'c_id':[1,2,3,4,5,6,7,8],\n",
    "         'Cliente':['Juan','Miguel','Alex','Juan','King','Ronn','Isabel','Tom']}"
   ]
  },
  {
   "cell_type": "code",
   "execution_count": null,
   "id": "8bc82b99",
   "metadata": {},
   "outputs": [],
   "source": []
  },
  {
   "cell_type": "code",
   "execution_count": null,
   "id": "df9c36da",
   "metadata": {},
   "outputs": [],
   "source": []
  },
  {
   "cell_type": "code",
   "execution_count": 2,
   "id": "4965e059",
   "metadata": {},
   "outputs": [
    {
     "name": "stdout",
     "output_type": "stream",
     "text": [
      "   p_id       producto  precio\n",
      "0     1      Hard Disk      80\n",
      "1     2            RAM      90\n",
      "2     3        Monitor      75\n",
      "3     4            CPU      55\n",
      "4     5        Teclado      20\n",
      "5     6          Mouse      10\n",
      "6     7    Motherboard      50\n",
      "7     8  Transformador      20\n"
     ]
    }
   ],
   "source": [
    "# Ejercicio 1 (cont.)\n",
    "ventas = pd.DataFrame(data=mi_venta)\n",
    "producto = pd.DataFrame(data=mi_producto)\n",
    "cliente = pd.DataFrame(data=mi_cliente)\n",
    "print(producto)"
   ]
  },
  {
   "cell_type": "code",
   "execution_count": null,
   "id": "4ad1a798",
   "metadata": {},
   "outputs": [],
   "source": []
  },
  {
   "cell_type": "code",
   "execution_count": null,
   "id": "11a4d1fc",
   "metadata": {},
   "outputs": [],
   "source": []
  },
  {
   "cell_type": "code",
   "execution_count": 3,
   "id": "cf609131",
   "metadata": {},
   "outputs": [
    {
     "name": "stdout",
     "output_type": "stream",
     "text": [
      "          cantidad\n",
      "producto          \n",
      "CPU              1\n",
      "Monitor         12\n",
      "RAM              7\n"
     ]
    }
   ],
   "source": [
    "# Ejercicio 1 (cont.)\n",
    "mi_venta = ventas.groupby(['producto'])[['cantidad']].sum()\n",
    "print(mi_venta)"
   ]
  },
  {
   "cell_type": "code",
   "execution_count": null,
   "id": "cf36bf17",
   "metadata": {},
   "outputs": [],
   "source": []
  },
  {
   "cell_type": "code",
   "execution_count": null,
   "id": "fdeb16b7",
   "metadata": {},
   "outputs": [],
   "source": []
  },
  {
   "cell_type": "code",
   "execution_count": 4,
   "id": "5d5ecf6d",
   "metadata": {},
   "outputs": [
    {
     "name": "stdout",
     "output_type": "stream",
     "text": [
      "   venta_id  c_id  p_id producto  cantidad   negocio\n",
      "0         1     2     3  Monitor         2  negocio1\n",
      "1         2     2     4      CPU         1  negocio2\n",
      "2         3     1     3  Monitor         3  negocio1\n",
      "3         4     4     2      RAM         2  negocio2\n",
      "4         5     2     3  Monitor         3  negocio1\n",
      "5         6     3     3  Monitor         2  negocio2\n",
      "6         7     2     2      RAM         3  negocio1\n",
      "7         8     3     2      RAM         2  negocio2\n",
      "8         9     2     3  Monitor         2  negocio1\n"
     ]
    }
   ],
   "source": [
    "print(ventas)"
   ]
  },
  {
   "cell_type": "code",
   "execution_count": 5,
   "id": "144e90e4",
   "metadata": {},
   "outputs": [
    {
     "name": "stdout",
     "output_type": "stream",
     "text": [
      "   venta_id  c_id  p_id producto_x  cantidad   negocio producto_y  precio\n",
      "0         1     2     3    Monitor         2  negocio1    Monitor      75\n",
      "1         2     2     4        CPU         1  negocio2        CPU      55\n",
      "2         3     1     3    Monitor         3  negocio1    Monitor      75\n",
      "3         4     4     2        RAM         2  negocio2        RAM      90\n",
      "4         5     2     3    Monitor         3  negocio1    Monitor      75\n",
      "5         6     3     3    Monitor         2  negocio2    Monitor      75\n",
      "6         7     2     2        RAM         3  negocio1        RAM      90\n",
      "7         8     3     2        RAM         2  negocio2        RAM      90\n",
      "8         9     2     3    Monitor         2  negocio1    Monitor      75\n"
     ]
    }
   ],
   "source": [
    "# Ejercicio 1 (cont.)\n",
    "mi_suma=pd.merge(ventas,producto,how='left',on='p_id')\n",
    "print(mi_suma)"
   ]
  },
  {
   "cell_type": "code",
   "execution_count": null,
   "id": "ba82afdd",
   "metadata": {},
   "outputs": [],
   "source": []
  },
  {
   "cell_type": "code",
   "execution_count": 6,
   "id": "b8fe055a",
   "metadata": {},
   "outputs": [
    {
     "name": "stdout",
     "output_type": "stream",
     "text": [
      "   venta_id  c_id  p_id producto_x  cantidad   negocio producto_y  precio  \\\n",
      "0         1     2     3    Monitor         2  negocio1    Monitor      75   \n",
      "1         2     2     4        CPU         1  negocio2        CPU      55   \n",
      "2         3     1     3    Monitor         3  negocio1    Monitor      75   \n",
      "3         4     4     2        RAM         2  negocio2        RAM      90   \n",
      "4         5     2     3    Monitor         3  negocio1    Monitor      75   \n",
      "5         6     3     3    Monitor         2  negocio2    Monitor      75   \n",
      "6         7     2     2        RAM         3  negocio1        RAM      90   \n",
      "7         8     3     2        RAM         2  negocio2        RAM      90   \n",
      "8         9     2     3    Monitor         2  negocio1    Monitor      75   \n",
      "\n",
      "   venta_total  \n",
      "0          150  \n",
      "1           55  \n",
      "2          225  \n",
      "3          180  \n",
      "4          225  \n",
      "5          150  \n",
      "6          270  \n",
      "7          180  \n",
      "8          150  \n"
     ]
    }
   ],
   "source": [
    "# Ejercicio 1 (cont.)\n",
    "mi_suma['venta_total']=mi_suma['cantidad']*mi_suma['precio']\n",
    "print(mi_suma)"
   ]
  },
  {
   "cell_type": "code",
   "execution_count": null,
   "id": "237efba3",
   "metadata": {},
   "outputs": [],
   "source": []
  },
  {
   "cell_type": "code",
   "execution_count": null,
   "id": "fcb3c838",
   "metadata": {},
   "outputs": [],
   "source": []
  }
 ],
 "metadata": {
  "kernelspec": {
   "display_name": "Python 3 (ipykernel)",
   "language": "python",
   "name": "python3"
  },
  "language_info": {
   "codemirror_mode": {
    "name": "ipython",
    "version": 3
   },
   "file_extension": ".py",
   "mimetype": "text/x-python",
   "name": "python",
   "nbconvert_exporter": "python",
   "pygments_lexer": "ipython3",
   "version": "3.10.0"
  }
 },
 "nbformat": 4,
 "nbformat_minor": 5
}
