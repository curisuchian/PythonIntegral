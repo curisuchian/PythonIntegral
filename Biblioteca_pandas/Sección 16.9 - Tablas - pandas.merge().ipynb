{
 "cells": [
  {
   "cell_type": "markdown",
   "id": "satellite-avatar",
   "metadata": {},
   "source": [
    "Sintaxis: <br>\n",
    "df_izq.merge(df_der, how= , on=’inner’ , left_on=None, right_on=None , left_index=False, right_index=False )"
   ]
  },
  {
   "cell_type": "markdown",
   "id": "approximate-distributor",
   "metadata": {},
   "source": [
    "#### Combinación columna  columna"
   ]
  },
  {
   "cell_type": "code",
   "execution_count": null,
   "id": "numeric-railway",
   "metadata": {},
   "outputs": [],
   "source": [
    "import pandas as pd\n",
    "\n",
    "df_izq = pd.DataFrame({\n",
    "\"clave\": [\"K0\", \"K1\", \"K2\", \"K4\"],\n",
    "\"A\": [\"A0\", \"A1\", \"A2\", \"A3\"],\n",
    "\"B\": [\"B0\", \"B1\", \"B2\", \"B3\"]})\n",
    "print(df_izq)\n",
    "\n",
    "df_der = pd.DataFrame({\n",
    "\"clave\": [\"K0\", \"K1\", \"K2\", \"K3\"],\n",
    "\"C\": [\"C0\", \"C1\", \"C2\", \"C3\"],\n",
    "\"D\": [\"D0\", \"D1\", \"D2\", \"D3\"]})\n",
    "print(df_der)"
   ]
  },
  {
   "cell_type": "code",
   "execution_count": null,
   "id": "taken-collins",
   "metadata": {
    "scrolled": true
   },
   "outputs": [],
   "source": [
    "df_izq.merge(df_der, how='outer')"
   ]
  },
  {
   "cell_type": "markdown",
   "id": "configured-psychiatry",
   "metadata": {},
   "source": [
    "#### Combinacion indices-índices"
   ]
  },
  {
   "cell_type": "code",
   "execution_count": null,
   "id": "3e4087b0",
   "metadata": {},
   "outputs": [],
   "source": []
  },
  {
   "cell_type": "code",
   "execution_count": null,
   "id": "residential-defendant",
   "metadata": {},
   "outputs": [],
   "source": [
    "import pandas as pd\n",
    "\n",
    "df_izq = pd.DataFrame({\n",
    "\"A\": [\"A0\", \"A1\", \"A2\", \"A3\"],\n",
    "\"B\": [\"B0\", \"B1\", \"B2\", \"B3\"]},\n",
    "    index = [\"K0\", \"K1\", \"K2\", \"K3\"])\n",
    "print(df_izq)\n",
    "\n",
    "df_der = pd.DataFrame({\n",
    "\"C\": [\"C0\", \"C1\", \"C2\", \"C3\"],\n",
    "\"D\": [\"D0\", \"D1\", \"D2\", \"D3\"]},\n",
    "index = [\"K0\", \"K1\", \"K2\", \"K3\"])\n",
    "print(df_der)"
   ]
  },
  {
   "cell_type": "code",
   "execution_count": null,
   "id": "matched-palestine",
   "metadata": {
    "scrolled": true
   },
   "outputs": [],
   "source": [
    "df_izq.merge(df_der, left_index=True, right_index=True)   "
   ]
  },
  {
   "cell_type": "code",
   "execution_count": null,
   "id": "05603b83",
   "metadata": {},
   "outputs": [],
   "source": []
  },
  {
   "cell_type": "markdown",
   "id": "future-combining",
   "metadata": {},
   "source": [
    "#### Combinación índice-columna"
   ]
  },
  {
   "cell_type": "code",
   "execution_count": null,
   "id": "revolutionary-liver",
   "metadata": {},
   "outputs": [],
   "source": [
    "import pandas as pd\n",
    "\n",
    "df_izq = pd.DataFrame({\n",
    "\"clave\": [\"K0\", \"K1\", \"K2\", \"K3\"],\n",
    "\"A\": [\"A0\", \"A1\", \"A2\", \"A3\"],\n",
    "\"B\": [\"B0\", \"B1\", \"B2\", \"B3\"]})\n",
    "print(df_izq)\n",
    "\n",
    "df_der = pd.DataFrame({\n",
    "\"C\": [\"C0\", \"C1\", \"C2\", \"C3\"],\n",
    "\"D\": [\"D0\", \"D1\", \"D2\", \"D3\"]},\n",
    "index = [\"K0\", \"K1\", \"K2\", \"K3\"])\n",
    "df_der"
   ]
  },
  {
   "cell_type": "code",
   "execution_count": null,
   "id": "french-ridge",
   "metadata": {
    "scrolled": false
   },
   "outputs": [],
   "source": [
    "df_izq.merge(df_der, left_on='clave', right_index=True)"
   ]
  },
  {
   "cell_type": "code",
   "execution_count": null,
   "id": "3f88d28d",
   "metadata": {},
   "outputs": [],
   "source": []
  },
  {
   "cell_type": "markdown",
   "id": "chinese-interim",
   "metadata": {},
   "source": [
    "#### Combinar muchos a uno"
   ]
  },
  {
   "cell_type": "code",
   "execution_count": null,
   "id": "plain-beijing",
   "metadata": {},
   "outputs": [],
   "source": [
    "import pandas as pd\n",
    "\n",
    "df_izq = pd.DataFrame({\n",
    "\"suelos\": [\"K0\", \"K0\", \"K2\", \"K2\"],\n",
    "\"A\": [\"A0\", \"A1\", \"A2\", \"A3\"],\n",
    "\"B\": [\"B0\", \"B1\", \"B2\", \"B3\"]})\n",
    "\n",
    "df_der = pd.DataFrame({\n",
    "\"suelos\": [\"K0\", \"K2\"],\n",
    "\"C\": [\"desc1\", \"desc1\"],\n",
    "\"D\": [\"desc3\", \"desc4\"]})\n",
    "\n",
    "print(df_izq)\n",
    "print(df_der)"
   ]
  },
  {
   "cell_type": "code",
   "execution_count": null,
   "id": "novel-nudist",
   "metadata": {},
   "outputs": [],
   "source": [
    "df_izq.merge(df_der, on='suelos', how='left')"
   ]
  },
  {
   "cell_type": "code",
   "execution_count": null,
   "id": "15b574fe",
   "metadata": {},
   "outputs": [],
   "source": []
  },
  {
   "cell_type": "markdown",
   "id": "respiratory-permission",
   "metadata": {},
   "source": [
    "#### Ejemplo con DataFrame real"
   ]
  },
  {
   "cell_type": "code",
   "execution_count": null,
   "id": "499ed164",
   "metadata": {},
   "outputs": [],
   "source": [
    "import pandas as pd\n",
    "\n",
    "vino_df_1 = pd.read_csv('vino_1_merge.csv')\n",
    "vino_df_1.set_index('id', inplace=True)\n",
    "vino_df_1"
   ]
  },
  {
   "cell_type": "code",
   "execution_count": null,
   "id": "9ed08a1e",
   "metadata": {},
   "outputs": [],
   "source": []
  },
  {
   "cell_type": "code",
   "execution_count": null,
   "id": "d20a8e0f",
   "metadata": {},
   "outputs": [],
   "source": [
    "vino_df_2 = pd.read_csv('vino_2_merge.csv')\n",
    "vino_df_2.set_index('id', inplace=True)\n",
    "vino_df_2"
   ]
  },
  {
   "cell_type": "code",
   "execution_count": null,
   "id": "37ce9987",
   "metadata": {},
   "outputs": [],
   "source": []
  },
  {
   "cell_type": "code",
   "execution_count": null,
   "id": "c0820fc5",
   "metadata": {},
   "outputs": [],
   "source": [
    "pd.merge(vino_df_1, vino_df_2, left_index=True, right_index=True)   "
   ]
  },
  {
   "cell_type": "code",
   "execution_count": null,
   "id": "e0415b3e",
   "metadata": {},
   "outputs": [],
   "source": []
  },
  {
   "cell_type": "code",
   "execution_count": null,
   "id": "7669ca9b",
   "metadata": {},
   "outputs": [],
   "source": []
  }
 ],
 "metadata": {
  "kernelspec": {
   "display_name": "Python 3 (ipykernel)",
   "language": "python",
   "name": "python3"
  },
  "language_info": {
   "codemirror_mode": {
    "name": "ipython",
    "version": 3
   },
   "file_extension": ".py",
   "mimetype": "text/x-python",
   "name": "python",
   "nbconvert_exporter": "python",
   "pygments_lexer": "ipython3",
   "version": "3.10.0"
  }
 },
 "nbformat": 4,
 "nbformat_minor": 5
}
