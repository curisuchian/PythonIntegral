{
 "cells": [
  {
   "cell_type": "markdown",
   "id": "e1ed9cbf",
   "metadata": {},
   "source": [
    "NaN, None"
   ]
  },
  {
   "cell_type": "code",
   "execution_count": null,
   "id": "6aa395aa",
   "metadata": {
    "scrolled": true
   },
   "outputs": [],
   "source": [
    "import pandas as pd\n",
    "import numpy as np         # Empleado para manejar np.nan\n",
    "\n",
    "lst =[4, np.nan, 7, np.nan, 8, None, -9999]   \n",
    "lst_ser = pd.Series(lst)\n",
    "print(lst_ser)"
   ]
  },
  {
   "cell_type": "code",
   "execution_count": null,
   "id": "d8847d32",
   "metadata": {},
   "outputs": [],
   "source": []
  },
  {
   "cell_type": "code",
   "execution_count": null,
   "id": "3529c228",
   "metadata": {},
   "outputs": [],
   "source": [
    "# Remplazar el -9999\n",
    "lst_ser.replace(to_replace=-9999, value=np.nan, inplace=True)\n",
    "lst_ser   "
   ]
  },
  {
   "cell_type": "code",
   "execution_count": null,
   "id": "41e4708a",
   "metadata": {},
   "outputs": [],
   "source": []
  },
  {
   "cell_type": "code",
   "execution_count": null,
   "id": "3b0d9cee",
   "metadata": {
    "scrolled": true
   },
   "outputs": [],
   "source": [
    "pd.isna(lst_ser)            # Funcion de pandas"
   ]
  },
  {
   "cell_type": "code",
   "execution_count": null,
   "id": "65f15c05",
   "metadata": {},
   "outputs": [],
   "source": []
  },
  {
   "cell_type": "code",
   "execution_count": null,
   "id": "f1c2b198",
   "metadata": {
    "scrolled": false
   },
   "outputs": [],
   "source": [
    "lst_ser.isna()              # Metodo de Series"
   ]
  },
  {
   "cell_type": "code",
   "execution_count": null,
   "id": "4cf44048",
   "metadata": {},
   "outputs": [],
   "source": []
  },
  {
   "cell_type": "code",
   "execution_count": null,
   "id": "fef5e2a1",
   "metadata": {
    "scrolled": true
   },
   "outputs": [],
   "source": [
    "lst_ser.isnull()            # Metodo de Series"
   ]
  },
  {
   "cell_type": "code",
   "execution_count": null,
   "id": "3ae7363b",
   "metadata": {},
   "outputs": [],
   "source": []
  },
  {
   "cell_type": "code",
   "execution_count": null,
   "id": "048ec245",
   "metadata": {
    "scrolled": true
   },
   "outputs": [],
   "source": [
    "lst_ser.notna()             # Metodo de Series"
   ]
  },
  {
   "cell_type": "code",
   "execution_count": null,
   "id": "a56dcaf3",
   "metadata": {},
   "outputs": [],
   "source": []
  },
  {
   "cell_type": "code",
   "execution_count": null,
   "id": "13a8e395",
   "metadata": {
    "scrolled": true
   },
   "outputs": [],
   "source": [
    "# Remplazar NaN\n",
    "import pandas as pd\n",
    "import numpy as np \n",
    "\n",
    "lst =[4, np.nan, 7, np.nan, 8, None]   \n",
    "lst_ser = pd.Series(lst)\n",
    "lst_ser.replace(to_replace=np.nan,value=0, inplace=True)\n",
    "lst_ser                          "
   ]
  },
  {
   "cell_type": "code",
   "execution_count": null,
   "id": "6bc798b4",
   "metadata": {},
   "outputs": [],
   "source": []
  },
  {
   "cell_type": "code",
   "execution_count": null,
   "id": "52463998",
   "metadata": {},
   "outputs": [],
   "source": []
  },
  {
   "cell_type": "markdown",
   "id": "daily-fisher",
   "metadata": {},
   "source": [
    "El 14 de abril de 1912 el buque Titanic, llevando 1514 pasajeros, chocó contra un témpano y se hundió. Este ejemplo revisa datos sobre los pasajeros tomados del sitio http://rstudio-pubs-static.s3.amazonaws.com/252079_255293f47bb3477fa17d10b147db5891.html. "
   ]
  },
  {
   "cell_type": "code",
   "execution_count": null,
   "id": "phantom-journey",
   "metadata": {
    "scrolled": false
   },
   "outputs": [],
   "source": [
    "# DataFrame completo\n",
    "import pandas as pd\n",
    "\n",
    "titanic_df = pd.read_csv('titanic.csv')\n",
    "titanic_df.isna()       # Detecta celdas con None y NaN; las marca True"
   ]
  },
  {
   "cell_type": "code",
   "execution_count": null,
   "id": "880c457a",
   "metadata": {},
   "outputs": [],
   "source": []
  },
  {
   "cell_type": "code",
   "execution_count": null,
   "id": "african-communications",
   "metadata": {
    "scrolled": false
   },
   "outputs": [],
   "source": [
    "# Eliminar registros con datos faltantes; uso de dropna()\n",
    "# 0 index, 1 columnas\n",
    "titanic_df.dropna()   # Devuelve df vacio"
   ]
  },
  {
   "cell_type": "code",
   "execution_count": null,
   "id": "23ddc084",
   "metadata": {},
   "outputs": [],
   "source": []
  },
  {
   "cell_type": "code",
   "execution_count": null,
   "id": "ceramic-belly",
   "metadata": {
    "scrolled": false
   },
   "outputs": [],
   "source": [
    "# Aplicar isna() a una columna\n",
    "serie_na = titanic_df['age'].isna()\n",
    "titanic_df[serie_na]"
   ]
  },
  {
   "cell_type": "code",
   "execution_count": null,
   "id": "5410e371",
   "metadata": {},
   "outputs": [],
   "source": []
  },
  {
   "cell_type": "code",
   "execution_count": null,
   "id": "dramatic-worker",
   "metadata": {
    "scrolled": false
   },
   "outputs": [],
   "source": [
    "# Eliminar tres columnas que mas contribuyen con NaN\n",
    "titanic_df.drop(columns=['cabin','boat','body'], axis=1,inplace= True)"
   ]
  },
  {
   "cell_type": "code",
   "execution_count": null,
   "id": "ca3808b1",
   "metadata": {},
   "outputs": [],
   "source": []
  },
  {
   "cell_type": "code",
   "execution_count": null,
   "id": "spectacular-scott",
   "metadata": {
    "scrolled": true
   },
   "outputs": [],
   "source": [
    "titanic_df.dropna()"
   ]
  },
  {
   "cell_type": "code",
   "execution_count": null,
   "id": "7f6b3db4",
   "metadata": {
    "scrolled": true
   },
   "outputs": [],
   "source": []
  }
 ],
 "metadata": {
  "kernelspec": {
   "display_name": "Python 3 (ipykernel)",
   "language": "python",
   "name": "python3"
  },
  "language_info": {
   "codemirror_mode": {
    "name": "ipython",
    "version": 3
   },
   "file_extension": ".py",
   "mimetype": "text/x-python",
   "name": "python",
   "nbconvert_exporter": "python",
   "pygments_lexer": "ipython3",
   "version": "3.10.0"
  }
 },
 "nbformat": 4,
 "nbformat_minor": 5
}
