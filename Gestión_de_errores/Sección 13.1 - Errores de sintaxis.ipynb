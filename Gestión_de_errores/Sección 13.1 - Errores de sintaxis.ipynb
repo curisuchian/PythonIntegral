{
 "cells": [
  {
   "cell_type": "code",
   "execution_count": null,
   "id": "virtual-announcement",
   "metadata": {},
   "outputs": [],
   "source": [
    "# Error tipográfico\n",
    "whiile a == 5:\n",
    "    pass"
   ]
  },
  {
   "cell_type": "code",
   "execution_count": null,
   "id": "returning-cheese",
   "metadata": {},
   "outputs": [],
   "source": [
    "dicc = {'b':5, 'c';7}\n",
    "dicc"
   ]
  },
  {
   "cell_type": "code",
   "execution_count": null,
   "id": "refined-attitude",
   "metadata": {
    "scrolled": false
   },
   "outputs": [],
   "source": [
    "# Versión antigua de Python\n",
    "print \"Hola\"          # Hasta Python 2.7"
   ]
  },
  {
   "cell_type": "code",
   "execution_count": null,
   "id": "billion-hampshire",
   "metadata": {},
   "outputs": [],
   "source": [
    "print(\"Hola\")         # Con Python 3.x"
   ]
  },
  {
   "cell_type": "code",
   "execution_count": null,
   "id": "1a5e1dc5",
   "metadata": {},
   "outputs": [],
   "source": []
  },
  {
   "cell_type": "code",
   "execution_count": null,
   "id": "604dcd88",
   "metadata": {},
   "outputs": [],
   "source": []
  },
  {
   "cell_type": "code",
   "execution_count": null,
   "id": "statistical-giant",
   "metadata": {
    "scrolled": false
   },
   "outputs": [],
   "source": [
    "# Uso de palabra reservada\n",
    "def = 6"
   ]
  },
  {
   "cell_type": "code",
   "execution_count": null,
   "id": "bbf4f7d8",
   "metadata": {},
   "outputs": [],
   "source": []
  },
  {
   "cell_type": "code",
   "execution_count": null,
   "id": "4396696f",
   "metadata": {},
   "outputs": [],
   "source": []
  },
  {
   "cell_type": "code",
   "execution_count": null,
   "id": "premium-horror",
   "metadata": {},
   "outputs": [],
   "source": [
    "# Error de parentesis\n",
    "s = (2*3)**2) + 5 - (4 - 2)\n",
    "print(s)"
   ]
  },
  {
   "cell_type": "code",
   "execution_count": null,
   "id": "126389b0",
   "metadata": {},
   "outputs": [],
   "source": []
  },
  {
   "cell_type": "code",
   "execution_count": null,
   "id": "152b2abd",
   "metadata": {},
   "outputs": [],
   "source": []
  },
  {
   "cell_type": "code",
   "execution_count": null,
   "id": "fcc1d3f6",
   "metadata": {},
   "outputs": [],
   "source": []
  }
 ],
 "metadata": {
  "kernelspec": {
   "display_name": "Python 3 (ipykernel)",
   "language": "python",
   "name": "python3"
  },
  "language_info": {
   "codemirror_mode": {
    "name": "ipython",
    "version": 3
   },
   "file_extension": ".py",
   "mimetype": "text/x-python",
   "name": "python",
   "nbconvert_exporter": "python",
   "pygments_lexer": "ipython3",
   "version": "3.10.0"
  }
 },
 "nbformat": 4,
 "nbformat_minor": 5
}
