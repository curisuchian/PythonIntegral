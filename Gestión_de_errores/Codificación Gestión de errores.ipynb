{
 "cells": [
  {
   "cell_type": "markdown",
   "id": "3521e7f6",
   "metadata": {},
   "source": [
    "### Ejercicios de codificación "
   ]
  },
  {
   "cell_type": "markdown",
   "id": "67fb895b",
   "metadata": {},
   "source": [
    "Este cuaderno se encuentra en:\n",
    "\n",
    "https://github.com/gbonorino/PythonIntegral/tree/main/Gestion_de_errores"
   ]
  },
  {
   "cell_type": "markdown",
   "id": "10aee987",
   "metadata": {},
   "source": [
    "#### Ejercicio 1\n",
    "Se tiene la sentencia: <br>\n",
    "x = int(input(\"Por favor ingresa tu edad: \"))\n",
    "\n",
    "Escriba una cláusula try ... except que capture el error de ingresar la edad como texto. "
   ]
  },
  {
   "cell_type": "markdown",
   "id": "e17b283b",
   "metadata": {},
   "source": [
    "#### Ejercicio 2\n",
    "Escribir una función que eleve un número real a una potencia positiva. <br>\n",
    "Usar assert para asegurar que el exponente es un número entero positivo."
   ]
  },
  {
   "cell_type": "code",
   "execution_count": null,
   "id": "4b225b23",
   "metadata": {},
   "outputs": [],
   "source": []
  },
  {
   "cell_type": "markdown",
   "id": "c2e67b6c",
   "metadata": {},
   "source": [
    "### Soluciones"
   ]
  },
  {
   "cell_type": "code",
   "execution_count": 1,
   "id": "1e30b6c7",
   "metadata": {},
   "outputs": [
    {
     "name": "stdout",
     "output_type": "stream",
     "text": [
      "Por favor ingresa tu edad: veinte\n",
      "int no acepta str\n"
     ]
    }
   ],
   "source": [
    "# Ejercicio 1\n",
    "try:\n",
    "    x = int(input(\"Por favor ingresa tu edad: \"))\n",
    "\n",
    "except ValueError:\n",
    "    print(\"int no acepta str\")\n"
   ]
  },
  {
   "cell_type": "code",
   "execution_count": null,
   "id": "58832b3e",
   "metadata": {},
   "outputs": [],
   "source": []
  },
  {
   "cell_type": "code",
   "execution_count": null,
   "id": "4406eafd",
   "metadata": {},
   "outputs": [],
   "source": []
  },
  {
   "cell_type": "code",
   "execution_count": 2,
   "id": "7329e9e7",
   "metadata": {},
   "outputs": [
    {
     "ename": "AssertionError",
     "evalue": "",
     "output_type": "error",
     "traceback": [
      "\u001b[1;31m---------------------------------------------------------------------------\u001b[0m",
      "\u001b[1;31mAssertionError\u001b[0m                            Traceback (most recent call last)",
      "\u001b[1;32mC:\\temp/ipykernel_23608/1017285282.py\u001b[0m in \u001b[0;36m<module>\u001b[1;34m\u001b[0m\n\u001b[0;32m      4\u001b[0m     \u001b[1;32mreturn\u001b[0m \u001b[0mbase\u001b[0m \u001b[1;33m**\u001b[0m \u001b[0mexpon\u001b[0m\u001b[1;33m\u001b[0m\u001b[1;33m\u001b[0m\u001b[0m\n\u001b[0;32m      5\u001b[0m \u001b[1;33m\u001b[0m\u001b[0m\n\u001b[1;32m----> 6\u001b[1;33m \u001b[0mPotencia\u001b[0m\u001b[1;33m(\u001b[0m\u001b[1;33m-\u001b[0m\u001b[1;36m2\u001b[0m\u001b[1;33m,\u001b[0m\u001b[1;36m160.\u001b[0m\u001b[1;33m)\u001b[0m\u001b[1;33m\u001b[0m\u001b[1;33m\u001b[0m\u001b[0m\n\u001b[0m",
      "\u001b[1;32mC:\\temp/ipykernel_23608/1017285282.py\u001b[0m in \u001b[0;36mPotencia\u001b[1;34m(expon, base)\u001b[0m\n\u001b[0;32m      1\u001b[0m \u001b[1;31m# Ejercicio 2\u001b[0m\u001b[1;33m\u001b[0m\u001b[1;33m\u001b[0m\u001b[0m\n\u001b[0;32m      2\u001b[0m \u001b[1;32mdef\u001b[0m \u001b[0mPotencia\u001b[0m\u001b[1;33m(\u001b[0m\u001b[0mexpon\u001b[0m\u001b[1;33m,\u001b[0m \u001b[0mbase\u001b[0m\u001b[1;33m)\u001b[0m\u001b[1;33m:\u001b[0m\u001b[1;33m\u001b[0m\u001b[1;33m\u001b[0m\u001b[0m\n\u001b[1;32m----> 3\u001b[1;33m     \u001b[1;32massert\u001b[0m \u001b[0mtype\u001b[0m\u001b[1;33m(\u001b[0m\u001b[0mexpon\u001b[0m\u001b[1;33m)\u001b[0m \u001b[1;33m==\u001b[0m \u001b[0mint\u001b[0m \u001b[1;32mand\u001b[0m \u001b[0mexpon\u001b[0m \u001b[1;33m>\u001b[0m \u001b[1;36m0\u001b[0m\u001b[1;33m\u001b[0m\u001b[1;33m\u001b[0m\u001b[0m\n\u001b[0m\u001b[0;32m      4\u001b[0m     \u001b[1;32mreturn\u001b[0m \u001b[0mbase\u001b[0m \u001b[1;33m**\u001b[0m \u001b[0mexpon\u001b[0m\u001b[1;33m\u001b[0m\u001b[1;33m\u001b[0m\u001b[0m\n\u001b[0;32m      5\u001b[0m \u001b[1;33m\u001b[0m\u001b[0m\n",
      "\u001b[1;31mAssertionError\u001b[0m: "
     ]
    }
   ],
   "source": [
    "# Ejercicio 2\n",
    "def Potencia(expon, base):\n",
    "    assert type(expon) == int and expon > 0 \n",
    "    return base ** expon\n",
    "\n",
    "Potencia(-2,160.)"
   ]
  },
  {
   "cell_type": "code",
   "execution_count": null,
   "id": "81a23613",
   "metadata": {},
   "outputs": [],
   "source": []
  },
  {
   "cell_type": "code",
   "execution_count": null,
   "id": "3977911c",
   "metadata": {},
   "outputs": [],
   "source": []
  }
 ],
 "metadata": {
  "kernelspec": {
   "display_name": "Python 3 (ipykernel)",
   "language": "python",
   "name": "python3"
  },
  "language_info": {
   "codemirror_mode": {
    "name": "ipython",
    "version": 3
   },
   "file_extension": ".py",
   "mimetype": "text/x-python",
   "name": "python",
   "nbconvert_exporter": "python",
   "pygments_lexer": "ipython3",
   "version": "3.10.0"
  }
 },
 "nbformat": 4,
 "nbformat_minor": 5
}
