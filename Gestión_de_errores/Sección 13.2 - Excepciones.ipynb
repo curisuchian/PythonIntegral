{
 "cells": [
  {
   "cell_type": "code",
   "execution_count": null,
   "id": "a75ee7cd",
   "metadata": {},
   "outputs": [],
   "source": [
    "# Clases de excepciones en Python\n",
    "import builtins\n",
    "\n",
    "dir(builtins)"
   ]
  },
  {
   "cell_type": "code",
   "execution_count": null,
   "id": "8d3ffb59",
   "metadata": {},
   "outputs": [],
   "source": []
  },
  {
   "cell_type": "code",
   "execution_count": null,
   "id": "fresh-devices",
   "metadata": {
    "scrolled": true
   },
   "outputs": [],
   "source": [
    "# IndexError. Indexacion incorrecta\n",
    "frutas = ['manzana', 'banana', 'naranja']\n",
    "print(frutas[2])"
   ]
  },
  {
   "cell_type": "code",
   "execution_count": null,
   "id": "3a7d4b82",
   "metadata": {},
   "outputs": [],
   "source": []
  },
  {
   "cell_type": "code",
   "execution_count": null,
   "id": "seeing-response",
   "metadata": {},
   "outputs": [],
   "source": [
    "# NameError. Identificador no definido\n",
    "while n == 5:\n",
    "    pass"
   ]
  },
  {
   "cell_type": "code",
   "execution_count": null,
   "id": "f201a576",
   "metadata": {},
   "outputs": [],
   "source": []
  },
  {
   "cell_type": "code",
   "execution_count": null,
   "id": "tough-survey",
   "metadata": {},
   "outputs": [],
   "source": [
    "# ModuleNotFoundError. Módulo no encontrado\n",
    "import lattice"
   ]
  },
  {
   "cell_type": "code",
   "execution_count": null,
   "id": "41f68a9c",
   "metadata": {},
   "outputs": [],
   "source": []
  },
  {
   "cell_type": "code",
   "execution_count": null,
   "id": "living-surveillance",
   "metadata": {},
   "outputs": [],
   "source": [
    "# ValueError. Argumento de valor incorrecto\n",
    "int('abc')"
   ]
  },
  {
   "cell_type": "code",
   "execution_count": null,
   "id": "67daabaa",
   "metadata": {},
   "outputs": [],
   "source": []
  },
  {
   "cell_type": "code",
   "execution_count": null,
   "id": "bizarre-rogers",
   "metadata": {
    "scrolled": true
   },
   "outputs": [],
   "source": [
    "# ZeroDivisionError. División por cero\n",
    "1/0"
   ]
  },
  {
   "cell_type": "code",
   "execution_count": null,
   "id": "17b69594",
   "metadata": {},
   "outputs": [],
   "source": []
  },
  {
   "cell_type": "code",
   "execution_count": null,
   "id": "39bacdee",
   "metadata": {
    "scrolled": true
   },
   "outputs": [],
   "source": [
    "# StopIteration cuando agota el iterable\n",
    "a = iter(['a', 'b', 'c'])\n",
    "for i in a:\n",
    "    next(a)"
   ]
  },
  {
   "cell_type": "code",
   "execution_count": null,
   "id": "99f74daa",
   "metadata": {},
   "outputs": [],
   "source": []
  },
  {
   "cell_type": "code",
   "execution_count": null,
   "id": "dbe56af2",
   "metadata": {},
   "outputs": [],
   "source": [
    "# ImportError. Error al intentar importar una función\n",
    "from math import cube"
   ]
  },
  {
   "cell_type": "code",
   "execution_count": null,
   "id": "54b1e732",
   "metadata": {},
   "outputs": [],
   "source": []
  },
  {
   "cell_type": "markdown",
   "id": "bd23b5c6",
   "metadata": {},
   "source": [
    "<img src=\"mensaje_error.png\" width=450/>"
   ]
  },
  {
   "cell_type": "code",
   "execution_count": null,
   "id": "threaded-lighting",
   "metadata": {},
   "outputs": [],
   "source": []
  }
 ],
 "metadata": {
  "kernelspec": {
   "display_name": "Python 3 (ipykernel)",
   "language": "python",
   "name": "python3"
  },
  "language_info": {
   "codemirror_mode": {
    "name": "ipython",
    "version": 3
   },
   "file_extension": ".py",
   "mimetype": "text/x-python",
   "name": "python",
   "nbconvert_exporter": "python",
   "pygments_lexer": "ipython3",
   "version": "3.10.0"
  }
 },
 "nbformat": 4,
 "nbformat_minor": 5
}
